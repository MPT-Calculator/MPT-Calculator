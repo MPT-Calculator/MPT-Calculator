{
 "cells": [
  {
   "cell_type": "markdown",
   "id": "abfbcbc8-20b0-40bf-a738-44d713c37299",
   "metadata": {},
   "source": [
    "Simple example of using main with different input arguments."
   ]
  },
  {
   "cell_type": "code",
   "execution_count": null,
   "id": "630da71d-e791-4bab-9994-7309765a224f",
   "metadata": {},
   "outputs": [],
   "source": [
    "from main import main\n",
    "from time import time"
   ]
  },
  {
   "cell_type": "code",
   "execution_count": null,
   "id": "eabc0d5a-7523-497f-956a-1a1fdaed69c3",
   "metadata": {
    "scrolled": true,
    "tags": []
   },
   "outputs": [],
   "source": [
    "start_time = time();\n",
    "main(use_POD=True);\n",
    "stop_time = time();"
   ]
  },
  {
   "cell_type": "code",
   "execution_count": null,
   "id": "fb38a0c9-7304-4bce-bed5-c743b4e9ef1c",
   "metadata": {
    "tags": []
   },
   "outputs": [],
   "source": [
    "print(f'Total time = {stop_time - start_time}')"
   ]
  },
  {
   "cell_type": "code",
   "execution_count": null,
   "id": "bace9c07-332c-41db-9f49-1f650e723e49",
   "metadata": {},
   "outputs": [],
   "source": []
  }
 ],
 "metadata": {
  "kernelspec": {
   "display_name": "Python 3 (ipykernel)",
   "language": "python",
   "name": "python3"
  },
  "language_info": {
   "codemirror_mode": {
    "name": "ipython",
    "version": 3
   },
   "file_extension": ".py",
   "mimetype": "text/x-python",
   "name": "python",
   "nbconvert_exporter": "python",
   "pygments_lexer": "ipython3",
   "version": "3.8.13"
  }
 },
 "nbformat": 4,
 "nbformat_minor": 5
}
