{
 "cells": [
  {
   "cell_type": "code",
   "execution_count": null,
   "id": "12bc8618-11b9-48c3-91ac-e60ac58c3ad9",
   "metadata": {},
   "outputs": [],
   "source": [
    "from main import main\n",
    "from time import time"
   ]
  },
  {
   "cell_type": "code",
   "execution_count": null,
   "id": "c347517d-4ed3-432a-9ce9-e4404d57ff17",
   "metadata": {
    "scrolled": true,
    "tags": []
   },
   "outputs": [],
   "source": [
    "start_time = time();\n",
    "main();\n",
    "stop_time = time();"
   ]
  },
  {
   "cell_type": "code",
   "execution_count": null,
   "id": "44a9c727-7e3c-40f2-a1fc-92e6ae991d8c",
   "metadata": {},
   "outputs": [],
   "source": [
    "print(f'Total time = {stop_time - start_time}')"
   ]
  }
 ],
 "metadata": {
  "kernelspec": {
   "display_name": "Python 3 (ipykernel)",
   "language": "python",
   "name": "python3"
  },
  "language_info": {
   "codemirror_mode": {
    "name": "ipython",
    "version": 3
   },
   "file_extension": ".py",
   "mimetype": "text/x-python",
   "name": "python",
   "nbconvert_exporter": "python",
   "pygments_lexer": "ipython3",
   "version": "3.8.13"
  }
 },
 "nbformat": 4,
 "nbformat_minor": 5
}
