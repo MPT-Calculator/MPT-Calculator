{
 "cells": [
  {
   "cell_type": "markdown",
   "id": "c619fd0d-abb3-47ab-ad8b-d9eb2ab69157",
   "metadata": {},
   "source": [
    "# 5 - OCC geometries\n",
    "\n",
    "In this tutorial we discuss how to define a geometry using the Open Cascade Technology (OCC) geometry supported by Netgen and NGSolve. Unlike the $\\texttt{.geo}$ files the OCC geometries are defined in Python files ($\\texttt{.py}$) and supports all Python functionality. For example importing libraries, defining variables, and control statements.\n",
    "\n",
    "The OCC module of Netgen is imported as"
   ]
  },
  {
   "cell_type": "code",
   "execution_count": 1,
   "id": "095be03b",
   "metadata": {
    "scrolled": true
   },
   "outputs": [],
   "source": [
    "from netgen.occ import *"
   ]
  },
  {
   "cell_type": "markdown",
   "id": "a805a986",
   "metadata": {},
   "source": [
    "and documentation for individual functions and classes can be accessed via the $\\texttt{help}$ function. For example to obtain the documentation for a sphere we would use"
   ]
  },
  {
   "cell_type": "code",
   "execution_count": 2,
   "id": "0ab206c7",
   "metadata": {
    "scrolled": true
   },
   "outputs": [
    {
     "name": "stdout",
     "output_type": "stream",
     "text": [
      "Help on built-in function Sphere in module netgen.libngpy._NgOCC:\n",
      "\n",
      "Sphere(...) method of builtins.PyCapsule instance\n",
      "    Sphere(c: netgen.libngpy._NgOCC.gp_Pnt, r: float) -> netgen.libngpy._NgOCC.Solid\n",
      "    \n",
      "    create sphere with center 'c' and radius 'r'\n",
      "\n"
     ]
    }
   ],
   "source": [
    "help(Sphere)"
   ]
  },
  {
   "cell_type": "markdown",
   "id": "8394c843",
   "metadata": {},
   "source": [
    "Currently, NGSolve recommends that OCC geometries be used rather than $\\texttt{.geo}$ files, but as these features are new, their documentation on this is not yet complete and not all available primitives and methods are listed. For documentation, we refer the user to the NGSolve documentation and the Open Cascade Technology bottle example:\n",
    "\n",
    "[https://docu.ngsolve.org/latest/i-tutorials/unit-4.4-occ/occ.html](https://docu.ngsolve.org/latest/i-tutorials/unit-4.4-occ/occ.html). \n",
    "\n",
    "[https://dev.opencascade.org/doc/overview/html/occt__tutorial.html](https://dev.opencascade.org/doc/overview/html/occt__tutorial.html)\n",
    " \n",
    "\n",
    "## Structure of the OCC python files\n",
    "\n",
    "The purpose of the OCC python files is to use the Netgen OCC package to generate a desired mesh using standard python syntax. The resultant mesh contains information about the material names, boundary conditions, and geometry, but does not contain information about the material conductivity or relative permeability. To contain the material information, we construct an equivalent $\\texttt{.geo}$ file containing the conductivities and relative permeabilities.\n",
    "\n",
    "### Defining materials\n",
    "\n",
    "To maintain compatibility with MPT-Calculator, we automatically generate an equivalent $\\texttt{.geo}$ file that, in conjunction with the generated mesh, is sufficient to describe the problem (note the $\\texttt{.geo}$ file is created automatically in this case and the user does not need to interact with it). To define the object name, conductivity, and relative permeability we define lists whose entries correspond to each of the different materials used in the construction of the object. E.g. to define an inhomogeneous object consisting of three different materials, we would use\n",
    "```python\n",
    "material_name = ['material_1', 'material_2', 'material_3']\n",
    "sigma = [conductivity_1, conductivity_2, conductivity_3]\n",
    "mur = [mur_1, mur_2, mur_3]\n",
    "```\n",
    "where entries in $\\texttt{material_name}$ corresponds to a specific material, e.g. Brass, entries in $\\texttt{sigma}$ correspond to the conductivity (S/m) of the material, and $\\texttt{mur}$ corresponds to the material relative permeability. This would then correspond to a $\\texttt{.geo}$ file containing\n",
    "```\n",
    "algebraic3d\n",
    "\n",
    "tlo rest -transparent -col=[0,0,1];#air\n",
    "tlo region1 -col=[1,0,0];#material_1 -mur=mur_1 -sig=conductivity_1\n",
    "tlo region2 -col=[1,0,0];#material_2 -mur=mur_2 -sig=conductivity_2\n",
    "tlo region3 -col=[1,0,0];#material_3 -mur=mur_3 -sig=conductivity_3\n",
    "```\n",
    "depending on the ordering in which the top level objects are defined inside the $\\texttt{.py}$ script.\n",
    "\n",
    "We reccomend that these lists be defined at the top of the file.\n",
    "\n",
    "We can also reuse material names for different objects. E.g. if we wanted to construct a object out of multiple components, where each component is made of the same material, we could define only a single material\n",
    "```python\n",
    "material_name = ['material_1']\n",
    "sigma = [conductivity_1]\n",
    "mur = [mur_1]\n",
    "```\n",
    "and reuse it when assigning material names. This would be equivalent to defining the $\\texttt{.geo}$ file\n",
    "```\n",
    "algebraic3d\n",
    "\n",
    "tlo rest -transparent -col=[0,0,1];#air\n",
    "tlo region1 -col=[1,0,0];#material_1 -mur=mur_1 -sig=conductivity_1\n",
    "tlo region2 -col=[1,0,0];#material_1 -mur=mur_1 -sig=conductivity_1\n",
    "tlo region3 -col=[1,0,0];#material_1 -mur=mur_1 -sig=conductivity_1\n",
    "```\n",
    "\n",
    "We do not require that the user makes use of all the materials defined, however there must be a name, conductivity, and relative permeability entry for each material that is used within the OCC geometry description. We do not have to define a material for the non-conducting region, as we must always set the material to 'air'. \n",
    "\n",
    "\n",
    "<!--\n",
    "In a similar way to the $\\texttt{.geo}$ files, we mandate that each of the $\\texttt{.py}$ OCC files follow a specific format that MPT-Calculator accepts.\n",
    "\n",
    "The OCC Python files are stored in the $\\texttt{OCC_Geometry/}$ folder.\n",
    "\n",
    "All files must contain the following variables: $\\texttt{object_name}$, $\\texttt{sigma}$, and $\\texttt{mur}$ corresponding to the names of the different sub-region that make up the object and their conductivity (S/m) and relative magnetic permeability values respectively in the form of the lists: \n",
    "```python\n",
    "object_name = ['object 1', 'object 2', ... ]\n",
    "sigma = [conductivity_1, conductivity_2, ...]\n",
    "mur = [mur_1, mur_2, ...]\n",
    "```\n",
    "These are easiest to implement at the top of the file. In the simplest case, where the object is just made up of one region (or primitive) there is only a single entry in each of these lists. e.g.\n",
    "\n",
    "```python\n",
    "object_name = 'sphere'\n",
    "sigma = 1e6\n",
    "mur = 1\n",
    "```\n",
    "\n",
    "sets up an object which we will call $\\text{'sphere'}$ with properties $\\sigma_*=1e6$ and $\\mu_r=1$.\n",
    "\n",
    "-->\n",
    "### Geometric Description\n",
    "\n",
    "To use OCC geometry, we need a valid object geometry description using the available OCC primitives and a defined non-conducting region. For example:\n",
    "\n",
    "```python\n",
    "sphere = Sphere(Pnt(0,0,0), r=1)\n",
    "box = Box(Pnt(-1000, -1000, -1000), Pnt(1000,1000,1000))\n",
    "```\n",
    "defines a sphere of radius 1 and a large cube, centered at (0,0,0) and of side length 2000.\n",
    "\n",
    "We also need to specify material names, boundary condition names, and any additional properties (e.g. $\\texttt{maxh}$) to each object. For compatibility  with MPT-Calculator, we want the non-conducting region to have the 'outer' boundary condition and be labeled as 'air'. In addition, the material name for the conducting object must match one of the entries in $\\texttt{material_name}$:\n",
    "\n",
    "```python\n",
    "sphere.mat(material_name[0])\n",
    "sphere.bc('default')\n",
    "box.mat('air')\n",
    "box.bc('outer')\n",
    "```\n",
    "Finally, we need to join the non-conducting region with the conducting object. To avoid interior elements, we use the $\\texttt{Glue}$ method:\n",
    "```python\n",
    "joined_object = Glue([sphere, box])\n",
    "```\n",
    "\n",
    "The output mesh file ($\\texttt{.vol}$) must be named using the same file name as the $\\texttt{.py}$ file. For example, if we have a OCC geometry file $\\texttt{OCC_sphere.py}$ then we must save the output as $\\texttt{OCC_sphere.vol}$ in the $\\texttt{VolFiles/}$ directory:\n",
    "```python\n",
    "geo = OCCGeometry(joined_object)\n",
    "nmesh = geo.GenerateMesh()\n",
    "nmesh.Save(r'VolFiles/OCC_sphere.vol')\n",
    "```\n",
    "\n",
    "<b>Example OCC files can be found in the $\\texttt{OCC_Geometry/}$ directory.</b>\n",
    "\n",
    "\n",
    "## Computing £1 coin as a regular dodecagon of radius r mm:\n",
    "In this example, we cover the steps required to generate a mesh of a £1 coin using the OCC geometry. We model the coin as a regular dodecagonal prism consisting of an inner cylinder, an outer annulus, and a thin metallic coating.\n"
   ]
  },
  {
   "cell_type": "markdown",
   "id": "ad37e265-dec8-4a31-a648-c0c40031d0d4",
   "metadata": {},
   "source": [
    " <img src=\"Figures/large_new_pound.webp\" alt=\"isolated\" width=\"200\"/>"
   ]
  },
  {
   "cell_type": "markdown",
   "id": "39233c76",
   "metadata": {},
   "source": [
    "We begin by importing the standard libraries"
   ]
  },
  {
   "cell_type": "code",
   "execution_count": 3,
   "id": "d503fc82",
   "metadata": {
    "scrolled": true
   },
   "outputs": [],
   "source": [
    "from netgen.occ import *\n",
    "import numpy as np\n",
    "from netgen.webgui import Draw as DrawGeo"
   ]
  },
  {
   "cell_type": "markdown",
   "id": "9c8e4c29-5e69-419b-96d3-fdcf0f0419b5",
   "metadata": {},
   "source": [
    "As with other objects, we define lists of object names and corresponding lists for the $\\sigma_*$ and $\\mu_r$ values in each region that makes up the object. In the case of the £1 coin, we have 3 regions to consider (which each have different materials)\n",
    "- The outer Nickel-Silver ring\n",
    "- The inner cylinder, which is a brass disk\n",
    "- A thin layer of Nickel platiing applied to the central disk.\n",
    "\n",
    "For each region, we define a name, a conductivity $\\sigma_*$ (S/m), and a relative permeability $\\mu_r$."
   ]
  },
  {
   "cell_type": "code",
   "execution_count": 20,
   "id": "34699a49-8f36-4e85-8465-c26fcd26660e",
   "metadata": {
    "scrolled": true
   },
   "outputs": [],
   "source": [
    "material_name = ['Nickel_Silver','Brass','Nickel_plating']\n",
    "sigma = [5.26E+06, 1.63E+07, 1E6]\n",
    "mur = [1.15, 1, 100]"
   ]
  },
  {
   "cell_type": "code",
   "execution_count": 21,
   "id": "27c91dd4-d606-4af4-ac55-020e6c996a27",
   "metadata": {
    "scrolled": true
   },
   "outputs": [],
   "source": [
    "r = 23.43/2\n",
    "t = 2.8"
   ]
  },
  {
   "cell_type": "markdown",
   "id": "e8d9d001-7142-4d31-a746-06a12322ca62",
   "metadata": {},
   "source": [
    "To define a dodegagon, we also need the side length. Since we know that there are 12 sides we know all the angles involved and can use the sine rule to obtain the chord length a."
   ]
  },
  {
   "cell_type": "code",
   "execution_count": 22,
   "id": "6e648501-dd54-43ea-b204-4ab55d3ae804",
   "metadata": {
    "scrolled": true
   },
   "outputs": [],
   "source": [
    "a = r * np.sin(30 * np.pi/180) / np.sin(75 * np.pi/180)"
   ]
  },
  {
   "cell_type": "markdown",
   "id": "63dd3ec0-ce1d-4576-8aa4-db7854f6d6e9",
   "metadata": {},
   "source": [
    "Now that we have the radius and segment length, we can iterativly constuct a dodecagon of radius r and side length a."
   ]
  },
  {
   "cell_type": "markdown",
   "id": "377dc17b-119a-48d5-aba3-a23cfc2136c1",
   "metadata": {},
   "source": [
    "### Building the dodecagon"
   ]
  },
  {
   "cell_type": "markdown",
   "id": "63d29020-b4bf-4184-9f43-0aa88f7b6db6",
   "metadata": {},
   "source": [
    "WorkPlanes allows us to construct 2D shapes, in a similar way to turtle graphics, by moving and updating a cursor. "
   ]
  },
  {
   "cell_type": "code",
   "execution_count": 23,
   "id": "f6e31ef8-ffdb-4698-b256-bf64095ec51a",
   "metadata": {
    "scrolled": false
   },
   "outputs": [
    {
     "data": {
      "application/vnd.jupyter.widget-view+json": {
       "model_id": "3d65fe2d27cf4463800cda22f0e511a6",
       "version_major": 2,
       "version_minor": 0
      },
      "text/plain": [
       "WebGuiWidget(value={'ngsolve_version': 'Netgen x.x', 'mesh_dim': 3, 'mesh_center': [3.0320651133760297, 11.315…"
      ]
     },
     "metadata": {},
     "output_type": "display_data"
    },
    {
     "data": {
      "text/plain": [
       "BaseWebGuiScene"
      ]
     },
     "execution_count": 23,
     "metadata": {},
     "output_type": "execute_result"
    }
   ],
   "source": [
    "wp = WorkPlane()\n",
    "for i in range(12):\n",
    "    wp.Line(a).Rotate(30)\n",
    "face = wp.Face()\n",
    "DrawGeo(face)"
   ]
  },
  {
   "cell_type": "markdown",
   "id": "e0e04617-5fb8-4c25-af9d-82d27c34a6de",
   "metadata": {},
   "source": [
    "Now, we can turn this 2D shape into a 3D volume by extruding the face to the thickness of the coin: "
   ]
  },
  {
   "cell_type": "code",
   "execution_count": 24,
   "id": "9522bdd2-f362-4763-a7ef-2ebb05141488",
   "metadata": {
    "scrolled": false
   },
   "outputs": [
    {
     "data": {
      "application/vnd.jupyter.widget-view+json": {
       "model_id": "468275be525745a6ae6dd5710317741f",
       "version_major": 2,
       "version_minor": 0
      },
      "text/plain": [
       "WebGuiWidget(value={'ngsolve_version': 'Netgen x.x', 'mesh_dim': 3, 'mesh_center': [3.0320651133760297, 11.315…"
      ]
     },
     "metadata": {},
     "output_type": "display_data"
    },
    {
     "data": {
      "text/plain": [
       "BaseWebGuiScene"
      ]
     },
     "execution_count": 24,
     "metadata": {},
     "output_type": "execute_result"
    }
   ],
   "source": [
    "frame = face.Extrude(t)\n",
    "DrawGeo(frame)"
   ]
  },
  {
   "cell_type": "markdown",
   "id": "c61701cb-d5d7-440f-9752-21b089430045",
   "metadata": {},
   "source": [
    "### Adding the interior\n",
    "We now add the interior cylinder. To do this, we define a cylinder of radius r_inner and the same thickness as the rest of the coin:"
   ]
  },
  {
   "cell_type": "code",
   "execution_count": 25,
   "id": "2f2d1d6e-03be-4b15-adb8-c8c381e9e75e",
   "metadata": {
    "scrolled": true
   },
   "outputs": [],
   "source": [
    "r_inner = 7.4"
   ]
  },
  {
   "cell_type": "code",
   "execution_count": 26,
   "id": "4804801f-4f01-4e35-98fc-ac8198f81d08",
   "metadata": {
    "scrolled": true,
    "tags": []
   },
   "outputs": [],
   "source": [
    "cx = frame.center[0]\n",
    "cy = frame.center[1]\n",
    "inner_cyln = Cylinder(Pnt(cx,cy,0),Z, r=r_inner, h=t)"
   ]
  },
  {
   "cell_type": "markdown",
   "id": "a165172c-c52a-4ca9-b0bf-6068e8ff72f6",
   "metadata": {},
   "source": [
    "We can now subtract the inner cylinder from the rest of the coin to obtain only the outer region:"
   ]
  },
  {
   "cell_type": "code",
   "execution_count": 27,
   "id": "b38dea5c-ce68-433f-b925-78845a6c4c2d",
   "metadata": {
    "scrolled": false
   },
   "outputs": [
    {
     "data": {
      "application/vnd.jupyter.widget-view+json": {
       "model_id": "0c24c202f2d24320b8532716d8025ee8",
       "version_major": 2,
       "version_minor": 0
      },
      "text/plain": [
       "WebGuiWidget(value={'ngsolve_version': 'Netgen x.x', 'mesh_dim': 3, 'mesh_center': [3.0320651133760297, 11.315…"
      ]
     },
     "metadata": {},
     "output_type": "display_data"
    },
    {
     "data": {
      "text/plain": [
       "BaseWebGuiScene"
      ]
     },
     "execution_count": 27,
     "metadata": {},
     "output_type": "execute_result"
    }
   ],
   "source": [
    "frame_outer = frame - inner_cyln\n",
    "DrawGeo(frame_outer)"
   ]
  },
  {
   "cell_type": "markdown",
   "id": "fd8baa66-5c19-49a5-b9a2-9f982eb4d8a5",
   "metadata": {},
   "source": [
    "We now have everything we need to build the final coin, but before we join everything together we add object and material names, boundary condition names, and define the desired mesh density:"
   ]
  },
  {
   "cell_type": "code",
   "execution_count": 28,
   "id": "b2f2566b-35b8-492a-a915-564a5009d852",
   "metadata": {
    "scrolled": true
   },
   "outputs": [],
   "source": [
    "inner_cyln.mat(material_name[1])\n",
    "frame_outer.mat(material_name[0])\n",
    "\n",
    "inner_cyln.bc('inner')\n",
    "frame_outer.bc('frame_outer')\n",
    "\n",
    "inner_cyln.maxh = 1\n",
    "frame_outer.maxh = 1"
   ]
  },
  {
   "cell_type": "markdown",
   "id": "f6ee80c4-62ab-4e36-97b7-e20956c331d5",
   "metadata": {},
   "source": [
    "Importantly, the $\\texttt{mat}$ method does not inscribe any physical meaning, i.e. there is no consideration of the conductivity and relative permeability. It is simply a way for $\\texttt{Netgen}$ to differentiate between different regions in the geometry. We will see this later when we introduce boundary layer elements.\n",
    "\n",
    "Finally, we can now build our final object:"
   ]
  },
  {
   "cell_type": "code",
   "execution_count": 29,
   "id": "ad582b86-222f-43d1-8d6a-2e8ac021df33",
   "metadata": {
    "scrolled": true
   },
   "outputs": [
    {
     "data": {
      "application/vnd.jupyter.widget-view+json": {
       "model_id": "14391d454bcb48ac9869768a5adc884f",
       "version_major": 2,
       "version_minor": 0
      },
      "text/plain": [
       "WebGuiWidget(value={'ngsolve_version': 'Netgen x.x', 'mesh_dim': 3, 'mesh_center': [3.0320651133760297, 11.315…"
      ]
     },
     "metadata": {},
     "output_type": "display_data"
    },
    {
     "data": {
      "text/plain": [
       "BaseWebGuiScene"
      ]
     },
     "execution_count": 29,
     "metadata": {},
     "output_type": "execute_result"
    }
   ],
   "source": [
    "coin = Glue([inner_cyln, frame_outer])\n",
    "DrawGeo(coin)"
   ]
  },
  {
   "cell_type": "markdown",
   "id": "c7a7de43-e2fd-45d5-8572-914e872d67a6",
   "metadata": {},
   "source": [
    "and add a large outer non-conducting region:"
   ]
  },
  {
   "cell_type": "code",
   "execution_count": 30,
   "id": "f5788965-131e-4e68-98bc-3c8f8584fcde",
   "metadata": {
    "scrolled": true
   },
   "outputs": [],
   "source": [
    "box = Box(Pnt(-1000, -1000, -1000), Pnt(1000,1000,1000))\n",
    "box.mat('air')\n",
    "box.bc('outer')\n",
    "box.maxh = 1000"
   ]
  },
  {
   "cell_type": "markdown",
   "id": "e71a2d1c-57be-45d4-9c6a-ce39e0c1dd08",
   "metadata": {},
   "source": [
    "### Generating Mesh\n",
    "We have now defined the entire geometry of what we want to simulate and assigned the appropriate metadata. All that is left to do it to generate a mesh:"
   ]
  },
  {
   "cell_type": "code",
   "execution_count": 31,
   "id": "3f16234b-a33f-478f-856b-ec82689d458f",
   "metadata": {
    "scrolled": true
   },
   "outputs": [],
   "source": [
    "joined_object = Glue([coin, box])\n",
    "geo = OCCGeometry(joined_object)\n",
    "nmesh = geo.GenerateMesh()"
   ]
  },
  {
   "cell_type": "markdown",
   "id": "c47e1d07-2ca1-4b08-bb90-0ee1ed066201",
   "metadata": {},
   "source": [
    "The real £1 coin has a thin Nickel plating around the central cylinder. We can model this using a thin layer of prismatic elements by adding boundary layer elements of 50 $\\mu$m thickness and tagged as Nickel to the inner part of the coin."
   ]
  },
  {
   "cell_type": "code",
   "execution_count": 32,
   "id": "b687e7f6-77ec-44b7-add5-35c70593ce07",
   "metadata": {
    "scrolled": true
   },
   "outputs": [],
   "source": [
    "nmesh.BoundaryLayer(boundary=\".*\", thickness=[5e-5], material=material_name[2],\n",
    "                           domains=material_name[1], outside=False)"
   ]
  },
  {
   "cell_type": "markdown",
   "id": "8f3fe9bb-9669-460b-bd13-c1951a38205a",
   "metadata": {},
   "source": [
    "Finally, we save the mesh to disk."
   ]
  },
  {
   "cell_type": "code",
   "execution_count": 33,
   "id": "7e455e41-ce17-4b33-93cf-17e87c839de0",
   "metadata": {
    "scrolled": true
   },
   "outputs": [],
   "source": [
    "nmesh.Save(r'VolFiles/OCC_coin.vol')"
   ]
  },
  {
   "cell_type": "markdown",
   "id": "913ac622-99ad-4f30-8bf3-d5253e5eb8ff",
   "metadata": {},
   "source": [
    "We can also visualise the mesh using the NGSolve Draw function"
   ]
  },
  {
   "cell_type": "code",
   "execution_count": 34,
   "id": "c5573fec-0b92-4594-9e0f-19cd552789d0",
   "metadata": {
    "scrolled": false
   },
   "outputs": [
    {
     "ename": "TypeError",
     "evalue": "encodeData() got an unexpected keyword argument 'dtype'",
     "output_type": "error",
     "traceback": [
      "\u001b[0;31m---------------------------------------------------------------------------\u001b[0m",
      "\u001b[0;31mTypeError\u001b[0m                                 Traceback (most recent call last)",
      "\u001b[0;32m<ipython-input-34-01798f81d1ee>\u001b[0m in \u001b[0;36m<module>\u001b[0;34m\u001b[0m\n\u001b[1;32m      2\u001b[0m \u001b[0;32mfrom\u001b[0m \u001b[0mngsolve\u001b[0m\u001b[0;34m.\u001b[0m\u001b[0mwebgui\u001b[0m \u001b[0;32mimport\u001b[0m \u001b[0mDraw\u001b[0m\u001b[0;34m\u001b[0m\u001b[0;34m\u001b[0m\u001b[0m\n\u001b[1;32m      3\u001b[0m \u001b[0mngmesh\u001b[0m \u001b[0;34m=\u001b[0m \u001b[0mMesh\u001b[0m\u001b[0;34m(\u001b[0m\u001b[0mnmesh\u001b[0m\u001b[0;34m)\u001b[0m\u001b[0;34m\u001b[0m\u001b[0;34m\u001b[0m\u001b[0m\n\u001b[0;32m----> 4\u001b[0;31m \u001b[0mDraw\u001b[0m\u001b[0;34m(\u001b[0m\u001b[0mngmesh\u001b[0m\u001b[0;34m)\u001b[0m\u001b[0;34m\u001b[0m\u001b[0;34m\u001b[0m\u001b[0m\n\u001b[0m",
      "\u001b[0;32m/Applications/Netgen.app/Contents/Resources/lib/python3.8/site-packages/ngsolve/webgui.py\u001b[0m in \u001b[0;36mDraw\u001b[0;34m(mesh_or_func, mesh_or_none, name, order, min, max, draw_vol, draw_surf, autoscale, intpoints, deformation, interpolate_multidim, animate, clipping, vectors, js_code, eval_function, eval, filename, objects, nodal_p1, settings)\u001b[0m\n\u001b[1;32m    567\u001b[0m         \u001b[0;32melse\u001b[0m\u001b[0;34m:\u001b[0m\u001b[0;34m\u001b[0m\u001b[0;34m\u001b[0m\u001b[0m\n\u001b[1;32m    568\u001b[0m             \u001b[0;31m# render scene using widgets.DOMWidget\u001b[0m\u001b[0;34m\u001b[0m\u001b[0;34m\u001b[0m\u001b[0;34m\u001b[0m\u001b[0m\n\u001b[0;32m--> 569\u001b[0;31m             \u001b[0mscene\u001b[0m\u001b[0;34m.\u001b[0m\u001b[0mDraw\u001b[0m\u001b[0;34m(\u001b[0m\u001b[0;34m)\u001b[0m\u001b[0;34m\u001b[0m\u001b[0;34m\u001b[0m\u001b[0m\n\u001b[0m\u001b[1;32m    570\u001b[0m             \u001b[0;32mreturn\u001b[0m \u001b[0mscene\u001b[0m\u001b[0;34m\u001b[0m\u001b[0;34m\u001b[0m\u001b[0m\n\u001b[1;32m    571\u001b[0m     \u001b[0;32melse\u001b[0m\u001b[0;34m:\u001b[0m\u001b[0;34m\u001b[0m\u001b[0;34m\u001b[0m\u001b[0m\n",
      "\u001b[0;32m/Library/Frameworks/Python.framework/Versions/3.8/lib/python3.8/site-packages/webgui_jupyter_widgets/widget.py\u001b[0m in \u001b[0;36mDraw\u001b[0;34m(self)\u001b[0m\n\u001b[1;32m    144\u001b[0m     \u001b[0;32mdef\u001b[0m \u001b[0mDraw\u001b[0m\u001b[0;34m(\u001b[0m\u001b[0mself\u001b[0m\u001b[0;34m)\u001b[0m\u001b[0;34m:\u001b[0m\u001b[0;34m\u001b[0m\u001b[0;34m\u001b[0m\u001b[0m\n\u001b[1;32m    145\u001b[0m         \u001b[0mself\u001b[0m\u001b[0;34m.\u001b[0m\u001b[0mwidget\u001b[0m \u001b[0;34m=\u001b[0m \u001b[0mWebGuiWidget\u001b[0m\u001b[0;34m(\u001b[0m\u001b[0;34m)\u001b[0m\u001b[0;34m\u001b[0m\u001b[0;34m\u001b[0m\u001b[0m\n\u001b[0;32m--> 146\u001b[0;31m         \u001b[0mself\u001b[0m\u001b[0;34m.\u001b[0m\u001b[0mwidget\u001b[0m\u001b[0;34m.\u001b[0m\u001b[0mvalue\u001b[0m \u001b[0;34m=\u001b[0m \u001b[0mself\u001b[0m\u001b[0;34m.\u001b[0m\u001b[0mGetData\u001b[0m\u001b[0;34m(\u001b[0m\u001b[0;34m)\u001b[0m\u001b[0;34m\u001b[0m\u001b[0;34m\u001b[0m\u001b[0m\n\u001b[0m\u001b[1;32m    147\u001b[0m         \u001b[0mdisplay\u001b[0m\u001b[0;34m(\u001b[0m\u001b[0mself\u001b[0m\u001b[0;34m.\u001b[0m\u001b[0mwidget\u001b[0m\u001b[0;34m)\u001b[0m\u001b[0;34m\u001b[0m\u001b[0;34m\u001b[0m\u001b[0m\n\u001b[1;32m    148\u001b[0m \u001b[0;34m\u001b[0m\u001b[0m\n",
      "\u001b[0;32m/Applications/Netgen.app/Contents/Resources/lib/python3.8/site-packages/ngsolve/webgui.py\u001b[0m in \u001b[0;36mGetData\u001b[0;34m(self, set_minmax)\u001b[0m\n\u001b[1;32m     63\u001b[0m         \u001b[0mencoding\u001b[0m \u001b[0;34m=\u001b[0m \u001b[0mself\u001b[0m\u001b[0;34m.\u001b[0m\u001b[0mencoding\u001b[0m\u001b[0;34m\u001b[0m\u001b[0;34m\u001b[0m\u001b[0m\n\u001b[1;32m     64\u001b[0m         \u001b[0;32mimport\u001b[0m \u001b[0mjson\u001b[0m\u001b[0;34m\u001b[0m\u001b[0;34m\u001b[0m\u001b[0m\n\u001b[0;32m---> 65\u001b[0;31m         \u001b[0md\u001b[0m \u001b[0;34m=\u001b[0m \u001b[0mBuildRenderData\u001b[0m\u001b[0;34m(\u001b[0m\u001b[0mself\u001b[0m\u001b[0;34m.\u001b[0m\u001b[0mmesh\u001b[0m\u001b[0;34m,\u001b[0m \u001b[0mself\u001b[0m\u001b[0;34m.\u001b[0m\u001b[0mcf\u001b[0m\u001b[0;34m,\u001b[0m \u001b[0mself\u001b[0m\u001b[0;34m.\u001b[0m\u001b[0morder\u001b[0m\u001b[0;34m,\u001b[0m \u001b[0mdraw_surf\u001b[0m\u001b[0;34m=\u001b[0m\u001b[0mself\u001b[0m\u001b[0;34m.\u001b[0m\u001b[0mdraw_surf\u001b[0m\u001b[0;34m,\u001b[0m \u001b[0mdraw_vol\u001b[0m\u001b[0;34m=\u001b[0m\u001b[0mself\u001b[0m\u001b[0;34m.\u001b[0m\u001b[0mdraw_vol\u001b[0m\u001b[0;34m,\u001b[0m \u001b[0mintpoints\u001b[0m\u001b[0;34m=\u001b[0m\u001b[0mself\u001b[0m\u001b[0;34m.\u001b[0m\u001b[0mintpoints\u001b[0m\u001b[0;34m,\u001b[0m \u001b[0mdeformation\u001b[0m\u001b[0;34m=\u001b[0m\u001b[0mself\u001b[0m\u001b[0;34m.\u001b[0m\u001b[0mdeformation\u001b[0m\u001b[0;34m,\u001b[0m \u001b[0mregion\u001b[0m\u001b[0;34m=\u001b[0m\u001b[0mself\u001b[0m\u001b[0;34m.\u001b[0m\u001b[0mregion\u001b[0m\u001b[0;34m,\u001b[0m \u001b[0mobjects\u001b[0m\u001b[0;34m=\u001b[0m\u001b[0mself\u001b[0m\u001b[0;34m.\u001b[0m\u001b[0mobjects\u001b[0m\u001b[0;34m,\u001b[0m \u001b[0mnodal_p1\u001b[0m\u001b[0;34m=\u001b[0m\u001b[0mself\u001b[0m\u001b[0;34m.\u001b[0m\u001b[0mnodal_p1\u001b[0m\u001b[0;34m,\u001b[0m \u001b[0mencoding\u001b[0m\u001b[0;34m=\u001b[0m\u001b[0mencoding\u001b[0m\u001b[0;34m,\u001b[0m \u001b[0msettings\u001b[0m\u001b[0;34m=\u001b[0m\u001b[0mself\u001b[0m\u001b[0;34m.\u001b[0m\u001b[0msettings\u001b[0m\u001b[0;34m)\u001b[0m\u001b[0;34m\u001b[0m\u001b[0;34m\u001b[0m\u001b[0m\n\u001b[0m\u001b[1;32m     66\u001b[0m \u001b[0;34m\u001b[0m\u001b[0m\n\u001b[1;32m     67\u001b[0m         \u001b[0;32mif\u001b[0m \u001b[0misinstance\u001b[0m\u001b[0;34m(\u001b[0m\u001b[0mself\u001b[0m\u001b[0;34m.\u001b[0m\u001b[0mcf\u001b[0m\u001b[0;34m,\u001b[0m \u001b[0mngs\u001b[0m\u001b[0;34m.\u001b[0m\u001b[0mGridFunction\u001b[0m\u001b[0;34m)\u001b[0m \u001b[0;32mand\u001b[0m \u001b[0mlen\u001b[0m\u001b[0;34m(\u001b[0m\u001b[0mself\u001b[0m\u001b[0;34m.\u001b[0m\u001b[0mcf\u001b[0m\u001b[0;34m.\u001b[0m\u001b[0mvecs\u001b[0m\u001b[0;34m)\u001b[0m\u001b[0;34m>\u001b[0m\u001b[0;36m1\u001b[0m\u001b[0;34m:\u001b[0m\u001b[0;34m\u001b[0m\u001b[0;34m\u001b[0m\u001b[0m\n",
      "\u001b[0;32m/Applications/Netgen.app/Contents/Resources/lib/python3.8/site-packages/ngsolve/webgui.py\u001b[0m in \u001b[0;36mBuildRenderData\u001b[0;34m(mesh, func, order, draw_surf, draw_vol, intpoints, deformation, region, objects, nodal_p1, encoding, settings)\u001b[0m\n\u001b[1;32m    341\u001b[0m         \u001b[0mtimer2list\u001b[0m\u001b[0;34m.\u001b[0m\u001b[0mStart\u001b[0m\u001b[0;34m(\u001b[0m\u001b[0;34m)\u001b[0m\u001b[0;34m\u001b[0m\u001b[0;34m\u001b[0m\u001b[0m\n\u001b[1;32m    342\u001b[0m         \u001b[0;32mfor\u001b[0m \u001b[0mi\u001b[0m \u001b[0;32min\u001b[0m \u001b[0mrange\u001b[0m\u001b[0;34m(\u001b[0m\u001b[0mog\u001b[0m\u001b[0;34m+\u001b[0m\u001b[0;36m1\u001b[0m\u001b[0;34m)\u001b[0m\u001b[0;34m:\u001b[0m\u001b[0;34m\u001b[0m\u001b[0;34m\u001b[0m\u001b[0m\n\u001b[0;32m--> 343\u001b[0;31m             \u001b[0mBezier_points\u001b[0m\u001b[0;34m.\u001b[0m\u001b[0mappend\u001b[0m\u001b[0;34m(\u001b[0m\u001b[0mencode\u001b[0m\u001b[0;34m(\u001b[0m\u001b[0mBezierPnts\u001b[0m\u001b[0;34m[\u001b[0m\u001b[0mi\u001b[0m\u001b[0;34m]\u001b[0m\u001b[0;34m,\u001b[0m \u001b[0mdtype\u001b[0m\u001b[0;34m=\u001b[0m\u001b[0mnp\u001b[0m\u001b[0;34m.\u001b[0m\u001b[0mfloat32\u001b[0m\u001b[0;34m)\u001b[0m\u001b[0;34m)\u001b[0m\u001b[0;34m\u001b[0m\u001b[0;34m\u001b[0m\u001b[0m\n\u001b[0m\u001b[1;32m    344\u001b[0m         \u001b[0mtimer2list\u001b[0m\u001b[0;34m.\u001b[0m\u001b[0mStop\u001b[0m\u001b[0;34m(\u001b[0m\u001b[0;34m)\u001b[0m\u001b[0;34m\u001b[0m\u001b[0;34m\u001b[0m\u001b[0m\n\u001b[1;32m    345\u001b[0m \u001b[0;34m\u001b[0m\u001b[0m\n",
      "\u001b[0;32m/Applications/Netgen.app/Contents/Resources/lib/python3.8/site-packages/ngsolve/webgui.py\u001b[0m in \u001b[0;36mencode\u001b[0;34m(*args, **kwargs)\u001b[0m\n\u001b[1;32m    205\u001b[0m     \u001b[0;32melse\u001b[0m\u001b[0;34m:\u001b[0m\u001b[0;34m\u001b[0m\u001b[0;34m\u001b[0m\u001b[0m\n\u001b[1;32m    206\u001b[0m         \u001b[0;32mdef\u001b[0m \u001b[0mencode\u001b[0m\u001b[0;34m(\u001b[0m\u001b[0;34m*\u001b[0m\u001b[0margs\u001b[0m\u001b[0;34m,\u001b[0m \u001b[0;34m**\u001b[0m\u001b[0mkwargs\u001b[0m\u001b[0;34m)\u001b[0m\u001b[0;34m:\u001b[0m\u001b[0;34m\u001b[0m\u001b[0;34m\u001b[0m\u001b[0m\n\u001b[0;32m--> 207\u001b[0;31m             \u001b[0;32mreturn\u001b[0m \u001b[0mencodeData\u001b[0m\u001b[0;34m(\u001b[0m\u001b[0;34m*\u001b[0m\u001b[0margs\u001b[0m\u001b[0;34m,\u001b[0m \u001b[0;34m**\u001b[0m\u001b[0mkwargs\u001b[0m\u001b[0;34m)\u001b[0m\u001b[0;34m\u001b[0m\u001b[0;34m\u001b[0m\u001b[0m\n\u001b[0m\u001b[1;32m    208\u001b[0m \u001b[0;34m\u001b[0m\u001b[0m\n\u001b[1;32m    209\u001b[0m     \u001b[0;32mif\u001b[0m \u001b[0misinstance\u001b[0m\u001b[0;34m(\u001b[0m\u001b[0mdeformation\u001b[0m\u001b[0;34m,\u001b[0m \u001b[0mngs\u001b[0m\u001b[0;34m.\u001b[0m\u001b[0mCoefficientFunction\u001b[0m\u001b[0;34m)\u001b[0m \u001b[0;32mand\u001b[0m \u001b[0mdeformation\u001b[0m\u001b[0;34m.\u001b[0m\u001b[0mdim\u001b[0m\u001b[0;34m==\u001b[0m\u001b[0;36m2\u001b[0m\u001b[0;34m:\u001b[0m\u001b[0;34m\u001b[0m\u001b[0;34m\u001b[0m\u001b[0m\n",
      "\u001b[0;31mTypeError\u001b[0m: encodeData() got an unexpected keyword argument 'dtype'"
     ]
    }
   ],
   "source": [
    "from ngsolve import *\n",
    "from ngsolve.webgui import Draw\n",
    "ngmesh = Mesh(nmesh)\n",
    "Draw(ngmesh)"
   ]
  },
  {
   "cell_type": "markdown",
   "id": "99187183",
   "metadata": {},
   "source": [
    "## Using OCC geometries with MPT-Calculator\n",
    "To use a defined OCC geometry with MPT-Calculator, we set the $\\texttt{use_OCC}$ argument in the main function.\n",
    "\n",
    "```python\n",
    "main(use_OCC=True)\n",
    "```"
   ]
  },
  {
   "cell_type": "code",
   "execution_count": null,
   "id": "2b5160f0",
   "metadata": {
    "scrolled": false
   },
   "outputs": [],
   "source": [
    "import os\n",
    "# Please edit this line to provide the to the root directory of your copy of MPT-Calculator\n",
    "Your_Path='/Users/cgledger/Coding/MPT-Calculator_v2/MPT-Calculator'\n",
    "os.chdir(Your_Path)\n",
    "os.getcwd()\n",
    "\n",
    "from main import main\n",
    "main(geometry='OCC_coin.py', use_OCC=True);"
   ]
  },
  {
   "cell_type": "markdown",
   "id": "9270b3cc",
   "metadata": {},
   "source": [
    "## Saving Results\n",
    "When using the OCC geometries, MPT-Calculator saves a copy of the $\\texttt{.py}$ file used to define the geometry, along with the mesh, Settings files, graphs, and raw output files."
   ]
  },
  {
   "cell_type": "code",
   "execution_count": null,
   "id": "c45fc9b8",
   "metadata": {
    "scrolled": true
   },
   "outputs": [],
   "source": []
  }
 ],
 "metadata": {
  "kernelspec": {
   "display_name": "Python 3",
   "language": "python",
   "name": "python3"
  },
  "language_info": {
   "codemirror_mode": {
    "name": "ipython",
    "version": 3
   },
   "file_extension": ".py",
   "mimetype": "text/x-python",
   "name": "python",
   "nbconvert_exporter": "python",
   "pygments_lexer": "ipython3",
   "version": "3.8.10"
  }
 },
 "nbformat": 4,
 "nbformat_minor": 5
}
