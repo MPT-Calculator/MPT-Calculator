{
 "cells": [
  {
   "cell_type": "markdown",
   "id": "c619fd0d-abb3-47ab-ad8b-d9eb2ab69157",
   "metadata": {},
   "source": [
    "# 5 - OCC geometries\n",
    "\n",
    "In this tutorial we discuss how to define a geometry using the Open Cascade Technology (OCC) geometry supported by Netgen and NGSolve. Unlike the $\\texttt{.geo}$ files the OCC geometries are defined in Python files ($\\texttt{.py}$) and supports all Python functionality. For example importing libraries, defining variables, and control statements.\n",
    "\n",
    "As with the other tutorials, we first set the working directory and import the main function, then the OCC module of Netgen is imported as"
   ]
  },
  {
   "cell_type": "code",
   "execution_count": 1,
   "id": "095be03b",
   "metadata": {
    "scrolled": true
   },
   "outputs": [
    {
     "name": "stdout",
     "output_type": "stream",
     "text": [
      "importing NGSolve-6.2.2204\n"
     ]
    }
   ],
   "source": [
    "import os\n",
    "# Please edit this line to provide the to the root directory of your copy of MPT-Calculator\n",
    "Your_Path = r'C:\\Users\\James\\Desktop\\Release_Ready_MPT_Calculator\\Restructured_MPT_Calculator'\n",
    "Your_Path = r'/home/james/Desktop/MPT-Calculator_June/'\n",
    "\n",
    "os.chdir(Your_Path)\n",
    "os.getcwd()\n",
    "\n",
    "from main import main\n",
    "\n",
    "from netgen.occ import *"
   ]
  },
  {
   "cell_type": "markdown",
   "id": "a805a986",
   "metadata": {},
   "source": [
    "and documentation for individual functions and classes can be accessed via the $\\texttt{help}$ function. For example to obtain the documentation for a sphere we would use"
   ]
  },
  {
   "cell_type": "code",
   "execution_count": 2,
   "id": "0ab206c7",
   "metadata": {
    "scrolled": true
   },
   "outputs": [
    {
     "name": "stdout",
     "output_type": "stream",
     "text": [
      "Help on built-in function Sphere in module netgen.libngpy._NgOCC:\n",
      "\n",
      "Sphere(...) method of builtins.PyCapsule instance\n",
      "    Sphere(c: netgen.libngpy._NgOCC.gp_Pnt, r: float) -> netgen.libngpy._NgOCC.Solid\n",
      "    \n",
      "    create sphere with center 'c' and radius 'r'\n",
      "\n"
     ]
    }
   ],
   "source": [
    "help(Sphere)"
   ]
  },
  {
   "cell_type": "markdown",
   "id": "8394c843",
   "metadata": {},
   "source": [
    "Currently, NGSolve recommends that OCC geometries be used rather than $\\texttt{.geo}$ files, but as these features are new, their documentation on this is not yet complete and not all available primitives and methods are listed. For documentation, we refer the user to the NGSolve documentation and the Open Cascade Technology bottle example:\n",
    "\n",
    "[https://docu.ngsolve.org/latest/i-tutorials/unit-4.4-occ/occ.html](https://docu.ngsolve.org/latest/i-tutorials/unit-4.4-occ/occ.html). \n",
    "\n",
    "[https://dev.opencascade.org/doc/overview/html/occt__tutorial.html](https://dev.opencascade.org/doc/overview/html/occt__tutorial.html)\n",
    " \n",
    "\n",
    "## Structure of the OCC python files\n",
    "\n",
    "The purpose of the OCC python files is to use the Netgen OCC package to generate a desired mesh using standard python syntax. The resultant mesh contains information about the material names, boundary conditions, and geometry, but does not contain information about the material conductivity or relative permeability. To contain the material information, we construct an equivalent $\\texttt{.geo}$ file containing the conductivities and relative permeabilities.\n",
    "\n",
    "### Defining materials\n",
    "\n",
    "To maintain compatibility with MPT-Calculator, we automatically generate an equivalent $\\texttt{.geo}$ file that, in conjunction with the generated mesh, is sufficient to describe the problem (note the $\\texttt{.geo}$ file is created automatically in this case and the user does not need to interact with it). To define the object name, conductivity, and relative permeability we define lists whose entries correspond to each of the different materials used in the construction of the object. E.g. to define an inhomogeneous object consisting of three different materials, we would first define dictionaries of materials as\n",
    "```python\n",
    "material_name = ['material_1', 'material_2', 'material_3']\n",
    "sigma = [conductivity_1, conductivity_2, conductivity_3]\n",
    "mur = [mur_1, mur_2, mur_3]\n",
    "```\n",
    "where entries in $\\texttt{material_name}$ corresponds to a specific material, e.g. Brass, entries in $\\texttt{sigma}$ correspond to the conductivity (S/m) of the material, and $\\texttt{mur}$ corresponds to the material relative permeability. This would then correspond to a $\\texttt{.geo}$ file containing\n",
    "```\n",
    "algebraic3d\n",
    "\n",
    "tlo rest -transparent -col=[0,0,1];#air\n",
    "tlo region1 -col=[1,0,0];#material_1 -mur=mur_1 -sig=conductivity_1\n",
    "tlo region2 -col=[1,0,0];#material_2 -mur=mur_2 -sig=conductivity_2\n",
    "tlo region3 -col=[1,0,0];#material_3 -mur=mur_3 -sig=conductivity_3\n",
    "```\n",
    "depending on the ordering in which the top level objects are defined inside the $\\texttt{.py}$ script.\n",
    "\n",
    "We recommend that these lists be defined at the top of the file.\n",
    "\n",
    "We can also reuse material names for different objects. E.g. if we wanted to construct a object out of multiple components, where each component is made of the same material, we could define only a single material\n",
    "```python\n",
    "material_name = ['material_1']\n",
    "sigma = [conductivity_1]\n",
    "mur = [mur_1]\n",
    "```\n",
    "and reuse it when assigning material names. This would be equivalent to defining the $\\texttt{.geo}$ file\n",
    "```\n",
    "algebraic3d\n",
    "\n",
    "tlo rest -transparent -col=[0,0,1];#air\n",
    "tlo region1 -col=[1,0,0];#material_1 -mur=mur_1 -sig=conductivity_1\n",
    "tlo region2 -col=[1,0,0];#material_1 -mur=mur_1 -sig=conductivity_1\n",
    "tlo region3 -col=[1,0,0];#material_1 -mur=mur_1 -sig=conductivity_1\n",
    "```\n",
    "\n",
    "We do not require that the user makes use of all the materials defined, however there must be a name, conductivity, and relative permeability entry for each material that is used within the OCC geometry description. We do not have to define a material for the non-conducting region, as we must always set the material to 'air'. \n",
    "\n",
    "In addition, the user can optionally define an specific $\\alpha$ in the OCC file. E.g. setting\n",
    "```python\n",
    "alpha = 0.01\n",
    "```\n",
    "would set $\\alpha = 0.01$ m and overwrite any $\\alpha$ value specified in $\\texttt{main}$. This is to make avoid confusion when setting thicknesses for prismatic boundary layers (see Tutorial [7](./7_Boundary_layer_elements.ipynb)). If this is not specified then the value provided to $\\texttt{main}$ is used.\n",
    "\n",
    "\n",
    "<!--\n",
    "In a similar way to the $\\texttt{.geo}$ files, we mandate that each of the $\\texttt{.py}$ OCC files follow a specific format that MPT-Calculator accepts.\n",
    "\n",
    "The OCC Python files are stored in the $\\texttt{OCC_Geometry/}$ folder.\n",
    "\n",
    "All files must contain the following variables: $\\texttt{object_name}$, $\\texttt{sigma}$, and $\\texttt{mur}$ corresponding to the names of the different sub-region that make up the object and their conductivity (S/m) and relative magnetic permeability values respectively in the form of the lists: \n",
    "```python\n",
    "object_name = ['object 1', 'object 2', ... ]\n",
    "sigma = [conductivity_1, conductivity_2, ...]\n",
    "mur = [mur_1, mur_2, ...]\n",
    "```\n",
    "These are easiest to implement at the top of the file. In the simplest case, where the object is just made up of one region (or primitive) there is only a single entry in each of these lists. e.g.\n",
    "\n",
    "```python\n",
    "object_name = 'sphere'\n",
    "sigma = 1e6\n",
    "mur = 1\n",
    "```\n",
    "\n",
    "sets up an object which we will call $\\text{'sphere'}$ with properties $\\sigma_*=1e6$ and $\\mu_r=1$.\n",
    "\n",
    "-->\n",
    "### Geometric Description\n",
    "\n",
    "To use OCC geometry, we need a valid object geometry description using the available OCC primitives and a defined non-conducting region. For example:\n",
    "\n",
    "```python\n",
    "sphere = Sphere(Pnt(0,0,0), r=1)\n",
    "box = Box(Pnt(-1000, -1000, -1000), Pnt(1000,1000,1000))\n",
    "```\n",
    "defines a sphere of radius 1 and a large cube, centered at (0,0,0) and of side length 2000.\n",
    "\n",
    "We also need to specify material names, boundary condition names, and any additional properties (e.g. $\\texttt{maxh}$) to each object. For compatibility  with MPT-Calculator, we want the non-conducting region to have the 'outer' boundary condition and be labeled as 'air'. In addition, the material name for the conducting object must match one of the entries in $\\texttt{material_name}$:\n",
    "\n",
    "```python\n",
    "sphere.mat(material_name[0])\n",
    "sphere.bc('default')\n",
    "box.mat('air')\n",
    "box.bc('outer')\n",
    "```\n",
    "Finally, we need to join the non-conducting region with the conducting object. To avoid interior elements, we use the $\\texttt{Glue}$ method:\n",
    "```python\n",
    "joined_object = Glue([sphere, box])\n",
    "```\n",
    "\n",
    "The output mesh file ($\\texttt{.vol}$) must be named using the same file name as the $\\texttt{.py}$ file. For example, if we have a OCC geometry file $\\texttt{OCC_sphere.py}$ then we must save the output as $\\texttt{OCC_sphere.vol}$ in the $\\texttt{VolFiles/}$ directory:\n",
    "```python\n",
    "geo = OCCGeometry(joined_object)\n",
    "nmesh = geo.GenerateMesh()\n",
    "nmesh.Save(r'VolFiles/OCC_sphere.vol')\n",
    "```\n",
    "\n",
    "<b>Example OCC files can be found in the $\\texttt{OCC_Geometry/}$ directory.</b>\n",
    "\n",
    "\n",
    "## Computing £1 coin as a regular dodecagon of radius r mm:\n",
    "In this example, we cover the steps required to generate a mesh of a £1 coin using the OCC geometry. We model the coin as a regular dodecagonal prism consisting of an inner cylinder, an outer annulus, and a thin metallic coating.\n"
   ]
  },
  {
   "cell_type": "markdown",
   "id": "ad37e265-dec8-4a31-a648-c0c40031d0d4",
   "metadata": {},
   "source": [
    " <img src=\"Figures/large_new_pound.webp\" alt=\"isolated\" width=\"200\"/>"
   ]
  },
  {
   "cell_type": "markdown",
   "id": "39233c76",
   "metadata": {},
   "source": [
    "We begin by importing the standard libraries"
   ]
  },
  {
   "cell_type": "code",
   "execution_count": 3,
   "id": "d503fc82",
   "metadata": {
    "scrolled": true
   },
   "outputs": [],
   "source": [
    "from netgen.occ import *\n",
    "import numpy as np\n",
    "from netgen.webgui import Draw as DrawGeo"
   ]
  },
  {
   "cell_type": "markdown",
   "id": "9c8e4c29-5e69-419b-96d3-fdcf0f0419b5",
   "metadata": {},
   "source": [
    "As with other objects, we define lists of object names and corresponding lists for the $\\sigma_*$ and $\\mu_r$ values in each region that makes up the object. In the case of the £1 coin, we have 3 regions to consider (which each have different materials)\n",
    "- The outer Nickel-Silver ring\n",
    "- The inner cylinder, which is a brass disk\n",
    "- A thin layer of Nickel platiing applied to the central disk.\n",
    "\n",
    "For each region, we define a name, a conductivity $\\sigma_*$ (S/m), and a relative permeability $\\mu_r$."
   ]
  },
  {
   "cell_type": "code",
   "execution_count": 4,
   "id": "34699a49-8f36-4e85-8465-c26fcd26660e",
   "metadata": {
    "scrolled": true
   },
   "outputs": [],
   "source": [
    "material_name = ['Nickel_Silver','Brass','Nickel_plating']\n",
    "sigma = [5.26E+06, 1.63E+07, 1E6]\n",
    "mur = [1.15, 1, 100]"
   ]
  },
  {
   "cell_type": "code",
   "execution_count": 5,
   "id": "27c91dd4-d606-4af4-ac55-020e6c996a27",
   "metadata": {
    "scrolled": true
   },
   "outputs": [],
   "source": [
    "r = 23.43/2\n",
    "t = 2.8"
   ]
  },
  {
   "cell_type": "markdown",
   "id": "e8d9d001-7142-4d31-a746-06a12322ca62",
   "metadata": {},
   "source": [
    "To define a dodegagon, we also need the side length. Since we know that there are 12 sides we know all the angles involved and can use the sine rule to obtain the chord length a."
   ]
  },
  {
   "cell_type": "code",
   "execution_count": 6,
   "id": "6e648501-dd54-43ea-b204-4ab55d3ae804",
   "metadata": {
    "scrolled": true
   },
   "outputs": [],
   "source": [
    "a = r * np.sin(30 * np.pi/180) / np.sin(75 * np.pi/180)"
   ]
  },
  {
   "cell_type": "markdown",
   "id": "63dd3ec0-ce1d-4576-8aa4-db7854f6d6e9",
   "metadata": {},
   "source": [
    "Now that we have the radius and segment length, we can iterativly constuct a dodecagon of radius r and side length a."
   ]
  },
  {
   "cell_type": "markdown",
   "id": "377dc17b-119a-48d5-aba3-a23cfc2136c1",
   "metadata": {},
   "source": [
    "### Building the dodecagon"
   ]
  },
  {
   "cell_type": "markdown",
   "id": "63d29020-b4bf-4184-9f43-0aa88f7b6db6",
   "metadata": {},
   "source": [
    "WorkPlanes allows us to construct 2D shapes, in a similar way to turtle graphics, by moving and updating a cursor. "
   ]
  },
  {
   "cell_type": "code",
   "execution_count": 8,
   "id": "f6e31ef8-ffdb-4698-b256-bf64095ec51a",
   "metadata": {
    "scrolled": false
   },
   "outputs": [
    {
     "data": {
      "application/vnd.jupyter.widget-view+json": {
       "model_id": "6954736f9cd849698715b59f70cb727d",
       "version_major": 2,
       "version_minor": 0
      },
      "text/plain": [
       "WebGuiWidget(layout=Layout(height='50vh', width='100%'), value={'ngsolve_version': 'Netgen x.x', 'mesh_dim': 3…"
      ]
     },
     "metadata": {},
     "output_type": "display_data"
    },
    {
     "data": {
      "text/plain": [
       "BaseWebGuiScene"
      ]
     },
     "execution_count": 8,
     "metadata": {},
     "output_type": "execute_result"
    }
   ],
   "source": [
    "wp = WorkPlane()\n",
    "for i in range(12):\n",
    "    wp.Line(a).Rotate(30)\n",
    "face = wp.Face()\n",
    "DrawGeo(face)"
   ]
  },
  {
   "cell_type": "markdown",
   "id": "e0e04617-5fb8-4c25-af9d-82d27c34a6de",
   "metadata": {},
   "source": [
    "Now, we can turn this 2D shape into a 3D volume by extruding the face to the thickness of the coin: "
   ]
  },
  {
   "cell_type": "code",
   "execution_count": 10,
   "id": "9522bdd2-f362-4763-a7ef-2ebb05141488",
   "metadata": {
    "scrolled": false
   },
   "outputs": [
    {
     "data": {
      "application/vnd.jupyter.widget-view+json": {
       "model_id": "56b97caf5d4b41d2ae5156d188fa46c1",
       "version_major": 2,
       "version_minor": 0
      },
      "text/plain": [
       "WebGuiWidget(layout=Layout(height='50vh', width='100%'), value={'ngsolve_version': 'Netgen x.x', 'mesh_dim': 3…"
      ]
     },
     "metadata": {},
     "output_type": "display_data"
    },
    {
     "data": {
      "text/plain": [
       "BaseWebGuiScene"
      ]
     },
     "execution_count": 10,
     "metadata": {},
     "output_type": "execute_result"
    }
   ],
   "source": [
    "frame = face.Extrude(t)\n",
    "DrawGeo(frame)"
   ]
  },
  {
   "cell_type": "markdown",
   "id": "c61701cb-d5d7-440f-9752-21b089430045",
   "metadata": {},
   "source": [
    "### Adding the interior\n",
    "We now add the interior cylinder. To do this, we define a cylinder of radius r_inner and the same thickness as the rest of the coin:"
   ]
  },
  {
   "cell_type": "code",
   "execution_count": 11,
   "id": "2f2d1d6e-03be-4b15-adb8-c8c381e9e75e",
   "metadata": {
    "scrolled": true
   },
   "outputs": [],
   "source": [
    "r_inner = 7.4"
   ]
  },
  {
   "cell_type": "code",
   "execution_count": 12,
   "id": "4804801f-4f01-4e35-98fc-ac8198f81d08",
   "metadata": {
    "scrolled": true,
    "tags": []
   },
   "outputs": [],
   "source": [
    "cx = frame.center[0]\n",
    "cy = frame.center[1]\n",
    "inner_cyln = Cylinder(Pnt(cx,cy,0),Z, r=r_inner, h=t)"
   ]
  },
  {
   "cell_type": "markdown",
   "id": "a165172c-c52a-4ca9-b0bf-6068e8ff72f6",
   "metadata": {},
   "source": [
    "We can now subtract the inner cylinder from the rest of the coin to obtain only the outer region:"
   ]
  },
  {
   "cell_type": "code",
   "execution_count": 14,
   "id": "b38dea5c-ce68-433f-b925-78845a6c4c2d",
   "metadata": {
    "scrolled": false
   },
   "outputs": [
    {
     "data": {
      "application/vnd.jupyter.widget-view+json": {
       "model_id": "cb5de8760fea4b09bc0578968d9d4784",
       "version_major": 2,
       "version_minor": 0
      },
      "text/plain": [
       "WebGuiWidget(layout=Layout(height='50vh', width='100%'), value={'ngsolve_version': 'Netgen x.x', 'mesh_dim': 3…"
      ]
     },
     "metadata": {},
     "output_type": "display_data"
    },
    {
     "data": {
      "text/plain": [
       "BaseWebGuiScene"
      ]
     },
     "execution_count": 14,
     "metadata": {},
     "output_type": "execute_result"
    }
   ],
   "source": [
    "frame_outer = frame - inner_cyln\n",
    "DrawGeo(frame_outer)"
   ]
  },
  {
   "cell_type": "markdown",
   "id": "fd8baa66-5c19-49a5-b9a2-9f982eb4d8a5",
   "metadata": {},
   "source": [
    "We now have everything we need to build the final coin, but before we join everything together we add object and material names, boundary condition names, and define the desired mesh density:"
   ]
  },
  {
   "cell_type": "code",
   "execution_count": 15,
   "id": "b2f2566b-35b8-492a-a915-564a5009d852",
   "metadata": {
    "scrolled": true
   },
   "outputs": [],
   "source": [
    "inner_cyln.mat(material_name[1])\n",
    "frame_outer.mat(material_name[0])\n",
    "\n",
    "inner_cyln.bc('inner')\n",
    "frame_outer.bc('frame_outer')\n",
    "\n",
    "inner_cyln.maxh = 1\n",
    "frame_outer.maxh = 1"
   ]
  },
  {
   "cell_type": "markdown",
   "id": "f6ee80c4-62ab-4e36-97b7-e20956c331d5",
   "metadata": {},
   "source": [
    "Importantly, the $\\texttt{mat}$ method does not inscribe any physical meaning, i.e. there is no consideration of the conductivity and relative permeability. It is simply a way for $\\texttt{Netgen}$ to differentiate between different regions in the geometry. We will see this later when we introduce boundary layer elements.\n",
    "\n",
    "Finally, we can now build our final object:"
   ]
  },
  {
   "cell_type": "code",
   "execution_count": 17,
   "id": "ad582b86-222f-43d1-8d6a-2e8ac021df33",
   "metadata": {
    "scrolled": true
   },
   "outputs": [
    {
     "data": {
      "application/vnd.jupyter.widget-view+json": {
       "model_id": "602c98b767d34f409183294d004079c1",
       "version_major": 2,
       "version_minor": 0
      },
      "text/plain": [
       "WebGuiWidget(layout=Layout(height='50vh', width='100%'), value={'ngsolve_version': 'Netgen x.x', 'mesh_dim': 3…"
      ]
     },
     "metadata": {},
     "output_type": "display_data"
    },
    {
     "data": {
      "text/plain": [
       "BaseWebGuiScene"
      ]
     },
     "execution_count": 17,
     "metadata": {},
     "output_type": "execute_result"
    }
   ],
   "source": [
    "coin = Glue([inner_cyln, frame_outer])\n",
    "DrawGeo(coin)"
   ]
  },
  {
   "cell_type": "markdown",
   "id": "c7a7de43-e2fd-45d5-8572-914e872d67a6",
   "metadata": {},
   "source": [
    "and add a large outer non-conducting region:"
   ]
  },
  {
   "cell_type": "code",
   "execution_count": 18,
   "id": "f5788965-131e-4e68-98bc-3c8f8584fcde",
   "metadata": {
    "scrolled": true
   },
   "outputs": [],
   "source": [
    "box = Box(Pnt(-1000, -1000, -1000), Pnt(1000,1000,1000))\n",
    "box.mat('air')\n",
    "box.bc('outer')\n",
    "box.maxh = 1000"
   ]
  },
  {
   "cell_type": "markdown",
   "id": "e71a2d1c-57be-45d4-9c6a-ce39e0c1dd08",
   "metadata": {},
   "source": [
    "### Generating Mesh\n",
    "We have now defined the entire geometry of what we want to simulate and assigned the appropriate metadata. All that is left to do it to generate a mesh:"
   ]
  },
  {
   "cell_type": "code",
   "execution_count": 19,
   "id": "3f16234b-a33f-478f-856b-ec82689d458f",
   "metadata": {
    "scrolled": true
   },
   "outputs": [],
   "source": [
    "joined_object = Glue([coin, box])\n",
    "geo = OCCGeometry(joined_object)\n",
    "nmesh = geo.GenerateMesh()"
   ]
  },
  {
   "cell_type": "markdown",
   "id": "c47e1d07-2ca1-4b08-bb90-0ee1ed066201",
   "metadata": {},
   "source": [
    "The real £1 coin has a thin Nickel plating around the central cylinder. We can model this using a thin layer of prismatic elements by adding boundary layer elements of 50 $\\mu$m thickness and tagged as Nickel to the inner part of the coin."
   ]
  },
  {
   "cell_type": "code",
   "execution_count": 20,
   "id": "b687e7f6-77ec-44b7-add5-35c70593ce07",
   "metadata": {
    "scrolled": true
   },
   "outputs": [],
   "source": [
    "nmesh.BoundaryLayer(boundary=\".*\", thickness=[5e-5], material=material_name[2],\n",
    "                           domains=material_name[1], outside=False)"
   ]
  },
  {
   "cell_type": "markdown",
   "id": "8f3fe9bb-9669-460b-bd13-c1951a38205a",
   "metadata": {},
   "source": [
    "Finally, we save the mesh to disk."
   ]
  },
  {
   "cell_type": "code",
   "execution_count": 21,
   "id": "7e455e41-ce17-4b33-93cf-17e87c839de0",
   "metadata": {
    "scrolled": true
   },
   "outputs": [],
   "source": [
    "nmesh.Save(r'VolFiles/OCC_coin.vol')"
   ]
  },
  {
   "cell_type": "markdown",
   "id": "913ac622-99ad-4f30-8bf3-d5253e5eb8ff",
   "metadata": {},
   "source": [
    "We can also visualise the mesh using the NGSolve Draw function"
   ]
  },
  {
   "cell_type": "code",
   "execution_count": 22,
   "id": "c5573fec-0b92-4594-9e0f-19cd552789d0",
   "metadata": {
    "scrolled": false
   },
   "outputs": [
    {
     "data": {
      "application/vnd.jupyter.widget-view+json": {
       "model_id": "f291a00c67474ad18369e279fc4b06a5",
       "version_major": 2,
       "version_minor": 0
      },
      "text/plain": [
       "WebGuiWidget(layout=Layout(height='50vh', width='100%'), value={'gui_settings': {}, 'ngsolve_version': '6.2.22…"
      ]
     },
     "metadata": {},
     "output_type": "display_data"
    },
    {
     "data": {
      "text/plain": [
       "BaseWebGuiScene"
      ]
     },
     "execution_count": 22,
     "metadata": {},
     "output_type": "execute_result"
    }
   ],
   "source": [
    "from ngsolve import *\n",
    "from ngsolve.webgui import Draw\n",
    "ngmesh = Mesh(nmesh)\n",
    "Draw(ngmesh)"
   ]
  },
  {
   "cell_type": "markdown",
   "id": "99187183",
   "metadata": {},
   "source": [
    "## Using OCC geometries with MPT-Calculator\n",
    "To use a defined OCC geometry with MPT-Calculator, we set the $\\texttt{use_OCC}$ argument in the main function.\n",
    "\n",
    "```python\n",
    "main(use_OCC=True)\n",
    "```"
   ]
  },
  {
   "cell_type": "code",
   "execution_count": 23,
   "id": "2b5160f0",
   "metadata": {
    "scrolled": false
   },
   "outputs": [
    {
     "name": "stdout",
     "output_type": "stream",
     "text": [
      "Updated alpha from OCC file. Alpha=0.001\n",
      "OCC_coin.geo\n",
      "1 air Nickel_Silver\n",
      "1 air Nickel_plating\n",
      "2 Brass Nickel_plating\n",
      "[0, 1, 2, 3] 4 ['air', 'Brass', 'Nickel_Silver', 'Nickel_plating']\n",
      "Mesh Contains Prisms? True\n",
      "N Prisms: 945, N Tets: 33251\n",
      "1 air Nickel_Silver\n",
      "1 air Nickel_plating\n",
      "2 Brass Nickel_plating\n",
      "[0, 1, 2, 3] 4 ['air', 'Brass', 'Nickel_Silver', 'Nickel_plating']\n"
     ]
    },
    {
     "name": "stderr",
     "output_type": "stream",
     "text": [
      "/home/james/Desktop/MPT-Calculator_June/main.py:275: UserWarning: It looks like the main function was invoked from a jupyter notebook. \n",
      "Currently saving a .ipynb file is done by copying the most recent file in the .ipynb_checkpoints folder. \n",
      "Unless you saved the file before running the code, this may not be the correct file.\n",
      "  warn('It looks like the main function was invoked from a jupyter notebook. \\nCurrently saving a .ipynb file is done by copying the most recent file in the .ipynb_checkpoints folder. \\nUnless you saved the file before running the code, this may not be the correct file.', stacklevel=1)\n"
     ]
    },
    {
     "name": "stdout",
     "output_type": "stream",
     "text": [
      "Running as parallel POD\n",
      " mesh contains 34196 elements\n"
     ]
    },
    {
     "name": "stderr",
     "output_type": "stream",
     "text": [
      "Solving Theta0: 100%|█████████████████████████████| 3/3 [00:24<00:00,  8.22s/it]\n"
     ]
    },
    {
     "name": "stdout",
     "output_type": "stream",
     "text": [
      " solved theta0 problems   \n",
      " solving theta1 snapshots\n"
     ]
    },
    {
     "name": "stderr",
     "output_type": "stream",
     "text": [
      "Solving Theta1 Snapshots: 100%|█████████████████| 13/13 [12:45<00:00, 58.86s/it]\n"
     ]
    },
    {
     "name": "stdout",
     "output_type": "stream",
     "text": [
      "manually closed pool\n",
      " SVD complete                \n",
      " Number of retained modes = 11\n",
      " Built K, Q, E, and Ger model\n",
      "manually closed pool\n",
      " reduced order systems solved\n",
      " frequency sweep complete\n"
     ]
    },
    {
     "data": {
      "image/png": "[encoded data removed]",
      "text/plain": [
       "<Figure size 640x480 with 1 Axes>"
      ]
     },
     "metadata": {},
     "output_type": "display_data"
    },
    {
     "data": {
      "image/png": "[encoded data removed]",
      "text/plain": [
       "<Figure size 640x480 with 1 Axes>"
      ]
     },
     "metadata": {},
     "output_type": "display_data"
    },
    {
     "data": {
      "image/png": "[encoded data removed]",
      "text/plain": [
       "<Figure size 640x480 with 1 Axes>"
      ]
     },
     "metadata": {},
     "output_type": "display_data"
    },
    {
     "data": {
      "image/png": "[encoded data removed]",
      "text/plain": [
       "<Figure size 640x480 with 1 Axes>"
      ]
     },
     "metadata": {},
     "output_type": "display_data"
    },
    {
     "data": {
      "image/png": "[encoded data removed]",
      "text/plain": [
       "<Figure size 640x480 with 1 Axes>"
      ]
     },
     "metadata": {},
     "output_type": "display_data"
    }
   ],
   "source": [
    "main(geometry='OCC_coin.py', use_OCC=True, use_POD=True);"
   ]
  },
  {
   "cell_type": "markdown",
   "id": "9270b3cc",
   "metadata": {},
   "source": [
    "## Saving Results\n",
    "When using the OCC geometries, MPT-Calculator saves a copy of the $\\texttt{.py}$ file used to define the geometry, along with the mesh, Settings files, graphs, and raw output files."
   ]
  },
  {
   "cell_type": "code",
   "execution_count": null,
   "id": "c45fc9b8",
   "metadata": {
    "scrolled": true
   },
   "outputs": [],
   "source": []
  }
 ],
 "metadata": {
  "kernelspec": {
   "display_name": "Python 3 (ipykernel)",
   "language": "python",
   "name": "python3"
  },
  "language_info": {
   "codemirror_mode": {
    "name": "ipython",
    "version": 3
   },
   "file_extension": ".py",
   "mimetype": "text/x-python",
   "name": "python",
   "nbconvert_exporter": "python",
   "pygments_lexer": "ipython3",
   "version": "3.10.6"
  },
  "toc": {
   "base_numbering": 1,
   "nav_menu": {},
   "number_sections": true,
   "sideBar": true,
   "skip_h1_title": false,
   "title_cell": "Table of Contents",
   "title_sidebar": "Contents",
   "toc_cell": false,
   "toc_position": {},
   "toc_section_display": true,
   "toc_window_display": false
  },
  "varInspector": {
   "cols": {
    "lenName": 16,
    "lenType": 16,
    "lenVar": 40
   },
   "kernels_config": {
    "python": {
     "delete_cmd_postfix": "",
     "delete_cmd_prefix": "del ",
     "library": "var_list.py",
     "varRefreshCmd": "print(var_dic_list())"
    },
    "r": {
     "delete_cmd_postfix": ") ",
     "delete_cmd_prefix": "rm(",
     "library": "var_list.r",
     "varRefreshCmd": "cat(var_dic_list()) "
    }
   },
   "types_to_exclude": [
    "module",
    "function",
    "builtin_function_or_method",
    "instance",
    "_Feature"
   ],
   "window_display": false
  },
  "widgets": {
   "application/vnd.jupyter.widget-state+json": {
    "state": {
     "05297313f230428fafc669c800ffb4ad": {
      "model_module": "@jupyter-widgets/base",
      "model_module_version": "2.0.0",
      "model_name": "LayoutModel",
      "state": {
       "height": "50vh",
       "width": "100%"
      }
     },
     "080916327f4a4e7d87beeed0d1451d0a": {
      "model_module": "webgui_jupyter_widgets",
      "model_module_version": "0.2.14",
      "model_name": "WebguiModel",
      "state": {
       "layout": "IPY_MODEL_a068e8c476d946fe829cb7403333a0d5",
       "value": {
        "Bezier_points": [],
        "Bezier_trig_points": [
         "mg01QVsNQkAAAAAAAAAAAJoNNUFbDUJAAAAAAAAAAACaDTVBWw1CQAAAAAAAAAAA8ZBlQfGQZUEAAAAAAAAAAPGQZUHxkGVBAAAAAAAAAADxkGVB8ZBlQQAAAAAAAAAAmg01Qe/LnEEAAAAAAAAAAJoNNUHvy5xBAAAAAAAAAACaDTVB78ucQQAAAAAAAAAAmg01Qe/LnEEAAAAAAAAAAA==",
         "AAAAAAAAAAAAAAAAAAAAAESKBMFEigRBAAAAAAAAAADaDajAWw1CQAAAAAAAAAAAmg01QVsNQkAAAAAAAAAAAESKBMHxkGVBAAAAAAAAAABEigTBRIoEQQAAAAAAAAAAWw3CQJoNtUEAAAAAAAAAAAAAACiaDbVBAAAAAAAAAADaDajA78ucQQAAAAAAAAAARIoEwfGQZUEAAAAAAAAAAA==",
         "Ww3CQAAAAAAAAAAAAAAAANoNqMBbDUJAAAAAAAAAAAAAAAAAAAAAAAAAAAAAAAAA8ZBlQUSKBEEAAAAAAAAAAESKBMFEigRBAAAAAAAAAACaDTVBWw1CQAAAAAAAAAAAAAAAKJoNtUEAAAAAAAAAANoNqMDvy5xBAAAAAAAAAABEigTB8ZBlQQAAAAAAAAAA8ZBlQfGQZUEAAAAAAAAAAA==",
         "AAAAAAAAAAAAAIA/AAAAAAAAAAAAAIA/AAAAAAAAAAAAAIA/AAAAAAAAAAAAAIA/AAAAAAAAAAAAAIA/AAAAAAAAAAAAAIA/AAAAAAAAAAAAAIA/AAAAAAAAAAAAAIA/AAAAAAAAAAAAAIA/AAAAAAAAAAAAAIA/",
         "AAAAAAAAAAAAAIA/AAAAAAAAAAAAAIA/AAAAAAAAAAAAAIA/AAAAAAAAAAAAAIA/AAAAAAAAAAAAAIA/AAAAAAAAAAAAAIA/AAAAAAAAAAAAAIA/AAAAAAAAAAAAAIA/AAAAAAAAAAAAAIA/AAAAAAAAAAAAAIA/",
         "AAAAAAAAAAAAAIA/AAAAAAAAAAAAAIA/AAAAAAAAAAAAAIA/AAAAAAAAAAAAAIA/AAAAAAAAAAAAAIA/AAAAAAAAAAAAAIA/AAAAAAAAAAAAAIA/AAAAAAAAAAAAAIA/AAAAAAAAAAAAAIA/AAAAAAAAAAAAAIA/"
        ],
        "autoscale": false,
        "colors": [
         [
          0,
          1,
          0
         ]
        ],
        "draw_surf": true,
        "draw_vol": false,
        "edge_colors": [
         [
          0,
          0,
          0
         ],
         [
          0,
          0,
          0
         ],
         [
          0,
          0,
          0
         ],
         [
          0,
          0,
          0
         ],
         [
          0,
          0,
          0
         ],
         [
          0,
          0,
          0
         ],
         [
          0,
          0,
          0
         ],
         [
          0,
          0,
          0
         ],
         [
          0,
          0,
          0
         ],
         [
          0,
          0,
          0
         ],
         [
          0,
          0,
          0
         ],
         [
          0,
          0,
          0
         ]
        ],
        "edge_names": [
         "",
         "",
         "",
         "",
         "",
         "",
         "",
         "",
         "",
         "",
         "",
         ""
        ],
        "edges": [
         "AAAAAAAAAAAAAAAAAAAAAFsNwkAAAAAAAAAAAAAAgD+aDTVBWw1CQAAAAAAAAABA8ZBlQUSKBEEAAAAAAABAQPGQZUHxkGVBAAAAAAAAgECaDTVB78ucQQAAAAAAAKBAWw3CQJoNtUEAAAAAAADAQAAAACiaDbVBAAAAAAAA4EDaDajA78ucQQAAAAAAAABBRIoEwfGQZUEAAAAAAAAQQUSKBMFEigRBAAAAAAAAIEHaDajAWw1CQAAAAAAAADBB",
         "Ww3CQAAAAAAAAAAAAAAAAJoNNUFbDUJAAAAAAAAAgD/xkGVBRIoEQQAAAAAAAABA8ZBlQfGQZUEAAAAAAABAQJoNNUHvy5xBAAAAAAAAgEBbDcJAmg21QQAAAAAAAKBAAAAAKJoNtUEAAAAAAADAQNoNqMDvy5xBAAAAAAAA4EBEigTB8ZBlQQAAAAAAAABBRIoEwUSKBEEAAAAAAAAQQdoNqMBbDUJAAAAAAAAAIEEAAAAAAAAAAAAAAAAAADBB"
        ],
        "funcdim": 0,
        "funcmax": 1,
        "funcmin": 0,
        "have_normals": true,
        "mesh_center": [
         3.0320651133760297,
         11.315821054976436,
         0
        ],
        "mesh_dim": 3,
        "mesh_radius": 16.0029876053347,
        "mesh_regions_2d": 12,
        "names": [
         ""
        ],
        "ngsolve_version": "Netgen x.x",
        "order2d": 1,
        "order3d": 0,
        "show_mesh": true,
        "show_wireframe": true,
        "solid_face_map": [],
        "solid_names": []
       }
      }
     },
     "16cf9879d5e74fe29c734d99c94426a0": {
      "model_module": "webgui_jupyter_widgets",
      "model_module_version": "0.2.14",
      "model_name": "WebguiModel",
      "state": {
       "layout": "IPY_MODEL_54d2b023c1ee4233aa256a407ef0b0b8",
       "value": {
        "Bezier_points": [],
        "Bezier_trig_points": [
         "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",
         "AAAAAAAAAAAzMzNAAAAAAFsNwkAAAAAAMzMzQAAAAADaDajAWw1CQDMzM0AAAIA/AAAAAAAAAAAzMzNAAACAP1sNwkAAAAAAMzMzQAAAAECaDTVBWw1CQDMzM0AAAABAAAAAAAAAAAAAAAAAAABAQNoNqMBbDUJAAAAAAAAAQEDaDajAWw1CQAAAAAAAAEBASXEgwC4UzUAAAAAAAABAQAAAAAAAAAAAAAAAAAAAQEDATGHAUQ/8QAAAAAAAAEBAAAAAAAAAAAAAAAAAAABAQESKBMFEigRBAAAAAAAAQECY5ITA2bcYQQAAAAAAAEBAWw3CQAAAAAAAAAAAAABAQAAAAAAAAAAAAAAAAAAAQEAfxovAmg01QQAAAAAAAEBAWw3CQAAAAAAAAAAAAABAQJjkhMBbY1FBAAAAAAAAQEBbDcJAAAAAAAAAAAAAAEBAWw3CQAAAAAAAAAAAAABAQElxIMCPyIFBAAAAAAAAQEDATGHAjBNsQQAAAAAAAEBAmg01QVsNQkAAAAAAAABAQElxIMCPyIFBAAAAAAAAQECaDTVBWw1CQAAAAAAAAEBA3VkZQVEP/EAAAAAAAABAQPl4I0HZtxhBAAAAAAAAQECaDTVBWw1CQAAAAAAAAEBAaiN7QIFLlUEAAAAAAABAQEv3CECBS5VBAAAAAAAAQEDt49A+KeGRQQAAAAAAAEBAc/eVv0k/i0EAAAAAAABAQL3pJkGaDTVBAAAAAAAAQED5eCNBW2NRQQAAAAAAAEBA8ZBlQUSKBEEAAAAAAABAQDiL50BJP4tBAAAAAAAAQEAc/7RAKeGRQQAAAAAAAEBAaiN7QIFLlUEAAAAAAABAQPGQZUHxkGVBAAAAAAAAQEDdWRlBjBNsQQAAAAAAAEBAACMJQY/IgUEAAAAAAABAQDiL50BJP4tBAAAAAAAAQEDaDajAWw1CQDMzM0AAAIBASXEgwC4UzUAzMzNAAACAQESKBMFEigRBMzMzQAAAgEDaDajAWw1CQDMzM0AAAIBAc/eVv0Q5p0AzMzNAAACAQESKBMFEigRBMzMzQAAAgEDt49A+xrGMQDMzM0AAAIBARIoEwfGQZUEzMzNAAACAQESKBMFEigRBMzMzQAAAgEAAAAAAAAAAADMzM0AAAIBAS/cIQM0QfkAzMzNAAACAQESKBMHxkGVBMzMzQAAAgEBqI3tAzRB+QDMzM0AAAIBARIoEwfGQZUEzMzNAAACAQBz/tEDGsYxAMzMzQAAAgEA4i+dARDmnQDMzM0AAAIBAwExhwIwTbEEzMzNAAACAQESKBMHxkGVBMzMzQAAAgEA4i+dARDmnQDMzM0AAAIBA2g2owO/LnEEzMzNAAACAQAAjCUEuFM1AMzMzQAAAgED5eCNB2bcYQTMzM0AAAIBAvekmQZoNNUEzMzNAAACAQN1ZGUFRD/xAMzMzQAAAgEBL9whAgUuVQTMzM0AAAIBA7ePQPinhkUEzMzNAAACAQHP3lb9JP4tBMzMzQAAAgEDaDajA78ucQTMzM0AAAIBA+XgjQVtjUUEzMzNAAACAQN1ZGUGME2xBMzMzQAAAgEC96SZBmg01QTMzM0AAAIBAHP+0QCnhkUEzMzNAAACAQGoje0CBS5VBMzMzQAAAgEAAAAAomg21QTMzM0AAAIBA3VkZQYwTbEEzMzNAAACAQAAjCUGPyIFBMzMzQAAAgEA4i+dAST+LQTMzM0AAAIBAWw3CQJoNtUEzMzNAAACAQESKBMFEigRBMzMzQAAAoEDaDajAWw1CQDMzM0AAAKBAmg01QVsNQkAzMzNAAADAQPGQZUFEigRBMzMzQAAAwEBEigTB8ZBlQTMzM0AAAOBARIoEwUSKBEEzMzNAAADgQPGQZUFEigRBMzMzQAAAAEHxkGVB8ZBlQTMzM0AAAABB2g2owO/LnEEzMzNAAAAQQUSKBMHxkGVBMzMzQAAAEEHxkGVB8ZBlQTMzM0AAACBBmg01Qe/LnEEzMzNAAAAgQQAAACiaDbVBMzMzQAAAMEHaDajA78ucQTMzM0AAADBBmg01Qe/LnEEzMzNAAABAQVsNwkCaDbVBMzMzQAAAQEFbDcJAmg21QTMzM0AAAFBBAAAAKJoNtUEzMzNAAABQQb3pJkGaDTVBAAAAAAAAYEH5eCNBW2NRQQAAAAAAAGBB3VkZQYwTbEEAAAAAAABgQfl4I0FbY1FBAAAAAAAAYEEAIwlBj8iBQQAAAAAAAGBBOIvnQEk/i0EAAAAAAABgQd1ZGUGME2xBAAAAAAAAYEE4i+dAST+LQQAAAAAAAGBBHP+0QCnhkUEAAAAAAABgQTiL50BJP4tBAAAAAAAAYEFqI3tAgUuVQQAAAAAAAGBBHP+0QCnhkUEAAAAAAABgQUv3CECBS5VBAAAAAAAAYEFqI3tAgUuVQQAAAAAAAGBB7ePQPinhkUEAAAAAAABgQUv3CECBS5VBAAAAAAAAYEFz95W/ST+LQQAAAAAAAGBB7ePQPinhkUEAAAAAAABgQUlxIMCPyIFBAAAAAAAAYEFz95W/ST+LQQAAAAAAAGBBSXEgwI/IgUEAAAAAAABgQcBMYcCME2xBAAAAAAAAYEHATGHAjBNsQQAAAAAAAGBBmOSEwFtjUUEAAAAAAABgQZjkhMBbY1FBAAAAAAAAYEEfxovAmg01QQAAAAAAAGBBH8aLwJoNNUEAAAAAAABgQZjkhMDZtxhBAAAAAAAAYEGY5ITA2bcYQQAAAAAAAGBBwExhwFEP/EAAAAAAAABgQcBMYcBRD/xAAAAAAAAAYEFJcSDALhTNQAAAAAAAAGBBc/eVv0Q5p0AAAAAAAABgQXP3lb9EOadAAAAAAAAAYEFz95W/RDmnQAAAAAAAAGBB7ePQPsaxjEAAAAAAAABgQe3j0D7GsYxAAAAAAAAAYEFL9whAzRB+QAAAAAAAAGBBaiN7QM0QfkAAAAAAAABgQWoje0DNEH5AAAAAAAAAYEFqI3tAzRB+QAAAAAAAAGBBHP+0QMaxjEAAAAAAAABgQRz/tEDGsYxAAAAAAAAAYEE4i+dARDmnQAAAAAAAAGBBOIvnQEQ5p0AAAAAAAABgQQAjCUEuFM1AAAAAAAAAYEEAIwlBLhTNQAAAAAAAAGBB3VkZQVEP/EAAAAAAAABgQfl4I0HZtxhBAAAAAAAAYEHdWRlBUQ/8QAAAAAAAAGBBvekmQZoNNUEAAAAAAABgQfl4I0HZtxhBAAAAAAAAYEE=",
         "AAAAAAAAAAAAAAAAAAAAAAAAAAAAAAAAMzMzQAAAAADaDajAWw1CQAAAAAAAAIA/2g2owFsNQkAzMzNAAACAP1sNwkAAAAAAAAAAAAAAAEBbDcJAAAAAADMzM0AAAABA2g2owFsNQkAAAAAAAABAQElxIMAuFM1AAAAAAAAAQEBEigTBRIoEQQAAAAAAAEBA2g2owFsNQkAAAAAAAABAQHP3lb9EOadAAAAAAAAAQEBEigTBRIoEQQAAAAAAAEBA7ePQPsaxjEAAAAAAAABAQESKBMHxkGVBAAAAAAAAQEBEigTBRIoEQQAAAAAAAEBAAAAAAAAAAAAAAAAAAABAQEv3CEDNEH5AAAAAAAAAQEBEigTB8ZBlQQAAAAAAAEBAaiN7QM0QfkAAAAAAAABAQESKBMHxkGVBAAAAAAAAQEAc/7RAxrGMQAAAAAAAAEBAOIvnQEQ5p0AAAAAAAABAQMBMYcCME2xBAAAAAAAAQEBEigTB8ZBlQQAAAAAAAEBAOIvnQEQ5p0AAAAAAAABAQNoNqMDvy5xBAAAAAAAAQEAAIwlBLhTNQAAAAAAAAEBA+XgjQdm3GEEAAAAAAABAQL3pJkGaDTVBAAAAAAAAQEDdWRlBUQ/8QAAAAAAAAEBAS/cIQIFLlUEAAAAAAABAQO3j0D4p4ZFBAAAAAAAAQEBz95W/ST+LQQAAAAAAAEBA2g2owO/LnEEAAAAAAABAQPl4I0FbY1FBAAAAAAAAQEDdWRlBjBNsQQAAAAAAAEBAvekmQZoNNUEAAAAAAABAQBz/tEAp4ZFBAAAAAAAAQEBqI3tAgUuVQQAAAAAAAEBAAAAAKJoNtUEAAAAAAABAQN1ZGUGME2xBAAAAAAAAQEAAIwlBj8iBQQAAAAAAAEBAOIvnQEk/i0EAAAAAAABAQFsNwkCaDbVBAAAAAAAAQEAAAAAAAAAAADMzM0AAAIBA2g2owFsNQkAzMzNAAACAQNoNqMBbDUJAMzMzQAAAgEBJcSDALhTNQDMzM0AAAIBAAAAAAAAAAAAzMzNAAACAQMBMYcBRD/xAMzMzQAAAgEAAAAAAAAAAADMzM0AAAIBARIoEwUSKBEEzMzNAAACAQJjkhMDZtxhBMzMzQAAAgEBbDcJAAAAAADMzM0AAAIBAAAAAAAAAAAAzMzNAAACAQB/Gi8CaDTVBMzMzQAAAgEBbDcJAAAAAADMzM0AAAIBAmOSEwFtjUUEzMzNAAACAQFsNwkAAAAAAMzMzQAAAgEBbDcJAAAAAADMzM0AAAIBASXEgwI/IgUEzMzNAAACAQMBMYcCME2xBMzMzQAAAgECaDTVBWw1CQDMzM0AAAIBASXEgwI/IgUEzMzNAAACAQJoNNUFbDUJAMzMzQAAAgEDdWRlBUQ/8QDMzM0AAAIBA+XgjQdm3GEEzMzNAAACAQJoNNUFbDUJAMzMzQAAAgEBqI3tAgUuVQTMzM0AAAIBAS/cIQIFLlUEzMzNAAACAQO3j0D4p4ZFBMzMzQAAAgEBz95W/ST+LQTMzM0AAAIBAvekmQZoNNUEzMzNAAACAQPl4I0FbY1FBMzMzQAAAgEDxkGVBRIoEQTMzM0AAAIBAOIvnQEk/i0EzMzNAAACAQBz/tEAp4ZFBMzMzQAAAgEBqI3tAgUuVQTMzM0AAAIBA8ZBlQfGQZUEzMzNAAACAQN1ZGUGME2xBMzMzQAAAgEAAIwlBj8iBQTMzM0AAAIBAOIvnQEk/i0EzMzNAAACAQESKBMFEigRBAAAAAAAAoEBEigTBRIoEQTMzM0AAAKBAmg01QVsNQkAAAAAAAADAQJoNNUFbDUJAMzMzQAAAwEBEigTB8ZBlQQAAAAAAAOBARIoEwfGQZUEzMzNAAADgQPGQZUFEigRBAAAAAAAAAEHxkGVBRIoEQTMzM0AAAABB2g2owO/LnEEAAAAAAAAQQdoNqMDvy5xBMzMzQAAAEEHxkGVB8ZBlQQAAAAAAACBB8ZBlQfGQZUEzMzNAAAAgQQAAACiaDbVBAAAAAAAAMEEAAAAomg21QTMzM0AAADBBmg01Qe/LnEEAAAAAAABAQZoNNUHvy5xBMzMzQAAAQEFbDcJAmg21QQAAAAAAAFBBWw3CQJoNtUEzMzNAAABQQb3pJkGaDTVBMzMzQAAAYEG96SZBmg01QQAAAAAAAGBB+XgjQVtjUUEAAAAAAABgQfl4I0FbY1FBMzMzQAAAYEHdWRlBjBNsQQAAAAAAAGBBACMJQY/IgUEAAAAAAABgQd1ZGUGME2xBMzMzQAAAYEEAIwlBj8iBQTMzM0AAAGBBOIvnQEk/i0EAAAAAAABgQTiL50BJP4tBMzMzQAAAYEEc/7RAKeGRQQAAAAAAAGBBHP+0QCnhkUEzMzNAAABgQWoje0CBS5VBAAAAAAAAYEFqI3tAgUuVQTMzM0AAAGBBS/cIQIFLlUEAAAAAAABgQUv3CECBS5VBMzMzQAAAYEHt49A+KeGRQQAAAAAAAGBB7ePQPinhkUEzMzNAAABgQXP3lb9JP4tBAAAAAAAAYEFz95W/ST+LQTMzM0AAAGBBSXEgwI/IgUEzMzNAAABgQUlxIMCPyIFBAAAAAAAAYEHATGHAjBNsQTMzM0AAAGBBwExhwIwTbEEAAAAAAABgQZjkhMBbY1FBMzMzQAAAYEGY5ITAW2NRQQAAAAAAAGBBH8aLwJoNNUEzMzNAAABgQR/Gi8CaDTVBAAAAAAAAYEGY5ITA2bcYQTMzM0AAAGBBmOSEwNm3GEEAAAAAAABgQcBMYcBRD/xAMzMzQAAAYEHATGHAUQ/8QAAAAAAAAGBBSXEgwC4UzUAAAAAAAABgQUlxIMAuFM1AMzMzQAAAYEFz95W/RDmnQDMzM0AAAGBBc/eVv0Q5p0AAAAAAAABgQe3j0D7GsYxAMzMzQAAAYEHt49A+xrGMQAAAAAAAAGBBS/cIQM0QfkAAAAAAAABgQUv3CEDNEH5AMzMzQAAAYEFqI3tAzRB+QDMzM0AAAGBBaiN7QM0QfkAAAAAAAABgQRz/tEDGsYxAMzMzQAAAYEEc/7RAxrGMQAAAAAAAAGBBOIvnQEQ5p0AzMzNAAABgQTiL50BEOadAAAAAAAAAYEEAIwlBLhTNQDMzM0AAAGBBACMJQS4UzUAAAAAAAABgQd1ZGUFRD/xAAAAAAAAAYEHdWRlBUQ/8QDMzM0AAAGBB+XgjQdm3GEEAAAAAAABgQfl4I0HZtxhBMzMzQAAAYEE=",
         "AAAAAAAAgL8AAACAAAAAAAAAgL8AAACAAAAAv9ezXb8AAACAAAAAv9ezXb8AAACAAAAAP9ezXb8AAACAAAAAP9ezXb8AAACAAAAAgAAAAIAAAIC/AAAAgAAAAIAAAIC/AAAAgAAAAIAAAIC/AAAAgAAAAIAAAIC/AAAAgAAAAIAAAIC/AAAAgAAAAIAAAIC/AAAAgAAAAIAAAIC/AAAAgAAAAIAAAIC/AAAAgAAAAIAAAIC/AAAAgAAAAIAAAIC/AAAAgAAAAIAAAIC/AAAAgAAAAIAAAIC/AAAAgAAAAIAAAIC/AAAAgAAAAIAAAIC/AAAAgAAAAIAAAIC/AAAAgAAAAIAAAIC/AAAAgAAAAIAAAIC/AAAAgAAAAIAAAIC/AAAAgAAAAIAAAIC/AAAAgAAAAIAAAIC/AAAAgAAAAIAAAIC/AAAAgAAAAIAAAIC/AAAAgAAAAIAAAIC/AAAAgAAAAIAAAIC/AAAAgAAAAIAAAIC/AAAAgAAAAIAAAIC/AAAAgAAAAIAAAIC/AAAAgAAAAIAAAIC/AAAAgAAAAIAAAIC/AAAAgAAAAIAAAIC/AAAAgAAAAIAAAIC/AAAAgAAAAIAAAIC/AAAAgAAAAIAAAIC/AAAAgAAAAIAAAIC/AAAAgAAAAIAAAIC/AAAAgAAAAIAAAIC/AAAAgAAAAIAAAIC/AAAAgAAAAIAAAIC/AAAAAAAAAAAAAIA/AAAAAAAAAAAAAIA/AAAAAAAAAAAAAIA/AAAAAAAAAAAAAIA/AAAAAAAAAAAAAIA/AAAAAAAAAAAAAIA/AAAAAAAAAAAAAIA/AAAAAAAAAAAAAIA/AAAAAAAAAAAAAIA/AAAAAAAAAAAAAIA/AAAAAAAAAAAAAIA/AAAAAAAAAAAAAIA/AAAAAAAAAAAAAIA/AAAAAAAAAAAAAIA/AAAAAAAAAAAAAIA/AAAAAAAAAAAAAIA/AAAAAAAAAAAAAIA/AAAAAAAAAAAAAIA/AAAAAAAAAAAAAIA/AAAAAAAAAAAAAIA/AAAAAAAAAAAAAIA/AAAAAAAAAAAAAIA/AAAAAAAAAAAAAIA/AAAAAAAAAAAAAIA/AAAAAAAAAAAAAIA/AAAAAAAAAAAAAIA/AAAAAAAAAAAAAIA/AAAAAAAAAAAAAIA/AAAAAAAAAAAAAIA/AAAAAAAAAAAAAIA/AAAAAAAAAAAAAIA/AAAAAAAAAAAAAIA/AAAAAAAAAAAAAIA/AAAAAAAAAAAAAIA/AAAAAAAAAAAAAIA/AAAAAAAAAAAAAIA/AAAAAAAAAAAAAIA/AAAAAAAAAAAAAIA/17NdvwAAAL8AAACA17NdvwAAAL8AAACA17NdPwAAAL8AAACA17NdPwAAAL8AAACAAACAv+9KfSYAAACAAACAv+9KfSYAAACAAACAP6DcqKUAAACAAACAP6DcqKUAAACA17NdvwAAAD8AAACA17NdvwAAAD8AAACA17NdPwAAAD8AAACA17NdPwAAAD8AAACAAAAAv9ezXT8AAACAAAAAv9ezXT8AAACAAAAAP9ezXT8AAACAAAAAP9ezXT8AAACAoNwoJgAAgD8AAACAoNwoJgAAgD8AAACApY94vyoPdb4AAAAApY94vyoPdb4AAAAAP61ivzLw7b4AAAAAP61ivzLw7b4AAAAAZ54/v2jCKb8AAAAAZ54/v2jCKb8AAAAAZ54/v2jCKb8AAAAAsWwRvxKvUr8AAAAAxo61vjldb78AAAAAxo61vjldb78AAAAA79v2vSsifr8AAAAA79v2vSsifr8AAAAA79v2PSsifr8AAACA79v2PSsifr8AAACAxo61Pjldb78AAACAxo61Pjldb78AAACAsWwRPxKvUr8AAACAsWwRPxKvUr8AAACAZ54/P2jCKb8AAACAZ54/P2jCKb8AAACAP61iPzLw7b4AAACAP61iPzLw7b4AAACApY94PyoPdb4AAACApY94PyoPdb4AAACAAACAPyamkaYAAACAAACAPyamkaYAAACApY94PyoPdT4AAACApY94PyoPdT4AAACAP61iPzLw7T4AAACAP61iPzLw7T4AAACAZ54/P2jCKT8AAACAZ54/P2jCKT8AAACAZ54/P2jCKT8AAACAsWwRPxKvUj8AAACAxo61Pjldbz8AAACAxo61Pjldbz8AAACA79v2PSsifj8AAACA79v2PSsifj8AAACA79v2PSsifj8AAACA79v2vSsifj8AAACAxo61vjldbz8AAACAxo61vjldbz8AAACAsWwRvxKvUj8AAACAsWwRvxKvUj8AAACAZ54/v2jCKT8AAACAZ54/v2jCKT8AAACAP61ivzLw7T4AAACAP61ivzLw7T4AAACApY94vyoPdT4AAACApY94vyoPdT4AAACAAACAvzIxjSUAAACAAACAvzIxjSUAAACA",
         "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",
         "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"
        ],
        "autoscale": false,
        "colors": [
         [
          0,
          1,
          0
         ],
         [
          0,
          1,
          0
         ],
         [
          0,
          1,
          0
         ],
         [
          0,
          1,
          0
         ],
         [
          0,
          1,
          0
         ],
         [
          0,
          1,
          0
         ],
         [
          0,
          1,
          0
         ],
         [
          0,
          1,
          0
         ],
         [
          0,
          1,
          0
         ],
         [
          0,
          1,
          0
         ],
         [
          0,
          1,
          0
         ],
         [
          0,
          1,
          0
         ],
         [
          0,
          1,
          0
         ],
         [
          0,
          1,
          0
         ],
         [
          0,
          1,
          0
         ]
        ],
        "draw_surf": true,
        "draw_vol": false,
        "edge_colors": [
         [
          0,
          0,
          0
         ],
         [
          0,
          0,
          0
         ],
         [
          0,
          0,
          0
         ],
         [
          0,
          0,
          0
         ],
         [
          0,
          0,
          0
         ],
         [
          0,
          0,
          0
         ],
         [
          0,
          0,
          0
         ],
         [
          0,
          0,
          0
         ],
         [
          0,
          0,
          0
         ],
         [
          0,
          0,
          0
         ],
         [
          0,
          0,
          0
         ],
         [
          0,
          0,
          0
         ],
         [
          0,
          0,
          0
         ],
         [
          0,
          0,
          0
         ],
         [
          0,
          0,
          0
         ],
         [
          0,
          0,
          0
         ],
         [
          0,
          0,
          0
         ],
         [
          0,
          0,
          0
         ],
         [
          0,
          0,
          0
         ],
         [
          0,
          0,
          0
         ],
         [
          0,
          0,
          0
         ],
         [
          0,
          0,
          0
         ],
         [
          0,
          0,
          0
         ],
         [
          0,
          0,
          0
         ],
         [
          0,
          0,
          0
         ],
         [
          0,
          0,
          0
         ],
         [
          0,
          0,
          0
         ],
         [
          0,
          0,
          0
         ],
         [
          0,
          0,
          0
         ],
         [
          0,
          0,
          0
         ],
         [
          0,
          0,
          0
         ],
         [
          0,
          0,
          0
         ],
         [
          0,
          0,
          0
         ],
         [
          0,
          0,
          0
         ],
         [
          0,
          0,
          0
         ],
         [
          0,
          0,
          0
         ],
         [
          0,
          0,
          0
         ],
         [
          0,
          0,
          0
         ],
         [
          0,
          0,
          0
         ],
         [
          0,
          0,
          0
         ],
         [
          0,
          0,
          0
         ],
         [
          0,
          0,
          0
         ],
         [
          0,
          0,
          0
         ],
         [
          0,
          0,
          0
         ],
         [
          0,
          0,
          0
         ],
         [
          0,
          0,
          0
         ],
         [
          0,
          0,
          0
         ],
         [
          0,
          0,
          0
         ],
         [
          0,
          0,
          0
         ],
         [
          0,
          0,
          0
         ],
         [
          0,
          0,
          0
         ],
         [
          0,
          0,
          0
         ],
         [
          0,
          0,
          0
         ],
         [
          0,
          0,
          0
         ],
         [
          0,
          0,
          0
         ],
         [
          0,
          0,
          0
         ],
         [
          0,
          0,
          0
         ],
         [
          0,
          0,
          0
         ],
         [
          0,
          0,
          0
         ],
         [
          0,
          0,
          0
         ],
         [
          0,
          0,
          0
         ],
         [
          0,
          0,
          0
         ],
         [
          0,
          0,
          0
         ],
         [
          0,
          0,
          0
         ],
         [
          0,
          0,
          0
         ],
         [
          0,
          0,
          0
         ],
         [
          0,
          0,
          0
         ],
         [
          0,
          0,
          0
         ],
         [
          0,
          0,
          0
         ],
         [
          0,
          0,
          0
         ],
         [
          0,
          0,
          0
         ],
         [
          0,
          0,
          0
         ],
         [
          0,
          0,
          0
         ],
         [
          0,
          0,
          0
         ],
         [
          0,
          0,
          0
         ],
         [
          0,
          0,
          0
         ],
         [
          0,
          0,
          0
         ],
         [
          0,
          0,
          0
         ]
        ],
        "edge_names": [
         "",
         "",
         "",
         "",
         "",
         "",
         "",
         "",
         "",
         "",
         "",
         "",
         "",
         "",
         "",
         "",
         "",
         "",
         "",
         "",
         "",
         "",
         "",
         "",
         "",
         "",
         "",
         "",
         "",
         "",
         "",
         "",
         "",
         "",
         "",
         "",
         "",
         "",
         "",
         "",
         "",
         "",
         "",
         "",
         "",
         "",
         "",
         "",
         "",
         "",
         "",
         "",
         "",
         "",
         "",
         "",
         "",
         "",
         "",
         "",
         "",
         "",
         "",
         "",
         "",
         "",
         "",
         "",
         "",
         "",
         "",
         "",
         "",
         "",
         "",
         "",
         "",
         ""
        ],
        "edges": [
         "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",
         "AAAAAAAAAAAzMzNAAAAAAFsNwkAAAAAAMzMzQAAAgD9bDcJAAAAAAAAAAAAAAABAWw3CQAAAAAAzMzNAAABAQNoNqMBbDUJAMzMzQAAAgEAAAAAAAAAAADMzM0AAAKBAAAAAAAAAAAAAAAAAAADAQAAAAAAAAAAAMzMzQAAA4EBbDcJAAAAAADMzM0AAAABBmg01QVsNQkAzMzNAAAAQQZoNNUFbDUJAAAAAAAAAIEGaDTVBWw1CQDMzM0AAADBBWw3CQAAAAAAAAAAAAABAQQAAAAAAAAAAAAAAAAAAUEGaDTVBWw1CQAAAAAAAAGBB2g2owFsNQkAAAAAAAABwQfGQZUFEigRBAAAAAAAAgEFEigTBRIoEQQAAAAAAAIhB8ZBlQfGQZUEAAAAAAACQQUSKBMHxkGVBAAAAAAAAmEGaDTVB78ucQQAAAAAAAKBB2g2owO/LnEEAAAAAAACoQVsNwkCaDbVBAAAAAAAAsEEAAAAomg21QQAAAAAAALhB+XgjQVtjUUEAAAAAAADAQd1ZGUGME2xBAAAAAAAAwEEAIwlBj8iBQQAAAAAAAMBBOIvnQEk/i0EAAAAAAADAQRz/tEAp4ZFBAAAAAAAAwEFqI3tAgUuVQQAAAAAAAMBBS/cIQIFLlUEAAAAAAADAQe3j0D4p4ZFBAAAAAAAAwEFz95W/ST+LQQAAAAAAAMBBSXEgwI/IgUEAAAAAAADAQcBMYcCME2xBAAAAAAAAwEGY5ITAW2NRQQAAAAAAAMBBH8aLwJoNNUEAAAAAAADAQZjkhMDZtxhBAAAAAAAAwEHATGHAUQ/8QAAAAAAAAMBBSXEgwC4UzUAAAAAAAADAQXP3lb9EOadAAAAAAAAAwEHt49A+xrGMQAAAAAAAAMBBS/cIQM0QfkAAAAAAAADAQWoje0DNEH5AAAAAAAAAwEEc/7RAxrGMQAAAAAAAAMBBOIvnQEQ5p0AAAAAAAADAQQAjCUEuFM1AAAAAAAAAwEHdWRlBUQ/8QAAAAAAAAMBB+XgjQdm3GEEAAAAAAADAQb3pJkGaDTVBAAAAAAAAwEFbDcJAAAAAADMzM0AAAMhBAAAAAAAAAAAzMzNAAADQQZoNNUFbDUJAMzMzQAAA2EHaDajAWw1CQDMzM0AAAOBB8ZBlQUSKBEEzMzNAAADoQUSKBMFEigRBMzMzQAAA8EHxkGVB8ZBlQTMzM0AAAPhBRIoEwfGQZUEzMzNAAAAAQpoNNUHvy5xBMzMzQAAABELaDajA78ucQTMzM0AAAAhCWw3CQJoNtUEzMzNAAAAMQgAAACiaDbVBMzMzQAAAEEL5eCNBW2NRQTMzM0AAABRC3VkZQYwTbEEzMzNAAAAUQgAjCUGPyIFBMzMzQAAAFEI4i+dAST+LQTMzM0AAABRCHP+0QCnhkUEzMzNAAAAUQmoje0CBS5VBMzMzQAAAFEJL9whAgUuVQTMzM0AAABRC7ePQPinhkUEzMzNAAAAUQnP3lb9JP4tBMzMzQAAAFEJJcSDAj8iBQTMzM0AAABRCwExhwIwTbEEzMzNAAAAUQpjkhMBbY1FBMzMzQAAAFEIfxovAmg01QTMzM0AAABRCmOSEwNm3GEEzMzNAAAAUQsBMYcBRD/xAMzMzQAAAFEJJcSDALhTNQDMzM0AAABRCc/eVv0Q5p0AzMzNAAAAUQu3j0D7GsYxAMzMzQAAAFEJL9whAzRB+QDMzM0AAABRCaiN7QM0QfkAzMzNAAAAUQhz/tEDGsYxAMzMzQAAAFEI4i+dARDmnQDMzM0AAABRCACMJQS4UzUAzMzNAAAAUQt1ZGUFRD/xAMzMzQAAAFEL5eCNB2bcYQTMzM0AAABRCvekmQZoNNUEzMzNAAAAUQkSKBMFEigRBMzMzQAAAGELaDajAWw1CQDMzM0AAABxC2g2owFsNQkAAAAAAAAAgQtoNqMBbDUJAMzMzQAAAJEKaDTVBWw1CQDMzM0AAAChC8ZBlQUSKBEEzMzNAAAAsQvGQZUFEigRBAAAAAAAAMELxkGVBRIoEQTMzM0AAADRCRIoEwfGQZUEzMzNAAAA4QkSKBMFEigRBMzMzQAAAPEJEigTBRIoEQQAAAAAAAEBCRIoEwUSKBEEzMzNAAABEQvGQZUFEigRBMzMzQAAASELxkGVB8ZBlQTMzM0AAAExC8ZBlQfGQZUEAAAAAAABQQvGQZUHxkGVBMzMzQAAAVELaDajA78ucQTMzM0AAAFhCRIoEwfGQZUEzMzNAAABcQkSKBMHxkGVBAAAAAAAAYEJEigTB8ZBlQTMzM0AAAGRC8ZBlQfGQZUEzMzNAAABoQpoNNUHvy5xBMzMzQAAAbEKaDTVB78ucQQAAAAAAAHBCmg01Qe/LnEEzMzNAAAB0QgAAACiaDbVBMzMzQAAAeELaDajA78ucQTMzM0AAAHxC2g2owO/LnEEAAAAAAACAQtoNqMDvy5xBMzMzQAAAgkKaDTVB78ucQTMzM0AAAIRCWw3CQJoNtUEzMzNAAACGQlsNwkCaDbVBAAAAAAAAiEJbDcJAmg21QTMzM0AAAIpCWw3CQJoNtUEzMzNAAACMQgAAACiaDbVBMzMzQAAAjkIAAAAomg21QQAAAAAAAJBCAAAAKJoNtUEzMzNAAACSQvl4I0FbY1FBMzMzQAAAlELdWRlBjBNsQTMzM0AAAJRCACMJQY/IgUEzMzNAAACUQjiL50BJP4tBMzMzQAAAlEIc/7RAKeGRQTMzM0AAAJRCaiN7QIFLlUEzMzNAAACUQkv3CECBS5VBMzMzQAAAlELt49A+KeGRQTMzM0AAAJRCc/eVv0k/i0EzMzNAAACUQklxIMCPyIFBMzMzQAAAlELATGHAjBNsQTMzM0AAAJRCmOSEwFtjUUEzMzNAAACUQh/Gi8CaDTVBMzMzQAAAlEKY5ITA2bcYQTMzM0AAAJRCwExhwFEP/EAzMzNAAACUQklxIMAuFM1AMzMzQAAAlEJz95W/RDmnQDMzM0AAAJRC7ePQPsaxjEAzMzNAAACUQkv3CEDNEH5AMzMzQAAAlEJqI3tAzRB+QDMzM0AAAJRCHP+0QMaxjEAzMzNAAACUQjiL50BEOadAMzMzQAAAlEIAIwlBLhTNQDMzM0AAAJRC3VkZQVEP/EAzMzNAAACUQvl4I0HZtxhBMzMzQAAAlEK96SZBmg01QTMzM0AAAJRCvekmQZoNNUEzMzNAAACWQvl4I0FbY1FBAAAAAAAAmELdWRlBjBNsQQAAAAAAAJhCACMJQY/IgUEAAAAAAACYQjiL50BJP4tBAAAAAAAAmEIc/7RAKeGRQQAAAAAAAJhCaiN7QIFLlUEAAAAAAACYQkv3CECBS5VBAAAAAAAAmELt49A+KeGRQQAAAAAAAJhCc/eVv0k/i0EAAAAAAACYQklxIMCPyIFBAAAAAAAAmELATGHAjBNsQQAAAAAAAJhCmOSEwFtjUUEAAAAAAACYQh/Gi8CaDTVBAAAAAAAAmEKY5ITA2bcYQQAAAAAAAJhCwExhwFEP/EAAAAAAAACYQklxIMAuFM1AAAAAAAAAmEJz95W/RDmnQAAAAAAAAJhC7ePQPsaxjEAAAAAAAACYQkv3CEDNEH5AAAAAAAAAmEJqI3tAzRB+QAAAAAAAAJhCHP+0QMaxjEAAAAAAAACYQjiL50BEOadAAAAAAAAAmEIAIwlBLhTNQAAAAAAAAJhC3VkZQVEP/EAAAAAAAACYQvl4I0HZtxhBAAAAAAAAmEK96SZBmg01QQAAAAAAAJhCvekmQZoNNUEzMzNAAACaQg=="
        ],
        "funcdim": 0,
        "funcmax": 1,
        "funcmin": 0,
        "have_normals": true,
        "mesh_center": [
         3.0320651133760297,
         11.315821054976436,
         1.4
        ],
        "mesh_dim": 3,
        "mesh_radius": 16.064109446106748,
        "mesh_regions_2d": 78,
        "names": [
         "",
         "",
         "",
         "",
         "",
         "",
         "",
         "",
         "",
         "",
         "",
         "",
         "",
         "",
         ""
        ],
        "ngsolve_version": "Netgen x.x",
        "order2d": 1,
        "order3d": 0,
        "show_mesh": true,
        "show_wireframe": true,
        "solid_face_map": [
         [
          0,
          1,
          2,
          3,
          4,
          5,
          6,
          7,
          8,
          9,
          10,
          11,
          12,
          13,
          14
         ]
        ],
        "solid_names": [
         ""
        ]
       }
      }
     },
     "226db2a10dbf4183bf8865d1dd17691f": {
      "model_module": "webgui_jupyter_widgets",
      "model_module_version": "0.2.14",
      "model_name": "WebguiModel",
      "state": {
       "layout": "IPY_MODEL_3065c128f60d489d9279a7761d45d033",
       "value": {
        "Bezier_points": [],
        "Bezier_trig_points": [
         "mg01QVsNQkAAAAAAAAAAAJoNNUFbDUJAAAAAAAAAAACaDTVBWw1CQAAAAAAAAAAA8ZBlQfGQZUEAAAAAAAAAAPGQZUHxkGVBAAAAAAAAAADxkGVB8ZBlQQAAAAAAAAAAmg01Qe/LnEEAAAAAAAAAAJoNNUHvy5xBAAAAAAAAAACaDTVB78ucQQAAAAAAAAAAmg01Qe/LnEEAAAAAAAAAAA==",
         "AAAAAAAAAAAAAAAAAAAAAESKBMFEigRBAAAAAAAAAADaDajAWw1CQAAAAAAAAAAAmg01QVsNQkAAAAAAAAAAAESKBMHxkGVBAAAAAAAAAABEigTBRIoEQQAAAAAAAAAAWw3CQJoNtUEAAAAAAAAAAAAAACiaDbVBAAAAAAAAAADaDajA78ucQQAAAAAAAAAARIoEwfGQZUEAAAAAAAAAAA==",
         "Ww3CQAAAAAAAAAAAAAAAANoNqMBbDUJAAAAAAAAAAAAAAAAAAAAAAAAAAAAAAAAA8ZBlQUSKBEEAAAAAAAAAAESKBMFEigRBAAAAAAAAAACaDTVBWw1CQAAAAAAAAAAAAAAAKJoNtUEAAAAAAAAAANoNqMDvy5xBAAAAAAAAAABEigTB8ZBlQQAAAAAAAAAA8ZBlQfGQZUEAAAAAAAAAAA==",
         "AAAAAAAAAAAAAIA/AAAAAAAAAAAAAIA/AAAAAAAAAAAAAIA/AAAAAAAAAAAAAIA/AAAAAAAAAAAAAIA/AAAAAAAAAAAAAIA/AAAAAAAAAAAAAIA/AAAAAAAAAAAAAIA/AAAAAAAAAAAAAIA/AAAAAAAAAAAAAIA/",
         "AAAAAAAAAAAAAIA/AAAAAAAAAAAAAIA/AAAAAAAAAAAAAIA/AAAAAAAAAAAAAIA/AAAAAAAAAAAAAIA/AAAAAAAAAAAAAIA/AAAAAAAAAAAAAIA/AAAAAAAAAAAAAIA/AAAAAAAAAAAAAIA/AAAAAAAAAAAAAIA/",
         "AAAAAAAAAAAAAIA/AAAAAAAAAAAAAIA/AAAAAAAAAAAAAIA/AAAAAAAAAAAAAIA/AAAAAAAAAAAAAIA/AAAAAAAAAAAAAIA/AAAAAAAAAAAAAIA/AAAAAAAAAAAAAIA/AAAAAAAAAAAAAIA/AAAAAAAAAAAAAIA/"
        ],
        "autoscale": false,
        "colors": [
         [
          0,
          1,
          0
         ]
        ],
        "draw_surf": true,
        "draw_vol": false,
        "edge_colors": [
         [
          0,
          0,
          0
         ],
         [
          0,
          0,
          0
         ],
         [
          0,
          0,
          0
         ],
         [
          0,
          0,
          0
         ],
         [
          0,
          0,
          0
         ],
         [
          0,
          0,
          0
         ],
         [
          0,
          0,
          0
         ],
         [
          0,
          0,
          0
         ],
         [
          0,
          0,
          0
         ],
         [
          0,
          0,
          0
         ],
         [
          0,
          0,
          0
         ],
         [
          0,
          0,
          0
         ]
        ],
        "edge_names": [
         "",
         "",
         "",
         "",
         "",
         "",
         "",
         "",
         "",
         "",
         "",
         ""
        ],
        "edges": [
         "AAAAAAAAAAAAAAAAAAAAAFsNwkAAAAAAAAAAAAAAgD+aDTVBWw1CQAAAAAAAAABA8ZBlQUSKBEEAAAAAAABAQPGQZUHxkGVBAAAAAAAAgECaDTVB78ucQQAAAAAAAKBAWw3CQJoNtUEAAAAAAADAQAAAACiaDbVBAAAAAAAA4EDaDajA78ucQQAAAAAAAABBRIoEwfGQZUEAAAAAAAAQQUSKBMFEigRBAAAAAAAAIEHaDajAWw1CQAAAAAAAADBB",
         "Ww3CQAAAAAAAAAAAAAAAAJoNNUFbDUJAAAAAAAAAgD/xkGVBRIoEQQAAAAAAAABA8ZBlQfGQZUEAAAAAAABAQJoNNUHvy5xBAAAAAAAAgEBbDcJAmg21QQAAAAAAAKBAAAAAKJoNtUEAAAAAAADAQNoNqMDvy5xBAAAAAAAA4EBEigTB8ZBlQQAAAAAAAABBRIoEwUSKBEEAAAAAAAAQQdoNqMBbDUJAAAAAAAAAIEEAAAAAAAAAAAAAAAAAADBB"
        ],
        "funcdim": 0,
        "funcmax": 1,
        "funcmin": 0,
        "have_normals": true,
        "mesh_center": [
         3.0320651133760297,
         11.315821054976436,
         0
        ],
        "mesh_dim": 3,
        "mesh_radius": 16.0029876053347,
        "mesh_regions_2d": 12,
        "names": [
         ""
        ],
        "ngsolve_version": "Netgen x.x",
        "order2d": 1,
        "order3d": 0,
        "show_mesh": true,
        "show_wireframe": true,
        "solid_face_map": [],
        "solid_names": []
       }
      }
     },
     "3065c128f60d489d9279a7761d45d033": {
      "model_module": "@jupyter-widgets/base",
      "model_module_version": "2.0.0",
      "model_name": "LayoutModel",
      "state": {
       "height": "50vh",
       "width": "100%"
      }
     },
     "54d2b023c1ee4233aa256a407ef0b0b8": {
      "model_module": "@jupyter-widgets/base",
      "model_module_version": "2.0.0",
      "model_name": "LayoutModel",
      "state": {
       "height": "50vh",
       "width": "100%"
      }
     },
     "5850ef23e391463d8728c0b051d1e100": {
      "model_module": "@jupyter-widgets/base",
      "model_module_version": "2.0.0",
      "model_name": "LayoutModel",
      "state": {
       "height": "50vh",
       "width": "100%"
      }
     },
     "653854c36bad4fdea2be45b93f1f794c": {
      "model_module": "@jupyter-widgets/base",
      "model_module_version": "2.0.0",
      "model_name": "LayoutModel",
      "state": {
       "height": "50vh",
       "width": "100%"
      }
     },
     "7458c4cbb8534e9580714139ba223b22": {
      "model_module": "webgui_jupyter_widgets",
      "model_module_version": "0.2.14",
      "model_name": "WebguiModel",
      "state": {
       "layout": "IPY_MODEL_9cbcefd215d34500acf7e0f21973e240",
       "value": {
        "Bezier_points": [
         {},
         {}
        ],
        "Bezier_trig_points": [
         {},
         {},
         {}
        ],
        "autoscale": true,
        "deformation": false,
        "draw_surf": null,
        "draw_vol": null,
        "edge_names": [
         "default",
         "default",
         "default",
         "default",
         "default",
         "default",
         "default",
         "default",
         "default",
         "default",
         "default",
         "default",
         "default",
         "default",
         "default",
         "default",
         "default",
         "default",
         "default",
         "default",
         "default",
         "default",
         "default",
         "default",
         "default",
         "default",
         "default",
         "default",
         "default",
         "default",
         "default",
         "default",
         "default",
         "default",
         "default",
         "default",
         "default",
         "default",
         "default",
         "default",
         "default",
         "default",
         "default",
         "default",
         "default",
         "default",
         "default",
         "default",
         "default",
         "default",
         "default",
         "default",
         "default",
         "default",
         "default",
         "default",
         "default",
         "default",
         "default",
         "default",
         "default",
         "default",
         "default",
         "default",
         "default",
         "default",
         "default",
         "default",
         "default",
         "default",
         "default",
         "default",
         "default",
         "default",
         "default",
         "default",
         "default",
         "default",
         "default",
         "default",
         "default",
         "default",
         "default",
         "default",
         "default",
         "default",
         "default",
         "default",
         "default",
         "default",
         "default",
         "default",
         "default",
         "default",
         "default",
         "default",
         "default",
         "default",
         "default",
         "default",
         "default",
         "default",
         "default",
         "default",
         "default",
         "default",
         "default",
         "default",
         "default",
         "default",
         "default",
         "default",
         "default",
         "default",
         "default",
         "default",
         "default",
         "default",
         "default",
         "default",
         "default",
         "default",
         "default",
         "default",
         "default",
         "default",
         "default",
         "default",
         "default",
         "default",
         "default",
         "default",
         "default",
         "default",
         "default",
         "default",
         "default",
         "default",
         "default",
         "default",
         "default",
         "default",
         "default",
         "default"
        ],
        "edges": [
         {},
         {}
        ],
        "funcdim": 0,
        "gui_settings": {},
        "mesh_center": [
         0,
         0,
         0
        ],
        "mesh_dim": 3,
        "mesh_radius": 1732.0508075688772,
        "mesh_regions_2d": 26,
        "mesh_regions_3d": 4,
        "names": [
         "frame_outer",
         "inner",
         "inner",
         "frame_outer",
         "frame_outer",
         "frame_outer",
         "frame_outer",
         "frame_outer",
         "frame_outer",
         "frame_outer",
         "frame_outer",
         "frame_outer",
         "frame_outer",
         "frame_outer",
         "frame_outer",
         "frame_outer",
         "frame_outer",
         "outer",
         "outer",
         "outer",
         "outer",
         "outer",
         "outer",
         "mapped_frame_outer",
         "mapped_inner",
         "mapped_inner"
        ],
        "ngsolve_version": "6.2.2301",
        "objects": [],
        "order2d": 1,
        "order3d": 1,
        "show_mesh": true,
        "show_wireframe": true
       }
      }
     },
     "7c6268ff384f448bbef4ec5011501cf3": {
      "model_module": "@jupyter-widgets/base",
      "model_module_version": "2.0.0",
      "model_name": "LayoutModel",
      "state": {
       "height": "50vh",
       "width": "100%"
      }
     },
     "8ba5bdda4db34b04b55587e7cd6f2a58": {
      "model_module": "@jupyter-widgets/base",
      "model_module_version": "2.0.0",
      "model_name": "LayoutModel",
      "state": {
       "height": "50vh",
       "width": "100%"
      }
     },
     "9cbcefd215d34500acf7e0f21973e240": {
      "model_module": "@jupyter-widgets/base",
      "model_module_version": "2.0.0",
      "model_name": "LayoutModel",
      "state": {
       "height": "50vh",
       "width": "100%"
      }
     },
     "a068e8c476d946fe829cb7403333a0d5": {
      "model_module": "@jupyter-widgets/base",
      "model_module_version": "2.0.0",
      "model_name": "LayoutModel",
      "state": {
       "height": "50vh",
       "width": "100%"
      }
     },
     "b4467c5c6da04565a02df42223bdfa57": {
      "model_module": "webgui_jupyter_widgets",
      "model_module_version": "0.2.14",
      "model_name": "WebguiModel",
      "state": {
       "layout": "IPY_MODEL_8ba5bdda4db34b04b55587e7cd6f2a58",
       "value": {
        "Bezier_points": [
         {},
         {}
        ],
        "Bezier_trig_points": [
         {},
         {},
         {}
        ],
        "autoscale": true,
        "deformation": false,
        "draw_surf": null,
        "draw_vol": null,
        "edge_names": [
         "default",
         "default",
         "default",
         "default",
         "default",
         "default",
         "default",
         "default",
         "default",
         "default",
         "default",
         "default",
         "default",
         "default",
         "default",
         "default",
         "default",
         "default",
         "default",
         "default",
         "default",
         "default",
         "default",
         "default",
         "default",
         "default",
         "default",
         "default",
         "default",
         "default",
         "default",
         "default",
         "default",
         "default",
         "default",
         "default",
         "default",
         "default",
         "default",
         "default",
         "default",
         "default",
         "default",
         "default",
         "default",
         "default",
         "default",
         "default",
         "default",
         "default",
         "default",
         "default",
         "default",
         "default",
         "default",
         "default",
         "default",
         "default",
         "default",
         "default",
         "default",
         "default",
         "default",
         "default",
         "default",
         "default",
         "default",
         "default",
         "default",
         "default",
         "default",
         "default",
         "default",
         "default",
         "default",
         "default",
         "default",
         "default",
         "default",
         "default",
         "default",
         "default",
         "default",
         "default",
         "default",
         "default",
         "default",
         "default",
         "default",
         "default",
         "default",
         "default",
         "default",
         "default",
         "default",
         "default",
         "default",
         "default",
         "default",
         "default",
         "default",
         "default",
         "default",
         "default",
         "default",
         "default",
         "default",
         "default",
         "default",
         "default",
         "default",
         "default",
         "default",
         "default",
         "default",
         "default",
         "default",
         "default",
         "default",
         "default",
         "default",
         "default",
         "default",
         "default",
         "default",
         "default",
         "default",
         "default",
         "default",
         "default",
         "default",
         "default",
         "default",
         "default",
         "default",
         "default",
         "default",
         "default",
         "default",
         "default",
         "default",
         "default",
         "default",
         "default"
        ],
        "edges": [
         {},
         {}
        ],
        "funcdim": 0,
        "gui_settings": {},
        "mesh_center": [
         0,
         0,
         0
        ],
        "mesh_dim": 3,
        "mesh_radius": 1732.0508075688772,
        "mesh_regions_2d": 26,
        "mesh_regions_3d": 4,
        "names": [
         "frame_outer",
         "inner",
         "inner",
         "frame_outer",
         "frame_outer",
         "frame_outer",
         "frame_outer",
         "frame_outer",
         "frame_outer",
         "frame_outer",
         "frame_outer",
         "frame_outer",
         "frame_outer",
         "frame_outer",
         "frame_outer",
         "frame_outer",
         "frame_outer",
         "outer",
         "outer",
         "outer",
         "outer",
         "outer",
         "outer",
         "mapped_frame_outer",
         "mapped_inner",
         "mapped_inner"
        ],
        "ngsolve_version": "6.2.2204",
        "objects": [],
        "order2d": 1,
        "order3d": 1,
        "show_mesh": true,
        "show_wireframe": true
       }
      }
     },
     "d02a4b10937946889559c73ed29b61db": {
      "model_module": "@jupyter-widgets/base",
      "model_module_version": "2.0.0",
      "model_name": "LayoutModel",
      "state": {
       "height": "50vh",
       "width": "100%"
      }
     },
     "d696327af48340cab95e3db5279bf316": {
      "model_module": "webgui_jupyter_widgets",
      "model_module_version": "0.2.14",
      "model_name": "WebguiModel",
      "state": {
       "layout": "IPY_MODEL_e919d784f05649b195fbefe1ccf2baef",
       "value": {
        "Bezier_points": [],
        "Bezier_trig_points": [
         "Ww3CQAAAAAAAAAAAAAAAAFsNwkAAAAAAAAAAAAAAAACaDTVBWw1CQAAAAAAAAIA/mg01QVsNQkAAAAAAAACAP/GQZUFEigRBAAAAAAAAAEDxkGVBRIoEQQAAAAAAAABA8ZBlQfGQZUEAAAAAAABAQPGQZUHxkGVBAAAAAAAAQECaDTVB78ucQQAAAAAAAIBAmg01Qe/LnEEAAAAAAACAQFsNwkCaDbVBAAAAAAAAoEBbDcJAmg21QQAAAAAAAKBAAAAAKJoNtUEAAAAAAADAQAAAACiaDbVBAAAAAAAAwEDaDajA78ucQQAAAAAAAOBA2g2owO/LnEEAAAAAAADgQESKBMHxkGVBAAAAAAAAAEFEigTB8ZBlQQAAAAAAAABBRIoEwUSKBEEAAAAAAAAQQUSKBMFEigRBAAAAAAAAEEHaDajAWw1CQAAAAAAAACBB2g2owFsNQkAAAAAAAAAgQQAAAAAAAAAAAAAAAAAAMEEAAAAAAAAAAAAAAAAAADBBmg01QVsNQkAAAAAAAABAQZoNNUFbDUJAAAAAAAAAQEGaDTVBWw1CQAAAAAAAAEBB8ZBlQfGQZUEAAAAAAABAQfGQZUHxkGVBAAAAAAAAQEHxkGVB8ZBlQQAAAAAAAEBBmg01Qe/LnEEAAAAAAABAQZoNNUHvy5xBAAAAAAAAQEGaDTVB78ucQQAAAAAAAEBBmg01Qe/LnEEAAAAAAABAQZoNNUFbDUJAMzMzQAAAUEGaDTVBWw1CQDMzM0AAAFBBmg01QVsNQkAzMzNAAABQQfGQZUHxkGVBMzMzQAAAUEHxkGVB8ZBlQTMzM0AAAFBB8ZBlQfGQZUEzMzNAAABQQZoNNUHvy5xBMzMzQAAAUEGaDTVB78ucQTMzM0AAAFBBmg01Qe/LnEEzMzNAAABQQZoNNUHvy5xBMzMzQAAAUEE=",
         "AAAAAAAAAAAzMzNAAAAAAFsNwkAAAAAAMzMzQAAAAABbDcJAAAAAADMzM0AAAIA/mg01QVsNQkAzMzNAAACAP5oNNUFbDUJAMzMzQAAAAEDxkGVBRIoEQTMzM0AAAABA8ZBlQUSKBEEzMzNAAABAQPGQZUHxkGVBMzMzQAAAQEDxkGVB8ZBlQTMzM0AAAIBAmg01Qe/LnEEzMzNAAACAQJoNNUHvy5xBMzMzQAAAoEBbDcJAmg21QTMzM0AAAKBAWw3CQJoNtUEzMzNAAADAQAAAACiaDbVBMzMzQAAAwEAAAAAomg21QTMzM0AAAOBA2g2owO/LnEEzMzNAAADgQNoNqMDvy5xBMzMzQAAAAEFEigTB8ZBlQTMzM0AAAABBRIoEwfGQZUEzMzNAAAAQQUSKBMFEigRBMzMzQAAAEEFEigTBRIoEQTMzM0AAACBB2g2owFsNQkAzMzNAAAAgQdoNqMBbDUJAMzMzQAAAMEEAAAAAAAAAADMzM0AAADBBWw3CQAAAAAAAAAAAAABAQdoNqMBbDUJAAAAAAAAAQEEAAAAAAAAAAAAAAAAAAEBB8ZBlQUSKBEEAAAAAAABAQUSKBMFEigRBAAAAAAAAQEGaDTVBWw1CQAAAAAAAAEBBAAAAKJoNtUEAAAAAAABAQdoNqMDvy5xBAAAAAAAAQEFEigTB8ZBlQQAAAAAAAEBB8ZBlQfGQZUEAAAAAAABAQQAAAAAAAAAAMzMzQAAAUEFEigTBRIoEQTMzM0AAAFBB2g2owFsNQkAzMzNAAABQQZoNNUFbDUJAMzMzQAAAUEFEigTB8ZBlQTMzM0AAAFBBRIoEwUSKBEEzMzNAAABQQVsNwkCaDbVBMzMzQAAAUEEAAAAomg21QTMzM0AAAFBB2g2owO/LnEEzMzNAAABQQUSKBMHxkGVBMzMzQAAAUEE=",
         "AAAAAAAAAAAAAAAAAAAAAAAAAAAAAAAAMzMzQAAAAABbDcJAAAAAAAAAAAAAAIA/Ww3CQAAAAAAzMzNAAACAP5oNNUFbDUJAAAAAAAAAAECaDTVBWw1CQDMzM0AAAABA8ZBlQUSKBEEAAAAAAABAQPGQZUFEigRBMzMzQAAAQEDxkGVB8ZBlQQAAAAAAAIBA8ZBlQfGQZUEzMzNAAACAQJoNNUHvy5xBAAAAAAAAoECaDTVB78ucQTMzM0AAAKBAWw3CQJoNtUEAAAAAAADAQFsNwkCaDbVBMzMzQAAAwEAAAAAomg21QQAAAAAAAOBAAAAAKJoNtUEzMzNAAADgQNoNqMDvy5xBAAAAAAAAAEHaDajA78ucQTMzM0AAAABBRIoEwfGQZUEAAAAAAAAQQUSKBMHxkGVBMzMzQAAAEEFEigTBRIoEQQAAAAAAACBBRIoEwUSKBEEzMzNAAAAgQdoNqMBbDUJAAAAAAAAAMEHaDajAWw1CQDMzM0AAADBBAAAAAAAAAAAAAAAAAABAQUSKBMFEigRBAAAAAAAAQEHaDajAWw1CQAAAAAAAAEBBmg01QVsNQkAAAAAAAABAQUSKBMHxkGVBAAAAAAAAQEFEigTBRIoEQQAAAAAAAEBBWw3CQJoNtUEAAAAAAABAQQAAACiaDbVBAAAAAAAAQEHaDajA78ucQQAAAAAAAEBBRIoEwfGQZUEAAAAAAABAQVsNwkAAAAAAMzMzQAAAUEHaDajAWw1CQDMzM0AAAFBBAAAAAAAAAAAzMzNAAABQQfGQZUFEigRBMzMzQAAAUEFEigTBRIoEQTMzM0AAAFBBmg01QVsNQkAzMzNAAABQQQAAACiaDbVBMzMzQAAAUEHaDajA78ucQTMzM0AAAFBBRIoEwfGQZUEzMzNAAABQQfGQZUHxkGVBMzMzQAAAUEE=",
         "AAAAAAAAgL8AAACAAAAAAAAAgL8AAACAAAAAP9ezXb8AAACAAAAAP9ezXb8AAACA17NdPwAAAL8AAACA17NdPwAAAL8AAACAAACAP6DcqKUAAACAAACAP6DcqKUAAACA17NdPwAAAD8AAACA17NdPwAAAD8AAACAAAAAP9ezXT8AAACAAAAAP9ezXT8AAACAoNwoJgAAgD8AAACAoNwoJgAAgD8AAACAAAAAv9ezXT8AAACAAAAAv9ezXT8AAACA17NdvwAAAD8AAACA17NdvwAAAD8AAACAAACAv+9KfSYAAACAAACAv+9KfSYAAACA17NdvwAAAL8AAACA17NdvwAAAL8AAACAAAAAv9ezXb8AAACAAAAAv9ezXb8AAACAAAAAgAAAAIAAAIC/AAAAgAAAAIAAAIC/AAAAgAAAAIAAAIC/AAAAgAAAAIAAAIC/AAAAgAAAAIAAAIC/AAAAgAAAAIAAAIC/AAAAgAAAAIAAAIC/AAAAgAAAAIAAAIC/AAAAgAAAAIAAAIC/AAAAgAAAAIAAAIC/AAAAAAAAAAAAAIA/AAAAAAAAAAAAAIA/AAAAAAAAAAAAAIA/AAAAAAAAAAAAAIA/AAAAAAAAAAAAAIA/AAAAAAAAAAAAAIA/AAAAAAAAAAAAAIA/AAAAAAAAAAAAAIA/AAAAAAAAAAAAAIA/AAAAAAAAAAAAAIA/",
         "AAAAAAAAgL8AAACAAAAAAAAAgL8AAACAAAAAP9ezXb8AAACAAAAAP9ezXb8AAACA17NdPwAAAL8AAACA17NdPwAAAL8AAACAAACAP6DcqKUAAACAAACAP6DcqKUAAACA17NdPwAAAD8AAACA17NdPwAAAD8AAACAAAAAP9ezXT8AAACAAAAAP9ezXT8AAACAoNwoJgAAgD8AAACAoNwoJgAAgD8AAACAAAAAv9ezXT8AAACAAAAAv9ezXT8AAACA17NdvwAAAD8AAACA17NdvwAAAD8AAACAAACAv+9KfSYAAACAAACAv+9KfSYAAACA17NdvwAAAL8AAACA17NdvwAAAL8AAACAAAAAv9ezXb8AAACAAAAAv9ezXb8AAACAAAAAgAAAAIAAAIC/AAAAgAAAAIAAAIC/AAAAgAAAAIAAAIC/AAAAgAAAAIAAAIC/AAAAgAAAAIAAAIC/AAAAgAAAAIAAAIC/AAAAgAAAAIAAAIC/AAAAgAAAAIAAAIC/AAAAgAAAAIAAAIC/AAAAgAAAAIAAAIC/AAAAAAAAAAAAAIA/AAAAAAAAAAAAAIA/AAAAAAAAAAAAAIA/AAAAAAAAAAAAAIA/AAAAAAAAAAAAAIA/AAAAAAAAAAAAAIA/AAAAAAAAAAAAAIA/AAAAAAAAAAAAAIA/AAAAAAAAAAAAAIA/AAAAAAAAAAAAAIA/",
         "AAAAAAAAgL8AAACAAAAAAAAAgL8AAACAAAAAP9ezXb8AAACAAAAAP9ezXb8AAACA17NdPwAAAL8AAACA17NdPwAAAL8AAACAAACAP6DcqKUAAACAAACAP6DcqKUAAACA17NdPwAAAD8AAACA17NdPwAAAD8AAACAAAAAP9ezXT8AAACAAAAAP9ezXT8AAACAoNwoJgAAgD8AAACAoNwoJgAAgD8AAACAAAAAv9ezXT8AAACAAAAAv9ezXT8AAACA17NdvwAAAD8AAACA17NdvwAAAD8AAACAAACAv+9KfSYAAACAAACAv+9KfSYAAACA17NdvwAAAL8AAACA17NdvwAAAL8AAACAAAAAv9ezXb8AAACAAAAAv9ezXb8AAACAAAAAgAAAAIAAAIC/AAAAgAAAAIAAAIC/AAAAgAAAAIAAAIC/AAAAgAAAAIAAAIC/AAAAgAAAAIAAAIC/AAAAgAAAAIAAAIC/AAAAgAAAAIAAAIC/AAAAgAAAAIAAAIC/AAAAgAAAAIAAAIC/AAAAgAAAAIAAAIC/AAAAAAAAAAAAAIA/AAAAAAAAAAAAAIA/AAAAAAAAAAAAAIA/AAAAAAAAAAAAAIA/AAAAAAAAAAAAAIA/AAAAAAAAAAAAAIA/AAAAAAAAAAAAAIA/AAAAAAAAAAAAAIA/AAAAAAAAAAAAAIA/AAAAAAAAAAAAAIA/"
        ],
        "autoscale": false,
        "colors": [
         [
          0,
          1,
          0
         ],
         [
          0,
          1,
          0
         ],
         [
          0,
          1,
          0
         ],
         [
          0,
          1,
          0
         ],
         [
          0,
          1,
          0
         ],
         [
          0,
          1,
          0
         ],
         [
          0,
          1,
          0
         ],
         [
          0,
          1,
          0
         ],
         [
          0,
          1,
          0
         ],
         [
          0,
          1,
          0
         ],
         [
          0,
          1,
          0
         ],
         [
          0,
          1,
          0
         ],
         [
          0,
          1,
          0
         ],
         [
          0,
          1,
          0
         ]
        ],
        "draw_surf": true,
        "draw_vol": false,
        "edge_colors": [
         [
          0,
          0,
          0
         ],
         [
          0,
          0,
          0
         ],
         [
          0,
          0,
          0
         ],
         [
          0,
          0,
          0
         ],
         [
          0,
          0,
          0
         ],
         [
          0,
          0,
          0
         ],
         [
          0,
          0,
          0
         ],
         [
          0,
          0,
          0
         ],
         [
          0,
          0,
          0
         ],
         [
          0,
          0,
          0
         ],
         [
          0,
          0,
          0
         ],
         [
          0,
          0,
          0
         ],
         [
          0,
          0,
          0
         ],
         [
          0,
          0,
          0
         ],
         [
          0,
          0,
          0
         ],
         [
          0,
          0,
          0
         ],
         [
          0,
          0,
          0
         ],
         [
          0,
          0,
          0
         ],
         [
          0,
          0,
          0
         ],
         [
          0,
          0,
          0
         ],
         [
          0,
          0,
          0
         ],
         [
          0,
          0,
          0
         ],
         [
          0,
          0,
          0
         ],
         [
          0,
          0,
          0
         ],
         [
          0,
          0,
          0
         ],
         [
          0,
          0,
          0
         ],
         [
          0,
          0,
          0
         ],
         [
          0,
          0,
          0
         ],
         [
          0,
          0,
          0
         ],
         [
          0,
          0,
          0
         ],
         [
          0,
          0,
          0
         ],
         [
          0,
          0,
          0
         ],
         [
          0,
          0,
          0
         ],
         [
          0,
          0,
          0
         ],
         [
          0,
          0,
          0
         ],
         [
          0,
          0,
          0
         ],
         [
          0,
          0,
          0
         ],
         [
          0,
          0,
          0
         ],
         [
          0,
          0,
          0
         ],
         [
          0,
          0,
          0
         ],
         [
          0,
          0,
          0
         ],
         [
          0,
          0,
          0
         ],
         [
          0,
          0,
          0
         ],
         [
          0,
          0,
          0
         ],
         [
          0,
          0,
          0
         ],
         [
          0,
          0,
          0
         ],
         [
          0,
          0,
          0
         ],
         [
          0,
          0,
          0
         ],
         [
          0,
          0,
          0
         ],
         [
          0,
          0,
          0
         ],
         [
          0,
          0,
          0
         ],
         [
          0,
          0,
          0
         ],
         [
          0,
          0,
          0
         ],
         [
          0,
          0,
          0
         ],
         [
          0,
          0,
          0
         ],
         [
          0,
          0,
          0
         ],
         [
          0,
          0,
          0
         ],
         [
          0,
          0,
          0
         ],
         [
          0,
          0,
          0
         ],
         [
          0,
          0,
          0
         ],
         [
          0,
          0,
          0
         ],
         [
          0,
          0,
          0
         ],
         [
          0,
          0,
          0
         ],
         [
          0,
          0,
          0
         ],
         [
          0,
          0,
          0
         ],
         [
          0,
          0,
          0
         ],
         [
          0,
          0,
          0
         ],
         [
          0,
          0,
          0
         ],
         [
          0,
          0,
          0
         ],
         [
          0,
          0,
          0
         ],
         [
          0,
          0,
          0
         ],
         [
          0,
          0,
          0
         ]
        ],
        "edge_names": [
         "",
         "",
         "",
         "",
         "",
         "",
         "",
         "",
         "",
         "",
         "",
         "",
         "",
         "",
         "",
         "",
         "",
         "",
         "",
         "",
         "",
         "",
         "",
         "",
         "",
         "",
         "",
         "",
         "",
         "",
         "",
         "",
         "",
         "",
         "",
         "",
         "",
         "",
         "",
         "",
         "",
         "",
         "",
         "",
         "",
         "",
         "",
         "",
         "",
         "",
         "",
         "",
         "",
         "",
         "",
         "",
         "",
         "",
         "",
         "",
         "",
         "",
         "",
         "",
         "",
         "",
         "",
         "",
         "",
         "",
         "",
         ""
        ],
        "edges": [
         "AAAAAAAAAAAAAAAAAAAAAFsNwkAAAAAAAAAAAAAAgD8AAAAAAAAAAAAAAAAAAABAAAAAAAAAAAAzMzNAAABAQFsNwkAAAAAAAAAAAAAAgECaDTVBWw1CQAAAAAAAAKBAWw3CQAAAAAAAAAAAAADAQFsNwkAAAAAAMzMzQAAA4ECaDTVBWw1CQAAAAAAAAABB8ZBlQUSKBEEAAAAAAAAQQZoNNUFbDUJAAAAAAAAAIEGaDTVBWw1CQDMzM0AAADBB8ZBlQUSKBEEAAAAAAABAQfGQZUHxkGVBAAAAAAAAUEHxkGVBRIoEQQAAAAAAAGBB8ZBlQUSKBEEzMzNAAABwQfGQZUHxkGVBAAAAAAAAgEGaDTVB78ucQQAAAAAAAIhB8ZBlQfGQZUEAAAAAAACQQfGQZUHxkGVBMzMzQAAAmEGaDTVB78ucQQAAAAAAAKBBWw3CQJoNtUEAAAAAAACoQZoNNUHvy5xBAAAAAAAAsEGaDTVB78ucQTMzM0AAALhBWw3CQJoNtUEAAAAAAADAQQAAACiaDbVBAAAAAAAAyEFbDcJAmg21QQAAAAAAANBBWw3CQJoNtUEzMzNAAADYQQAAACiaDbVBAAAAAAAA4EHaDajA78ucQQAAAAAAAOhBAAAAKJoNtUEAAAAAAADwQQAAACiaDbVBMzMzQAAA+EHaDajA78ucQQAAAAAAAABCRIoEwfGQZUEAAAAAAAAEQtoNqMDvy5xBAAAAAAAACELaDajA78ucQTMzM0AAAAxCRIoEwfGQZUEAAAAAAAAQQkSKBMFEigRBAAAAAAAAFEJEigTB8ZBlQQAAAAAAABhCRIoEwfGQZUEzMzNAAAAcQkSKBMFEigRBAAAAAAAAIELaDajAWw1CQAAAAAAAACRCRIoEwUSKBEEAAAAAAAAoQkSKBMFEigRBMzMzQAAALELaDajAWw1CQAAAAAAAADBCAAAAAAAAAAAAAAAAAAA0QtoNqMBbDUJAAAAAAAAAOELaDajAWw1CQDMzM0AAADxCAAAAAAAAAAAAAAAAAABAQlsNwkAAAAAAAAAAAAAAREKaDTVBWw1CQAAAAAAAAEhC8ZBlQUSKBEEAAAAAAABMQvGQZUHxkGVBAAAAAAAAUEKaDTVB78ucQQAAAAAAAFRCWw3CQJoNtUEAAAAAAABYQgAAACiaDbVBAAAAAAAAXELaDajA78ucQQAAAAAAAGBCRIoEwfGQZUEAAAAAAABkQkSKBMFEigRBAAAAAAAAaELaDajAWw1CQAAAAAAAAGxCAAAAAAAAAAAzMzNAAABwQlsNwkAAAAAAMzMzQAAAdEKaDTVBWw1CQDMzM0AAAHhC8ZBlQUSKBEEzMzNAAAB8QvGQZUHxkGVBMzMzQAAAgEKaDTVB78ucQTMzM0AAAIJCWw3CQJoNtUEzMzNAAACEQgAAACiaDbVBMzMzQAAAhkLaDajA78ucQTMzM0AAAIhCRIoEwfGQZUEzMzNAAACKQkSKBMFEigRBMzMzQAAAjELaDajAWw1CQDMzM0AAAI5C",
         "AAAAAAAAAAAzMzNAAAAAAFsNwkAAAAAAMzMzQAAAgD9bDcJAAAAAAAAAAAAAAABAWw3CQAAAAAAzMzNAAABAQFsNwkAAAAAAMzMzQAAAgECaDTVBWw1CQDMzM0AAAKBAmg01QVsNQkAAAAAAAADAQJoNNUFbDUJAMzMzQAAA4ECaDTVBWw1CQDMzM0AAAABB8ZBlQUSKBEEzMzNAAAAQQfGQZUFEigRBAAAAAAAAIEHxkGVBRIoEQTMzM0AAADBB8ZBlQUSKBEEzMzNAAABAQfGQZUHxkGVBMzMzQAAAUEHxkGVB8ZBlQQAAAAAAAGBB8ZBlQfGQZUEzMzNAAABwQfGQZUHxkGVBMzMzQAAAgEGaDTVB78ucQTMzM0AAAIhBmg01Qe/LnEEAAAAAAACQQZoNNUHvy5xBMzMzQAAAmEGaDTVB78ucQTMzM0AAAKBBWw3CQJoNtUEzMzNAAACoQVsNwkCaDbVBAAAAAAAAsEFbDcJAmg21QTMzM0AAALhBWw3CQJoNtUEzMzNAAADAQQAAACiaDbVBMzMzQAAAyEEAAAAomg21QQAAAAAAANBBAAAAKJoNtUEzMzNAAADYQQAAACiaDbVBMzMzQAAA4EHaDajA78ucQTMzM0AAAOhB2g2owO/LnEEAAAAAAADwQdoNqMDvy5xBMzMzQAAA+EHaDajA78ucQTMzM0AAAABCRIoEwfGQZUEzMzNAAAAEQkSKBMHxkGVBAAAAAAAACEJEigTB8ZBlQTMzM0AAAAxCRIoEwfGQZUEzMzNAAAAQQkSKBMFEigRBMzMzQAAAFEJEigTBRIoEQQAAAAAAABhCRIoEwUSKBEEzMzNAAAAcQkSKBMFEigRBMzMzQAAAIELaDajAWw1CQDMzM0AAACRC2g2owFsNQkAAAAAAAAAoQtoNqMBbDUJAMzMzQAAALELaDajAWw1CQDMzM0AAADBCAAAAAAAAAAAzMzNAAAA0QgAAAAAAAAAAAAAAAAAAOEIAAAAAAAAAADMzM0AAADxCWw3CQAAAAAAAAAAAAABAQpoNNUFbDUJAAAAAAAAARELxkGVBRIoEQQAAAAAAAEhC8ZBlQfGQZUEAAAAAAABMQpoNNUHvy5xBAAAAAAAAUEJbDcJAmg21QQAAAAAAAFRCAAAAKJoNtUEAAAAAAABYQtoNqMDvy5xBAAAAAAAAXEJEigTB8ZBlQQAAAAAAAGBCRIoEwUSKBEEAAAAAAABkQtoNqMBbDUJAAAAAAAAAaEIAAAAAAAAAAAAAAAAAAGxCWw3CQAAAAAAzMzNAAABwQpoNNUFbDUJAMzMzQAAAdELxkGVBRIoEQTMzM0AAAHhC8ZBlQfGQZUEzMzNAAAB8QpoNNUHvy5xBMzMzQAAAgEJbDcJAmg21QTMzM0AAAIJCAAAAKJoNtUEzMzNAAACEQtoNqMDvy5xBMzMzQAAAhkJEigTB8ZBlQTMzM0AAAIhCRIoEwUSKBEEzMzNAAACKQtoNqMBbDUJAMzMzQAAAjEIAAAAAAAAAADMzM0AAAI5C"
        ],
        "funcdim": 0,
        "funcmax": 1,
        "funcmin": 0,
        "have_normals": true,
        "mesh_center": [
         3.0320651133760297,
         11.315821054976436,
         1.4
        ],
        "mesh_dim": 3,
        "mesh_radius": 16.064109446106748,
        "mesh_regions_2d": 72,
        "names": [
         "",
         "",
         "",
         "",
         "",
         "",
         "",
         "",
         "",
         "",
         "",
         "",
         "",
         ""
        ],
        "ngsolve_version": "Netgen x.x",
        "order2d": 1,
        "order3d": 0,
        "show_mesh": true,
        "show_wireframe": true,
        "solid_face_map": [
         [
          0,
          1,
          2,
          3,
          4,
          5,
          6,
          7,
          8,
          9,
          10,
          11,
          12,
          13
         ]
        ],
        "solid_names": [
         ""
        ]
       }
      }
     },
     "de7fcabff1ad4247a3f71abd647192b5": {
      "model_module": "webgui_jupyter_widgets",
      "model_module_version": "0.2.14",
      "model_name": "WebguiModel",
      "state": {
       "layout": "IPY_MODEL_d02a4b10937946889559c73ed29b61db",
       "value": {
        "Bezier_points": [],
        "Bezier_trig_points": [
         "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",
         "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",
         "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",
         "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",
         "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",
         "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"
        ],
        "autoscale": false,
        "colors": [
         [
          0,
          1,
          0
         ],
         [
          0,
          1,
          0
         ],
         [
          0,
          1,
          0
         ],
         [
          0,
          1,
          0
         ],
         [
          0,
          1,
          0
         ],
         [
          0,
          1,
          0
         ],
         [
          0,
          1,
          0
         ],
         [
          0,
          1,
          0
         ],
         [
          0,
          1,
          0
         ],
         [
          0,
          1,
          0
         ],
         [
          0,
          1,
          0
         ],
         [
          0,
          1,
          0
         ],
         [
          0,
          1,
          0
         ],
         [
          0,
          1,
          0
         ],
         [
          0,
          1,
          0
         ],
         [
          0,
          1,
          0
         ],
         [
          0,
          1,
          0
         ]
        ],
        "draw_surf": true,
        "draw_vol": false,
        "edge_colors": [
         [
          0,
          0,
          0
         ],
         [
          0,
          0,
          0
         ],
         [
          0,
          0,
          0
         ],
         [
          0,
          0,
          0
         ],
         [
          0,
          0,
          0
         ],
         [
          0,
          0,
          0
         ],
         [
          0,
          0,
          0
         ],
         [
          0,
          0,
          0
         ],
         [
          0,
          0,
          0
         ],
         [
          0,
          0,
          0
         ],
         [
          0,
          0,
          0
         ],
         [
          0,
          0,
          0
         ],
         [
          0,
          0,
          0
         ],
         [
          0,
          0,
          0
         ],
         [
          0,
          0,
          0
         ],
         [
          0,
          0,
          0
         ],
         [
          0,
          0,
          0
         ],
         [
          0,
          0,
          0
         ],
         [
          0,
          0,
          0
         ],
         [
          0,
          0,
          0
         ],
         [
          0,
          0,
          0
         ],
         [
          0,
          0,
          0
         ],
         [
          0,
          0,
          0
         ],
         [
          0,
          0,
          0
         ],
         [
          0,
          0,
          0
         ],
         [
          0,
          0,
          0
         ],
         [
          0,
          0,
          0
         ],
         [
          0,
          0,
          0
         ],
         [
          0,
          0,
          0
         ],
         [
          0,
          0,
          0
         ],
         [
          0,
          0,
          0
         ],
         [
          0,
          0,
          0
         ],
         [
          0,
          0,
          0
         ],
         [
          0,
          0,
          0
         ],
         [
          0,
          0,
          0
         ],
         [
          0,
          0,
          0
         ],
         [
          0,
          0,
          0
         ],
         [
          0,
          0,
          0
         ],
         [
          0,
          0,
          0
         ],
         [
          0,
          0,
          0
         ],
         [
          0,
          0,
          0
         ],
         [
          0,
          0,
          0
         ],
         [
          0,
          0,
          0
         ],
         [
          0,
          0,
          0
         ],
         [
          0,
          0,
          0
         ],
         [
          0,
          0,
          0
         ],
         [
          0,
          0,
          0
         ],
         [
          0,
          0,
          0
         ],
         [
          0,
          0,
          0
         ],
         [
          0,
          0,
          0
         ],
         [
          0,
          0,
          0
         ],
         [
          0,
          0,
          0
         ],
         [
          0,
          0,
          0
         ],
         [
          0,
          0,
          0
         ],
         [
          0,
          0,
          0
         ],
         [
          0,
          0,
          0
         ],
         [
          0,
          0,
          0
         ],
         [
          0,
          0,
          0
         ],
         [
          0,
          0,
          0
         ],
         [
          0,
          0,
          0
         ],
         [
          0,
          0,
          0
         ],
         [
          0,
          0,
          0
         ],
         [
          0,
          0,
          0
         ],
         [
          0,
          0,
          0
         ],
         [
          0,
          0,
          0
         ],
         [
          0,
          0,
          0
         ],
         [
          0,
          0,
          0
         ],
         [
          0,
          0,
          0
         ],
         [
          0,
          0,
          0
         ],
         [
          0,
          0,
          0
         ],
         [
          0,
          0,
          0
         ],
         [
          0,
          0,
          0
         ],
         [
          0,
          0,
          0
         ],
         [
          0,
          0,
          0
         ],
         [
          0,
          0,
          0
         ],
         [
          0,
          0,
          0
         ],
         [
          0,
          0,
          0
         ],
         [
          0,
          0,
          0
         ],
         [
          0,
          0,
          0
         ],
         [
          0,
          0,
          0
         ],
         [
          0,
          0,
          0
         ],
         [
          0,
          0,
          0
         ],
         [
          0,
          0,
          0
         ],
         [
          0,
          0,
          0
         ]
        ],
        "edge_names": [
         "",
         "",
         "",
         "",
         "",
         "",
         "",
         "",
         "",
         "",
         "",
         "",
         "",
         "",
         "",
         "",
         "",
         "",
         "",
         "",
         "",
         "",
         "",
         "",
         "",
         "",
         "",
         "",
         "",
         "",
         "",
         "",
         "",
         "",
         "",
         "",
         "",
         "",
         "",
         "",
         "",
         "",
         "",
         "",
         "",
         "",
         "",
         "",
         "",
         "",
         "",
         "",
         "",
         "",
         "",
         "",
         "",
         "",
         "",
         "",
         "",
         "",
         "",
         "",
         "",
         "",
         "",
         "",
         "",
         "",
         "",
         "",
         "",
         "",
         "",
         "",
         "",
         "",
         "",
         "",
         "",
         "",
         "",
         ""
        ],
        "edges": [
         "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",
         "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"
        ],
        "funcdim": 0,
        "funcmax": 1,
        "funcmin": 0,
        "have_normals": true,
        "mesh_center": [
         3.0320651133760297,
         11.315821054976436,
         1.4
        ],
        "mesh_dim": 3,
        "mesh_radius": 16.064109446106748,
        "mesh_regions_2d": 84,
        "names": [
         "frame_outer",
         "inner",
         "inner",
         "frame_outer",
         "frame_outer",
         "frame_outer",
         "frame_outer",
         "frame_outer",
         "frame_outer",
         "frame_outer",
         "frame_outer",
         "frame_outer",
         "frame_outer",
         "frame_outer",
         "frame_outer",
         "frame_outer",
         "frame_outer"
        ],
        "ngsolve_version": "Netgen x.x",
        "order2d": 1,
        "order3d": 0,
        "show_mesh": true,
        "show_wireframe": true,
        "solid_face_map": [
         [
          0,
          1,
          2
         ],
         [
          3,
          4,
          5,
          6,
          7,
          8,
          9,
          10,
          11,
          12,
          13,
          14,
          15,
          16,
          0
         ]
        ],
        "solid_names": [
         "Brass",
         "Nickel_Silver"
        ]
       }
      }
     },
     "e919d784f05649b195fbefe1ccf2baef": {
      "model_module": "@jupyter-widgets/base",
      "model_module_version": "2.0.0",
      "model_name": "LayoutModel",
      "state": {
       "height": "50vh",
       "width": "100%"
      }
     },
     "ebad7ac4b6d844edb636df680194cff8": {
      "model_module": "webgui_jupyter_widgets",
      "model_module_version": "0.2.14",
      "model_name": "WebguiModel",
      "state": {
       "layout": "IPY_MODEL_5850ef23e391463d8728c0b051d1e100",
       "value": {
        "Bezier_points": [],
        "Bezier_trig_points": [
         "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",
         "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",
         "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",
         "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",
         "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",
         "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"
        ],
        "autoscale": false,
        "colors": [
         [
          0,
          1,
          0
         ],
         [
          0,
          1,
          0
         ],
         [
          0,
          1,
          0
         ],
         [
          0,
          1,
          0
         ],
         [
          0,
          1,
          0
         ],
         [
          0,
          1,
          0
         ],
         [
          0,
          1,
          0
         ],
         [
          0,
          1,
          0
         ],
         [
          0,
          1,
          0
         ],
         [
          0,
          1,
          0
         ],
         [
          0,
          1,
          0
         ],
         [
          0,
          1,
          0
         ],
         [
          0,
          1,
          0
         ],
         [
          0,
          1,
          0
         ],
         [
          0,
          1,
          0
         ],
         [
          0,
          1,
          0
         ],
         [
          0,
          1,
          0
         ],
         [
          0,
          1,
          0
         ]
        ],
        "draw_surf": true,
        "draw_vol": false,
        "edge_colors": [
         [
          0,
          0,
          0
         ],
         [
          0,
          0,
          0
         ],
         [
          0,
          0,
          0
         ],
         [
          0,
          0,
          0
         ],
         [
          0,
          0,
          0
         ],
         [
          0,
          0,
          0
         ],
         [
          0,
          0,
          0
         ],
         [
          0,
          0,
          0
         ],
         [
          0,
          0,
          0
         ],
         [
          0,
          0,
          0
         ],
         [
          0,
          0,
          0
         ],
         [
          0,
          0,
          0
         ],
         [
          0,
          0,
          0
         ],
         [
          0,
          0,
          0
         ],
         [
          0,
          0,
          0
         ],
         [
          0,
          0,
          0
         ],
         [
          0,
          0,
          0
         ],
         [
          0,
          0,
          0
         ],
         [
          0,
          0,
          0
         ],
         [
          0,
          0,
          0
         ],
         [
          0,
          0,
          0
         ],
         [
          0,
          0,
          0
         ],
         [
          0,
          0,
          0
         ],
         [
          0,
          0,
          0
         ],
         [
          0,
          0,
          0
         ],
         [
          0,
          0,
          0
         ],
         [
          0,
          0,
          0
         ],
         [
          0,
          0,
          0
         ],
         [
          0,
          0,
          0
         ],
         [
          0,
          0,
          0
         ],
         [
          0,
          0,
          0
         ],
         [
          0,
          0,
          0
         ],
         [
          0,
          0,
          0
         ],
         [
          0,
          0,
          0
         ],
         [
          0,
          0,
          0
         ],
         [
          0,
          0,
          0
         ],
         [
          0,
          0,
          0
         ],
         [
          0,
          0,
          0
         ],
         [
          0,
          0,
          0
         ],
         [
          0,
          0,
          0
         ],
         [
          0,
          0,
          0
         ],
         [
          0,
          0,
          0
         ],
         [
          0,
          0,
          0
         ],
         [
          0,
          0,
          0
         ],
         [
          0,
          0,
          0
         ],
         [
          0,
          0,
          0
         ],
         [
          0,
          0,
          0
         ],
         [
          0,
          0,
          0
         ],
         [
          0,
          0,
          0
         ],
         [
          0,
          0,
          0
         ],
         [
          0,
          0,
          0
         ],
         [
          0,
          0,
          0
         ],
         [
          0,
          0,
          0
         ],
         [
          0,
          0,
          0
         ],
         [
          0,
          0,
          0
         ],
         [
          0,
          0,
          0
         ],
         [
          0,
          0,
          0
         ],
         [
          0,
          0,
          0
         ],
         [
          0,
          0,
          0
         ],
         [
          0,
          0,
          0
         ],
         [
          0,
          0,
          0
         ],
         [
          0,
          0,
          0
         ],
         [
          0,
          0,
          0
         ],
         [
          0,
          0,
          0
         ],
         [
          0,
          0,
          0
         ],
         [
          0,
          0,
          0
         ],
         [
          0,
          0,
          0
         ],
         [
          0,
          0,
          0
         ],
         [
          0,
          0,
          0
         ],
         [
          0,
          0,
          0
         ],
         [
          0,
          0,
          0
         ],
         [
          0,
          0,
          0
         ],
         [
          0,
          0,
          0
         ],
         [
          0,
          0,
          0
         ],
         [
          0,
          0,
          0
         ],
         [
          0,
          0,
          0
         ],
         [
          0,
          0,
          0
         ],
         [
          0,
          0,
          0
         ],
         [
          0,
          0,
          0
         ],
         [
          0,
          0,
          0
         ],
         [
          0,
          0,
          0
         ],
         [
          0,
          0,
          0
         ],
         [
          0,
          0,
          0
         ],
         [
          0,
          0,
          0
         ]
        ],
        "edge_names": [
         "",
         "",
         "",
         "",
         "",
         "",
         "",
         "",
         "",
         "",
         "",
         "",
         "",
         "",
         "",
         "",
         "",
         "",
         "",
         "",
         "",
         "",
         "",
         "",
         "",
         "",
         "",
         "",
         "",
         "",
         "",
         "",
         "",
         "",
         "",
         "",
         "",
         "",
         "",
         "",
         "",
         "",
         "",
         "",
         "",
         "",
         "",
         "",
         "",
         "",
         "",
         "",
         "",
         "",
         "",
         "",
         "",
         "",
         "",
         "",
         "",
         "",
         "",
         "",
         "",
         "",
         "",
         "",
         "",
         "",
         "",
         "",
         "",
         "",
         "",
         "",
         "",
         "",
         "",
         "",
         "",
         "",
         "",
         ""
        ],
        "edges": [
         "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",
         "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"
        ],
        "funcdim": 0,
        "funcmax": 1,
        "funcmin": 0,
        "have_normals": true,
        "mesh_center": [
         3.0320651133760297,
         11.315821054976436,
         1.4
        ],
        "mesh_dim": 3,
        "mesh_radius": 16.064109446106748,
        "mesh_regions_2d": 84,
        "names": [
         "frame_outer",
         "inner",
         "inner",
         "frame_outer",
         "frame_outer",
         "frame_outer",
         "frame_outer",
         "frame_outer",
         "frame_outer",
         "frame_outer",
         "frame_outer",
         "frame_outer",
         "frame_outer",
         "frame_outer",
         "frame_outer",
         "frame_outer",
         "frame_outer",
         "frame_outer"
        ],
        "ngsolve_version": "Netgen x.x",
        "order2d": 1,
        "order3d": 0,
        "show_mesh": true,
        "show_wireframe": true,
        "solid_face_map": [
         [
          0,
          1,
          2
         ],
         [
          3,
          4,
          5,
          6,
          7,
          8,
          9,
          10,
          11,
          12,
          13,
          14,
          15,
          16,
          0
         ]
        ],
        "solid_names": [
         "Brass",
         "Nickel_Silver"
        ]
       }
      }
     },
     "ef935aa7ad4a463a8260cf2aa02ff7e5": {
      "model_module": "webgui_jupyter_widgets",
      "model_module_version": "0.2.14",
      "model_name": "WebguiModel",
      "state": {
       "layout": "IPY_MODEL_653854c36bad4fdea2be45b93f1f794c",
       "value": {
        "Bezier_points": [],
        "Bezier_trig_points": [
         "Ww3CQAAAAAAAAAAAAAAAAFsNwkAAAAAAAAAAAAAAAACaDTVBWw1CQAAAAAAAAIA/mg01QVsNQkAAAAAAAACAP/GQZUFEigRBAAAAAAAAAEDxkGVBRIoEQQAAAAAAAABA8ZBlQfGQZUEAAAAAAABAQPGQZUHxkGVBAAAAAAAAQECaDTVB78ucQQAAAAAAAIBAmg01Qe/LnEEAAAAAAACAQFsNwkCaDbVBAAAAAAAAoEBbDcJAmg21QQAAAAAAAKBAAAAAKJoNtUEAAAAAAADAQAAAACiaDbVBAAAAAAAAwEDaDajA78ucQQAAAAAAAOBA2g2owO/LnEEAAAAAAADgQESKBMHxkGVBAAAAAAAAAEFEigTB8ZBlQQAAAAAAAABBRIoEwUSKBEEAAAAAAAAQQUSKBMFEigRBAAAAAAAAEEHaDajAWw1CQAAAAAAAACBB2g2owFsNQkAAAAAAAAAgQQAAAAAAAAAAAAAAAAAAMEEAAAAAAAAAAAAAAAAAADBBmg01QVsNQkAAAAAAAABAQZoNNUFbDUJAAAAAAAAAQEGaDTVBWw1CQAAAAAAAAEBB8ZBlQfGQZUEAAAAAAABAQfGQZUHxkGVBAAAAAAAAQEHxkGVB8ZBlQQAAAAAAAEBBmg01Qe/LnEEAAAAAAABAQZoNNUHvy5xBAAAAAAAAQEGaDTVB78ucQQAAAAAAAEBBmg01Qe/LnEEAAAAAAABAQZoNNUFbDUJAMzMzQAAAUEGaDTVBWw1CQDMzM0AAAFBBmg01QVsNQkAzMzNAAABQQfGQZUHxkGVBMzMzQAAAUEHxkGVB8ZBlQTMzM0AAAFBB8ZBlQfGQZUEzMzNAAABQQZoNNUHvy5xBMzMzQAAAUEGaDTVB78ucQTMzM0AAAFBBmg01Qe/LnEEzMzNAAABQQZoNNUHvy5xBMzMzQAAAUEE=",
         "AAAAAAAAAAAzMzNAAAAAAFsNwkAAAAAAMzMzQAAAAABbDcJAAAAAADMzM0AAAIA/mg01QVsNQkAzMzNAAACAP5oNNUFbDUJAMzMzQAAAAEDxkGVBRIoEQTMzM0AAAABA8ZBlQUSKBEEzMzNAAABAQPGQZUHxkGVBMzMzQAAAQEDxkGVB8ZBlQTMzM0AAAIBAmg01Qe/LnEEzMzNAAACAQJoNNUHvy5xBMzMzQAAAoEBbDcJAmg21QTMzM0AAAKBAWw3CQJoNtUEzMzNAAADAQAAAACiaDbVBMzMzQAAAwEAAAAAomg21QTMzM0AAAOBA2g2owO/LnEEzMzNAAADgQNoNqMDvy5xBMzMzQAAAAEFEigTB8ZBlQTMzM0AAAABBRIoEwfGQZUEzMzNAAAAQQUSKBMFEigRBMzMzQAAAEEFEigTBRIoEQTMzM0AAACBB2g2owFsNQkAzMzNAAAAgQdoNqMBbDUJAMzMzQAAAMEEAAAAAAAAAADMzM0AAADBBWw3CQAAAAAAAAAAAAABAQdoNqMBbDUJAAAAAAAAAQEEAAAAAAAAAAAAAAAAAAEBB8ZBlQUSKBEEAAAAAAABAQUSKBMFEigRBAAAAAAAAQEGaDTVBWw1CQAAAAAAAAEBBAAAAKJoNtUEAAAAAAABAQdoNqMDvy5xBAAAAAAAAQEFEigTB8ZBlQQAAAAAAAEBB8ZBlQfGQZUEAAAAAAABAQQAAAAAAAAAAMzMzQAAAUEFEigTBRIoEQTMzM0AAAFBB2g2owFsNQkAzMzNAAABQQZoNNUFbDUJAMzMzQAAAUEFEigTB8ZBlQTMzM0AAAFBBRIoEwUSKBEEzMzNAAABQQVsNwkCaDbVBMzMzQAAAUEEAAAAomg21QTMzM0AAAFBB2g2owO/LnEEzMzNAAABQQUSKBMHxkGVBMzMzQAAAUEE=",
         "AAAAAAAAAAAAAAAAAAAAAAAAAAAAAAAAMzMzQAAAAABbDcJAAAAAAAAAAAAAAIA/Ww3CQAAAAAAzMzNAAACAP5oNNUFbDUJAAAAAAAAAAECaDTVBWw1CQDMzM0AAAABA8ZBlQUSKBEEAAAAAAABAQPGQZUFEigRBMzMzQAAAQEDxkGVB8ZBlQQAAAAAAAIBA8ZBlQfGQZUEzMzNAAACAQJoNNUHvy5xBAAAAAAAAoECaDTVB78ucQTMzM0AAAKBAWw3CQJoNtUEAAAAAAADAQFsNwkCaDbVBMzMzQAAAwEAAAAAomg21QQAAAAAAAOBAAAAAKJoNtUEzMzNAAADgQNoNqMDvy5xBAAAAAAAAAEHaDajA78ucQTMzM0AAAABBRIoEwfGQZUEAAAAAAAAQQUSKBMHxkGVBMzMzQAAAEEFEigTBRIoEQQAAAAAAACBBRIoEwUSKBEEzMzNAAAAgQdoNqMBbDUJAAAAAAAAAMEHaDajAWw1CQDMzM0AAADBBAAAAAAAAAAAAAAAAAABAQUSKBMFEigRBAAAAAAAAQEHaDajAWw1CQAAAAAAAAEBBmg01QVsNQkAAAAAAAABAQUSKBMHxkGVBAAAAAAAAQEFEigTBRIoEQQAAAAAAAEBBWw3CQJoNtUEAAAAAAABAQQAAACiaDbVBAAAAAAAAQEHaDajA78ucQQAAAAAAAEBBRIoEwfGQZUEAAAAAAABAQVsNwkAAAAAAMzMzQAAAUEHaDajAWw1CQDMzM0AAAFBBAAAAAAAAAAAzMzNAAABQQfGQZUFEigRBMzMzQAAAUEFEigTBRIoEQTMzM0AAAFBBmg01QVsNQkAzMzNAAABQQQAAACiaDbVBMzMzQAAAUEHaDajA78ucQTMzM0AAAFBBRIoEwfGQZUEzMzNAAABQQfGQZUHxkGVBMzMzQAAAUEE=",
         "AAAAAAAAgL8AAACAAAAAAAAAgL8AAACAAAAAP9ezXb8AAACAAAAAP9ezXb8AAACA17NdPwAAAL8AAACA17NdPwAAAL8AAACAAACAP6DcqKUAAACAAACAP6DcqKUAAACA17NdPwAAAD8AAACA17NdPwAAAD8AAACAAAAAP9ezXT8AAACAAAAAP9ezXT8AAACAoNwoJgAAgD8AAACAoNwoJgAAgD8AAACAAAAAv9ezXT8AAACAAAAAv9ezXT8AAACA17NdvwAAAD8AAACA17NdvwAAAD8AAACAAACAv+9KfSYAAACAAACAv+9KfSYAAACA17NdvwAAAL8AAACA17NdvwAAAL8AAACAAAAAv9ezXb8AAACAAAAAv9ezXb8AAACAAAAAgAAAAIAAAIC/AAAAgAAAAIAAAIC/AAAAgAAAAIAAAIC/AAAAgAAAAIAAAIC/AAAAgAAAAIAAAIC/AAAAgAAAAIAAAIC/AAAAgAAAAIAAAIC/AAAAgAAAAIAAAIC/AAAAgAAAAIAAAIC/AAAAgAAAAIAAAIC/AAAAAAAAAAAAAIA/AAAAAAAAAAAAAIA/AAAAAAAAAAAAAIA/AAAAAAAAAAAAAIA/AAAAAAAAAAAAAIA/AAAAAAAAAAAAAIA/AAAAAAAAAAAAAIA/AAAAAAAAAAAAAIA/AAAAAAAAAAAAAIA/AAAAAAAAAAAAAIA/",
         "AAAAAAAAgL8AAACAAAAAAAAAgL8AAACAAAAAP9ezXb8AAACAAAAAP9ezXb8AAACA17NdPwAAAL8AAACA17NdPwAAAL8AAACAAACAP6DcqKUAAACAAACAP6DcqKUAAACA17NdPwAAAD8AAACA17NdPwAAAD8AAACAAAAAP9ezXT8AAACAAAAAP9ezXT8AAACAoNwoJgAAgD8AAACAoNwoJgAAgD8AAACAAAAAv9ezXT8AAACAAAAAv9ezXT8AAACA17NdvwAAAD8AAACA17NdvwAAAD8AAACAAACAv+9KfSYAAACAAACAv+9KfSYAAACA17NdvwAAAL8AAACA17NdvwAAAL8AAACAAAAAv9ezXb8AAACAAAAAv9ezXb8AAACAAAAAgAAAAIAAAIC/AAAAgAAAAIAAAIC/AAAAgAAAAIAAAIC/AAAAgAAAAIAAAIC/AAAAgAAAAIAAAIC/AAAAgAAAAIAAAIC/AAAAgAAAAIAAAIC/AAAAgAAAAIAAAIC/AAAAgAAAAIAAAIC/AAAAgAAAAIAAAIC/AAAAAAAAAAAAAIA/AAAAAAAAAAAAAIA/AAAAAAAAAAAAAIA/AAAAAAAAAAAAAIA/AAAAAAAAAAAAAIA/AAAAAAAAAAAAAIA/AAAAAAAAAAAAAIA/AAAAAAAAAAAAAIA/AAAAAAAAAAAAAIA/AAAAAAAAAAAAAIA/",
         "AAAAAAAAgL8AAACAAAAAAAAAgL8AAACAAAAAP9ezXb8AAACAAAAAP9ezXb8AAACA17NdPwAAAL8AAACA17NdPwAAAL8AAACAAACAP6DcqKUAAACAAACAP6DcqKUAAACA17NdPwAAAD8AAACA17NdPwAAAD8AAACAAAAAP9ezXT8AAACAAAAAP9ezXT8AAACAoNwoJgAAgD8AAACAoNwoJgAAgD8AAACAAAAAv9ezXT8AAACAAAAAv9ezXT8AAACA17NdvwAAAD8AAACA17NdvwAAAD8AAACAAACAv+9KfSYAAACAAACAv+9KfSYAAACA17NdvwAAAL8AAACA17NdvwAAAL8AAACAAAAAv9ezXb8AAACAAAAAv9ezXb8AAACAAAAAgAAAAIAAAIC/AAAAgAAAAIAAAIC/AAAAgAAAAIAAAIC/AAAAgAAAAIAAAIC/AAAAgAAAAIAAAIC/AAAAgAAAAIAAAIC/AAAAgAAAAIAAAIC/AAAAgAAAAIAAAIC/AAAAgAAAAIAAAIC/AAAAgAAAAIAAAIC/AAAAAAAAAAAAAIA/AAAAAAAAAAAAAIA/AAAAAAAAAAAAAIA/AAAAAAAAAAAAAIA/AAAAAAAAAAAAAIA/AAAAAAAAAAAAAIA/AAAAAAAAAAAAAIA/AAAAAAAAAAAAAIA/AAAAAAAAAAAAAIA/AAAAAAAAAAAAAIA/"
        ],
        "autoscale": false,
        "colors": [
         [
          0,
          1,
          0
         ],
         [
          0,
          1,
          0
         ],
         [
          0,
          1,
          0
         ],
         [
          0,
          1,
          0
         ],
         [
          0,
          1,
          0
         ],
         [
          0,
          1,
          0
         ],
         [
          0,
          1,
          0
         ],
         [
          0,
          1,
          0
         ],
         [
          0,
          1,
          0
         ],
         [
          0,
          1,
          0
         ],
         [
          0,
          1,
          0
         ],
         [
          0,
          1,
          0
         ],
         [
          0,
          1,
          0
         ],
         [
          0,
          1,
          0
         ]
        ],
        "draw_surf": true,
        "draw_vol": false,
        "edge_colors": [
         [
          0,
          0,
          0
         ],
         [
          0,
          0,
          0
         ],
         [
          0,
          0,
          0
         ],
         [
          0,
          0,
          0
         ],
         [
          0,
          0,
          0
         ],
         [
          0,
          0,
          0
         ],
         [
          0,
          0,
          0
         ],
         [
          0,
          0,
          0
         ],
         [
          0,
          0,
          0
         ],
         [
          0,
          0,
          0
         ],
         [
          0,
          0,
          0
         ],
         [
          0,
          0,
          0
         ],
         [
          0,
          0,
          0
         ],
         [
          0,
          0,
          0
         ],
         [
          0,
          0,
          0
         ],
         [
          0,
          0,
          0
         ],
         [
          0,
          0,
          0
         ],
         [
          0,
          0,
          0
         ],
         [
          0,
          0,
          0
         ],
         [
          0,
          0,
          0
         ],
         [
          0,
          0,
          0
         ],
         [
          0,
          0,
          0
         ],
         [
          0,
          0,
          0
         ],
         [
          0,
          0,
          0
         ],
         [
          0,
          0,
          0
         ],
         [
          0,
          0,
          0
         ],
         [
          0,
          0,
          0
         ],
         [
          0,
          0,
          0
         ],
         [
          0,
          0,
          0
         ],
         [
          0,
          0,
          0
         ],
         [
          0,
          0,
          0
         ],
         [
          0,
          0,
          0
         ],
         [
          0,
          0,
          0
         ],
         [
          0,
          0,
          0
         ],
         [
          0,
          0,
          0
         ],
         [
          0,
          0,
          0
         ],
         [
          0,
          0,
          0
         ],
         [
          0,
          0,
          0
         ],
         [
          0,
          0,
          0
         ],
         [
          0,
          0,
          0
         ],
         [
          0,
          0,
          0
         ],
         [
          0,
          0,
          0
         ],
         [
          0,
          0,
          0
         ],
         [
          0,
          0,
          0
         ],
         [
          0,
          0,
          0
         ],
         [
          0,
          0,
          0
         ],
         [
          0,
          0,
          0
         ],
         [
          0,
          0,
          0
         ],
         [
          0,
          0,
          0
         ],
         [
          0,
          0,
          0
         ],
         [
          0,
          0,
          0
         ],
         [
          0,
          0,
          0
         ],
         [
          0,
          0,
          0
         ],
         [
          0,
          0,
          0
         ],
         [
          0,
          0,
          0
         ],
         [
          0,
          0,
          0
         ],
         [
          0,
          0,
          0
         ],
         [
          0,
          0,
          0
         ],
         [
          0,
          0,
          0
         ],
         [
          0,
          0,
          0
         ],
         [
          0,
          0,
          0
         ],
         [
          0,
          0,
          0
         ],
         [
          0,
          0,
          0
         ],
         [
          0,
          0,
          0
         ],
         [
          0,
          0,
          0
         ],
         [
          0,
          0,
          0
         ],
         [
          0,
          0,
          0
         ],
         [
          0,
          0,
          0
         ],
         [
          0,
          0,
          0
         ],
         [
          0,
          0,
          0
         ],
         [
          0,
          0,
          0
         ],
         [
          0,
          0,
          0
         ]
        ],
        "edge_names": [
         "",
         "",
         "",
         "",
         "",
         "",
         "",
         "",
         "",
         "",
         "",
         "",
         "",
         "",
         "",
         "",
         "",
         "",
         "",
         "",
         "",
         "",
         "",
         "",
         "",
         "",
         "",
         "",
         "",
         "",
         "",
         "",
         "",
         "",
         "",
         "",
         "",
         "",
         "",
         "",
         "",
         "",
         "",
         "",
         "",
         "",
         "",
         "",
         "",
         "",
         "",
         "",
         "",
         "",
         "",
         "",
         "",
         "",
         "",
         "",
         "",
         "",
         "",
         "",
         "",
         "",
         "",
         "",
         "",
         "",
         "",
         ""
        ],
        "edges": [
         "AAAAAAAAAAAAAAAAAAAAAFsNwkAAAAAAAAAAAAAAgD8AAAAAAAAAAAAAAAAAAABAAAAAAAAAAAAzMzNAAABAQFsNwkAAAAAAAAAAAAAAgECaDTVBWw1CQAAAAAAAAKBAWw3CQAAAAAAAAAAAAADAQFsNwkAAAAAAMzMzQAAA4ECaDTVBWw1CQAAAAAAAAABB8ZBlQUSKBEEAAAAAAAAQQZoNNUFbDUJAAAAAAAAAIEGaDTVBWw1CQDMzM0AAADBB8ZBlQUSKBEEAAAAAAABAQfGQZUHxkGVBAAAAAAAAUEHxkGVBRIoEQQAAAAAAAGBB8ZBlQUSKBEEzMzNAAABwQfGQZUHxkGVBAAAAAAAAgEGaDTVB78ucQQAAAAAAAIhB8ZBlQfGQZUEAAAAAAACQQfGQZUHxkGVBMzMzQAAAmEGaDTVB78ucQQAAAAAAAKBBWw3CQJoNtUEAAAAAAACoQZoNNUHvy5xBAAAAAAAAsEGaDTVB78ucQTMzM0AAALhBWw3CQJoNtUEAAAAAAADAQQAAACiaDbVBAAAAAAAAyEFbDcJAmg21QQAAAAAAANBBWw3CQJoNtUEzMzNAAADYQQAAACiaDbVBAAAAAAAA4EHaDajA78ucQQAAAAAAAOhBAAAAKJoNtUEAAAAAAADwQQAAACiaDbVBMzMzQAAA+EHaDajA78ucQQAAAAAAAABCRIoEwfGQZUEAAAAAAAAEQtoNqMDvy5xBAAAAAAAACELaDajA78ucQTMzM0AAAAxCRIoEwfGQZUEAAAAAAAAQQkSKBMFEigRBAAAAAAAAFEJEigTB8ZBlQQAAAAAAABhCRIoEwfGQZUEzMzNAAAAcQkSKBMFEigRBAAAAAAAAIELaDajAWw1CQAAAAAAAACRCRIoEwUSKBEEAAAAAAAAoQkSKBMFEigRBMzMzQAAALELaDajAWw1CQAAAAAAAADBCAAAAAAAAAAAAAAAAAAA0QtoNqMBbDUJAAAAAAAAAOELaDajAWw1CQDMzM0AAADxCAAAAAAAAAAAAAAAAAABAQlsNwkAAAAAAAAAAAAAAREKaDTVBWw1CQAAAAAAAAEhC8ZBlQUSKBEEAAAAAAABMQvGQZUHxkGVBAAAAAAAAUEKaDTVB78ucQQAAAAAAAFRCWw3CQJoNtUEAAAAAAABYQgAAACiaDbVBAAAAAAAAXELaDajA78ucQQAAAAAAAGBCRIoEwfGQZUEAAAAAAABkQkSKBMFEigRBAAAAAAAAaELaDajAWw1CQAAAAAAAAGxCAAAAAAAAAAAzMzNAAABwQlsNwkAAAAAAMzMzQAAAdEKaDTVBWw1CQDMzM0AAAHhC8ZBlQUSKBEEzMzNAAAB8QvGQZUHxkGVBMzMzQAAAgEKaDTVB78ucQTMzM0AAAIJCWw3CQJoNtUEzMzNAAACEQgAAACiaDbVBMzMzQAAAhkLaDajA78ucQTMzM0AAAIhCRIoEwfGQZUEzMzNAAACKQkSKBMFEigRBMzMzQAAAjELaDajAWw1CQDMzM0AAAI5C",
         "AAAAAAAAAAAzMzNAAAAAAFsNwkAAAAAAMzMzQAAAgD9bDcJAAAAAAAAAAAAAAABAWw3CQAAAAAAzMzNAAABAQFsNwkAAAAAAMzMzQAAAgECaDTVBWw1CQDMzM0AAAKBAmg01QVsNQkAAAAAAAADAQJoNNUFbDUJAMzMzQAAA4ECaDTVBWw1CQDMzM0AAAABB8ZBlQUSKBEEzMzNAAAAQQfGQZUFEigRBAAAAAAAAIEHxkGVBRIoEQTMzM0AAADBB8ZBlQUSKBEEzMzNAAABAQfGQZUHxkGVBMzMzQAAAUEHxkGVB8ZBlQQAAAAAAAGBB8ZBlQfGQZUEzMzNAAABwQfGQZUHxkGVBMzMzQAAAgEGaDTVB78ucQTMzM0AAAIhBmg01Qe/LnEEAAAAAAACQQZoNNUHvy5xBMzMzQAAAmEGaDTVB78ucQTMzM0AAAKBBWw3CQJoNtUEzMzNAAACoQVsNwkCaDbVBAAAAAAAAsEFbDcJAmg21QTMzM0AAALhBWw3CQJoNtUEzMzNAAADAQQAAACiaDbVBMzMzQAAAyEEAAAAomg21QQAAAAAAANBBAAAAKJoNtUEzMzNAAADYQQAAACiaDbVBMzMzQAAA4EHaDajA78ucQTMzM0AAAOhB2g2owO/LnEEAAAAAAADwQdoNqMDvy5xBMzMzQAAA+EHaDajA78ucQTMzM0AAAABCRIoEwfGQZUEzMzNAAAAEQkSKBMHxkGVBAAAAAAAACEJEigTB8ZBlQTMzM0AAAAxCRIoEwfGQZUEzMzNAAAAQQkSKBMFEigRBMzMzQAAAFEJEigTBRIoEQQAAAAAAABhCRIoEwUSKBEEzMzNAAAAcQkSKBMFEigRBMzMzQAAAIELaDajAWw1CQDMzM0AAACRC2g2owFsNQkAAAAAAAAAoQtoNqMBbDUJAMzMzQAAALELaDajAWw1CQDMzM0AAADBCAAAAAAAAAAAzMzNAAAA0QgAAAAAAAAAAAAAAAAAAOEIAAAAAAAAAADMzM0AAADxCWw3CQAAAAAAAAAAAAABAQpoNNUFbDUJAAAAAAAAARELxkGVBRIoEQQAAAAAAAEhC8ZBlQfGQZUEAAAAAAABMQpoNNUHvy5xBAAAAAAAAUEJbDcJAmg21QQAAAAAAAFRCAAAAKJoNtUEAAAAAAABYQtoNqMDvy5xBAAAAAAAAXEJEigTB8ZBlQQAAAAAAAGBCRIoEwUSKBEEAAAAAAABkQtoNqMBbDUJAAAAAAAAAaEIAAAAAAAAAAAAAAAAAAGxCWw3CQAAAAAAzMzNAAABwQpoNNUFbDUJAMzMzQAAAdELxkGVBRIoEQTMzM0AAAHhC8ZBlQfGQZUEzMzNAAAB8QpoNNUHvy5xBMzMzQAAAgEJbDcJAmg21QTMzM0AAAIJCAAAAKJoNtUEzMzNAAACEQtoNqMDvy5xBMzMzQAAAhkJEigTB8ZBlQTMzM0AAAIhCRIoEwUSKBEEzMzNAAACKQtoNqMBbDUJAMzMzQAAAjEIAAAAAAAAAADMzM0AAAI5C"
        ],
        "funcdim": 0,
        "funcmax": 1,
        "funcmin": 0,
        "have_normals": true,
        "mesh_center": [
         3.0320651133760297,
         11.315821054976436,
         1.4
        ],
        "mesh_dim": 3,
        "mesh_radius": 16.064109446106748,
        "mesh_regions_2d": 72,
        "names": [
         "",
         "",
         "",
         "",
         "",
         "",
         "",
         "",
         "",
         "",
         "",
         "",
         "",
         ""
        ],
        "ngsolve_version": "Netgen x.x",
        "order2d": 1,
        "order3d": 0,
        "show_mesh": true,
        "show_wireframe": true,
        "solid_face_map": [
         [
          0,
          1,
          2,
          3,
          4,
          5,
          6,
          7,
          8,
          9,
          10,
          11,
          12,
          13
         ]
        ],
        "solid_names": [
         ""
        ]
       }
      }
     },
     "fb388f36bedf4f1ebf56f12ac2e93851": {
      "model_module": "webgui_jupyter_widgets",
      "model_module_version": "0.2.14",
      "model_name": "WebguiModel",
      "state": {
       "layout": "IPY_MODEL_05297313f230428fafc669c800ffb4ad",
       "value": {
        "Bezier_points": [],
        "Bezier_trig_points": [
         "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",
         "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",
         "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",
         "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",
         "AAAAAAAAgL8AAACAAAAAAAAAgL8AAACAAAAAv9ezXb8AAACAAAAAv9ezXb8AAACAAAAAP9ezXb8AAACAAAAAP9ezXb8AAACAAAAAgAAAAIAAAIC/AAAAgAAAAIAAAIC/AAAAgAAAAIAAAIC/AAAAgAAAAIAAAIC/AAAAgAAAAIAAAIC/AAAAgAAAAIAAAIC/AAAAgAAAAIAAAIC/AAAAgAAAAIAAAIC/AAAAgAAAAIAAAIC/AAAAgAAAAIAAAIC/AAAAgAAAAIAAAIC/AAAAgAAAAIAAAIC/AAAAgAAAAIAAAIC/AAAAgAAAAIAAAIC/AAAAgAAAAIAAAIC/AAAAgAAAAIAAAIC/AAAAgAAAAIAAAIC/AAAAgAAAAIAAAIC/AAAAgAAAAIAAAIC/AAAAgAAAAIAAAIC/AAAAgAAAAIAAAIC/AAAAgAAAAIAAAIC/AAAAgAAAAIAAAIC/AAAAgAAAAIAAAIC/AAAAgAAAAIAAAIC/AAAAgAAAAIAAAIC/AAAAgAAAAIAAAIC/AAAAgAAAAIAAAIC/AAAAgAAAAIAAAIC/AAAAgAAAAIAAAIC/AAAAgAAAAIAAAIC/AAAAgAAAAIAAAIC/AAAAgAAAAIAAAIC/AAAAgAAAAIAAAIC/AAAAgAAAAIAAAIC/AAAAgAAAAIAAAIC/AAAAgAAAAIAAAIC/AAAAgAAAAIAAAIC/AAAAAAAAAAAAAIA/AAAAAAAAAAAAAIA/AAAAAAAAAAAAAIA/AAAAAAAAAAAAAIA/AAAAAAAAAAAAAIA/AAAAAAAAAAAAAIA/AAAAAAAAAAAAAIA/AAAAAAAAAAAAAIA/AAAAAAAAAAAAAIA/AAAAAAAAAAAAAIA/AAAAAAAAAAAAAIA/AAAAAAAAAAAAAIA/AAAAAAAAAAAAAIA/AAAAAAAAAAAAAIA/AAAAAAAAAAAAAIA/AAAAAAAAAAAAAIA/AAAAAAAAAAAAAIA/AAAAAAAAAAAAAIA/AAAAAAAAAAAAAIA/AAAAAAAAAAAAAIA/AAAAAAAAAAAAAIA/AAAAAAAAAAAAAIA/AAAAAAAAAAAAAIA/AAAAAAAAAAAAAIA/AAAAAAAAAAAAAIA/AAAAAAAAAAAAAIA/AAAAAAAAAAAAAIA/AAAAAAAAAAAAAIA/AAAAAAAAAAAAAIA/AAAAAAAAAAAAAIA/AAAAAAAAAAAAAIA/AAAAAAAAAAAAAIA/AAAAAAAAAAAAAIA/AAAAAAAAAAAAAIA/AAAAAAAAAAAAAIA/AAAAAAAAAAAAAIA/AAAAAAAAAAAAAIA/AAAAAAAAAAAAAIA/17NdvwAAAL8AAACA17NdvwAAAL8AAACA17NdPwAAAL8AAACA17NdPwAAAL8AAACAAACAv+9KfSYAAACAAACAv+9KfSYAAACAAACAP6DcqKUAAACAAACAP6DcqKUAAACA17NdvwAAAD8AAACA17NdvwAAAD8AAACA17NdPwAAAD8AAACA17NdPwAAAD8AAACAAAAAv9ezXT8AAACAAAAAv9ezXT8AAACAAAAAP9ezXT8AAACAAAAAP9ezXT8AAACAoNwoJgAAgD8AAACAoNwoJgAAgD8AAACAAACAvwAAAIAAAAAApY94vyoPdb4AAAAAP61ivzLw7b4AAAAApY94vyoPdb4AAAAAZ54/v2jCKb8AAAAAsWwRvxKvUr8AAAAAP61ivzLw7b4AAAAAsWwRvxKvUr8AAAAAxo61vjldb78AAAAAsWwRvxKvUr8AAAAA79v2vSsifr8AAAAAxo61vjldb78AAAAA79v2PSsifr8AAACA79v2vSsifr8AAAAAxo61Pjldb78AAACA79v2PSsifr8AAACAsWwRPxKvUr8AAACAxo61Pjldb78AAACAZ54/P2jCKb8AAACAsWwRPxKvUr8AAACAZ54/P2jCKb8AAACAP61iPzLw7b4AAACAP61iPzLw7b4AAACApY94PyoPdb4AAACApY94PyoPdb4AAACAAACAPyamkaYAAACAAACAPyamkaYAAACApY94PyoPdT4AAACApY94PyoPdT4AAACAP61iPzLw7T4AAACAP61iPzLw7T4AAACAZ54/P2jCKT8AAACAsWwRPxKvUj8AAACAsWwRPxKvUj8AAACAsWwRPxKvUj8AAACAxo61Pjldbz8AAACAxo61Pjldbz8AAACA79v2PSsifj8AAACA79v2vSsifj8AAACA79v2vSsifj8AAACA79v2vSsifj8AAACAxo61vjldbz8AAACAxo61vjldbz8AAACAsWwRvxKvUj8AAACAsWwRvxKvUj8AAACAZ54/v2jCKT8AAACAZ54/v2jCKT8AAACAP61ivzLw7T4AAACApY94vyoPdT4AAACAP61ivzLw7T4AAACAAACAvzIxjSUAAACApY94vyoPdT4AAACA",
         "AAAAAAAAgL8AAACAAAAAAAAAgL8AAACAAAAAv9ezXb8AAACAAAAAv9ezXb8AAACAAAAAP9ezXb8AAACAAAAAP9ezXb8AAACAAAAAgAAAAIAAAIC/AAAAgAAAAIAAAIC/AAAAgAAAAIAAAIC/AAAAgAAAAIAAAIC/AAAAgAAAAIAAAIC/AAAAgAAAAIAAAIC/AAAAgAAAAIAAAIC/AAAAgAAAAIAAAIC/AAAAgAAAAIAAAIC/AAAAgAAAAIAAAIC/AAAAgAAAAIAAAIC/AAAAgAAAAIAAAIC/AAAAgAAAAIAAAIC/AAAAgAAAAIAAAIC/AAAAgAAAAIAAAIC/AAAAgAAAAIAAAIC/AAAAgAAAAIAAAIC/AAAAgAAAAIAAAIC/AAAAgAAAAIAAAIC/AAAAgAAAAIAAAIC/AAAAgAAAAIAAAIC/AAAAgAAAAIAAAIC/AAAAgAAAAIAAAIC/AAAAgAAAAIAAAIC/AAAAgAAAAIAAAIC/AAAAgAAAAIAAAIC/AAAAgAAAAIAAAIC/AAAAgAAAAIAAAIC/AAAAgAAAAIAAAIC/AAAAgAAAAIAAAIC/AAAAgAAAAIAAAIC/AAAAgAAAAIAAAIC/AAAAgAAAAIAAAIC/AAAAgAAAAIAAAIC/AAAAgAAAAIAAAIC/AAAAgAAAAIAAAIC/AAAAgAAAAIAAAIC/AAAAgAAAAIAAAIC/AAAAAAAAAAAAAIA/AAAAAAAAAAAAAIA/AAAAAAAAAAAAAIA/AAAAAAAAAAAAAIA/AAAAAAAAAAAAAIA/AAAAAAAAAAAAAIA/AAAAAAAAAAAAAIA/AAAAAAAAAAAAAIA/AAAAAAAAAAAAAIA/AAAAAAAAAAAAAIA/AAAAAAAAAAAAAIA/AAAAAAAAAAAAAIA/AAAAAAAAAAAAAIA/AAAAAAAAAAAAAIA/AAAAAAAAAAAAAIA/AAAAAAAAAAAAAIA/AAAAAAAAAAAAAIA/AAAAAAAAAAAAAIA/AAAAAAAAAAAAAIA/AAAAAAAAAAAAAIA/AAAAAAAAAAAAAIA/AAAAAAAAAAAAAIA/AAAAAAAAAAAAAIA/AAAAAAAAAAAAAIA/AAAAAAAAAAAAAIA/AAAAAAAAAAAAAIA/AAAAAAAAAAAAAIA/AAAAAAAAAAAAAIA/AAAAAAAAAAAAAIA/AAAAAAAAAAAAAIA/AAAAAAAAAAAAAIA/AAAAAAAAAAAAAIA/AAAAAAAAAAAAAIA/AAAAAAAAAAAAAIA/AAAAAAAAAAAAAIA/AAAAAAAAAAAAAIA/AAAAAAAAAAAAAIA/AAAAAAAAAAAAAIA/17NdvwAAAL8AAACA17NdvwAAAL8AAACA17NdPwAAAL8AAACA17NdPwAAAL8AAACAAACAv+9KfSYAAACAAACAv+9KfSYAAACAAACAP6DcqKUAAACAAACAP6DcqKUAAACA17NdvwAAAD8AAACA17NdvwAAAD8AAACA17NdPwAAAD8AAACA17NdPwAAAD8AAACAAAAAv9ezXT8AAACAAAAAv9ezXT8AAACAAAAAP9ezXT8AAACAAAAAP9ezXT8AAACAoNwoJgAAgD8AAACAoNwoJgAAgD8AAACAAACAvwAAAIAAAAAAAACAvwAAAIAAAAAApY94vyoPdb4AAAAApY94vyoPdb4AAAAAP61ivzLw7b4AAAAAZ54/v2jCKb8AAAAAP61ivzLw7b4AAAAAZ54/v2jCKb8AAAAAsWwRvxKvUr8AAAAAsWwRvxKvUr8AAAAAxo61vjldb78AAAAAxo61vjldb78AAAAA79v2vSsifr8AAAAA79v2vSsifr8AAAAA79v2PSsifr8AAACA79v2PSsifr8AAACAxo61Pjldb78AAACAxo61Pjldb78AAACAsWwRPxKvUr8AAACAsWwRPxKvUr8AAACAZ54/P2jCKb8AAACAZ54/P2jCKb8AAACAP61iPzLw7b4AAACAP61iPzLw7b4AAACApY94PyoPdb4AAACApY94PyoPdb4AAACAAACAPyamkaYAAACAAACAPyamkaYAAACApY94PyoPdT4AAACApY94PyoPdT4AAACAP61iPzLw7T4AAACAP61iPzLw7T4AAACAZ54/P2jCKT8AAACAZ54/P2jCKT8AAACAsWwRPxKvUj8AAACAsWwRPxKvUj8AAACAxo61Pjldbz8AAACAxo61Pjldbz8AAACA79v2PSsifj8AAACA79v2PSsifj8AAACA79v2vSsifj8AAACA79v2vSsifj8AAACAxo61vjldbz8AAACAxo61vjldbz8AAACAsWwRvxKvUj8AAACAsWwRvxKvUj8AAACAZ54/v2jCKT8AAACAZ54/v2jCKT8AAACAP61ivzLw7T4AAACAP61ivzLw7T4AAACApY94vyoPdT4AAACApY94vyoPdT4AAACA"
        ],
        "autoscale": false,
        "colors": [
         [
          0,
          1,
          0
         ],
         [
          0,
          1,
          0
         ],
         [
          0,
          1,
          0
         ],
         [
          0,
          1,
          0
         ],
         [
          0,
          1,
          0
         ],
         [
          0,
          1,
          0
         ],
         [
          0,
          1,
          0
         ],
         [
          0,
          1,
          0
         ],
         [
          0,
          1,
          0
         ],
         [
          0,
          1,
          0
         ],
         [
          0,
          1,
          0
         ],
         [
          0,
          1,
          0
         ],
         [
          0,
          1,
          0
         ],
         [
          0,
          1,
          0
         ],
         [
          0,
          1,
          0
         ]
        ],
        "draw_surf": true,
        "draw_vol": false,
        "edge_colors": [
         [
          0,
          0,
          0
         ],
         [
          0,
          0,
          0
         ],
         [
          0,
          0,
          0
         ],
         [
          0,
          0,
          0
         ],
         [
          0,
          0,
          0
         ],
         [
          0,
          0,
          0
         ],
         [
          0,
          0,
          0
         ],
         [
          0,
          0,
          0
         ],
         [
          0,
          0,
          0
         ],
         [
          0,
          0,
          0
         ],
         [
          0,
          0,
          0
         ],
         [
          0,
          0,
          0
         ],
         [
          0,
          0,
          0
         ],
         [
          0,
          0,
          0
         ],
         [
          0,
          0,
          0
         ],
         [
          0,
          0,
          0
         ],
         [
          0,
          0,
          0
         ],
         [
          0,
          0,
          0
         ],
         [
          0,
          0,
          0
         ],
         [
          0,
          0,
          0
         ],
         [
          0,
          0,
          0
         ],
         [
          0,
          0,
          0
         ],
         [
          0,
          0,
          0
         ],
         [
          0,
          0,
          0
         ],
         [
          0,
          0,
          0
         ],
         [
          0,
          0,
          0
         ],
         [
          0,
          0,
          0
         ],
         [
          0,
          0,
          0
         ],
         [
          0,
          0,
          0
         ],
         [
          0,
          0,
          0
         ],
         [
          0,
          0,
          0
         ],
         [
          0,
          0,
          0
         ],
         [
          0,
          0,
          0
         ],
         [
          0,
          0,
          0
         ],
         [
          0,
          0,
          0
         ],
         [
          0,
          0,
          0
         ],
         [
          0,
          0,
          0
         ],
         [
          0,
          0,
          0
         ],
         [
          0,
          0,
          0
         ],
         [
          0,
          0,
          0
         ],
         [
          0,
          0,
          0
         ],
         [
          0,
          0,
          0
         ],
         [
          0,
          0,
          0
         ],
         [
          0,
          0,
          0
         ],
         [
          0,
          0,
          0
         ],
         [
          0,
          0,
          0
         ],
         [
          0,
          0,
          0
         ],
         [
          0,
          0,
          0
         ],
         [
          0,
          0,
          0
         ],
         [
          0,
          0,
          0
         ],
         [
          0,
          0,
          0
         ],
         [
          0,
          0,
          0
         ],
         [
          0,
          0,
          0
         ],
         [
          0,
          0,
          0
         ],
         [
          0,
          0,
          0
         ],
         [
          0,
          0,
          0
         ],
         [
          0,
          0,
          0
         ],
         [
          0,
          0,
          0
         ],
         [
          0,
          0,
          0
         ],
         [
          0,
          0,
          0
         ],
         [
          0,
          0,
          0
         ],
         [
          0,
          0,
          0
         ],
         [
          0,
          0,
          0
         ],
         [
          0,
          0,
          0
         ],
         [
          0,
          0,
          0
         ],
         [
          0,
          0,
          0
         ],
         [
          0,
          0,
          0
         ],
         [
          0,
          0,
          0
         ],
         [
          0,
          0,
          0
         ],
         [
          0,
          0,
          0
         ],
         [
          0,
          0,
          0
         ],
         [
          0,
          0,
          0
         ],
         [
          0,
          0,
          0
         ],
         [
          0,
          0,
          0
         ],
         [
          0,
          0,
          0
         ],
         [
          0,
          0,
          0
         ],
         [
          0,
          0,
          0
         ],
         [
          0,
          0,
          0
         ]
        ],
        "edge_names": [
         "",
         "",
         "",
         "",
         "",
         "",
         "",
         "",
         "",
         "",
         "",
         "",
         "",
         "",
         "",
         "",
         "",
         "",
         "",
         "",
         "",
         "",
         "",
         "",
         "",
         "",
         "",
         "",
         "",
         "",
         "",
         "",
         "",
         "",
         "",
         "",
         "",
         "",
         "",
         "",
         "",
         "",
         "",
         "",
         "",
         "",
         "",
         "",
         "",
         "",
         "",
         "",
         "",
         "",
         "",
         "",
         "",
         "",
         "",
         "",
         "",
         "",
         "",
         "",
         "",
         "",
         "",
         "",
         "",
         "",
         "",
         "",
         "",
         "",
         "",
         "",
         "",
         ""
        ],
        "edges": [
         "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",
         "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"
        ],
        "funcdim": 0,
        "funcmax": 1,
        "funcmin": 0,
        "have_normals": true,
        "mesh_center": [
         3.0320651133760297,
         11.315821054976436,
         1.4
        ],
        "mesh_dim": 3,
        "mesh_radius": 16.064109446106748,
        "mesh_regions_2d": 78,
        "names": [
         "",
         "",
         "",
         "",
         "",
         "",
         "",
         "",
         "",
         "",
         "",
         "",
         "",
         "",
         ""
        ],
        "ngsolve_version": "Netgen x.x",
        "order2d": 1,
        "order3d": 0,
        "show_mesh": true,
        "show_wireframe": true,
        "solid_face_map": [
         [
          0,
          1,
          2,
          3,
          4,
          5,
          6,
          7,
          8,
          9,
          10,
          11,
          12,
          13,
          14
         ]
        ],
        "solid_names": [
         ""
        ]
       }
      }
     },
     "ff8f7c1b1f7f4365a9419ece5172473f": {
      "model_module": "webgui_jupyter_widgets",
      "model_module_version": "0.2.14",
      "model_name": "WebguiModel",
      "state": {
       "layout": "IPY_MODEL_7c6268ff384f448bbef4ec5011501cf3",
       "value": {
        "Bezier_points": [],
        "Bezier_trig_points": [
         "mg01QVsNQkAAAAAAAAAAAJoNNUFbDUJAAAAAAAAAAACaDTVBWw1CQAAAAAAAAAAA8ZBlQfGQZUEAAAAAAAAAAPGQZUHxkGVBAAAAAAAAAADxkGVB8ZBlQQAAAAAAAAAAmg01Qe/LnEEAAAAAAAAAAJoNNUHvy5xBAAAAAAAAAACaDTVB78ucQQAAAAAAAAAAmg01Qe/LnEEAAAAAAAAAAA==",
         "AAAAAAAAAAAAAAAAAAAAAESKBMFEigRBAAAAAAAAAADaDajAWw1CQAAAAAAAAAAAmg01QVsNQkAAAAAAAAAAAESKBMHxkGVBAAAAAAAAAABEigTBRIoEQQAAAAAAAAAAWw3CQJoNtUEAAAAAAAAAAAAAACiaDbVBAAAAAAAAAADaDajA78ucQQAAAAAAAAAARIoEwfGQZUEAAAAAAAAAAA==",
         "Ww3CQAAAAAAAAAAAAAAAANoNqMBbDUJAAAAAAAAAAAAAAAAAAAAAAAAAAAAAAAAA8ZBlQUSKBEEAAAAAAAAAAESKBMFEigRBAAAAAAAAAACaDTVBWw1CQAAAAAAAAAAAAAAAKJoNtUEAAAAAAAAAANoNqMDvy5xBAAAAAAAAAABEigTB8ZBlQQAAAAAAAAAA8ZBlQfGQZUEAAAAAAAAAAA==",
         "AAAAAAAAAAAAAIA/AAAAAAAAAAAAAIA/AAAAAAAAAAAAAIA/AAAAAAAAAAAAAIA/AAAAAAAAAAAAAIA/AAAAAAAAAAAAAIA/AAAAAAAAAAAAAIA/AAAAAAAAAAAAAIA/AAAAAAAAAAAAAIA/AAAAAAAAAAAAAIA/",
         "AAAAAAAAAAAAAIA/AAAAAAAAAAAAAIA/AAAAAAAAAAAAAIA/AAAAAAAAAAAAAIA/AAAAAAAAAAAAAIA/AAAAAAAAAAAAAIA/AAAAAAAAAAAAAIA/AAAAAAAAAAAAAIA/AAAAAAAAAAAAAIA/AAAAAAAAAAAAAIA/",
         "AAAAAAAAAAAAAIA/AAAAAAAAAAAAAIA/AAAAAAAAAAAAAIA/AAAAAAAAAAAAAIA/AAAAAAAAAAAAAIA/AAAAAAAAAAAAAIA/AAAAAAAAAAAAAIA/AAAAAAAAAAAAAIA/AAAAAAAAAAAAAIA/AAAAAAAAAAAAAIA/"
        ],
        "autoscale": false,
        "colors": [
         [
          0,
          1,
          0
         ]
        ],
        "draw_surf": true,
        "draw_vol": false,
        "edge_colors": [
         [
          0,
          0,
          0
         ],
         [
          0,
          0,
          0
         ],
         [
          0,
          0,
          0
         ],
         [
          0,
          0,
          0
         ],
         [
          0,
          0,
          0
         ],
         [
          0,
          0,
          0
         ],
         [
          0,
          0,
          0
         ],
         [
          0,
          0,
          0
         ],
         [
          0,
          0,
          0
         ],
         [
          0,
          0,
          0
         ],
         [
          0,
          0,
          0
         ],
         [
          0,
          0,
          0
         ]
        ],
        "edge_names": [
         "",
         "",
         "",
         "",
         "",
         "",
         "",
         "",
         "",
         "",
         "",
         ""
        ],
        "edges": [
         "AAAAAAAAAAAAAAAAAAAAAFsNwkAAAAAAAAAAAAAAgD+aDTVBWw1CQAAAAAAAAABA8ZBlQUSKBEEAAAAAAABAQPGQZUHxkGVBAAAAAAAAgECaDTVB78ucQQAAAAAAAKBAWw3CQJoNtUEAAAAAAADAQAAAACiaDbVBAAAAAAAA4EDaDajA78ucQQAAAAAAAABBRIoEwfGQZUEAAAAAAAAQQUSKBMFEigRBAAAAAAAAIEHaDajAWw1CQAAAAAAAADBB",
         "Ww3CQAAAAAAAAAAAAAAAAJoNNUFbDUJAAAAAAAAAgD/xkGVBRIoEQQAAAAAAAABA8ZBlQfGQZUEAAAAAAABAQJoNNUHvy5xBAAAAAAAAgEBbDcJAmg21QQAAAAAAAKBAAAAAKJoNtUEAAAAAAADAQNoNqMDvy5xBAAAAAAAA4EBEigTB8ZBlQQAAAAAAAABBRIoEwUSKBEEAAAAAAAAQQdoNqMBbDUJAAAAAAAAAIEEAAAAAAAAAAAAAAAAAADBB"
        ],
        "funcdim": 0,
        "funcmax": 1,
        "funcmin": 0,
        "have_normals": true,
        "mesh_center": [
         3.0320651133760297,
         11.315821054976436,
         0
        ],
        "mesh_dim": 3,
        "mesh_radius": 16.0029876053347,
        "mesh_regions_2d": 12,
        "names": [
         ""
        ],
        "ngsolve_version": "Netgen x.x",
        "order2d": 1,
        "order3d": 0,
        "show_mesh": true,
        "show_wireframe": true,
        "solid_face_map": [],
        "solid_names": []
       }
      }
     }
    },
    "version_major": 2,
    "version_minor": 0
   }
  }
 },
 "nbformat": 4,
 "nbformat_minor": 5
}
