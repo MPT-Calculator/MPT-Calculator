{
 "cells": [
  {
   "cell_type": "markdown",
   "id": "a22f8d02-bc89-4907-8f0d-6baff47ebeae",
   "metadata": {},
   "source": [
    "## 6 - Generating meshes from a CAD description"
   ]
  },
  {
   "cell_type": "markdown",
   "id": "8eb7dfd0",
   "metadata": {},
   "source": [
    "In this tutorial, we discuss how to load a CAD model description of an object into Netgen and generate a suitable mesh.\n",
    "\n",
    "## Loading a geometry\n",
    "Recall from tutorial [5](5_OCC_geometry.ipynb) that we can define object geometries using the Netgen OCC package and object primitives (e.g. cube, sphere, cone, ect). However, we can also load in $\\texttt{.step}$ files directly into Netgen as a dimensionless solid.\n",
    "\n",
    "This allows us to use standard CAD software (e.g. FreeCAD, Fusion360, Solidworks, AutoCAD) to define our geometry separately from Netgen.\n",
    "\n",
    "In the file $\\texttt{Tutorials/Examples/Example_10mm_cube.step}$, there is a homogeneous cube of side length 10 mm which we can load in using:\n",
    "```python\n",
    "geometry = OCCGeometry(filename)\n",
    "```\n",
    "\n",
    "We begin by importing the OCC module and the webgui visualisation."
   ]
  },
  {
   "cell_type": "code",
   "execution_count": 1,
   "id": "f91ed738",
   "metadata": {
    "scrolled": true
   },
   "outputs": [],
   "source": [
    "from netgen.occ import *\n",
    "from netgen.webgui import Draw as DrawGeo"
   ]
  },
  {
   "cell_type": "markdown",
   "id": "3b3fe9a9",
   "metadata": {},
   "source": [
    "and load in the geometry."
   ]
  },
  {
   "cell_type": "code",
   "execution_count": 2,
   "id": "47abacc3",
   "metadata": {
    "scrolled": true
   },
   "outputs": [],
   "source": [
    "geo = OCCGeometry(r'Examples/Example_10mm_cube.step')"
   ]
  },
  {
   "cell_type": "markdown",
   "id": "f1b70e61",
   "metadata": {},
   "source": [
    "With objects loaded in this way, we access the geometry and its properties via the $\\texttt{shape}$ attribute. So to visualise the geometry, we would use"
   ]
  },
  {
   "cell_type": "code",
   "execution_count": 4,
   "id": "3f34b280",
   "metadata": {
    "scrolled": true
   },
   "outputs": [
    {
     "data": {
      "application/vnd.jupyter.widget-view+json": {
       "model_id": "76493709f8764a918c062edd95502549",
       "version_major": 2,
       "version_minor": 0
      },
      "text/plain": [
       "WebGuiWidget(layout=Layout(height='50vh', width='100%'), value={'ngsolve_version': 'Netgen x.x', 'mesh_dim': 3…"
      ]
     },
     "metadata": {},
     "output_type": "display_data"
    },
    {
     "data": {
      "text/plain": [
       "BaseWebGuiScene"
      ]
     },
     "execution_count": 4,
     "metadata": {},
     "output_type": "execute_result"
    }
   ],
   "source": [
    "DrawGeo(geo.shape)"
   ]
  },
  {
   "cell_type": "markdown",
   "id": "7fa41342",
   "metadata": {},
   "source": [
    "Similarly, if we want to check the volume of the object, we would use"
   ]
  },
  {
   "cell_type": "code",
   "execution_count": 5,
   "id": "9ed89592",
   "metadata": {
    "scrolled": true
   },
   "outputs": [
    {
     "data": {
      "text/plain": [
       "999.9999999999998"
      ]
     },
     "execution_count": 5,
     "metadata": {},
     "output_type": "execute_result"
    }
   ],
   "source": [
    "geo.shape.mass"
   ]
  },
  {
   "cell_type": "markdown",
   "id": "60028e0b",
   "metadata": {},
   "source": [
    "<b>Note that the Netgen object description is dimensionless so to obtain the physical object we need to multiply each dimension by $\\alpha$. The default being $\\alpha=10^{-3}$ m. So if a $\\texttt{.step}$ file is setup with units of mm we will need to specify that we want $\\alpha=10^{-3}$ m in MPT-Calculator.</b>"
   ]
  },
  {
   "cell_type": "markdown",
   "id": "7b82c7ed",
   "metadata": {},
   "source": [
    "Finally, we can center the object via the $\\texttt{Move}$ method"
   ]
  },
  {
   "cell_type": "code",
   "execution_count": 6,
   "id": "29521668",
   "metadata": {
    "scrolled": true
   },
   "outputs": [],
   "source": [
    "cube = geo.shape.Move((-geo.shape.center.x, -geo.shape.center.y, -geo.shape.center.z))"
   ]
  },
  {
   "cell_type": "markdown",
   "id": "33bdc794",
   "metadata": {},
   "source": [
    "For a single object, this is not strictly necessary since the MPT is independent of the object location, but it makes it slightly easier to generate a sufficient outer region. If you wanted to load in multiple objects, you would load them in using $\\texttt{OCCGeometry}$ and position them using $\\texttt{Move}$.\n",
    "\n",
    "At this stage, all the methods available to a natively generated object are available to us. For example $\\texttt{Rotation}$, which requires an axis and rotation angle.\n",
    "\n",
    "<b>Important: Objects generated using CAD software and saved as a step - file may provide a suitable CAD description for CAD software, they are not necessarily best suited as a geometry to form the basis of mesh generation for finite element simulations. This is due to differing tolerances and design criteria between the CAD software and the meshing library, and can lead to distorted elements or an overly fine mesh. </b>\n",
    "\n",
    "<b>The OCC files can be run independently of MPT-Calculator, so the user can check the generated mesh for consistency before committing to large simulations.</b>"
   ]
  },
  {
   "cell_type": "markdown",
   "id": "28463be7",
   "metadata": {},
   "source": [
    "## Assigning object properties\n",
    "\n",
    "At this stage, $\\texttt{cube}$ behaves like a natively generated OCC geometry object, and we can proceed as if it were generated directly in Netgen.\n",
    "\n",
    "As with the other $\\texttt{OCC}$ geometries, we first define a list of object names, conductivities, and relative permeabilities. Unlike previous versions, we can define alpha on an object by object basis in the OCC file itself."
   ]
  },
  {
   "cell_type": "code",
   "execution_count": 7,
   "id": "d9a1d7db",
   "metadata": {
    "scrolled": true
   },
   "outputs": [],
   "source": [
    "material_name = ['cube']\n",
    "sigma = [1e6]\n",
    "mur = [1]\n",
    "alpha = 0.001"
   ]
  },
  {
   "cell_type": "markdown",
   "id": "23061014",
   "metadata": {},
   "source": [
    "and assign the appropriate material and boundary condition names"
   ]
  },
  {
   "cell_type": "code",
   "execution_count": 8,
   "id": "43713336",
   "metadata": {
    "scrolled": true
   },
   "outputs": [],
   "source": [
    "cube.bc('default')\n",
    "cube.mat(material_name[0])\n",
    "cube.maxh = 5"
   ]
  },
  {
   "cell_type": "markdown",
   "id": "381604ae",
   "metadata": {},
   "source": [
    "## Adding additional regions\n",
    "\n",
    "In the same way as the coin example in tutorial [7](./7_OCC_geometry.ipynb) we can add additional regions by defining additional object primatives"
   ]
  },
  {
   "cell_type": "code",
   "execution_count": 9,
   "id": "757b56d0",
   "metadata": {
    "scrolled": true
   },
   "outputs": [],
   "source": [
    "box = Box(Pnt(-1000, -1000, -1000), Pnt(1000,1000,1000))\n",
    "box.mat('air')\n",
    "box.bc('outer')\n",
    "box.maxh = 1000"
   ]
  },
  {
   "cell_type": "markdown",
   "id": "bc2de396",
   "metadata": {},
   "source": [
    "and joining them together:"
   ]
  },
  {
   "cell_type": "code",
   "execution_count": 10,
   "id": "1747a688",
   "metadata": {
    "scrolled": true
   },
   "outputs": [
    {
     "data": {
      "application/vnd.jupyter.widget-view+json": {
       "model_id": "498ddd55a6b44878b4adbd449520d505",
       "version_major": 2,
       "version_minor": 0
      },
      "text/plain": [
       "WebGuiWidget(layout=Layout(height='50vh', width='100%'), value={'ngsolve_version': 'Netgen x.x', 'mesh_dim': 3…"
      ]
     },
     "metadata": {},
     "output_type": "display_data"
    },
    {
     "data": {
      "text/plain": [
       "BaseWebGuiScene"
      ]
     },
     "execution_count": 10,
     "metadata": {},
     "output_type": "execute_result"
    }
   ],
   "source": [
    "joined_object = Glue([box, cube])\n",
    "DrawGeo(joined_object)"
   ]
  },
  {
   "cell_type": "markdown",
   "id": "f9f4331c",
   "metadata": {},
   "source": [
    "Finally, we can generate a mesh"
   ]
  },
  {
   "cell_type": "code",
   "execution_count": 10,
   "id": "ce55164c",
   "metadata": {
    "scrolled": true
   },
   "outputs": [],
   "source": [
    "nmesh = OCCGeometry(joined_object).GenerateMesh()\n",
    "nmesh.Save(r'../VolFiles/OCC_step_cube.vol')"
   ]
  },
  {
   "cell_type": "markdown",
   "id": "ffa43333",
   "metadata": {},
   "source": [
    "A valid $\\texttt{.py}$ script to generate this example has been added to the $\\texttt{OCC_Geometry/}$ directory as [$\\texttt{OCC_step_cube.py}$](../OCC_Geometry/OCC_step_cube.py), which we can simulate with"
   ]
  },
  {
   "cell_type": "code",
   "execution_count": 11,
   "id": "9da75f6c",
   "metadata": {
    "scrolled": false
   },
   "outputs": [
    {
     "name": "stdout",
     "output_type": "stream",
     "text": [
      "Updated alpha from OCC file. Alpha=0.001\n",
      "OCC_step_cube.geo\n",
      "Mesh Contains Prisms? False\n",
      "N Prisms: 0, N Tets: 19533\n"
     ]
    },
    {
     "name": "stderr",
     "output_type": "stream",
     "text": [
      "C:\\Users\\James\\Desktop\\Release_Ready_MPT_Calculator\\Restructured_MPT_Calculator\\main.py:257: UserWarning: It looks like the main function was invoked from a jupyter notebook. \n",
      "Currently saving a .ipynb file is done by copying the most recent file in the .ipynb_checkpoints folder. \n",
      "Unless you saved the file before running the code, this may not be the correct file.\n",
      "  warn('It looks like the main function was invoked from a jupyter notebook. \\nCurrently saving a .ipynb file is done by copying the most recent file in the .ipynb_checkpoints folder. \\nUnless you saved the file before running the code, this may not be the correct file.', stacklevel=1)\n"
     ]
    },
    {
     "name": "stdout",
     "output_type": "stream",
     "text": [
      " mesh contains 19533 elements\n"
     ]
    },
    {
     "name": "stderr",
     "output_type": "stream",
     "text": [
      "Solving Theta0: 100%|█████████████████████████████████████████████████████████████████████████| 3/3 [00:00<?, ?it/s]\n"
     ]
    },
    {
     "name": "stdout",
     "output_type": "stream",
     "text": [
      " solved theta0 problems    \n",
      " solving theta1 snapshots\n"
     ]
    },
    {
     "name": "stderr",
     "output_type": "stream",
     "text": [
      "Solving Theta1 Snapshots: 100%|█████████████████████████████████████████████████████| 13/13 [02:55<00:00, 13.53s/it]\n"
     ]
    },
    {
     "name": "stdout",
     "output_type": "stream",
     "text": [
      "manually closed pool\n",
      " SVD complete                \n",
      " Number of retained modes = 9\n",
      "manually closed poolder model\n",
      " reduced order systems solved\n",
      " frequency sweep complete\n"
     ]
    },
    {
     "data": {
      "image/png": "[encoded data removed]",
      "text/plain": [
       "<Figure size 640x480 with 1 Axes>"
      ]
     },
     "metadata": {},
     "output_type": "display_data"
    },
    {
     "data": {
      "image/png": "[encoded data removed]",
      "text/plain": [
       "<Figure size 640x480 with 1 Axes>"
      ]
     },
     "metadata": {},
     "output_type": "display_data"
    },
    {
     "data": {
      "image/png": "[encoded data removed]",
      "text/plain": [
       "<Figure size 640x480 with 1 Axes>"
      ]
     },
     "metadata": {},
     "output_type": "display_data"
    },
    {
     "data": {
      "image/png": "[encoded data removed]",
      "text/plain": [
       "<Figure size 640x480 with 1 Axes>"
      ]
     },
     "metadata": {},
     "output_type": "display_data"
    },
    {
     "data": {
      "image/png": "[encoded data removed]",
      "text/plain": [
       "<Figure size 640x480 with 1 Axes>"
      ]
     },
     "metadata": {},
     "output_type": "display_data"
    }
   ],
   "source": [
    "import os\n",
    "# Please edit this line to provide the to the root directory of your copy of MPT-Calculator\n",
    "Your_Path = r'C:\\Users\\James\\Desktop\\Release_Ready_MPT_Calculator\\Restructured_MPT_Calculator'\n",
    "os.chdir(Your_Path)\n",
    "os.getcwd()\n",
    "\n",
    "from main import main\n",
    "step_cube = main(geometry='OCC_step_cube.py', use_OCC=True, use_POD=True);"
   ]
  },
  {
   "cell_type": "markdown",
   "id": "c4aa510e",
   "metadata": {},
   "source": [
    "## Comparison with an equivalent .geo file"
   ]
  },
  {
   "cell_type": "markdown",
   "id": "772c0713",
   "metadata": {},
   "source": [
    "Using a dense mesh to ensure that the solutions are converged and independent of small changes to the number of elements, we now wish to compare an equivalent .geo file description of the object (stored in $\\texttt{GeoFiles/Cube.geo}$) with the step file geometry we have loaded in.\n",
    "\n",
    "Running the .geo file simulation, we see that the mesh contains slightly more elements, however the resultant tensor coefficients and eigenvalues are very similar."
   ]
  },
  {
   "cell_type": "code",
   "execution_count": 12,
   "id": "76b12222",
   "metadata": {
    "scrolled": false
   },
   "outputs": [
    {
     "name": "stdout",
     "output_type": "stream",
     "text": [
      "Cube.geo\n",
      "generating mesh\n",
      "Mesh Contains Prisms? False\n",
      "N Prisms: 0, N Tets: 21706\n"
     ]
    },
    {
     "name": "stderr",
     "output_type": "stream",
     "text": [
      "C:\\Users\\James\\Desktop\\Release_Ready_MPT_Calculator\\Restructured_MPT_Calculator\\main.py:257: UserWarning: It looks like the main function was invoked from a jupyter notebook. \n",
      "Currently saving a .ipynb file is done by copying the most recent file in the .ipynb_checkpoints folder. \n",
      "Unless you saved the file before running the code, this may not be the correct file.\n",
      "  warn('It looks like the main function was invoked from a jupyter notebook. \\nCurrently saving a .ipynb file is done by copying the most recent file in the .ipynb_checkpoints folder. \\nUnless you saved the file before running the code, this may not be the correct file.', stacklevel=1)\n"
     ]
    },
    {
     "name": "stdout",
     "output_type": "stream",
     "text": [
      " mesh contains 21706 elements\n"
     ]
    },
    {
     "name": "stderr",
     "output_type": "stream",
     "text": [
      "Solving Theta0: 100%|█████████████████████████████████████████████████████████████████████████| 3/3 [00:00<?, ?it/s]\n"
     ]
    },
    {
     "name": "stdout",
     "output_type": "stream",
     "text": [
      " solved theta0 problems    \n",
      " solving theta1 snapshots\n"
     ]
    },
    {
     "name": "stderr",
     "output_type": "stream",
     "text": [
      "Solving Theta1 Snapshots: 100%|█████████████████████████████████████████████████████| 13/13 [03:35<00:00, 16.57s/it]\n"
     ]
    },
    {
     "name": "stdout",
     "output_type": "stream",
     "text": [
      "manually closed pool\n",
      " SVD complete                \n",
      " Number of retained modes = 9\n",
      "manually closed poolder model\n",
      " reduced order systems solved\n",
      " frequency sweep complete\n"
     ]
    },
    {
     "data": {
      "image/png": "[encoded data removed]",
      "text/plain": [
       "<Figure size 640x480 with 1 Axes>"
      ]
     },
     "metadata": {},
     "output_type": "display_data"
    },
    {
     "data": {
      "image/png": "[encoded data removed]",
      "text/plain": [
       "<Figure size 640x480 with 1 Axes>"
      ]
     },
     "metadata": {},
     "output_type": "display_data"
    },
    {
     "data": {
      "image/png": "[encoded data removed]",
      "text/plain": [
       "<Figure size 640x480 with 1 Axes>"
      ]
     },
     "metadata": {},
     "output_type": "display_data"
    },
    {
     "data": {
      "image/png": "[encoded data removed]",
      "text/plain": [
       "<Figure size 640x480 with 1 Axes>"
      ]
     },
     "metadata": {},
     "output_type": "display_data"
    },
    {
     "data": {
      "image/png": "[encoded data removed]",
      "text/plain": [
       "<Figure size 640x480 with 1 Axes>"
      ]
     },
     "metadata": {},
     "output_type": "display_data"
    }
   ],
   "source": [
    "geo_cube = main(geometry='Cube.geo', use_POD=True)"
   ]
  },
  {
   "cell_type": "markdown",
   "id": "eebd8a81",
   "metadata": {},
   "source": [
    "if we plot the relative error between the loaded OCC geometry tensor coefficients and the $\\texttt{.geo}$ file tensor coefficients, \n",
    "\n",
    "$\\frac{||\\mathcal{M}^{(OCC)} - \\mathcal{M}^{(geo)}||_F}{|| \\mathcal{M}^{(OCC)}||_F}$ \n",
    "\n",
    "we see that the two methods are in very good agreement."
   ]
  },
  {
   "cell_type": "code",
   "execution_count": 13,
   "id": "972a0a50",
   "metadata": {},
   "outputs": [],
   "source": [
    "import numpy as np\n",
    "err = np.zeros(40)\n",
    "for f in range(40):\n",
    "    err[f]= np.linalg.norm(geo_cube['TensorArray'][f,:] - step_cube['TensorArray'][f,:])\n",
    "    err[f] /= np.linalg.norm(step_cube['TensorArray'][f,:])"
   ]
  },
  {
   "cell_type": "code",
   "execution_count": 14,
   "id": "acd5ea4a",
   "metadata": {},
   "outputs": [
    {
     "data": {
      "image/png": "[encoded data removed]",
      "text/plain": [
       "<Figure size 640x480 with 1 Axes>"
      ]
     },
     "metadata": {},
     "output_type": "display_data"
    }
   ],
   "source": [
    "from matplotlib import pyplot as plt\n",
    "plt.loglog(geo_cube['FrequencyArray'], err)\n",
    "plt.xlabel('$\\omega$ [rad/s]')\n",
    "plt.ylabel('Relative Error $\\mathcal{M}$');"
   ]
  },
  {
   "cell_type": "code",
   "execution_count": null,
   "id": "bceee05c",
   "metadata": {},
   "outputs": [],
   "source": []
  }
 ],
 "metadata": {
  "kernelspec": {
   "display_name": "Python 3 (ipykernel)",
   "language": "python",
   "name": "python3"
  },
  "language_info": {
   "codemirror_mode": {
    "name": "ipython",
    "version": 3
   },
   "file_extension": ".py",
   "mimetype": "text/x-python",
   "name": "python",
   "nbconvert_exporter": "python",
   "pygments_lexer": "ipython3",
   "version": "3.11.2"
  },
  "toc": {
   "base_numbering": 1,
   "nav_menu": {},
   "number_sections": true,
   "sideBar": true,
   "skip_h1_title": false,
   "title_cell": "Table of Contents",
   "title_sidebar": "Contents",
   "toc_cell": false,
   "toc_position": {},
   "toc_section_display": true,
   "toc_window_display": false
  },
  "varInspector": {
   "cols": {
    "lenName": 16,
    "lenType": 16,
    "lenVar": 40
   },
   "kernels_config": {
    "python": {
     "delete_cmd_postfix": "",
     "delete_cmd_prefix": "del ",
     "library": "var_list.py",
     "varRefreshCmd": "print(var_dic_list())"
    },
    "r": {
     "delete_cmd_postfix": ") ",
     "delete_cmd_prefix": "rm(",
     "library": "var_list.r",
     "varRefreshCmd": "cat(var_dic_list()) "
    }
   },
   "types_to_exclude": [
    "module",
    "function",
    "builtin_function_or_method",
    "instance",
    "_Feature"
   ],
   "window_display": false
  },
  "widgets": {
   "application/vnd.jupyter.widget-state+json": {
    "state": {
     "24cdf04714674ebea9f3c18787f53108": {
      "model_module": "@jupyter-widgets/base",
      "model_module_version": "2.0.0",
      "model_name": "LayoutModel",
      "state": {
       "height": "50vh",
       "width": "100%"
      }
     },
     "29d4841af5af407db7ecd0d1d1c5db4d": {
      "model_module": "webgui_jupyter_widgets",
      "model_module_version": "0.2.14",
      "model_name": "WebguiModel",
      "state": {
       "layout": "IPY_MODEL_24cdf04714674ebea9f3c18787f53108",
       "value": {
        "Bezier_points": [],
        "Bezier_trig_points": [
         "AAAAAAAAAAAAACBBAAAAAAAAAAAAAAAAAAAgQQAAAAAAACBBAAAAAAAAIEEAAIA/AAAgQQAAAAAAACBBAACAPwAAIEEAAAAAAAAgQQAAAEAAACBBAAAAAAAAIEEAAABAAAAgQQAAIEEAACBBAABAQAAAIEEAACBBAAAgQQAAQEAAACBBAAAgQQAAAAAAAIBAAAAgQQAAIEEAAAAAAACAQAAAIEEAACBBAAAgQQAAoEAAACBBAAAgQQAAIEEAAKBA",
         "AAAAAAAAIEEAAAAAAAAAAAAAAAAAACBBAAAgQQAAAAAAACBBAAAAAAAAAAAAAIA/AAAgQQAAIEEAAAAAAACAPwAAAAAAAAAAAAAAAAAAAEAAAAAAAAAAAAAAIEEAAABAAAAgQQAAIEEAAAAAAABAQAAAAAAAACBBAAAAAAAAQEAAAAAAAAAAAAAAAAAAAIBAAAAgQQAAAAAAAAAAAACAQAAAAAAAACBBAAAgQQAAoEAAAAAAAAAAAAAAIEEAAKBA",
         "AAAAAAAAAAAAAAAAAAAAAAAAAAAAACBBAAAAAAAAAAAAACBBAAAgQQAAAAAAAIA/AAAgQQAAIEEAACBBAACAPwAAIEEAAAAAAAAAAAAAAEAAAAAAAAAAAAAAAAAAAABAAAAAAAAAIEEAAAAAAABAQAAAAAAAACBBAAAgQQAAQEAAAAAAAAAgQQAAAAAAAIBAAAAAAAAAAAAAAAAAAACAQAAAAAAAAAAAAAAgQQAAoEAAACBBAAAAAAAAIEEAAKBA",
         "AACAvwAAAIAAAAAAAACAvwAAAIAAAAAAAACAPwAAAAAAAACAAACAPwAAAAAAAACAAAAAAAAAgL8AAACAAAAAAAAAgL8AAACAAAAAgAAAgD8AAAAAAAAAgAAAgD8AAAAAAAAAgAAAAIAAAIC/AAAAgAAAAIAAAIC/AAAAAAAAAAAAAIA/AAAAAAAAAAAAAIA/",
         "AACAvwAAAIAAAAAAAACAvwAAAIAAAAAAAACAPwAAAAAAAACAAACAPwAAAAAAAACAAAAAAAAAgL8AAACAAAAAAAAAgL8AAACAAAAAgAAAgD8AAAAAAAAAgAAAgD8AAAAAAAAAgAAAAIAAAIC/AAAAgAAAAIAAAIC/AAAAAAAAAAAAAIA/AAAAAAAAAAAAAIA/",
         "AACAvwAAAIAAAAAAAACAvwAAAIAAAAAAAACAPwAAAAAAAACAAACAPwAAAAAAAACAAAAAAAAAgL8AAACAAAAAAAAAgL8AAACAAAAAgAAAgD8AAAAAAAAAgAAAgD8AAAAAAAAAgAAAAIAAAIC/AAAAgAAAAIAAAIC/AAAAAAAAAAAAAIA/AAAAAAAAAAAAAIA/"
        ],
        "autoscale": false,
        "colors": [
         [
          0,
          1,
          0
         ],
         [
          0,
          1,
          0
         ],
         [
          0,
          1,
          0
         ],
         [
          0,
          1,
          0
         ],
         [
          0,
          1,
          0
         ],
         [
          0,
          1,
          0
         ]
        ],
        "draw_surf": true,
        "draw_vol": false,
        "edge_colors": [
         [
          0,
          0,
          0
         ],
         [
          0,
          0,
          0
         ],
         [
          0,
          0,
          0
         ],
         [
          0,
          0,
          0
         ],
         [
          0,
          0,
          0
         ],
         [
          0,
          0,
          0
         ],
         [
          0,
          0,
          0
         ],
         [
          0,
          0,
          0
         ],
         [
          0,
          0,
          0
         ],
         [
          0,
          0,
          0
         ],
         [
          0,
          0,
          0
         ],
         [
          0,
          0,
          0
         ],
         [
          0,
          0,
          0
         ],
         [
          0,
          0,
          0
         ],
         [
          0,
          0,
          0
         ],
         [
          0,
          0,
          0
         ],
         [
          0,
          0,
          0
         ],
         [
          0,
          0,
          0
         ],
         [
          0,
          0,
          0
         ],
         [
          0,
          0,
          0
         ],
         [
          0,
          0,
          0
         ],
         [
          0,
          0,
          0
         ],
         [
          0,
          0,
          0
         ],
         [
          0,
          0,
          0
         ]
        ],
        "edge_names": [
         "",
         "",
         "",
         "",
         "",
         "",
         "",
         "",
         "",
         "",
         "",
         "",
         "",
         "",
         "",
         "",
         "",
         "",
         "",
         "",
         "",
         "",
         "",
         ""
        ],
        "edges": [
         "AAAAAAAAAAAAAAAAAAAAAAAAAAAAAAAAAAAAAAAAgD8AAAAAAAAgQQAAAAAAAABAAAAAAAAAAAAAACBBAABAQAAAIEEAAAAAAAAAAAAAgEAAACBBAAAAAAAAAAAAAKBAAAAgQQAAIEEAAAAAAADAQAAAIEEAAAAAAAAgQQAA4EAAAAAAAAAAAAAAAAAAAABBAAAAAAAAAAAAAAAAAAAQQQAAAAAAAAAAAAAgQQAAIEEAACBBAAAAAAAAAAAAADBBAAAAAAAAIEEAAAAAAABAQQAAAAAAACBBAAAAAAAAUEEAAAAAAAAgQQAAIEEAAGBBAAAgQQAAIEEAAAAAAABwQQAAAAAAAAAAAAAAAAAAgEEAAAAAAAAAAAAAAAAAAIhBAAAgQQAAAAAAAAAAAACQQQAAAAAAACBBAAAAAAAAmEEAAAAAAAAAAAAAIEEAAKBBAAAAAAAAAAAAACBBAACoQQAAIEEAAAAAAAAgQQAAsEEAAAAAAAAgQQAAIEEAALhB",
         "AAAAAAAAAAAAACBBAAAAAAAAAAAAACBBAAAAAAAAgD8AAAAAAAAgQQAAIEEAAABAAAAAAAAAIEEAACBBAABAQAAAIEEAAAAAAAAgQQAAgEAAACBBAAAgQQAAAAAAAKBAAAAgQQAAIEEAACBBAADAQAAAIEEAACBBAAAgQQAA4EAAACBBAAAAAAAAAAAAAABBAAAAAAAAAAAAACBBAAAQQQAAIEEAAAAAAAAgQQAAIEEAACBBAAAAAAAAIEEAADBBAAAgQQAAIEEAAAAAAABAQQAAAAAAACBBAAAgQQAAUEEAACBBAAAgQQAAIEEAAGBBAAAgQQAAIEEAACBBAABwQQAAAAAAACBBAAAAAAAAgEEAACBBAAAAAAAAAAAAAIhBAAAgQQAAIEEAAAAAAACQQQAAIEEAACBBAAAAAAAAmEEAAAAAAAAgQQAAIEEAAKBBAAAgQQAAAAAAACBBAACoQQAAIEEAACBBAAAgQQAAsEEAACBBAAAgQQAAIEEAALhB"
        ],
        "funcdim": 0,
        "funcmax": 1,
        "funcmin": 0,
        "have_normals": true,
        "mesh_center": [
         5,
         5,
         5
        ],
        "mesh_dim": 3,
        "mesh_radius": 8.660254037844387,
        "mesh_regions_2d": 24,
        "names": [
         "",
         "",
         "",
         "",
         "",
         ""
        ],
        "ngsolve_version": "Netgen x.x",
        "order2d": 1,
        "order3d": 0,
        "show_mesh": true,
        "show_wireframe": true,
        "solid_face_map": [
         [
          0,
          1,
          2,
          3,
          4,
          5
         ]
        ],
        "solid_names": [
         ""
        ]
       }
      }
     },
     "2bf6d32acb4c46428422750815ca4b14": {
      "model_module": "webgui_jupyter_widgets",
      "model_module_version": "0.2.14",
      "model_name": "WebguiModel",
      "state": {
       "layout": "IPY_MODEL_8405338e9c6544debe17f109dad510a8",
       "value": {
        "Bezier_points": [],
        "Bezier_trig_points": [
         "AAB6xAAAesQAAHpEAAAAAAAAesQAAHrEAAB6RAAAAAAAAHpEAAB6xAAAekQAAIA/AAB6RAAAesQAAHpEAACAPwAAekQAAHpEAAB6RAAAAEAAAHpEAAB6RAAAekQAAABAAAB6RAAAekQAAHpEAABAQAAAekQAAHpEAAB6RAAAQEAAAHpEAAB6RAAAesQAAIBAAAB6RAAAekQAAHrEAACAQAAAekQAAHrEAAB6RAAAoEAAAHpEAAB6xAAAekQAAKBAAACgwAAAoMAAAKBAAADAQAAAoMAAAKDAAACgQAAAwEAAAKBAAACgwAAAoEAAAOBAAACgQAAAoMAAAKBAAADgQAAAoEAAAKBAAACgwAAAAEEAAKBAAACgQAAAoMAAAABBAACgQAAAoEAAAKBAAAAQQQAAoEAAAKBAAACgQAAAEEEAAKBAAACgQAAAoEAAACBBAACgQAAAoEAAAKBAAAAgQQAAoEAAAKDAAACgQAAAMEEAAKBAAACgwAAAoEAAADBBAACgwAAAoMAAAKBAAABAQQAAoMAAAKDAAACgQAAAQEEAAKBAAACgwAAAoEAAAFBBAACgQAAAoMAAAKBAAABQQQAAoEAAAKDAAACgQAAAYEEAAKBAAACgwAAAoEAAAGBBAACgQAAAoEAAAKBAAABwQQAAoEAAAKBAAACgQAAAcEEAAKBAAACgQAAAoMAAAIBBAACgQAAAoEAAAKDAAACAQQAAoEAAAKBAAACgQAAAiEEAAKBAAACgQAAAoEAAAIhB",
         "AAB6xAAAekQAAHrEAAAAAAAAesQAAHpEAAB6RAAAAAAAAHrEAAB6xAAAesQAAIA/AAB6xAAAesQAAHpEAACAPwAAesQAAHpEAAB6RAAAAEAAAHrEAAB6xAAAekQAAABAAAB6RAAAekQAAHrEAABAQAAAesQAAHpEAAB6xAAAQEAAAHrEAAB6xAAAesQAAIBAAAB6RAAAesQAAHrEAACAQAAAekQAAHrEAAB6xAAAoEAAAHpEAAB6RAAAesQAAKBAAACgwAAAoMAAAKDAAADAQAAAoMAAAKBAAACgwAAAwEAAAKBAAACgwAAAoMAAAOBAAACgwAAAoMAAAKDAAADgQAAAoMAAAKBAAACgwAAAAEEAAKDAAACgwAAAoMAAAABBAACgwAAAoEAAAKDAAAAQQQAAoMAAAKBAAACgQAAAEEEAAKDAAACgwAAAoEAAACBBAACgQAAAoMAAAKBAAAAgQQAAoEAAAKBAAACgwAAAMEEAAKBAAACgQAAAoEAAADBBAACgwAAAoEAAAKDAAABAQQAAoMAAAKBAAACgQAAAQEEAAKBAAACgwAAAoMAAAFBBAACgQAAAoEAAAKDAAABQQQAAoMAAAKDAAACgwAAAYEEAAKDAAACgwAAAoEAAAGBBAACgQAAAoEAAAKDAAABwQQAAoMAAAKBAAACgwAAAcEEAAKDAAACgwAAAoMAAAIBBAACgQAAAoMAAAKDAAACAQQAAoMAAAKBAAACgQAAAiEEAAKDAAACgwAAAoEAAAIhB",
         "AAB6xAAAesQAAHrEAAAAAAAAesQAAHpEAAB6xAAAAAAAAHpEAAB6xAAAesQAAIA/AAB6xAAAesQAAHrEAACAPwAAesQAAHrEAAB6RAAAAEAAAHpEAAB6xAAAekQAAABAAAB6xAAAekQAAHrEAABAQAAAesQAAHpEAAB6RAAAQEAAAHrEAAB6RAAAesQAAIBAAAB6xAAAesQAAHrEAACAQAAAekQAAHpEAAB6xAAAoEAAAHpEAAB6RAAAekQAAKBAAACgwAAAoEAAAKDAAADAQAAAoMAAAKBAAACgQAAAwEAAAKDAAACgwAAAoMAAAOBAAACgwAAAoMAAAKBAAADgQAAAoMAAAKDAAACgwAAAAEEAAKBAAACgwAAAoMAAAABBAACgQAAAoEAAAKDAAAAQQQAAoMAAAKBAAACgwAAAEEEAAKDAAACgQAAAoEAAACBBAACgwAAAoMAAAKBAAAAgQQAAoEAAAKDAAACgwAAAMEEAAKBAAACgQAAAoMAAADBBAACgwAAAoMAAAKDAAABAQQAAoMAAAKBAAACgwAAAQEEAAKBAAACgQAAAoMAAAFBBAACgQAAAoEAAAKBAAABQQQAAoEAAAKDAAACgwAAAYEEAAKDAAACgwAAAoMAAAGBBAACgwAAAoEAAAKDAAABwQQAAoMAAAKBAAACgQAAAcEEAAKDAAACgQAAAoMAAAIBBAACgwAAAoMAAAKDAAACAQQAAoMAAAKDAAACgQAAAiEEAAKBAAACgwAAAoEAAAIhB",
         "AACAvwAAAIAAAAAAAACAvwAAAIAAAAAAAAAAAAAAgL8AAACAAAAAAAAAgL8AAACAAAAAAAAAAAAAAIA/AAAAAAAAAAAAAIA/AAAAgAAAgD8AAAAAAAAAgAAAgD8AAAAAAAAAgAAAAIAAAIC/AAAAgAAAAIAAAIC/AACAPwAAAAAAAACAAACAPwAAAAAAAACAAACAPwAAAAAAAACAAACAPwAAAAAAAACAAAAAgAAAgD8AAAAAAAAAgAAAgD8AAAAAAAAAAAAAAAAAAIA/AAAAAAAAAAAAAIA/AAAAAAAAgL8AAACAAAAAAAAAgL8AAACAAAAAgAAAAIAAAIC/AAAAgAAAAIAAAIC/AACAvwAAAIAAAAAAAACAvwAAAIAAAAAAAACAvwAAAIAAAAAAAACAvwAAAIAAAAAAAACAPwAAAAAAAACAAACAPwAAAAAAAACAAAAAAAAAgL8AAACAAAAAAAAAgL8AAACAAAAAgAAAgD8AAAAAAAAAgAAAgD8AAAAAAAAAgAAAAIAAAIC/AAAAgAAAAIAAAIC/AAAAAAAAAAAAAIA/AAAAAAAAAAAAAIA/",
         "AACAvwAAAIAAAAAAAACAvwAAAIAAAAAAAAAAAAAAgL8AAACAAAAAAAAAgL8AAACAAAAAAAAAAAAAAIA/AAAAAAAAAAAAAIA/AAAAgAAAgD8AAAAAAAAAgAAAgD8AAAAAAAAAgAAAAIAAAIC/AAAAgAAAAIAAAIC/AACAPwAAAAAAAACAAACAPwAAAAAAAACAAACAPwAAAAAAAACAAACAPwAAAAAAAACAAAAAgAAAgD8AAAAAAAAAgAAAgD8AAAAAAAAAAAAAAAAAAIA/AAAAAAAAAAAAAIA/AAAAAAAAgL8AAACAAAAAAAAAgL8AAACAAAAAgAAAAIAAAIC/AAAAgAAAAIAAAIC/AACAvwAAAIAAAAAAAACAvwAAAIAAAAAAAACAvwAAAIAAAAAAAACAvwAAAIAAAAAAAACAPwAAAAAAAACAAACAPwAAAAAAAACAAAAAAAAAgL8AAACAAAAAAAAAgL8AAACAAAAAgAAAgD8AAAAAAAAAgAAAgD8AAAAAAAAAgAAAAIAAAIC/AAAAgAAAAIAAAIC/AAAAAAAAAAAAAIA/AAAAAAAAAAAAAIA/",
         "AACAvwAAAIAAAAAAAACAvwAAAIAAAAAAAAAAAAAAgL8AAACAAAAAAAAAgL8AAACAAAAAAAAAAAAAAIA/AAAAAAAAAAAAAIA/AAAAgAAAgD8AAAAAAAAAgAAAgD8AAAAAAAAAgAAAAIAAAIC/AAAAgAAAAIAAAIC/AACAPwAAAAAAAACAAACAPwAAAAAAAACAAACAPwAAAAAAAACAAACAPwAAAAAAAACAAAAAgAAAgD8AAAAAAAAAgAAAgD8AAAAAAAAAAAAAAAAAAIA/AAAAAAAAAAAAAIA/AAAAAAAAgL8AAACAAAAAAAAAgL8AAACAAAAAgAAAAIAAAIC/AAAAgAAAAIAAAIC/AACAvwAAAIAAAAAAAACAvwAAAIAAAAAAAACAvwAAAIAAAAAAAACAvwAAAIAAAAAAAACAPwAAAAAAAACAAACAPwAAAAAAAACAAAAAAAAAgL8AAACAAAAAAAAAgL8AAACAAAAAgAAAgD8AAAAAAAAAgAAAgD8AAAAAAAAAgAAAAIAAAIC/AAAAgAAAAIAAAIC/AAAAAAAAAAAAAIA/AAAAAAAAAAAAAIA/"
        ],
        "autoscale": false,
        "colors": [
         [
          0,
          1,
          0
         ],
         [
          0,
          1,
          0
         ],
         [
          0,
          1,
          0
         ],
         [
          0,
          1,
          0
         ],
         [
          0,
          1,
          0
         ],
         [
          0,
          1,
          0
         ],
         [
          0,
          1,
          0
         ],
         [
          0,
          1,
          0
         ],
         [
          0,
          1,
          0
         ],
         [
          0,
          1,
          0
         ],
         [
          0,
          1,
          0
         ],
         [
          0,
          1,
          0
         ],
         [
          0,
          1,
          0
         ],
         [
          0,
          1,
          0
         ],
         [
          0,
          1,
          0
         ],
         [
          0,
          1,
          0
         ],
         [
          0,
          1,
          0
         ],
         [
          0,
          1,
          0
         ]
        ],
        "draw_surf": true,
        "draw_vol": false,
        "edge_colors": [
         [
          0,
          0,
          0
         ],
         [
          0,
          0,
          0
         ],
         [
          0,
          0,
          0
         ],
         [
          0,
          0,
          0
         ],
         [
          0,
          0,
          0
         ],
         [
          0,
          0,
          0
         ],
         [
          0,
          0,
          0
         ],
         [
          0,
          0,
          0
         ],
         [
          0,
          0,
          0
         ],
         [
          0,
          0,
          0
         ],
         [
          0,
          0,
          0
         ],
         [
          0,
          0,
          0
         ],
         [
          0,
          0,
          0
         ],
         [
          0,
          0,
          0
         ],
         [
          0,
          0,
          0
         ],
         [
          0,
          0,
          0
         ],
         [
          0,
          0,
          0
         ],
         [
          0,
          0,
          0
         ],
         [
          0,
          0,
          0
         ],
         [
          0,
          0,
          0
         ],
         [
          0,
          0,
          0
         ],
         [
          0,
          0,
          0
         ],
         [
          0,
          0,
          0
         ],
         [
          0,
          0,
          0
         ],
         [
          0,
          0,
          0
         ],
         [
          0,
          0,
          0
         ],
         [
          0,
          0,
          0
         ],
         [
          0,
          0,
          0
         ],
         [
          0,
          0,
          0
         ],
         [
          0,
          0,
          0
         ],
         [
          0,
          0,
          0
         ],
         [
          0,
          0,
          0
         ],
         [
          0,
          0,
          0
         ],
         [
          0,
          0,
          0
         ],
         [
          0,
          0,
          0
         ],
         [
          0,
          0,
          0
         ],
         [
          0,
          0,
          0
         ],
         [
          0,
          0,
          0
         ],
         [
          0,
          0,
          0
         ],
         [
          0,
          0,
          0
         ],
         [
          0,
          0,
          0
         ],
         [
          0,
          0,
          0
         ],
         [
          0,
          0,
          0
         ],
         [
          0,
          0,
          0
         ],
         [
          0,
          0,
          0
         ],
         [
          0,
          0,
          0
         ],
         [
          0,
          0,
          0
         ],
         [
          0,
          0,
          0
         ],
         [
          0,
          0,
          0
         ],
         [
          0,
          0,
          0
         ],
         [
          0,
          0,
          0
         ],
         [
          0,
          0,
          0
         ],
         [
          0,
          0,
          0
         ],
         [
          0,
          0,
          0
         ],
         [
          0,
          0,
          0
         ],
         [
          0,
          0,
          0
         ],
         [
          0,
          0,
          0
         ],
         [
          0,
          0,
          0
         ],
         [
          0,
          0,
          0
         ],
         [
          0,
          0,
          0
         ],
         [
          0,
          0,
          0
         ],
         [
          0,
          0,
          0
         ],
         [
          0,
          0,
          0
         ],
         [
          0,
          0,
          0
         ],
         [
          0,
          0,
          0
         ],
         [
          0,
          0,
          0
         ],
         [
          0,
          0,
          0
         ],
         [
          0,
          0,
          0
         ],
         [
          0,
          0,
          0
         ],
         [
          0,
          0,
          0
         ],
         [
          0,
          0,
          0
         ],
         [
          0,
          0,
          0
         ]
        ],
        "edge_names": [
         "",
         "",
         "",
         "",
         "",
         "",
         "",
         "",
         "",
         "",
         "",
         "",
         "",
         "",
         "",
         "",
         "",
         "",
         "",
         "",
         "",
         "",
         "",
         "",
         "",
         "",
         "",
         "",
         "",
         "",
         "",
         "",
         "",
         "",
         "",
         "",
         "",
         "",
         "",
         "",
         "",
         "",
         "",
         "",
         "",
         "",
         "",
         "",
         "",
         "",
         "",
         "",
         "",
         "",
         "",
         "",
         "",
         "",
         "",
         "",
         "",
         "",
         "",
         "",
         "",
         "",
         "",
         "",
         "",
         "",
         "",
         ""
        ],
        "edges": [
         "AAB6xAAAesQAAHrEAAAAAAAAesQAAHrEAAB6RAAAgD8AAHrEAAB6RAAAesQAAABAAAB6xAAAesQAAHrEAABAQAAAesQAAHrEAAB6xAAAgEAAAHpEAAB6xAAAesQAAKBAAAB6xAAAesQAAHpEAADAQAAAesQAAHrEAAB6xAAA4EAAAHrEAAB6xAAAekQAAABBAAB6xAAAekQAAHpEAAAQQQAAekQAAHrEAAB6RAAAIEEAAHrEAAB6xAAAekQAADBBAAB6xAAAekQAAHrEAABAQQAAekQAAHpEAAB6xAAAUEEAAHrEAAB6RAAAekQAAGBBAAB6xAAAekQAAHrEAABwQQAAesQAAHrEAAB6xAAAgEEAAHrEAAB6RAAAesQAAIhBAAB6RAAAesQAAHrEAACQQQAAesQAAHrEAAB6xAAAmEEAAHpEAAB6xAAAesQAAKBBAAB6RAAAesQAAHpEAACoQQAAekQAAHpEAAB6xAAAsEEAAHpEAAB6xAAAesQAALhBAACgwAAAoMAAAKDAAADAQQAAoMAAAKDAAACgwAAAyEEAAKDAAACgQAAAoMAAANBBAACgwAAAoMAAAKBAAADYQQAAoMAAAKDAAACgwAAA4EEAAKDAAACgwAAAoMAAAOhBAACgwAAAoMAAAKBAAADwQQAAoEAAAKDAAACgwAAA+EEAAKDAAACgwAAAoMAAAABCAACgwAAAoMAAAKDAAAAEQgAAoEAAAKDAAACgwAAACEIAAKDAAACgQAAAoMAAAAxCAACgwAAAoEAAAKDAAAAQQgAAoMAAAKBAAACgwAAAFEIAAKDAAACgQAAAoEAAABhCAACgQAAAoEAAAKDAAAAcQgAAoMAAAKDAAACgQAAAIEIAAKDAAACgwAAAoEAAACRCAACgQAAAoMAAAKBAAAAoQgAAoMAAAKBAAACgQAAALEIAAKBAAACgwAAAoMAAADBCAACgQAAAoMAAAKDAAAA0QgAAoEAAAKBAAACgwAAAOEIAAKBAAACgwAAAoEAAADxCAACgwAAAoMAAAKDAAABAQgAAoMAAAKDAAACgwAAAREIAAKDAAACgQAAAoMAAAEhCAACgwAAAoMAAAKBAAABMQgAAoEAAAKDAAACgwAAAUEIAAKBAAACgwAAAoMAAAFRCAACgQAAAoEAAAKDAAABYQgAAoEAAAKDAAACgQAAAXEIAAKDAAACgwAAAoMAAAGBCAACgwAAAoMAAAKDAAABkQgAAoMAAAKDAAACgQAAAaEIAAKBAAACgwAAAoMAAAGxCAACgwAAAoEAAAKDAAABwQgAAoMAAAKBAAACgwAAAdEIAAKDAAACgQAAAoEAAAHhCAACgQAAAoEAAAKDAAAB8QgAAoMAAAKDAAACgwAAAgEIAAKDAAACgwAAAoMAAAIJCAACgQAAAoMAAAKDAAACEQgAAoMAAAKBAAACgwAAAhkIAAKDAAACgwAAAoEAAAIhCAACgwAAAoMAAAKBAAACKQgAAoEAAAKDAAACgQAAAjEIAAKDAAACgQAAAoEAAAI5C",
         "AAB6xAAAesQAAHpEAAAAAAAAesQAAHpEAAB6RAAAgD8AAHrEAAB6RAAAekQAAABAAAB6xAAAekQAAHrEAABAQAAAekQAAHrEAAB6xAAAgEAAAHpEAAB6xAAAekQAAKBAAAB6RAAAesQAAHpEAADAQAAAesQAAHrEAAB6RAAA4EAAAHrEAAB6RAAAekQAAABBAAB6RAAAekQAAHpEAAAQQQAAekQAAHpEAAB6RAAAIEEAAHpEAAB6xAAAekQAADBBAAB6RAAAekQAAHrEAABAQQAAekQAAHpEAAB6RAAAUEEAAHpEAAB6RAAAekQAAGBBAAB6xAAAekQAAHpEAABwQQAAesQAAHpEAAB6xAAAgEEAAHpEAAB6RAAAesQAAIhBAAB6RAAAekQAAHrEAACQQQAAekQAAHrEAAB6xAAAmEEAAHpEAAB6xAAAekQAAKBBAAB6RAAAekQAAHpEAACoQQAAekQAAHpEAAB6RAAAsEEAAHpEAAB6RAAAesQAALhBAACgwAAAoMAAAKBAAADAQQAAoMAAAKBAAACgwAAAyEEAAKDAAACgQAAAoEAAANBBAACgwAAAoEAAAKBAAADYQQAAoEAAAKDAAACgwAAA4EEAAKDAAACgwAAAoEAAAOhBAACgQAAAoMAAAKBAAADwQQAAoEAAAKDAAACgQAAA+EEAAKDAAACgQAAAoMAAAABCAACgQAAAoMAAAKDAAAAEQgAAoEAAAKBAAACgwAAACEIAAKBAAACgQAAAoMAAAAxCAACgQAAAoEAAAKDAAAAQQgAAoMAAAKBAAACgQAAAFEIAAKBAAACgQAAAoEAAABhCAACgQAAAoEAAAKBAAAAcQgAAoMAAAKBAAACgQAAAIEIAAKBAAACgwAAAoEAAACRCAACgQAAAoEAAAKBAAAAoQgAAoEAAAKBAAACgQAAALEIAAKBAAACgwAAAoEAAADBCAACgQAAAoEAAAKDAAAA0QgAAoEAAAKBAAACgQAAAOEIAAKBAAACgQAAAoEAAADxCAACgwAAAoMAAAKBAAABAQgAAoMAAAKBAAACgwAAAREIAAKDAAACgQAAAoEAAAEhCAACgwAAAoEAAAKBAAABMQgAAoEAAAKDAAACgQAAAUEIAAKBAAACgQAAAoMAAAFRCAACgQAAAoEAAAKBAAABYQgAAoEAAAKBAAACgQAAAXEIAAKBAAACgwAAAoMAAAGBCAACgwAAAoMAAAKBAAABkQgAAoEAAAKDAAACgQAAAaEIAAKBAAACgwAAAoEAAAGxCAACgQAAAoEAAAKDAAABwQgAAoMAAAKBAAACgQAAAdEIAAKBAAACgQAAAoEAAAHhCAACgQAAAoEAAAKBAAAB8QgAAoMAAAKBAAACgwAAAgEIAAKBAAACgwAAAoMAAAIJCAACgQAAAoEAAAKDAAACEQgAAoEAAAKBAAACgwAAAhkIAAKDAAACgQAAAoEAAAIhCAACgQAAAoMAAAKBAAACKQgAAoEAAAKBAAACgQAAAjEIAAKBAAACgQAAAoEAAAI5C"
        ],
        "funcdim": 0,
        "funcmax": 1,
        "funcmin": 0,
        "have_normals": true,
        "mesh_center": [
         0,
         0,
         0
        ],
        "mesh_dim": 3,
        "mesh_radius": 1732.0508075688772,
        "mesh_regions_2d": 72,
        "names": [
         "outer",
         "outer",
         "outer",
         "outer",
         "outer",
         "outer",
         "default",
         "default",
         "default",
         "default",
         "default",
         "default",
         "default",
         "default",
         "default",
         "default",
         "default",
         "default"
        ],
        "ngsolve_version": "Netgen x.x",
        "order2d": 1,
        "order3d": 0,
        "show_mesh": true,
        "show_wireframe": true,
        "solid_face_map": [
         [
          0,
          1,
          2,
          3,
          4,
          5,
          6,
          7,
          8,
          9,
          10,
          11
         ],
         [
          6,
          11,
          7,
          9,
          8,
          10
         ]
        ],
        "solid_names": [
         "air",
         "cube"
        ]
       }
      }
     },
     "3814721224364a74a640cca137cc56c8": {
      "model_module": "@jupyter-widgets/base",
      "model_module_version": "2.0.0",
      "model_name": "LayoutModel",
      "state": {
       "height": "50vh",
       "width": "100%"
      }
     },
     "498ddd55a6b44878b4adbd449520d505": {
      "model_module": "webgui_jupyter_widgets",
      "model_module_version": "0.2.14",
      "model_name": "WebguiModel",
      "state": {
       "layout": "IPY_MODEL_de8cae377a5d4a1d8c2ab6e5fcefa3db",
       "value": {
        "Bezier_points": [],
        "Bezier_trig_points": [
         "AAB6xAAAesQAAHpEAAAAAAAAesQAAHrEAAB6RAAAAAAAAHpEAAB6xAAAekQAAIA/AAB6RAAAesQAAHpEAACAPwAAekQAAHpEAAB6RAAAAEAAAHpEAAB6RAAAekQAAABAAAB6RAAAekQAAHpEAABAQAAAekQAAHpEAAB6RAAAQEAAAHpEAAB6RAAAesQAAIBAAAB6RAAAekQAAHrEAACAQAAAekQAAHrEAAB6RAAAoEAAAHpEAAB6xAAAekQAAKBAAACgwAAAoMAAAKBAAADAQAAAoMAAAKDAAACgQAAAwEAAAKBAAACgwAAAoEAAAOBAAACgQAAAoMAAAKBAAADgQAAAoEAAAKBAAACgwAAAAEEAAKBAAACgQAAAoMAAAABBAACgQAAAoEAAAKBAAAAQQQAAoEAAAKBAAACgQAAAEEEAAKBAAACgQAAAoEAAACBBAACgQAAAoEAAAKBAAAAgQQAAoEAAAKDAAACgQAAAMEEAAKBAAACgwAAAoEAAADBB",
         "AAB6xAAAekQAAHrEAAAAAAAAesQAAHpEAAB6RAAAAAAAAHrEAAB6xAAAesQAAIA/AAB6xAAAesQAAHpEAACAPwAAesQAAHpEAAB6RAAAAEAAAHrEAAB6xAAAekQAAABAAAB6RAAAekQAAHrEAABAQAAAesQAAHpEAAB6xAAAQEAAAHrEAAB6xAAAesQAAIBAAAB6RAAAesQAAHrEAACAQAAAekQAAHrEAAB6xAAAoEAAAHpEAAB6RAAAesQAAKBAAACgwAAAoMAAAKDAAADAQAAAoMAAAKBAAACgwAAAwEAAAKBAAACgwAAAoMAAAOBAAACgwAAAoMAAAKDAAADgQAAAoMAAAKBAAACgwAAAAEEAAKDAAACgwAAAoMAAAABBAACgwAAAoEAAAKDAAAAQQQAAoMAAAKBAAACgQAAAEEEAAKDAAACgwAAAoEAAACBBAACgQAAAoMAAAKBAAAAgQQAAoEAAAKBAAACgwAAAMEEAAKBAAACgQAAAoEAAADBB",
         "AAB6xAAAesQAAHrEAAAAAAAAesQAAHpEAAB6xAAAAAAAAHpEAAB6xAAAesQAAIA/AAB6xAAAesQAAHrEAACAPwAAesQAAHrEAAB6RAAAAEAAAHpEAAB6xAAAekQAAABAAAB6xAAAekQAAHrEAABAQAAAesQAAHpEAAB6RAAAQEAAAHrEAAB6RAAAesQAAIBAAAB6xAAAesQAAHrEAACAQAAAekQAAHpEAAB6xAAAoEAAAHpEAAB6RAAAekQAAKBAAACgwAAAoEAAAKDAAADAQAAAoMAAAKBAAACgQAAAwEAAAKDAAACgwAAAoMAAAOBAAACgwAAAoMAAAKBAAADgQAAAoMAAAKDAAACgwAAAAEEAAKBAAACgwAAAoMAAAABBAACgQAAAoEAAAKDAAAAQQQAAoMAAAKBAAACgwAAAEEEAAKDAAACgQAAAoEAAACBBAACgwAAAoMAAAKBAAAAgQQAAoEAAAKDAAACgwAAAMEEAAKBAAACgQAAAoMAAADBB",
         "AACAvwAAAIAAAAAAAACAvwAAAIAAAAAAAAAAAAAAgL8AAACAAAAAAAAAgL8AAACAAAAAAAAAAAAAAIA/AAAAAAAAAAAAAIA/AAAAgAAAgD8AAAAAAAAAgAAAgD8AAAAAAAAAgAAAAIAAAIC/AAAAgAAAAIAAAIC/AACAPwAAAAAAAACAAACAPwAAAAAAAACAAACAPwAAAAAAAACAAACAPwAAAAAAAACAAAAAgAAAgD8AAAAAAAAAgAAAgD8AAAAAAAAAAAAAAAAAAIA/AAAAAAAAAAAAAIA/AAAAAAAAgL8AAACAAAAAAAAAgL8AAACAAAAAgAAAAIAAAIC/AAAAgAAAAIAAAIC/AACAvwAAAIAAAAAAAACAvwAAAIAAAAAA",
         "AACAvwAAAIAAAAAAAACAvwAAAIAAAAAAAAAAAAAAgL8AAACAAAAAAAAAgL8AAACAAAAAAAAAAAAAAIA/AAAAAAAAAAAAAIA/AAAAgAAAgD8AAAAAAAAAgAAAgD8AAAAAAAAAgAAAAIAAAIC/AAAAgAAAAIAAAIC/AACAPwAAAAAAAACAAACAPwAAAAAAAACAAACAPwAAAAAAAACAAACAPwAAAAAAAACAAAAAgAAAgD8AAAAAAAAAgAAAgD8AAAAAAAAAAAAAAAAAAIA/AAAAAAAAAAAAAIA/AAAAAAAAgL8AAACAAAAAAAAAgL8AAACAAAAAgAAAAIAAAIC/AAAAgAAAAIAAAIC/AACAvwAAAIAAAAAAAACAvwAAAIAAAAAA",
         "AACAvwAAAIAAAAAAAACAvwAAAIAAAAAAAAAAAAAAgL8AAACAAAAAAAAAgL8AAACAAAAAAAAAAAAAAIA/AAAAAAAAAAAAAIA/AAAAgAAAgD8AAAAAAAAAgAAAgD8AAAAAAAAAgAAAAIAAAIC/AAAAgAAAAIAAAIC/AACAPwAAAAAAAACAAACAPwAAAAAAAACAAACAPwAAAAAAAACAAACAPwAAAAAAAACAAAAAgAAAgD8AAAAAAAAAgAAAgD8AAAAAAAAAAAAAAAAAAIA/AAAAAAAAAAAAAIA/AAAAAAAAgL8AAACAAAAAAAAAgL8AAACAAAAAgAAAAIAAAIC/AAAAgAAAAIAAAIC/AACAvwAAAIAAAAAAAACAvwAAAIAAAAAA"
        ],
        "autoscale": false,
        "colors": [
         [
          0,
          1,
          0
         ],
         [
          0,
          1,
          0
         ],
         [
          0,
          1,
          0
         ],
         [
          0,
          1,
          0
         ],
         [
          0,
          1,
          0
         ],
         [
          0,
          1,
          0
         ],
         [
          0,
          1,
          0
         ],
         [
          0,
          1,
          0
         ],
         [
          0,
          1,
          0
         ],
         [
          0,
          1,
          0
         ],
         [
          0,
          1,
          0
         ],
         [
          0,
          1,
          0
         ]
        ],
        "draw_surf": true,
        "draw_vol": false,
        "edge_colors": [
         [
          0,
          0,
          0
         ],
         [
          0,
          0,
          0
         ],
         [
          0,
          0,
          0
         ],
         [
          0,
          0,
          0
         ],
         [
          0,
          0,
          0
         ],
         [
          0,
          0,
          0
         ],
         [
          0,
          0,
          0
         ],
         [
          0,
          0,
          0
         ],
         [
          0,
          0,
          0
         ],
         [
          0,
          0,
          0
         ],
         [
          0,
          0,
          0
         ],
         [
          0,
          0,
          0
         ],
         [
          0,
          0,
          0
         ],
         [
          0,
          0,
          0
         ],
         [
          0,
          0,
          0
         ],
         [
          0,
          0,
          0
         ],
         [
          0,
          0,
          0
         ],
         [
          0,
          0,
          0
         ],
         [
          0,
          0,
          0
         ],
         [
          0,
          0,
          0
         ],
         [
          0,
          0,
          0
         ],
         [
          0,
          0,
          0
         ],
         [
          0,
          0,
          0
         ],
         [
          0,
          0,
          0
         ],
         [
          0,
          0,
          0
         ],
         [
          0,
          0,
          0
         ],
         [
          0,
          0,
          0
         ],
         [
          0,
          0,
          0
         ],
         [
          0,
          0,
          0
         ],
         [
          0,
          0,
          0
         ],
         [
          0,
          0,
          0
         ],
         [
          0,
          0,
          0
         ],
         [
          0,
          0,
          0
         ],
         [
          0,
          0,
          0
         ],
         [
          0,
          0,
          0
         ],
         [
          0,
          0,
          0
         ],
         [
          0,
          0,
          0
         ],
         [
          0,
          0,
          0
         ],
         [
          0,
          0,
          0
         ],
         [
          0,
          0,
          0
         ],
         [
          0,
          0,
          0
         ],
         [
          0,
          0,
          0
         ],
         [
          0,
          0,
          0
         ],
         [
          0,
          0,
          0
         ],
         [
          0,
          0,
          0
         ],
         [
          0,
          0,
          0
         ],
         [
          0,
          0,
          0
         ],
         [
          0,
          0,
          0
         ],
         [
          0,
          0,
          0
         ],
         [
          0,
          0,
          0
         ],
         [
          0,
          0,
          0
         ],
         [
          0,
          0,
          0
         ],
         [
          0,
          0,
          0
         ],
         [
          0,
          0,
          0
         ],
         [
          0,
          0,
          0
         ],
         [
          0,
          0,
          0
         ],
         [
          0,
          0,
          0
         ],
         [
          0,
          0,
          0
         ],
         [
          0,
          0,
          0
         ],
         [
          0,
          0,
          0
         ],
         [
          0,
          0,
          0
         ],
         [
          0,
          0,
          0
         ],
         [
          0,
          0,
          0
         ],
         [
          0,
          0,
          0
         ],
         [
          0,
          0,
          0
         ],
         [
          0,
          0,
          0
         ],
         [
          0,
          0,
          0
         ],
         [
          0,
          0,
          0
         ],
         [
          0,
          0,
          0
         ],
         [
          0,
          0,
          0
         ],
         [
          0,
          0,
          0
         ],
         [
          0,
          0,
          0
         ]
        ],
        "edge_names": [
         "",
         "",
         "",
         "",
         "",
         "",
         "",
         "",
         "",
         "",
         "",
         "",
         "",
         "",
         "",
         "",
         "",
         "",
         "",
         "",
         "",
         "",
         "",
         "",
         "",
         "",
         "",
         "",
         "",
         "",
         "",
         "",
         "",
         "",
         "",
         "",
         "",
         "",
         "",
         "",
         "",
         "",
         "",
         "",
         "",
         "",
         "",
         "",
         "",
         "",
         "",
         "",
         "",
         "",
         "",
         "",
         "",
         "",
         "",
         "",
         "",
         "",
         "",
         "",
         "",
         "",
         "",
         "",
         "",
         "",
         "",
         ""
        ],
        "edges": [
         "AAB6xAAAesQAAHrEAAAAAAAAesQAAHrEAAB6RAAAgD8AAHrEAAB6RAAAesQAAABAAAB6xAAAesQAAHrEAABAQAAAesQAAHrEAAB6xAAAgEAAAHpEAAB6xAAAesQAAKBAAAB6xAAAesQAAHpEAADAQAAAesQAAHrEAAB6xAAA4EAAAHrEAAB6xAAAekQAAABBAAB6xAAAekQAAHpEAAAQQQAAekQAAHrEAAB6RAAAIEEAAHrEAAB6xAAAekQAADBBAAB6xAAAekQAAHrEAABAQQAAekQAAHpEAAB6xAAAUEEAAHrEAAB6RAAAekQAAGBBAAB6xAAAekQAAHrEAABwQQAAesQAAHrEAAB6xAAAgEEAAHrEAAB6RAAAesQAAIhBAAB6RAAAesQAAHrEAACQQQAAesQAAHrEAAB6xAAAmEEAAHpEAAB6xAAAesQAAKBBAAB6RAAAesQAAHpEAACoQQAAekQAAHpEAAB6xAAAsEEAAHpEAAB6xAAAesQAALhBAACgwAAAoMAAAKDAAADAQQAAoMAAAKDAAACgwAAAyEEAAKDAAACgQAAAoMAAANBBAACgwAAAoMAAAKBAAADYQQAAoMAAAKDAAACgwAAA4EEAAKDAAACgwAAAoMAAAOhBAACgwAAAoMAAAKBAAADwQQAAoEAAAKDAAACgwAAA+EEAAKDAAACgwAAAoMAAAABCAACgwAAAoMAAAKDAAAAEQgAAoEAAAKDAAACgwAAACEIAAKDAAACgQAAAoMAAAAxCAACgwAAAoEAAAKDAAAAQQgAAoMAAAKBAAACgwAAAFEIAAKDAAACgQAAAoEAAABhCAACgQAAAoEAAAKDAAAAcQgAAoMAAAKDAAACgQAAAIEIAAKDAAACgwAAAoEAAACRCAACgQAAAoMAAAKBAAAAoQgAAoMAAAKBAAACgQAAALEIAAKBAAACgwAAAoMAAADBCAACgQAAAoMAAAKDAAAA0QgAAoEAAAKBAAACgwAAAOEIAAKBAAACgwAAAoEAAADxCAACgwAAAoMAAAKDAAABAQgAAoMAAAKDAAACgwAAAREIAAKDAAACgQAAAoMAAAEhCAACgwAAAoMAAAKBAAABMQgAAoEAAAKDAAACgwAAAUEIAAKBAAACgwAAAoMAAAFRCAACgQAAAoEAAAKDAAABYQgAAoEAAAKDAAACgQAAAXEIAAKDAAACgwAAAoMAAAGBCAACgwAAAoMAAAKDAAABkQgAAoMAAAKDAAACgQAAAaEIAAKBAAACgwAAAoMAAAGxCAACgwAAAoEAAAKDAAABwQgAAoMAAAKBAAACgwAAAdEIAAKDAAACgQAAAoEAAAHhCAACgQAAAoEAAAKDAAAB8QgAAoMAAAKDAAACgwAAAgEIAAKDAAACgwAAAoMAAAIJCAACgQAAAoMAAAKDAAACEQgAAoMAAAKBAAACgwAAAhkIAAKDAAACgwAAAoEAAAIhCAACgwAAAoMAAAKBAAACKQgAAoEAAAKDAAACgQAAAjEIAAKDAAACgQAAAoEAAAI5C",
         "AAB6xAAAesQAAHpEAAAAAAAAesQAAHpEAAB6RAAAgD8AAHrEAAB6RAAAekQAAABAAAB6xAAAekQAAHrEAABAQAAAekQAAHrEAAB6xAAAgEAAAHpEAAB6xAAAekQAAKBAAAB6RAAAesQAAHpEAADAQAAAesQAAHrEAAB6RAAA4EAAAHrEAAB6RAAAekQAAABBAAB6RAAAekQAAHpEAAAQQQAAekQAAHpEAAB6RAAAIEEAAHpEAAB6xAAAekQAADBBAAB6RAAAekQAAHrEAABAQQAAekQAAHpEAAB6RAAAUEEAAHpEAAB6RAAAekQAAGBBAAB6xAAAekQAAHpEAABwQQAAesQAAHpEAAB6xAAAgEEAAHpEAAB6RAAAesQAAIhBAAB6RAAAekQAAHrEAACQQQAAekQAAHrEAAB6xAAAmEEAAHpEAAB6xAAAekQAAKBBAAB6RAAAekQAAHpEAACoQQAAekQAAHpEAAB6RAAAsEEAAHpEAAB6RAAAesQAALhBAACgwAAAoMAAAKBAAADAQQAAoMAAAKBAAACgwAAAyEEAAKDAAACgQAAAoEAAANBBAACgwAAAoEAAAKBAAADYQQAAoEAAAKDAAACgwAAA4EEAAKDAAACgwAAAoEAAAOhBAACgQAAAoMAAAKBAAADwQQAAoEAAAKDAAACgQAAA+EEAAKDAAACgQAAAoMAAAABCAACgQAAAoMAAAKDAAAAEQgAAoEAAAKBAAACgwAAACEIAAKBAAACgQAAAoMAAAAxCAACgQAAAoEAAAKDAAAAQQgAAoMAAAKBAAACgQAAAFEIAAKBAAACgQAAAoEAAABhCAACgQAAAoEAAAKBAAAAcQgAAoMAAAKBAAACgQAAAIEIAAKBAAACgwAAAoEAAACRCAACgQAAAoEAAAKBAAAAoQgAAoEAAAKBAAACgQAAALEIAAKBAAACgwAAAoEAAADBCAACgQAAAoEAAAKDAAAA0QgAAoEAAAKBAAACgQAAAOEIAAKBAAACgQAAAoEAAADxCAACgwAAAoMAAAKBAAABAQgAAoMAAAKBAAACgwAAAREIAAKDAAACgQAAAoEAAAEhCAACgwAAAoEAAAKBAAABMQgAAoEAAAKDAAACgQAAAUEIAAKBAAACgQAAAoMAAAFRCAACgQAAAoEAAAKBAAABYQgAAoEAAAKBAAACgQAAAXEIAAKBAAACgwAAAoMAAAGBCAACgwAAAoMAAAKBAAABkQgAAoEAAAKDAAACgQAAAaEIAAKBAAACgwAAAoEAAAGxCAACgQAAAoEAAAKDAAABwQgAAoMAAAKBAAACgQAAAdEIAAKBAAACgQAAAoEAAAHhCAACgQAAAoEAAAKBAAAB8QgAAoMAAAKBAAACgwAAAgEIAAKBAAACgwAAAoMAAAIJCAACgQAAAoEAAAKDAAACEQgAAoEAAAKBAAACgwAAAhkIAAKDAAACgQAAAoEAAAIhCAACgQAAAoMAAAKBAAACKQgAAoEAAAKBAAACgQAAAjEIAAKBAAACgQAAAoEAAAI5C"
        ],
        "funcdim": 0,
        "funcmax": 1,
        "funcmin": 0,
        "have_normals": true,
        "mesh_center": [
         0,
         0,
         0
        ],
        "mesh_dim": 3,
        "mesh_radius": 1732.0508075688772,
        "mesh_regions_2d": 72,
        "names": [
         "outer",
         "outer",
         "outer",
         "outer",
         "outer",
         "outer",
         "default",
         "default",
         "default",
         "default",
         "default",
         "default"
        ],
        "ngsolve_version": "Netgen x.x",
        "order2d": 1,
        "order3d": 0,
        "show_mesh": true,
        "show_wireframe": true,
        "solid_face_map": [
         [
          0,
          1,
          2,
          3,
          4,
          5,
          6,
          7,
          8,
          9,
          10,
          11
         ],
         [
          6,
          11,
          7,
          9,
          8,
          10
         ]
        ],
        "solid_names": [
         "air",
         "cube"
        ]
       }
      }
     },
     "622ca3d5690b4b4ab88cc79e262d50e2": {
      "model_module": "@jupyter-widgets/base",
      "model_module_version": "2.0.0",
      "model_name": "LayoutModel",
      "state": {
       "height": "50vh",
       "width": "100%"
      }
     },
     "76493709f8764a918c062edd95502549": {
      "model_module": "webgui_jupyter_widgets",
      "model_module_version": "0.2.14",
      "model_name": "WebguiModel",
      "state": {
       "layout": "IPY_MODEL_aa6e6e5c2a464c5ea235017e96d344e9",
       "value": {
        "Bezier_points": [],
        "Bezier_trig_points": [
         "AAAAAAAAAAAAACBBAAAAAAAAAAAAAAAAAAAgQQAAAAAAACBBAAAAAAAAIEEAAIA/AAAgQQAAAAAAACBBAACAPwAAIEEAAAAAAAAgQQAAAEAAACBBAAAAAAAAIEEAAABAAAAgQQAAIEEAACBBAABAQAAAIEEAACBBAAAgQQAAQEAAACBBAAAgQQAAAAAAAIBAAAAgQQAAIEEAAAAAAACAQAAAIEEAACBBAAAgQQAAoEAAACBBAAAgQQAAIEEAAKBA",
         "AAAAAAAAIEEAAAAAAAAAAAAAAAAAACBBAAAgQQAAAAAAACBBAAAAAAAAAAAAAIA/AAAgQQAAIEEAAAAAAACAPwAAAAAAAAAAAAAAAAAAAEAAAAAAAAAAAAAAIEEAAABAAAAgQQAAIEEAAAAAAABAQAAAAAAAACBBAAAAAAAAQEAAAAAAAAAAAAAAAAAAAIBAAAAgQQAAAAAAAAAAAACAQAAAAAAAACBBAAAgQQAAoEAAAAAAAAAAAAAAIEEAAKBA",
         "AAAAAAAAAAAAAAAAAAAAAAAAAAAAACBBAAAAAAAAAAAAACBBAAAgQQAAAAAAAIA/AAAgQQAAIEEAACBBAACAPwAAIEEAAAAAAAAAAAAAAEAAAAAAAAAAAAAAAAAAAABAAAAAAAAAIEEAAAAAAABAQAAAAAAAACBBAAAgQQAAQEAAAAAAAAAgQQAAAAAAAIBAAAAAAAAAAAAAAAAAAACAQAAAAAAAAAAAAAAgQQAAoEAAACBBAAAAAAAAIEEAAKBA",
         "AACAvwAAAIAAAAAAAACAvwAAAIAAAAAAAACAPwAAAAAAAACAAACAPwAAAAAAAACAAAAAAAAAgL8AAACAAAAAAAAAgL8AAACAAAAAgAAAgD8AAAAAAAAAgAAAgD8AAAAAAAAAgAAAAIAAAIC/AAAAgAAAAIAAAIC/AAAAAAAAAAAAAIA/AAAAAAAAAAAAAIA/",
         "AACAvwAAAIAAAAAAAACAvwAAAIAAAAAAAACAPwAAAAAAAACAAACAPwAAAAAAAACAAAAAAAAAgL8AAACAAAAAAAAAgL8AAACAAAAAgAAAgD8AAAAAAAAAgAAAgD8AAAAAAAAAgAAAAIAAAIC/AAAAgAAAAIAAAIC/AAAAAAAAAAAAAIA/AAAAAAAAAAAAAIA/",
         "AACAvwAAAIAAAAAAAACAvwAAAIAAAAAAAACAPwAAAAAAAACAAACAPwAAAAAAAACAAAAAAAAAgL8AAACAAAAAAAAAgL8AAACAAAAAgAAAgD8AAAAAAAAAgAAAgD8AAAAAAAAAgAAAAIAAAIC/AAAAgAAAAIAAAIC/AAAAAAAAAAAAAIA/AAAAAAAAAAAAAIA/"
        ],
        "autoscale": false,
        "colors": [
         [
          0,
          1,
          0
         ],
         [
          0,
          1,
          0
         ],
         [
          0,
          1,
          0
         ],
         [
          0,
          1,
          0
         ],
         [
          0,
          1,
          0
         ],
         [
          0,
          1,
          0
         ]
        ],
        "draw_surf": true,
        "draw_vol": false,
        "edge_colors": [
         [
          0,
          0,
          0
         ],
         [
          0,
          0,
          0
         ],
         [
          0,
          0,
          0
         ],
         [
          0,
          0,
          0
         ],
         [
          0,
          0,
          0
         ],
         [
          0,
          0,
          0
         ],
         [
          0,
          0,
          0
         ],
         [
          0,
          0,
          0
         ],
         [
          0,
          0,
          0
         ],
         [
          0,
          0,
          0
         ],
         [
          0,
          0,
          0
         ],
         [
          0,
          0,
          0
         ],
         [
          0,
          0,
          0
         ],
         [
          0,
          0,
          0
         ],
         [
          0,
          0,
          0
         ],
         [
          0,
          0,
          0
         ],
         [
          0,
          0,
          0
         ],
         [
          0,
          0,
          0
         ],
         [
          0,
          0,
          0
         ],
         [
          0,
          0,
          0
         ],
         [
          0,
          0,
          0
         ],
         [
          0,
          0,
          0
         ],
         [
          0,
          0,
          0
         ],
         [
          0,
          0,
          0
         ]
        ],
        "edge_names": [
         "",
         "",
         "",
         "",
         "",
         "",
         "",
         "",
         "",
         "",
         "",
         "",
         "",
         "",
         "",
         "",
         "",
         "",
         "",
         "",
         "",
         "",
         "",
         ""
        ],
        "edges": [
         "AAAAAAAAAAAAAAAAAAAAAAAAAAAAAAAAAAAAAAAAgD8AAAAAAAAgQQAAAAAAAABAAAAAAAAAAAAAACBBAABAQAAAIEEAAAAAAAAAAAAAgEAAACBBAAAAAAAAAAAAAKBAAAAgQQAAIEEAAAAAAADAQAAAIEEAAAAAAAAgQQAA4EAAAAAAAAAAAAAAAAAAAABBAAAAAAAAAAAAAAAAAAAQQQAAAAAAAAAAAAAgQQAAIEEAACBBAAAAAAAAAAAAADBBAAAAAAAAIEEAAAAAAABAQQAAAAAAACBBAAAAAAAAUEEAAAAAAAAgQQAAIEEAAGBBAAAgQQAAIEEAAAAAAABwQQAAAAAAAAAAAAAAAAAAgEEAAAAAAAAAAAAAAAAAAIhBAAAgQQAAAAAAAAAAAACQQQAAAAAAACBBAAAAAAAAmEEAAAAAAAAAAAAAIEEAAKBBAAAAAAAAAAAAACBBAACoQQAAIEEAAAAAAAAgQQAAsEEAAAAAAAAgQQAAIEEAALhB",
         "AAAAAAAAAAAAACBBAAAAAAAAAAAAACBBAAAAAAAAgD8AAAAAAAAgQQAAIEEAAABAAAAAAAAAIEEAACBBAABAQAAAIEEAAAAAAAAgQQAAgEAAACBBAAAgQQAAAAAAAKBAAAAgQQAAIEEAACBBAADAQAAAIEEAACBBAAAgQQAA4EAAACBBAAAAAAAAAAAAAABBAAAAAAAAAAAAACBBAAAQQQAAIEEAAAAAAAAgQQAAIEEAACBBAAAAAAAAIEEAADBBAAAgQQAAIEEAAAAAAABAQQAAAAAAACBBAAAgQQAAUEEAACBBAAAgQQAAIEEAAGBBAAAgQQAAIEEAACBBAABwQQAAAAAAACBBAAAAAAAAgEEAACBBAAAAAAAAAAAAAIhBAAAgQQAAIEEAAAAAAACQQQAAIEEAACBBAAAAAAAAmEEAAAAAAAAgQQAAIEEAAKBBAAAgQQAAAAAAACBBAACoQQAAIEEAACBBAAAgQQAAsEEAACBBAAAgQQAAIEEAALhB"
        ],
        "funcdim": 0,
        "funcmax": 1,
        "funcmin": 0,
        "have_normals": true,
        "mesh_center": [
         5,
         5,
         5
        ],
        "mesh_dim": 3,
        "mesh_radius": 8.660254037844387,
        "mesh_regions_2d": 24,
        "names": [
         "",
         "",
         "",
         "",
         "",
         ""
        ],
        "ngsolve_version": "Netgen x.x",
        "order2d": 1,
        "order3d": 0,
        "show_mesh": true,
        "show_wireframe": true,
        "solid_face_map": [
         [
          0,
          1,
          2,
          3,
          4,
          5
         ]
        ],
        "solid_names": [
         ""
        ]
       }
      }
     },
     "8405338e9c6544debe17f109dad510a8": {
      "model_module": "@jupyter-widgets/base",
      "model_module_version": "2.0.0",
      "model_name": "LayoutModel",
      "state": {
       "height": "50vh",
       "width": "100%"
      }
     },
     "a8f693d1db1e4b268e2de4604e8bd6fe": {
      "model_module": "webgui_jupyter_widgets",
      "model_module_version": "0.2.14",
      "model_name": "WebguiModel",
      "state": {
       "layout": "IPY_MODEL_3814721224364a74a640cca137cc56c8",
       "value": {
        "Bezier_points": [],
        "Bezier_trig_points": [
         "AAAAAAAAAAAAACBBAAAAAAAAAAAAAAAAAAAgQQAAAAAAACBBAAAAAAAAIEEAAIA/AAAgQQAAAAAAACBBAACAPwAAIEEAAAAAAAAgQQAAAEAAACBBAAAAAAAAIEEAAABAAAAgQQAAIEEAACBBAABAQAAAIEEAACBBAAAgQQAAQEAAACBBAAAgQQAAAAAAAIBAAAAgQQAAIEEAAAAAAACAQAAAIEEAACBBAAAgQQAAoEAAACBBAAAgQQAAIEEAAKBA",
         "AAAAAAAAIEEAAAAAAAAAAAAAAAAAACBBAAAgQQAAAAAAACBBAAAAAAAAAAAAAIA/AAAgQQAAIEEAAAAAAACAPwAAAAAAAAAAAAAAAAAAAEAAAAAAAAAAAAAAIEEAAABAAAAgQQAAIEEAAAAAAABAQAAAAAAAACBBAAAAAAAAQEAAAAAAAAAAAAAAAAAAAIBAAAAgQQAAAAAAAAAAAACAQAAAAAAAACBBAAAgQQAAoEAAAAAAAAAAAAAAIEEAAKBA",
         "AAAAAAAAAAAAAAAAAAAAAAAAAAAAACBBAAAAAAAAAAAAACBBAAAgQQAAAAAAAIA/AAAgQQAAIEEAACBBAACAPwAAIEEAAAAAAAAAAAAAAEAAAAAAAAAAAAAAAAAAAABAAAAAAAAAIEEAAAAAAABAQAAAAAAAACBBAAAgQQAAQEAAAAAAAAAgQQAAAAAAAIBAAAAAAAAAAAAAAAAAAACAQAAAAAAAAAAAAAAgQQAAoEAAACBBAAAAAAAAIEEAAKBA",
         "AACAvwAAAIAAAAAAAACAvwAAAIAAAAAAAACAPwAAAAAAAACAAACAPwAAAAAAAACAAAAAAAAAgL8AAACAAAAAAAAAgL8AAACAAAAAgAAAgD8AAAAAAAAAgAAAgD8AAAAAAAAAgAAAAIAAAIC/AAAAgAAAAIAAAIC/AAAAAAAAAAAAAIA/AAAAAAAAAAAAAIA/",
         "AACAvwAAAIAAAAAAAACAvwAAAIAAAAAAAACAPwAAAAAAAACAAACAPwAAAAAAAACAAAAAAAAAgL8AAACAAAAAAAAAgL8AAACAAAAAgAAAgD8AAAAAAAAAgAAAgD8AAAAAAAAAgAAAAIAAAIC/AAAAgAAAAIAAAIC/AAAAAAAAAAAAAIA/AAAAAAAAAAAAAIA/",
         "AACAvwAAAIAAAAAAAACAvwAAAIAAAAAAAACAPwAAAAAAAACAAACAPwAAAAAAAACAAAAAAAAAgL8AAACAAAAAAAAAgL8AAACAAAAAgAAAgD8AAAAAAAAAgAAAgD8AAAAAAAAAgAAAAIAAAIC/AAAAgAAAAIAAAIC/AAAAAAAAAAAAAIA/AAAAAAAAAAAAAIA/"
        ],
        "autoscale": false,
        "colors": [
         [
          0,
          1,
          0
         ],
         [
          0,
          1,
          0
         ],
         [
          0,
          1,
          0
         ],
         [
          0,
          1,
          0
         ],
         [
          0,
          1,
          0
         ],
         [
          0,
          1,
          0
         ]
        ],
        "draw_surf": true,
        "draw_vol": false,
        "edge_colors": [
         [
          0,
          0,
          0
         ],
         [
          0,
          0,
          0
         ],
         [
          0,
          0,
          0
         ],
         [
          0,
          0,
          0
         ],
         [
          0,
          0,
          0
         ],
         [
          0,
          0,
          0
         ],
         [
          0,
          0,
          0
         ],
         [
          0,
          0,
          0
         ],
         [
          0,
          0,
          0
         ],
         [
          0,
          0,
          0
         ],
         [
          0,
          0,
          0
         ],
         [
          0,
          0,
          0
         ],
         [
          0,
          0,
          0
         ],
         [
          0,
          0,
          0
         ],
         [
          0,
          0,
          0
         ],
         [
          0,
          0,
          0
         ],
         [
          0,
          0,
          0
         ],
         [
          0,
          0,
          0
         ],
         [
          0,
          0,
          0
         ],
         [
          0,
          0,
          0
         ],
         [
          0,
          0,
          0
         ],
         [
          0,
          0,
          0
         ],
         [
          0,
          0,
          0
         ],
         [
          0,
          0,
          0
         ]
        ],
        "edge_names": [
         "",
         "",
         "",
         "",
         "",
         "",
         "",
         "",
         "",
         "",
         "",
         "",
         "",
         "",
         "",
         "",
         "",
         "",
         "",
         "",
         "",
         "",
         "",
         ""
        ],
        "edges": [
         "AAAAAAAAAAAAAAAAAAAAAAAAAAAAAAAAAAAAAAAAgD8AAAAAAAAgQQAAAAAAAABAAAAAAAAAAAAAACBBAABAQAAAIEEAAAAAAAAAAAAAgEAAACBBAAAAAAAAAAAAAKBAAAAgQQAAIEEAAAAAAADAQAAAIEEAAAAAAAAgQQAA4EAAAAAAAAAAAAAAAAAAAABBAAAAAAAAAAAAAAAAAAAQQQAAAAAAAAAAAAAgQQAAIEEAACBBAAAAAAAAAAAAADBBAAAAAAAAIEEAAAAAAABAQQAAAAAAACBBAAAAAAAAUEEAAAAAAAAgQQAAIEEAAGBBAAAgQQAAIEEAAAAAAABwQQAAAAAAAAAAAAAAAAAAgEEAAAAAAAAAAAAAAAAAAIhBAAAgQQAAAAAAAAAAAACQQQAAAAAAACBBAAAAAAAAmEEAAAAAAAAAAAAAIEEAAKBBAAAAAAAAAAAAACBBAACoQQAAIEEAAAAAAAAgQQAAsEEAAAAAAAAgQQAAIEEAALhB",
         "AAAAAAAAAAAAACBBAAAAAAAAAAAAACBBAAAAAAAAgD8AAAAAAAAgQQAAIEEAAABAAAAAAAAAIEEAACBBAABAQAAAIEEAAAAAAAAgQQAAgEAAACBBAAAgQQAAAAAAAKBAAAAgQQAAIEEAACBBAADAQAAAIEEAACBBAAAgQQAA4EAAACBBAAAAAAAAAAAAAABBAAAAAAAAAAAAACBBAAAQQQAAIEEAAAAAAAAgQQAAIEEAACBBAAAAAAAAIEEAADBBAAAgQQAAIEEAAAAAAABAQQAAAAAAACBBAAAgQQAAUEEAACBBAAAgQQAAIEEAAGBBAAAgQQAAIEEAACBBAABwQQAAAAAAACBBAAAAAAAAgEEAACBBAAAAAAAAAAAAAIhBAAAgQQAAIEEAAAAAAACQQQAAIEEAACBBAAAAAAAAmEEAAAAAAAAgQQAAIEEAAKBBAAAgQQAAAAAAACBBAACoQQAAIEEAACBBAAAgQQAAsEEAACBBAAAgQQAAIEEAALhB"
        ],
        "funcdim": 0,
        "funcmax": 1,
        "funcmin": 0,
        "have_normals": true,
        "mesh_center": [
         5,
         5,
         5
        ],
        "mesh_dim": 3,
        "mesh_radius": 8.660254037844387,
        "mesh_regions_2d": 24,
        "names": [
         "",
         "",
         "",
         "",
         "",
         ""
        ],
        "ngsolve_version": "Netgen x.x",
        "order2d": 1,
        "order3d": 0,
        "show_mesh": true,
        "show_wireframe": true,
        "solid_face_map": [
         [
          0,
          1,
          2,
          3,
          4,
          5
         ]
        ],
        "solid_names": [
         ""
        ]
       }
      }
     },
     "aa6e6e5c2a464c5ea235017e96d344e9": {
      "model_module": "@jupyter-widgets/base",
      "model_module_version": "2.0.0",
      "model_name": "LayoutModel",
      "state": {
       "height": "50vh",
       "width": "100%"
      }
     },
     "de8cae377a5d4a1d8c2ab6e5fcefa3db": {
      "model_module": "@jupyter-widgets/base",
      "model_module_version": "2.0.0",
      "model_name": "LayoutModel",
      "state": {
       "height": "50vh",
       "width": "100%"
      }
     },
     "e66b48c123b24f139171311d4ef5822d": {
      "model_module": "webgui_jupyter_widgets",
      "model_module_version": "0.2.14",
      "model_name": "WebguiModel",
      "state": {
       "layout": "IPY_MODEL_622ca3d5690b4b4ab88cc79e262d50e2",
       "value": {
        "Bezier_points": [],
        "Bezier_trig_points": [
         "AAAAAAAAAAAAACBBAAAAAAAAAAAAAAAAAAAgQQAAAAAAACBBAAAAAAAAIEEAAIA/AAAgQQAAAAAAACBBAACAPwAAIEEAAAAAAAAgQQAAAEAAACBBAAAAAAAAIEEAAABAAAAgQQAAIEEAACBBAABAQAAAIEEAACBBAAAgQQAAQEAAACBBAAAgQQAAAAAAAIBAAAAgQQAAIEEAAAAAAACAQAAAIEEAACBBAAAgQQAAoEAAACBBAAAgQQAAIEEAAKBA",
         "AAAAAAAAIEEAAAAAAAAAAAAAAAAAACBBAAAgQQAAAAAAACBBAAAAAAAAAAAAAIA/AAAgQQAAIEEAAAAAAACAPwAAAAAAAAAAAAAAAAAAAEAAAAAAAAAAAAAAIEEAAABAAAAgQQAAIEEAAAAAAABAQAAAAAAAACBBAAAAAAAAQEAAAAAAAAAAAAAAAAAAAIBAAAAgQQAAAAAAAAAAAACAQAAAAAAAACBBAAAgQQAAoEAAAAAAAAAAAAAAIEEAAKBA",
         "AAAAAAAAAAAAAAAAAAAAAAAAAAAAACBBAAAAAAAAAAAAACBBAAAgQQAAAAAAAIA/AAAgQQAAIEEAACBBAACAPwAAIEEAAAAAAAAAAAAAAEAAAAAAAAAAAAAAAAAAAABAAAAAAAAAIEEAAAAAAABAQAAAAAAAACBBAAAgQQAAQEAAAAAAAAAgQQAAAAAAAIBAAAAAAAAAAAAAAAAAAACAQAAAAAAAAAAAAAAgQQAAoEAAACBBAAAAAAAAIEEAAKBA",
         "AACAvwAAAIAAAAAAAACAvwAAAIAAAAAAAACAPwAAAAAAAACAAACAPwAAAAAAAACAAAAAAAAAgL8AAACAAAAAAAAAgL8AAACAAAAAgAAAgD8AAAAAAAAAgAAAgD8AAAAAAAAAgAAAAIAAAIC/AAAAgAAAAIAAAIC/AAAAAAAAAAAAAIA/AAAAAAAAAAAAAIA/",
         "AACAvwAAAIAAAAAAAACAvwAAAIAAAAAAAACAPwAAAAAAAACAAACAPwAAAAAAAACAAAAAAAAAgL8AAACAAAAAAAAAgL8AAACAAAAAgAAAgD8AAAAAAAAAgAAAgD8AAAAAAAAAgAAAAIAAAIC/AAAAgAAAAIAAAIC/AAAAAAAAAAAAAIA/AAAAAAAAAAAAAIA/",
         "AACAvwAAAIAAAAAAAACAvwAAAIAAAAAAAACAPwAAAAAAAACAAACAPwAAAAAAAACAAAAAAAAAgL8AAACAAAAAAAAAgL8AAACAAAAAgAAAgD8AAAAAAAAAgAAAgD8AAAAAAAAAgAAAAIAAAIC/AAAAgAAAAIAAAIC/AAAAAAAAAAAAAIA/AAAAAAAAAAAAAIA/"
        ],
        "autoscale": false,
        "colors": [
         [
          0,
          1,
          0
         ],
         [
          0,
          1,
          0
         ],
         [
          0,
          1,
          0
         ],
         [
          0,
          1,
          0
         ],
         [
          0,
          1,
          0
         ],
         [
          0,
          1,
          0
         ]
        ],
        "draw_surf": true,
        "draw_vol": false,
        "edge_colors": [
         [
          0,
          0,
          0
         ],
         [
          0,
          0,
          0
         ],
         [
          0,
          0,
          0
         ],
         [
          0,
          0,
          0
         ],
         [
          0,
          0,
          0
         ],
         [
          0,
          0,
          0
         ],
         [
          0,
          0,
          0
         ],
         [
          0,
          0,
          0
         ],
         [
          0,
          0,
          0
         ],
         [
          0,
          0,
          0
         ],
         [
          0,
          0,
          0
         ],
         [
          0,
          0,
          0
         ],
         [
          0,
          0,
          0
         ],
         [
          0,
          0,
          0
         ],
         [
          0,
          0,
          0
         ],
         [
          0,
          0,
          0
         ],
         [
          0,
          0,
          0
         ],
         [
          0,
          0,
          0
         ],
         [
          0,
          0,
          0
         ],
         [
          0,
          0,
          0
         ],
         [
          0,
          0,
          0
         ],
         [
          0,
          0,
          0
         ],
         [
          0,
          0,
          0
         ],
         [
          0,
          0,
          0
         ]
        ],
        "edge_names": [
         "",
         "",
         "",
         "",
         "",
         "",
         "",
         "",
         "",
         "",
         "",
         "",
         "",
         "",
         "",
         "",
         "",
         "",
         "",
         "",
         "",
         "",
         "",
         ""
        ],
        "edges": [
         "AAAAAAAAAAAAAAAAAAAAAAAAAAAAAAAAAAAAAAAAgD8AAAAAAAAgQQAAAAAAAABAAAAAAAAAAAAAACBBAABAQAAAIEEAAAAAAAAAAAAAgEAAACBBAAAAAAAAAAAAAKBAAAAgQQAAIEEAAAAAAADAQAAAIEEAAAAAAAAgQQAA4EAAAAAAAAAAAAAAAAAAAABBAAAAAAAAAAAAAAAAAAAQQQAAAAAAAAAAAAAgQQAAIEEAACBBAAAAAAAAAAAAADBBAAAAAAAAIEEAAAAAAABAQQAAAAAAACBBAAAAAAAAUEEAAAAAAAAgQQAAIEEAAGBBAAAgQQAAIEEAAAAAAABwQQAAAAAAAAAAAAAAAAAAgEEAAAAAAAAAAAAAAAAAAIhBAAAgQQAAAAAAAAAAAACQQQAAAAAAACBBAAAAAAAAmEEAAAAAAAAAAAAAIEEAAKBBAAAAAAAAAAAAACBBAACoQQAAIEEAAAAAAAAgQQAAsEEAAAAAAAAgQQAAIEEAALhB",
         "AAAAAAAAAAAAACBBAAAAAAAAAAAAACBBAAAAAAAAgD8AAAAAAAAgQQAAIEEAAABAAAAAAAAAIEEAACBBAABAQAAAIEEAAAAAAAAgQQAAgEAAACBBAAAgQQAAAAAAAKBAAAAgQQAAIEEAACBBAADAQAAAIEEAACBBAAAgQQAA4EAAACBBAAAAAAAAAAAAAABBAAAAAAAAAAAAACBBAAAQQQAAIEEAAAAAAAAgQQAAIEEAACBBAAAAAAAAIEEAADBBAAAgQQAAIEEAAAAAAABAQQAAAAAAACBBAAAgQQAAUEEAACBBAAAgQQAAIEEAAGBBAAAgQQAAIEEAACBBAABwQQAAAAAAACBBAAAAAAAAgEEAACBBAAAAAAAAAAAAAIhBAAAgQQAAIEEAAAAAAACQQQAAIEEAACBBAAAAAAAAmEEAAAAAAAAgQQAAIEEAAKBBAAAgQQAAAAAAACBBAACoQQAAIEEAACBBAAAgQQAAsEEAACBBAAAgQQAAIEEAALhB"
        ],
        "funcdim": 0,
        "funcmax": 1,
        "funcmin": 0,
        "have_normals": true,
        "mesh_center": [
         5,
         5,
         5
        ],
        "mesh_dim": 3,
        "mesh_radius": 8.660254037844387,
        "mesh_regions_2d": 24,
        "names": [
         "",
         "",
         "",
         "",
         "",
         ""
        ],
        "ngsolve_version": "Netgen x.x",
        "order2d": 1,
        "order3d": 0,
        "show_mesh": true,
        "show_wireframe": true,
        "solid_face_map": [
         [
          0,
          1,
          2,
          3,
          4,
          5
         ]
        ],
        "solid_names": [
         ""
        ]
       }
      }
     },
     "f0c65b2ee7be4f258f3f9110b18e2382": {
      "model_module": "@jupyter-widgets/base",
      "model_module_version": "2.0.0",
      "model_name": "LayoutModel",
      "state": {
       "height": "50vh",
       "width": "100%"
      }
     },
     "fcf5a166f2d1402b8df7145fadffe7c4": {
      "model_module": "webgui_jupyter_widgets",
      "model_module_version": "0.2.14",
      "model_name": "WebguiModel",
      "state": {
       "layout": "IPY_MODEL_f0c65b2ee7be4f258f3f9110b18e2382",
       "value": {
        "Bezier_points": [],
        "Bezier_trig_points": [
         "AAB6xAAAesQAAHpEAAAAAAAAesQAAHrEAAB6RAAAAAAAAHpEAAB6xAAAekQAAIA/AAB6RAAAesQAAHpEAACAPwAAekQAAHpEAAB6RAAAAEAAAHpEAAB6RAAAekQAAABAAAB6RAAAekQAAHpEAABAQAAAekQAAHpEAAB6RAAAQEAAAHpEAAB6RAAAesQAAIBAAAB6RAAAekQAAHrEAACAQAAAekQAAHrEAAB6RAAAoEAAAHpEAAB6xAAAekQAAKBAAACgwAAAoMAAAKBAAADAQAAAoMAAAKDAAACgQAAAwEAAAKBAAACgwAAAoEAAAOBAAACgQAAAoMAAAKBAAADgQAAAoEAAAKBAAACgwAAAAEEAAKBAAACgQAAAoMAAAABBAACgQAAAoEAAAKBAAAAQQQAAoEAAAKBAAACgQAAAEEEAAKBAAACgQAAAoEAAACBBAACgQAAAoEAAAKBAAAAgQQAAoEAAAKDAAACgQAAAMEEAAKBAAACgwAAAoEAAADBBAACgwAAAoMAAAKBAAABAQQAAoMAAAKDAAACgQAAAQEEAAKBAAACgwAAAoEAAAFBBAACgQAAAoMAAAKBAAABQQQAAoEAAAKDAAACgQAAAYEEAAKBAAACgwAAAoEAAAGBBAACgQAAAoEAAAKBAAABwQQAAoEAAAKBAAACgQAAAcEEAAKBAAACgQAAAoMAAAIBBAACgQAAAoEAAAKDAAACAQQAAoEAAAKBAAACgQAAAiEEAAKBAAACgQAAAoEAAAIhB",
         "AAB6xAAAekQAAHrEAAAAAAAAesQAAHpEAAB6RAAAAAAAAHrEAAB6xAAAesQAAIA/AAB6xAAAesQAAHpEAACAPwAAesQAAHpEAAB6RAAAAEAAAHrEAAB6xAAAekQAAABAAAB6RAAAekQAAHrEAABAQAAAesQAAHpEAAB6xAAAQEAAAHrEAAB6xAAAesQAAIBAAAB6RAAAesQAAHrEAACAQAAAekQAAHrEAAB6xAAAoEAAAHpEAAB6RAAAesQAAKBAAACgwAAAoMAAAKDAAADAQAAAoMAAAKBAAACgwAAAwEAAAKBAAACgwAAAoMAAAOBAAACgwAAAoMAAAKDAAADgQAAAoMAAAKBAAACgwAAAAEEAAKDAAACgwAAAoMAAAABBAACgwAAAoEAAAKDAAAAQQQAAoMAAAKBAAACgQAAAEEEAAKDAAACgwAAAoEAAACBBAACgQAAAoMAAAKBAAAAgQQAAoEAAAKBAAACgwAAAMEEAAKBAAACgQAAAoEAAADBBAACgwAAAoEAAAKDAAABAQQAAoMAAAKBAAACgQAAAQEEAAKBAAACgwAAAoMAAAFBBAACgQAAAoEAAAKDAAABQQQAAoMAAAKDAAACgwAAAYEEAAKDAAACgwAAAoEAAAGBBAACgQAAAoEAAAKDAAABwQQAAoMAAAKBAAACgwAAAcEEAAKDAAACgwAAAoMAAAIBBAACgQAAAoMAAAKDAAACAQQAAoMAAAKBAAACgQAAAiEEAAKDAAACgwAAAoEAAAIhB",
         "AAB6xAAAesQAAHrEAAAAAAAAesQAAHpEAAB6xAAAAAAAAHpEAAB6xAAAesQAAIA/AAB6xAAAesQAAHrEAACAPwAAesQAAHrEAAB6RAAAAEAAAHpEAAB6xAAAekQAAABAAAB6xAAAekQAAHrEAABAQAAAesQAAHpEAAB6RAAAQEAAAHrEAAB6RAAAesQAAIBAAAB6xAAAesQAAHrEAACAQAAAekQAAHpEAAB6xAAAoEAAAHpEAAB6RAAAekQAAKBAAACgwAAAoEAAAKDAAADAQAAAoMAAAKBAAACgQAAAwEAAAKDAAACgwAAAoMAAAOBAAACgwAAAoMAAAKBAAADgQAAAoMAAAKDAAACgwAAAAEEAAKBAAACgwAAAoMAAAABBAACgQAAAoEAAAKDAAAAQQQAAoMAAAKBAAACgwAAAEEEAAKDAAACgQAAAoEAAACBBAACgwAAAoMAAAKBAAAAgQQAAoEAAAKDAAACgwAAAMEEAAKBAAACgQAAAoMAAADBBAACgwAAAoMAAAKDAAABAQQAAoMAAAKBAAACgwAAAQEEAAKBAAACgQAAAoMAAAFBBAACgQAAAoEAAAKBAAABQQQAAoEAAAKDAAACgwAAAYEEAAKDAAACgwAAAoMAAAGBBAACgwAAAoEAAAKDAAABwQQAAoMAAAKBAAACgQAAAcEEAAKDAAACgQAAAoMAAAIBBAACgwAAAoMAAAKDAAACAQQAAoMAAAKDAAACgQAAAiEEAAKBAAACgwAAAoEAAAIhB",
         "AACAvwAAAIAAAAAAAACAvwAAAIAAAAAAAAAAAAAAgL8AAACAAAAAAAAAgL8AAACAAAAAAAAAAAAAAIA/AAAAAAAAAAAAAIA/AAAAgAAAgD8AAAAAAAAAgAAAgD8AAAAAAAAAgAAAAIAAAIC/AAAAgAAAAIAAAIC/AACAPwAAAAAAAACAAACAPwAAAAAAAACAAACAPwAAAAAAAACAAACAPwAAAAAAAACAAAAAgAAAgD8AAAAAAAAAgAAAgD8AAAAAAAAAAAAAAAAAAIA/AAAAAAAAAAAAAIA/AAAAAAAAgL8AAACAAAAAAAAAgL8AAACAAAAAgAAAAIAAAIC/AAAAgAAAAIAAAIC/AACAvwAAAIAAAAAAAACAvwAAAIAAAAAAAACAvwAAAIAAAAAAAACAvwAAAIAAAAAAAACAPwAAAAAAAACAAACAPwAAAAAAAACAAAAAAAAAgL8AAACAAAAAAAAAgL8AAACAAAAAgAAAgD8AAAAAAAAAgAAAgD8AAAAAAAAAgAAAAIAAAIC/AAAAgAAAAIAAAIC/AAAAAAAAAAAAAIA/AAAAAAAAAAAAAIA/",
         "AACAvwAAAIAAAAAAAACAvwAAAIAAAAAAAAAAAAAAgL8AAACAAAAAAAAAgL8AAACAAAAAAAAAAAAAAIA/AAAAAAAAAAAAAIA/AAAAgAAAgD8AAAAAAAAAgAAAgD8AAAAAAAAAgAAAAIAAAIC/AAAAgAAAAIAAAIC/AACAPwAAAAAAAACAAACAPwAAAAAAAACAAACAPwAAAAAAAACAAACAPwAAAAAAAACAAAAAgAAAgD8AAAAAAAAAgAAAgD8AAAAAAAAAAAAAAAAAAIA/AAAAAAAAAAAAAIA/AAAAAAAAgL8AAACAAAAAAAAAgL8AAACAAAAAgAAAAIAAAIC/AAAAgAAAAIAAAIC/AACAvwAAAIAAAAAAAACAvwAAAIAAAAAAAACAvwAAAIAAAAAAAACAvwAAAIAAAAAAAACAPwAAAAAAAACAAACAPwAAAAAAAACAAAAAAAAAgL8AAACAAAAAAAAAgL8AAACAAAAAgAAAgD8AAAAAAAAAgAAAgD8AAAAAAAAAgAAAAIAAAIC/AAAAgAAAAIAAAIC/AAAAAAAAAAAAAIA/AAAAAAAAAAAAAIA/",
         "AACAvwAAAIAAAAAAAACAvwAAAIAAAAAAAAAAAAAAgL8AAACAAAAAAAAAgL8AAACAAAAAAAAAAAAAAIA/AAAAAAAAAAAAAIA/AAAAgAAAgD8AAAAAAAAAgAAAgD8AAAAAAAAAgAAAAIAAAIC/AAAAgAAAAIAAAIC/AACAPwAAAAAAAACAAACAPwAAAAAAAACAAACAPwAAAAAAAACAAACAPwAAAAAAAACAAAAAgAAAgD8AAAAAAAAAgAAAgD8AAAAAAAAAAAAAAAAAAIA/AAAAAAAAAAAAAIA/AAAAAAAAgL8AAACAAAAAAAAAgL8AAACAAAAAgAAAAIAAAIC/AAAAgAAAAIAAAIC/AACAvwAAAIAAAAAAAACAvwAAAIAAAAAAAACAvwAAAIAAAAAAAACAvwAAAIAAAAAAAACAPwAAAAAAAACAAACAPwAAAAAAAACAAAAAAAAAgL8AAACAAAAAAAAAgL8AAACAAAAAgAAAgD8AAAAAAAAAgAAAgD8AAAAAAAAAgAAAAIAAAIC/AAAAgAAAAIAAAIC/AAAAAAAAAAAAAIA/AAAAAAAAAAAAAIA/"
        ],
        "autoscale": false,
        "colors": [
         [
          0,
          1,
          0
         ],
         [
          0,
          1,
          0
         ],
         [
          0,
          1,
          0
         ],
         [
          0,
          1,
          0
         ],
         [
          0,
          1,
          0
         ],
         [
          0,
          1,
          0
         ],
         [
          0,
          1,
          0
         ],
         [
          0,
          1,
          0
         ],
         [
          0,
          1,
          0
         ],
         [
          0,
          1,
          0
         ],
         [
          0,
          1,
          0
         ],
         [
          0,
          1,
          0
         ],
         [
          0,
          1,
          0
         ],
         [
          0,
          1,
          0
         ],
         [
          0,
          1,
          0
         ],
         [
          0,
          1,
          0
         ],
         [
          0,
          1,
          0
         ],
         [
          0,
          1,
          0
         ]
        ],
        "draw_surf": true,
        "draw_vol": false,
        "edge_colors": [
         [
          0,
          0,
          0
         ],
         [
          0,
          0,
          0
         ],
         [
          0,
          0,
          0
         ],
         [
          0,
          0,
          0
         ],
         [
          0,
          0,
          0
         ],
         [
          0,
          0,
          0
         ],
         [
          0,
          0,
          0
         ],
         [
          0,
          0,
          0
         ],
         [
          0,
          0,
          0
         ],
         [
          0,
          0,
          0
         ],
         [
          0,
          0,
          0
         ],
         [
          0,
          0,
          0
         ],
         [
          0,
          0,
          0
         ],
         [
          0,
          0,
          0
         ],
         [
          0,
          0,
          0
         ],
         [
          0,
          0,
          0
         ],
         [
          0,
          0,
          0
         ],
         [
          0,
          0,
          0
         ],
         [
          0,
          0,
          0
         ],
         [
          0,
          0,
          0
         ],
         [
          0,
          0,
          0
         ],
         [
          0,
          0,
          0
         ],
         [
          0,
          0,
          0
         ],
         [
          0,
          0,
          0
         ],
         [
          0,
          0,
          0
         ],
         [
          0,
          0,
          0
         ],
         [
          0,
          0,
          0
         ],
         [
          0,
          0,
          0
         ],
         [
          0,
          0,
          0
         ],
         [
          0,
          0,
          0
         ],
         [
          0,
          0,
          0
         ],
         [
          0,
          0,
          0
         ],
         [
          0,
          0,
          0
         ],
         [
          0,
          0,
          0
         ],
         [
          0,
          0,
          0
         ],
         [
          0,
          0,
          0
         ],
         [
          0,
          0,
          0
         ],
         [
          0,
          0,
          0
         ],
         [
          0,
          0,
          0
         ],
         [
          0,
          0,
          0
         ],
         [
          0,
          0,
          0
         ],
         [
          0,
          0,
          0
         ],
         [
          0,
          0,
          0
         ],
         [
          0,
          0,
          0
         ],
         [
          0,
          0,
          0
         ],
         [
          0,
          0,
          0
         ],
         [
          0,
          0,
          0
         ],
         [
          0,
          0,
          0
         ],
         [
          0,
          0,
          0
         ],
         [
          0,
          0,
          0
         ],
         [
          0,
          0,
          0
         ],
         [
          0,
          0,
          0
         ],
         [
          0,
          0,
          0
         ],
         [
          0,
          0,
          0
         ],
         [
          0,
          0,
          0
         ],
         [
          0,
          0,
          0
         ],
         [
          0,
          0,
          0
         ],
         [
          0,
          0,
          0
         ],
         [
          0,
          0,
          0
         ],
         [
          0,
          0,
          0
         ],
         [
          0,
          0,
          0
         ],
         [
          0,
          0,
          0
         ],
         [
          0,
          0,
          0
         ],
         [
          0,
          0,
          0
         ],
         [
          0,
          0,
          0
         ],
         [
          0,
          0,
          0
         ],
         [
          0,
          0,
          0
         ],
         [
          0,
          0,
          0
         ],
         [
          0,
          0,
          0
         ],
         [
          0,
          0,
          0
         ],
         [
          0,
          0,
          0
         ],
         [
          0,
          0,
          0
         ]
        ],
        "edge_names": [
         "",
         "",
         "",
         "",
         "",
         "",
         "",
         "",
         "",
         "",
         "",
         "",
         "",
         "",
         "",
         "",
         "",
         "",
         "",
         "",
         "",
         "",
         "",
         "",
         "",
         "",
         "",
         "",
         "",
         "",
         "",
         "",
         "",
         "",
         "",
         "",
         "",
         "",
         "",
         "",
         "",
         "",
         "",
         "",
         "",
         "",
         "",
         "",
         "",
         "",
         "",
         "",
         "",
         "",
         "",
         "",
         "",
         "",
         "",
         "",
         "",
         "",
         "",
         "",
         "",
         "",
         "",
         "",
         "",
         "",
         "",
         ""
        ],
        "edges": [
         "AAB6xAAAesQAAHrEAAAAAAAAesQAAHrEAAB6RAAAgD8AAHrEAAB6RAAAesQAAABAAAB6xAAAesQAAHrEAABAQAAAesQAAHrEAAB6xAAAgEAAAHpEAAB6xAAAesQAAKBAAAB6xAAAesQAAHpEAADAQAAAesQAAHrEAAB6xAAA4EAAAHrEAAB6xAAAekQAAABBAAB6xAAAekQAAHpEAAAQQQAAekQAAHrEAAB6RAAAIEEAAHrEAAB6xAAAekQAADBBAAB6xAAAekQAAHrEAABAQQAAekQAAHpEAAB6xAAAUEEAAHrEAAB6RAAAekQAAGBBAAB6xAAAekQAAHrEAABwQQAAesQAAHrEAAB6xAAAgEEAAHrEAAB6RAAAesQAAIhBAAB6RAAAesQAAHrEAACQQQAAesQAAHrEAAB6xAAAmEEAAHpEAAB6xAAAesQAAKBBAAB6RAAAesQAAHpEAACoQQAAekQAAHpEAAB6xAAAsEEAAHpEAAB6xAAAesQAALhBAACgwAAAoMAAAKDAAADAQQAAoMAAAKDAAACgwAAAyEEAAKDAAACgQAAAoMAAANBBAACgwAAAoMAAAKBAAADYQQAAoMAAAKDAAACgwAAA4EEAAKDAAACgwAAAoMAAAOhBAACgwAAAoMAAAKBAAADwQQAAoEAAAKDAAACgwAAA+EEAAKDAAACgwAAAoMAAAABCAACgwAAAoMAAAKDAAAAEQgAAoEAAAKDAAACgwAAACEIAAKDAAACgQAAAoMAAAAxCAACgwAAAoEAAAKDAAAAQQgAAoMAAAKBAAACgwAAAFEIAAKDAAACgQAAAoEAAABhCAACgQAAAoEAAAKDAAAAcQgAAoMAAAKDAAACgQAAAIEIAAKDAAACgwAAAoEAAACRCAACgQAAAoMAAAKBAAAAoQgAAoMAAAKBAAACgQAAALEIAAKBAAACgwAAAoMAAADBCAACgQAAAoMAAAKDAAAA0QgAAoEAAAKBAAACgwAAAOEIAAKBAAACgwAAAoEAAADxCAACgwAAAoMAAAKDAAABAQgAAoMAAAKDAAACgwAAAREIAAKDAAACgQAAAoMAAAEhCAACgwAAAoMAAAKBAAABMQgAAoEAAAKDAAACgwAAAUEIAAKBAAACgwAAAoMAAAFRCAACgQAAAoEAAAKDAAABYQgAAoEAAAKDAAACgQAAAXEIAAKDAAACgwAAAoMAAAGBCAACgwAAAoMAAAKDAAABkQgAAoMAAAKDAAACgQAAAaEIAAKBAAACgwAAAoMAAAGxCAACgwAAAoEAAAKDAAABwQgAAoMAAAKBAAACgwAAAdEIAAKDAAACgQAAAoEAAAHhCAACgQAAAoEAAAKDAAAB8QgAAoMAAAKDAAACgwAAAgEIAAKDAAACgwAAAoMAAAIJCAACgQAAAoMAAAKDAAACEQgAAoMAAAKBAAACgwAAAhkIAAKDAAACgwAAAoEAAAIhCAACgwAAAoMAAAKBAAACKQgAAoEAAAKDAAACgQAAAjEIAAKDAAACgQAAAoEAAAI5C",
         "AAB6xAAAesQAAHpEAAAAAAAAesQAAHpEAAB6RAAAgD8AAHrEAAB6RAAAekQAAABAAAB6xAAAekQAAHrEAABAQAAAekQAAHrEAAB6xAAAgEAAAHpEAAB6xAAAekQAAKBAAAB6RAAAesQAAHpEAADAQAAAesQAAHrEAAB6RAAA4EAAAHrEAAB6RAAAekQAAABBAAB6RAAAekQAAHpEAAAQQQAAekQAAHpEAAB6RAAAIEEAAHpEAAB6xAAAekQAADBBAAB6RAAAekQAAHrEAABAQQAAekQAAHpEAAB6RAAAUEEAAHpEAAB6RAAAekQAAGBBAAB6xAAAekQAAHpEAABwQQAAesQAAHpEAAB6xAAAgEEAAHpEAAB6RAAAesQAAIhBAAB6RAAAekQAAHrEAACQQQAAekQAAHrEAAB6xAAAmEEAAHpEAAB6xAAAekQAAKBBAAB6RAAAekQAAHpEAACoQQAAekQAAHpEAAB6RAAAsEEAAHpEAAB6RAAAesQAALhBAACgwAAAoMAAAKBAAADAQQAAoMAAAKBAAACgwAAAyEEAAKDAAACgQAAAoEAAANBBAACgwAAAoEAAAKBAAADYQQAAoEAAAKDAAACgwAAA4EEAAKDAAACgwAAAoEAAAOhBAACgQAAAoMAAAKBAAADwQQAAoEAAAKDAAACgQAAA+EEAAKDAAACgQAAAoMAAAABCAACgQAAAoMAAAKDAAAAEQgAAoEAAAKBAAACgwAAACEIAAKBAAACgQAAAoMAAAAxCAACgQAAAoEAAAKDAAAAQQgAAoMAAAKBAAACgQAAAFEIAAKBAAACgQAAAoEAAABhCAACgQAAAoEAAAKBAAAAcQgAAoMAAAKBAAACgQAAAIEIAAKBAAACgwAAAoEAAACRCAACgQAAAoEAAAKBAAAAoQgAAoEAAAKBAAACgQAAALEIAAKBAAACgwAAAoEAAADBCAACgQAAAoEAAAKDAAAA0QgAAoEAAAKBAAACgQAAAOEIAAKBAAACgQAAAoEAAADxCAACgwAAAoMAAAKBAAABAQgAAoMAAAKBAAACgwAAAREIAAKDAAACgQAAAoEAAAEhCAACgwAAAoEAAAKBAAABMQgAAoEAAAKDAAACgQAAAUEIAAKBAAACgQAAAoMAAAFRCAACgQAAAoEAAAKBAAABYQgAAoEAAAKBAAACgQAAAXEIAAKBAAACgwAAAoMAAAGBCAACgwAAAoMAAAKBAAABkQgAAoEAAAKDAAACgQAAAaEIAAKBAAACgwAAAoEAAAGxCAACgQAAAoEAAAKDAAABwQgAAoMAAAKBAAACgQAAAdEIAAKBAAACgQAAAoEAAAHhCAACgQAAAoEAAAKBAAAB8QgAAoMAAAKBAAACgwAAAgEIAAKBAAACgwAAAoMAAAIJCAACgQAAAoEAAAKDAAACEQgAAoEAAAKBAAACgwAAAhkIAAKDAAACgQAAAoEAAAIhCAACgQAAAoMAAAKBAAACKQgAAoEAAAKBAAACgQAAAjEIAAKBAAACgQAAAoEAAAI5C"
        ],
        "funcdim": 0,
        "funcmax": 1,
        "funcmin": 0,
        "have_normals": true,
        "mesh_center": [
         0,
         0,
         0
        ],
        "mesh_dim": 3,
        "mesh_radius": 1732.0508075688772,
        "mesh_regions_2d": 72,
        "names": [
         "outer",
         "outer",
         "outer",
         "outer",
         "outer",
         "outer",
         "default",
         "default",
         "default",
         "default",
         "default",
         "default",
         "default",
         "default",
         "default",
         "default",
         "default",
         "default"
        ],
        "ngsolve_version": "Netgen x.x",
        "order2d": 1,
        "order3d": 0,
        "show_mesh": true,
        "show_wireframe": true,
        "solid_face_map": [
         [
          0,
          1,
          2,
          3,
          4,
          5,
          6,
          7,
          8,
          9,
          10,
          11
         ],
         [
          6,
          11,
          7,
          9,
          8,
          10
         ]
        ],
        "solid_names": [
         "air",
         "cube"
        ]
       }
      }
     }
    },
    "version_major": 2,
    "version_minor": 0
   }
  }
 },
 "nbformat": 4,
 "nbformat_minor": 5
}
