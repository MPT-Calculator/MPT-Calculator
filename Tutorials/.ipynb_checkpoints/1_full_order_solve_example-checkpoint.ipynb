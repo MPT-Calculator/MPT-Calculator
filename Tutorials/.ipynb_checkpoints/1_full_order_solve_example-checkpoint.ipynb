{
 "cells": [
  {
   "cell_type": "markdown",
   "id": "0113c38e-e2c7-4a83-94e3-7ab982c221b4",
   "metadata": {
    "tags": []
   },
   "source": [
    "# 1 - Obtaining an MPT spectral signature using the full order solver"
   ]
  },
  {
   "cell_type": "markdown",
   "id": "89e4b402-d124-4c10-b9c1-57c2941c7743",
   "metadata": {},
   "source": [
    "This tutorial illustrates how we can run a simple simulation to obtain an MPT spectral signature (MPT coefficients as a function of frequency) using the default settings used by MPT-Calculator.\n",
    "\n",
    "First, we change the directory to the root directory of where your copy of MPT-Calculator is saved. To do this, pleased edit the variable ```Your_Path``` below to point to where your copy of MPT-Calculator is saved and check that the output is correct."
   ]
  },
  {
   "cell_type": "code",
   "execution_count": 2,
   "id": "694282c6-040d-4d76-8189-c13fb430e79a",
   "metadata": {},
   "outputs": [
    {
     "data": {
      "text/plain": [
       "'/home/james/Desktop/MPT-Calculator_June'"
      ]
     },
     "execution_count": 2,
     "metadata": {},
     "output_type": "execute_result"
    }
   ],
   "source": [
    "import os\n",
    "# Please edit this line to provide the to the root directory of your copy of MPT-Calculator\n",
    "Your_Path = r'C:\\Users\\James\\Desktop\\Release_Ready_MPT_Calculator\\Restructured_MPT_Calculator'\n",
    "Your_Path = r'/home/james/Desktop/MPT-Calculator_June'\n",
    "os.chdir(Your_Path)\n",
    "os.getcwd()\n"
   ]
  },
  {
   "cell_type": "markdown",
   "id": "a14eb599-b930-4411-b140-425ecb872adc",
   "metadata": {},
   "source": [
    "This is important as MPT-Calculator assumes that the current working directory is the root MPT-Calculator project folder and will not work otherwise.\n",
    "\n",
    "We now need to import the main function. $\\texttt{main.py}$ contains the starting point for MPT-Calculator. "
   ]
  },
  {
   "cell_type": "code",
   "execution_count": 3,
   "id": "8eb18d89",
   "metadata": {},
   "outputs": [
    {
     "name": "stdout",
     "output_type": "stream",
     "text": [
      "<ipykernel.iostream.OutStream object at 0x7fa62868e350>\n"
     ]
    }
   ],
   "source": [
    "import sys\n",
    "print(sys.stdout)"
   ]
  },
  {
   "cell_type": "code",
   "execution_count": 4,
   "id": "12bc8618-11b9-48c3-91ac-e60ac58c3ad9",
   "metadata": {},
   "outputs": [
    {
     "name": "stdout",
     "output_type": "stream",
     "text": [
      "importing NGSolve-6.2.2204\n"
     ]
    }
   ],
   "source": [
    "from main import main\n",
    "from time import time"
   ]
  },
  {
   "cell_type": "markdown",
   "id": "3af1e6b3-f631-48dd-9050-608afc1afdf7",
   "metadata": {},
   "source": [
    "$\\texttt{main}$ is a function taking variable input arguments for controlling the mesh size, order, geometry model, exciting frequencies, and alpha:\n",
    "```python\n",
    "main(h='coarse', order=2, curve_degree=5, start_stop=(), alpha='', geometry='default',\n",
    "     frequency_array='default', use_OCC=False, use_POD=False, use_parallel=True, use_iterative_POD=False, \n",
    "     cpus='default', N_POD_points='default')\n",
    "```\n",
    "These will be explained in detail later. For now, lets run the default settings:"
   ]
  },
  {
   "cell_type": "markdown",
   "id": "f255131a-2a6e-44b5-8eb3-bd1772e2c276",
   "metadata": {},
   "source": [
    "| | |\n",
    "|---------------------------------------------|---|\n",
    "|$\\texttt{Geometry} = \\texttt{'sphere.geo'}$  |$\\texttt{Start = 1}$       |\n",
    "|$\\texttt{alpha = 1e-3}$                      |$\\texttt{Finish = 8}$      |   \n",
    "|$\\texttt{h = 'coarse'}$                             |$\\texttt{Points = 40}$     |\n",
    "|$\\texttt{Order = 2}$                         |$\\texttt{Single = False}$  |\n",
    "|$\\texttt{Pod = False}$   |$\\texttt{MultiProcessing = True}$    |\n",
    "|$\\texttt{use_OCC = False}$ | $\\texttt{use_iterative_POD = False}$|\n",
    "|$\\texttt{cpus = 'default'}$ | $\\texttt{N_POD_points='default'}$|"
   ]
  },
  {
   "cell_type": "code",
   "execution_count": null,
   "id": "c347517d-4ed3-432a-9ce9-e4404d57ff17",
   "metadata": {
    "scrolled": false,
    "tags": []
   },
   "outputs": [
    {
     "name": "stdout",
     "output_type": "stream",
     "text": [
      "sphere.geo\n",
      "[0, 1] 2 ['air', 'sphere']\n",
      "Mesh Contains Prisms? False\n",
      "N Prisms: 0, N Tets: 7592\n",
      "[0, 1] 2 ['air', 'sphere']\n"
     ]
    },
    {
     "name": "stderr",
     "output_type": "stream",
     "text": [
      "/home/james/Desktop/MPT-Calculator_June/main.py:275: UserWarning: It looks like the main function was invoked from a jupyter notebook. \n",
      "Currently saving a .ipynb file is done by copying the most recent file in the .ipynb_checkpoints folder. \n",
      "Unless you saved the file before running the code, this may not be the correct file.\n",
      "  warn('It looks like the main function was invoked from a jupyter notebook. \\nCurrently saving a .ipynb file is done by copying the most recent file in the .ipynb_checkpoints folder. \\nUnless you saved the file before running the code, this may not be the correct file.', stacklevel=1)\n"
     ]
    },
    {
     "name": "stdout",
     "output_type": "stream",
     "text": [
      " Running as parallel full sweep\n",
      " mesh contains 7592 elements\n",
      "Running Bilinear Forms Check\n",
      "Mesh curve order set to:  5\n",
      "K: Iteration 1: bonus_intord = 2\n",
      "K: Iteration 2: bonus_intord = 4\n"
     ]
    },
    {
     "name": "stderr",
     "output_type": "stream",
     "text": [
      "/home/james/Desktop/MPT-Calculator_June/Functions/PrerunChecks/BilinearForms_Check.py:77: ComplexWarning: Casting complex values to real discards the imaginary part\n",
      "  rows[:], cols[:], vals[:] = K.mat.COO()\n"
     ]
    },
    {
     "name": "stdout",
     "output_type": "stream",
     "text": [
      "K: Iteration 3: bonus_intord = 6\n",
      "K: Iteration 4: bonus_intord = 8\n",
      "C: Iteration 1: bonus_intord = 2\n"
     ]
    },
    {
     "name": "stderr",
     "output_type": "stream",
     "text": [
      "/home/james/Desktop/MPT-Calculator_June/Functions/PrerunChecks/BilinearForms_Check.py:145: ComplexWarning: Casting complex values to real discards the imaginary part\n",
      "  rows[:], cols[:], vals[:] = A.mat.COO()\n"
     ]
    },
    {
     "name": "stdout",
     "output_type": "stream",
     "text": [
      "C: Iteration 2: bonus_intord = 4\n",
      "C: Iteration 3: bonus_intord = 6\n",
      "C: Iteration 4: bonus_intord = 8\n"
     ]
    },
    {
     "name": "stderr",
     "output_type": "stream",
     "text": [
      "Solving Theta0: 100%|█████████████████████████████| 3/3 [00:02<00:00,  1.19it/s]\n"
     ]
    },
    {
     "name": "stdout",
     "output_type": "stream",
     "text": [
      " solved theta0 problems   \n",
      " solving theta1\n"
     ]
    },
    {
     "name": "stderr",
     "output_type": "stream",
     "text": [
      "\r",
      "Solving Theta1:   0%|                                    | 0/40 [00:00<?, ?it/s]"
     ]
    },
    {
     "name": "stdout",
     "output_type": "stream",
     "text": [
      "importing NGSolve-6.2.2204\n"
     ]
    },
    {
     "name": "stderr",
     "output_type": "stream",
     "text": [
      "\r",
      "Solving Theta1:   2%|▋                           | 1/40 [00:05<03:48,  5.86s/it]"
     ]
    },
    {
     "name": "stdout",
     "output_type": "stream",
     "text": [
      "importing NGSolve-6.2.2204\n"
     ]
    },
    {
     "name": "stderr",
     "output_type": "stream",
     "text": [
      "\r",
      "Solving Theta1:   5%|█▍                          | 2/40 [00:08<02:41,  4.25s/it]"
     ]
    },
    {
     "name": "stdout",
     "output_type": "stream",
     "text": [
      "importing NGSolve-6.2.2204\n"
     ]
    },
    {
     "name": "stderr",
     "output_type": "stream",
     "text": [
      "\r",
      "Solving Theta1:   8%|██                          | 3/40 [00:11<02:13,  3.60s/it]"
     ]
    },
    {
     "name": "stdout",
     "output_type": "stream",
     "text": [
      "importing NGSolve-6.2.2204\n"
     ]
    },
    {
     "name": "stderr",
     "output_type": "stream",
     "text": [
      "\r",
      "Solving Theta1:  10%|██▊                         | 4/40 [00:14<01:58,  3.30s/it]"
     ]
    },
    {
     "name": "stdout",
     "output_type": "stream",
     "text": [
      "importing NGSolve-6.2.2204\n"
     ]
    },
    {
     "name": "stderr",
     "output_type": "stream",
     "text": [
      "\r",
      "Solving Theta1:  12%|███▌                        | 5/40 [00:17<01:50,  3.16s/it]"
     ]
    },
    {
     "name": "stdout",
     "output_type": "stream",
     "text": [
      "importing NGSolve-6.2.2204\n"
     ]
    },
    {
     "name": "stderr",
     "output_type": "stream",
     "text": [
      "\r",
      "Solving Theta1:  15%|████▏                       | 6/40 [00:20<01:44,  3.07s/it]"
     ]
    },
    {
     "name": "stdout",
     "output_type": "stream",
     "text": [
      "importing NGSolve-6.2.2204\n"
     ]
    },
    {
     "name": "stderr",
     "output_type": "stream",
     "text": [
      "\r",
      "Solving Theta1:  18%|████▉                       | 7/40 [00:23<01:38,  2.99s/it]"
     ]
    },
    {
     "name": "stdout",
     "output_type": "stream",
     "text": [
      "importing NGSolve-6.2.2204\n"
     ]
    },
    {
     "name": "stderr",
     "output_type": "stream",
     "text": [
      "\r",
      "Solving Theta1:  20%|█████▌                      | 8/40 [00:26<01:34,  2.95s/it]"
     ]
    },
    {
     "name": "stdout",
     "output_type": "stream",
     "text": [
      "importing NGSolve-6.2.2204\n"
     ]
    },
    {
     "name": "stderr",
     "output_type": "stream",
     "text": [
      "\r",
      "Solving Theta1:  22%|██████▎                     | 9/40 [00:29<01:31,  2.95s/it]"
     ]
    },
    {
     "name": "stdout",
     "output_type": "stream",
     "text": [
      "importing NGSolve-6.2.2204\n"
     ]
    },
    {
     "name": "stderr",
     "output_type": "stream",
     "text": [
      "\r",
      "Solving Theta1:  25%|██████▊                    | 10/40 [00:31<01:27,  2.92s/it]"
     ]
    },
    {
     "name": "stdout",
     "output_type": "stream",
     "text": [
      "importing NGSolve-6.2.2204\n"
     ]
    },
    {
     "name": "stderr",
     "output_type": "stream",
     "text": [
      "\r",
      "Solving Theta1:  28%|███████▍                   | 11/40 [00:34<01:24,  2.90s/it]"
     ]
    },
    {
     "name": "stdout",
     "output_type": "stream",
     "text": [
      "importing NGSolve-6.2.2204\n"
     ]
    },
    {
     "name": "stderr",
     "output_type": "stream",
     "text": [
      "\r",
      "Solving Theta1:  30%|████████                   | 12/40 [00:37<01:21,  2.91s/it]"
     ]
    },
    {
     "name": "stdout",
     "output_type": "stream",
     "text": [
      "importing NGSolve-6.2.2204\n"
     ]
    },
    {
     "name": "stderr",
     "output_type": "stream",
     "text": [
      "\r",
      "Solving Theta1:  32%|████████▊                  | 13/40 [00:40<01:18,  2.92s/it]"
     ]
    },
    {
     "name": "stdout",
     "output_type": "stream",
     "text": [
      "importing NGSolve-6.2.2204\n"
     ]
    }
   ],
   "source": [
    "start_time = time();\n",
    "Return_Dict = main(use_parallel=True, use_POD=False);\n",
    "stop_time = time();"
   ]
  },
  {
   "cell_type": "code",
   "execution_count": 5,
   "id": "44a9c727-7e3c-40f2-a1fc-92e6ae991d8c",
   "metadata": {},
   "outputs": [
    {
     "name": "stdout",
     "output_type": "stream",
     "text": [
      "Total time = 3.0349233826001485 minutes\n"
     ]
    }
   ],
   "source": [
    "print(f'Total time = {(stop_time - start_time)/60} minutes')"
   ]
  },
  {
   "cell_type": "markdown",
   "id": "17d859e9-7f13-4746-8e47-14995b57eda5",
   "metadata": {},
   "source": [
    "We have just ran a simulation using the default values of MPT-Calculator. \n",
    "\n",
    "This computes the MPT spectral signature characterisation of a conducting sphere with $\\sigma_* = 1\\times 10^6$ S/m, $\\mu_r=10$, and radius $\\alpha=0.001$ m by constructing a coarse unstructured tetrahedral discretisation of a unit sphere set in truncated unbounded region in the form of a larger sphere of radius 100 units using order 2 elements. Note the physical object is obtained by scaling the non-dimensional computational domain by $\\alpha$.\n",
    "\n",
    "The simulation computes the MPT spectral signature for $10^1 \\le \\omega \\le 10^8$ rad/s at 40 logarithmically spaced samples."
   ]
  },
  {
   "cell_type": "markdown",
   "id": "8e7aeb42",
   "metadata": {},
   "source": [
    "We can visualise the mesh that we used for this simulation via either loading it into the netgen gui, or by visualising it using Jupyter support offered by NGSolve."
   ]
  },
  {
   "cell_type": "markdown",
   "id": "64933e9a",
   "metadata": {},
   "source": [
    "## Important: \n",
    "While the default values provide a reasonable characterisation of the conducting sphere in a short computation time they should not be relied on to be fixed for all problems! In general, the simulation settings must be chosen so that they lead to a converged solution. \n",
    "\n",
    "<b>MPT-Calculator is based on a finite element solver and, as with all finite element solutions, it is important that we check that our numerical solutions are converged. We investigate this further in the next tutorial</b>."
   ]
  },
  {
   "cell_type": "markdown",
   "id": "35d11d36-9686-4c82-90e0-03a0c05911f7",
   "metadata": {},
   "source": [
    "## Saving Results\n",
    "\n",
    "The output of the simulation, including any figures are saved in the 'Results' folder.\n",
    "\n",
    "For example: \n",
    "```bash\n",
    "MPT-Calculator/Results/sphere/al_0.001_mu_10_sig_1e6/1e1-1e8_40_el_7592_ord_2/\n",
    "```\n",
    "The results folder will contain a copy of the input files used for the simulation, including the mesh, .geo file, and a copy of the main function. This is so that the results can be recreated. The naming of the subfolders reflects\n",
    "\n",
    "- The sphere problem that has been solved\n",
    "- The object size and materials ($\\alpha=0.001$ m, $\\mu_r=10$, $\\sigma_* = 1\\times 10^6$ S/m,) by al_0.001_mu_10_sig_1e6\n",
    "- The frequency range, number of samples, number of elements and element order ($10^1 \\le \\omega \\le 10^8$ rad/s , 40 samples, 7 592 elements, $p=2$ ) by 1e1-1e8_40_el_7592_ord_2\n",
    "\n",
    "In this folder, we save a copy of each figure produced, a copy of the input files (geo file, mesh file, settings, the original script or notebook that called main, and the main function), a copy of the plotting functions, and a copy of the raw output data. If using an OCC geometry (see Tutorial [5](./5_OCC_geometry.ipynb)) then a copy of the OCC file is also saved.\n",
    "\n",
    "The output data is organised as a series of .csv files:\n",
    "- $\\texttt{Tensors.csv}$ - A complex $N \\times 9$ array containing each of the tensor coefficients for the $ 3 \\times 3$ rank 2 MPT for each of the $N$ frequencies of interest. Each row is a new frequency and on each row the entries are stored as ${\\mathcal M}_{11}, \\ldots, {\\mathcal M}_{13}, {\\mathcal M}_{21} \\ldots, {\\mathcal M}_{23}, {\\mathcal M}_{31}, \\ldots, {\\mathcal M}_{33}$. The number of frequencies $N$ is specified by $\\texttt{Points}$, here $\\texttt{Points=40}$.\n",
    "- $\\texttt{EigenValues.csv}$ - A complex $N \\times 3$ array containing each of the eigenvalues for each frequency. Note that each the entries are stored in the form of $\\lambda_1 ({\\mathcal R}+{\\mathcal N}^0) + \\rm{i} \\lambda_1 ({\\mathcal I}), \\ldots,  \\lambda_3 ({\\mathcal R}+{\\mathcal N}^0) + \\rm{i} \\lambda_3 ({\\mathcal I})$ and each of the eigenvalues are sorted independently in ascending order. Also recall that ${\\mathcal M}(\\omega) =  {\\mathcal N}^0 +{\\mathcal R}(\\omega)  + \\rm{i} {\\mathcal I}(\\omega)$\n",
    "- $\\texttt{N0.csv}$ - A real $3 \\times 3$ array storing the coefficients of the $\\mathcal{N}^0$ tensor, which describes the magnetostatic response.\n",
    "- $\\texttt{Frequencies.csv}$ A $N \\times 1$ array storing the evaluation frequencies [rad/s].\n",
    "- $\\texttt{Invariants}$ - A complex $N \\times 3$ array containing each of the invariants for each frequency. Note that each the entries are stored in the form of $I_1 ({\\mathcal R}+{\\mathcal N}^0) + \\rm{i} I_1 ({\\mathcal I}), \\ldots,  I_3 ({\\mathcal R}+{\\mathcal N}^0) + \\rm{i} I_3 ({\\mathcal I})$ and $I_1 = \\lambda_1 + \\lambda_2 + \\lambda_3$, $I_2 = \\lambda_1 \\lambda_2 + \\lambda_2 \\lambda_3 + \\lambda_3 \\lambda_1$ and $I_3 = \\lambda_1 \\lambda_2 \\lambda_3$. \n",
    "\n",
    "If applicable, POD output is also saved in the similarly named POD files. These files contain the equivalent output from each of the $\\texttt{PODPoints}$ snapshot frequencies used by the POD mode of MPT-Calculator. Further details will be provided in later tutorials.\n",
    "\n",
    "Finally, plotting files, PlotEditor.py, PlotterSettings.py, and PODPlotEditor.py are also saved. Running PlotEditor.py will reproduce the figures output from MPT-Calculator and allows the user to make changes to the format and presentation of the figures."
   ]
  },
  {
   "cell_type": "markdown",
   "id": "7f861b6f-281e-4e36-8e70-4855475d5958",
   "metadata": {},
   "source": [
    "## Returning Values\n",
    "\n",
    "Unlike the original MPT-Calculator, the new version allows the user to return variables from main.\n",
    "\n",
    "```python\n",
    "Return_Dict = main()\n",
    "```\n",
    "These are stored in a dictionary where each key corresponds to a specific output.\n",
    " - $\\texttt{HostScriptFileName}$ is a string containing the filename (either .py or .ipynb) of the script that called the main function.\n",
    " - $\\texttt{SweepName}$ is a string containing the path in the Results folder that the results have been writen to. \n",
    " - $\\texttt{TensorArray}$ is a complex $N \\times 9$ array containing each of the tensor coefficients for the $3 \\times 3$ rank 2 MPT for each of the $N$ frequencies of interest. Each row is a new frequency and on each row the entries are stored as ${\\mathcal M}_{11}, \\ldots, {\\mathcal M}_{13}, {\\mathcal M}_{21} \\ldots, {\\mathcal M}_{23}, {\\mathcal M}_{31}, \\ldots, {\\mathcal M}_{33}$. \n",
    " - $\\texttt{EigenValues}$ is a $N\\times 3$ array containing the eigenvalues for each of the $N$ frequencies. Note that each the entries are stored in the form of $\\lambda_1 ({\\mathcal R}+{\\mathcal N}^0) + \\rm{i} \\lambda_1 ({\\mathcal I}), \\ldots,  \\lambda_3 ({\\mathcal R}+{\\mathcal N}^0) + \\rm{i} \\lambda_3 ({\\mathcal I})$ and each of the eigenvalues are sorted independently in ascending order. Also recall that ${\\mathcal M}(\\omega) = {\\mathcal N}^0 +{\\mathcal R}(\\omega)  + \\rm{i} {\\mathcal I}(\\omega)$\n",
    " - $\\texttt{N0}$ is the real $3\\times 3$ array containing the $\\mathcal{N}^0$ coefficients.\n",
    " - $\\texttt{NElements}$ is the integer number of total (tetrahedra and prismatic) elements in the mesh.\n",
    " - $\\texttt{FrequencyArray}$ is the $N \\times 1$ array containing the frequencies used for the sweep.\n",
    " - $\\texttt{NDOF}$ is a tuple containing the number of degrees of freedom used for the $\\boldsymbol{\\theta}^{(0)}$ and $\\boldsymbol{\\theta}^{(1)}$ finite element spaces.\n",
    " - $\\texttt{Invariants}$ - A complex $N \\times 3$ array containing each of the invariants for each frequency. Note that each the entries are stored in the form of $I_1 ({\\mathcal R}+{\\mathcal N}^0) + \\rm{i} I_1 ({\\mathcal I}), \\ldots,  I_3 ({\\mathcal R}+{\\mathcal N}^0) + \\rm{i} I_3 ({\\mathcal I})$ and $I_1 = \\lambda_1 + \\lambda_2 + \\lambda_3$, $I_2 = \\lambda_1 \\lambda_2 + \\lambda_2 \\lambda_3 + \\lambda_3 \\lambda_1$ and $I_3 = \\lambda_1 \\lambda_2 \\lambda_3$. \n",
    "\n",
    "In addition, optional return arguments are added to the dictionary depending on the settings used.\n",
    " \n",
    " - $\\texttt{EddyCurrentTest}$ will contain an estimated max frequency where the eddy current model holds if $\\texttt{EddyCurentTest}$ is set to True in $\\texttt{Settings.py}$.\n",
    " \n",
    "If the $\\texttt{use_POD}$ option is used then additional outputs corresponding to the POD snapshot solutions are also returned. This will be discussed in more detail in Tutorial [4](./4_POD_solve_example.ipynb) and Tutorial [10](./10_Adaptive_POD.ipynb)."
   ]
  },
  {
   "cell_type": "markdown",
   "id": "1cfb6fcb-3bd6-4f9d-8c5d-a3eae2b2c9c5",
   "metadata": {},
   "source": [
    "This is to make it easier to integrate the MPT-Calculator into other codebases."
   ]
  },
  {
   "cell_type": "markdown",
   "id": "f025eed7",
   "metadata": {},
   "source": [
    "Standard python dictionary arguments work here, for example, we can query the entries in the output dictionary"
   ]
  },
  {
   "cell_type": "code",
   "execution_count": 6,
   "id": "21d2f5cc",
   "metadata": {},
   "outputs": [
    {
     "data": {
      "text/plain": [
       "dict_keys(['HostScriptFileName', 'TensorArray', 'EigenValues', 'N0', 'NElements', 'FrequencyArray', 'NDOF', 'Invariants', 'SweepName'])"
      ]
     },
     "execution_count": 6,
     "metadata": {},
     "output_type": "execute_result"
    }
   ],
   "source": [
    "Return_Dict.keys()"
   ]
  },
  {
   "cell_type": "markdown",
   "id": "8aaec902",
   "metadata": {},
   "source": [
    "and query it's content using standard Python dictionary operations. For example entering"
   ]
  },
  {
   "cell_type": "code",
   "execution_count": 7,
   "id": "1433bd11",
   "metadata": {},
   "outputs": [
    {
     "data": {
      "text/plain": [
       "array([[9.41441132e-09, 4.99850040e-14, 1.69432807e-13],\n",
       "       [4.99850040e-14, 9.41468505e-09, 1.87005660e-13],\n",
       "       [1.69432807e-13, 1.87005660e-13, 9.41494052e-09]])"
      ]
     },
     "execution_count": 7,
     "metadata": {},
     "output_type": "execute_result"
    }
   ],
   "source": [
    "Return_Dict['N0']"
   ]
  },
  {
   "cell_type": "markdown",
   "id": "5f558b4b",
   "metadata": {},
   "source": [
    "will return the $3\\times 3$ array of the coefficients of $\\mathcal{N}^0$ for this problem. Here, we expect the ${\\mathcal N}^0$ to be a multiple of identity and we do indeed see the diagonal terms are very similar and the off-diagonal terms are much smaller by about 4 orders of magnitude. Since the MPT-Calculator involves approximations we cannot expect it to give exact answers. In future tutorials we will learn how to control these approximations."
   ]
  },
  {
   "cell_type": "code",
   "execution_count": null,
   "id": "eecc4aa1",
   "metadata": {},
   "outputs": [],
   "source": []
  }
 ],
 "metadata": {
  "kernelspec": {
   "display_name": "Python 3 (ipykernel)",
   "language": "python",
   "name": "python3"
  },
  "language_info": {
   "codemirror_mode": {
    "name": "ipython",
    "version": 3
   },
   "file_extension": ".py",
   "mimetype": "text/x-python",
   "name": "python",
   "nbconvert_exporter": "python",
   "pygments_lexer": "ipython3",
   "version": "3.10.6"
  },
  "toc": {
   "base_numbering": 1,
   "nav_menu": {},
   "number_sections": true,
   "sideBar": true,
   "skip_h1_title": false,
   "title_cell": "Table of Contents",
   "title_sidebar": "Contents",
   "toc_cell": false,
   "toc_position": {},
   "toc_section_display": true,
   "toc_window_display": false
  },
  "varInspector": {
   "cols": {
    "lenName": 16,
    "lenType": 16,
    "lenVar": 40
   },
   "kernels_config": {
    "python": {
     "delete_cmd_postfix": "",
     "delete_cmd_prefix": "del ",
     "library": "var_list.py",
     "varRefreshCmd": "print(var_dic_list())"
    },
    "r": {
     "delete_cmd_postfix": ") ",
     "delete_cmd_prefix": "rm(",
     "library": "var_list.r",
     "varRefreshCmd": "cat(var_dic_list()) "
    }
   },
   "types_to_exclude": [
    "module",
    "function",
    "builtin_function_or_method",
    "instance",
    "_Feature"
   ],
   "window_display": false
  }
 },
 "nbformat": 4,
 "nbformat_minor": 5
}
