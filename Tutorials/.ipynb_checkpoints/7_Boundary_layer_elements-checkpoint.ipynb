{
 "cells": [
  {
   "cell_type": "markdown",
   "id": "45a35fb6",
   "metadata": {},
   "source": [
    "# 7 - Boundary Layer Elements"
   ]
  },
  {
   "cell_type": "markdown",
   "id": "5f204961",
   "metadata": {},
   "source": [
    "In this tutorial, we discuss how we can add thin layers of prismatic elements to the surface of conducting objects in our meshes.\n",
    "\n",
    "The motivation behind this is that in a highly conducting magnetic object, such as steel, the electromagnetic fields decay rapidly just inside its surface as measured by its skin depth (the depth at which the field has decayed to $1/e$ of its surface value). For such an object there are very high field gradients close to the surface of the object. The skin depth is defined as \n",
    "\n",
    "$$ \\delta \\approx \\sqrt{\\frac{2}{\\omega \\mu_* \\sigma_*}}$$\n",
    "\n",
    "These gradients can be captured by $h$ or $p$-refinement, however to save computational time and expense, we instead introduce thin layers of prismatic elements at the surface of the object. Combined with $p$-refinement this allows the skin depth effects to be captured accurately and allow us to accurately characterise highly magnetic objects.\n",
    "\n",
    "## Choosing Thicknesses of Prismatic Layers\n",
    "\n",
    "While a large number of thin layers will better resolve the thin skin depths associated with magnetic objects, the inclusion of prismatic layers must also be weighed up against the increase in computational resources (including both run time and memory usage) as well as the increase in matrix condition number.\n",
    "\n",
    "We recommend that the skin depth, $\\delta(\\mu_r, \\sigma_*, \\omega) \\approx \\sqrt{\\frac{2}{\\omega \\sigma_* \\mu_0 \\mu_r}}$, be scaled by the object size $\\alpha$. This is to provide a consistent ratio between tetrahedra and prisms when defining the non-dimensional object $B$.\n",
    "To this end, we set $\\tau=\\delta/\\alpha$ to be the smallest non-dimensional skin depth we wish to consider for a fixed maximum target frequency $\\omega$. This discretisation will then be overkill for any smaller frequencies. \n",
    "\n",
    "From our testing, a simple scheme where the thickness of each layer follows $t_{l+1} = 2t_l$ with $t_1 = \\tau$ performs well.\n",
    "\n",
    "Template OCC files following this discretisation can be found in the $\\texttt{/OCC_Geometry}$ folder."
   ]
  },
  {
   "cell_type": "markdown",
   "id": "485e5190",
   "metadata": {},
   "source": [
    "## Cube Example\n",
    "Taking the cube example that we worked through in tutorial [6](./6_Generating_mesh_from_step_file.ipynb), we want to generate a homogeneous magnetic cube with a single thin layer of prismatic boundary layer elements of thickness 0.5 units.\n",
    "\n",
    "<b>We do not need prismatic boundary layer elements for non-magnetic objects</b>\n",
    "\n",
    "In this particular case, we consider a 10 mm cube of conductivity $\\sigma_* = 10^6$ S/m and relative permeability $\\mu_r = 100$. "
   ]
  },
  {
   "cell_type": "code",
   "execution_count": 1,
   "id": "e1e2c3f0",
   "metadata": {},
   "outputs": [],
   "source": [
    "from netgen.occ import *\n",
    "\n",
    "material_name = ['cube']\n",
    "sigma = [1e6]\n",
    "mur = [100]\n",
    "alpha = 0.001\n",
    "\n",
    "geo = OCCGeometry(r'Examples/Example_10mm_cube.step')\n",
    "cube = geo.shape.Move((-geo.shape.center.x, -geo.shape.center.y, -geo.shape.center.z))\n",
    "\n",
    "cube.bc('default')\n",
    "cube.mat(material_name[0])\n",
    "cube.maxh = 1\n",
    "\n",
    "box = Box(Pnt(-1000, -1000, -1000), Pnt(1000,1000,1000))\n",
    "box.mat('air')\n",
    "box.bc('outer')\n",
    "box.maxh=1000\n",
    "\n",
    "joined_object = Glue([box, cube])\n",
    "nmesh = OCCGeometry(joined_object).GenerateMesh(meshsize.coarse)"
   ]
  },
  {
   "cell_type": "markdown",
   "id": "f062355e",
   "metadata": {},
   "source": [
    "generates a standard tetrahedral mesh for a cube.\n",
    "\n",
    "A thin layer of prismatic elements can be added to the surface of the cube via the $\\texttt{BoundaryLayer}$ \n",
    "method. \n",
    "\n",
    "Using the $\\texttt{help}$ function, we see the optional arguments for the $\\texttt{BoundaryLayer}$ method."
   ]
  },
  {
   "cell_type": "code",
   "execution_count": 2,
   "id": "95ff0d05",
   "metadata": {
    "scrolled": false
   },
   "outputs": [
    {
     "name": "stdout",
     "output_type": "stream",
     "text": [
      "Help on method BoundaryLayer in module netgen.libngpy._meshing:\n",
      "\n",
      "BoundaryLayer(...) method of netgen.libngpy._meshing.Mesh instance\n",
      "    BoundaryLayer(self: netgen.libngpy._meshing.Mesh, boundary: Union[str, int], thickness: Union[float, list], material: str, domains: Union[str, int] = '.*', outside: bool = False, project_boundaries: Optional[str] = None, grow_edges: bool = True, limit_growth_vectors: bool = True) -> None\n",
      "    \n",
      "    \n",
      "    Add boundary layer to mesh.\n",
      "    \n",
      "    Parameters\n",
      "    ----------\n",
      "    \n",
      "    boundary : string or int\n",
      "      Boundary name or number.\n",
      "    \n",
      "    thickness : float or List[float]\n",
      "      Thickness of boundary layer(s).\n",
      "    \n",
      "    material : str or List[str]\n",
      "      Material name of boundary layer(s).\n",
      "    \n",
      "    domain : str or int\n",
      "      Regexp for domain boundarylayer is going into.\n",
      "    \n",
      "    outside : bool = False\n",
      "      If true add the layer on the outside\n",
      "    \n",
      "    grow_edges : bool = False\n",
      "      Grow boundary layer over edges.\n",
      "    \n",
      "    project_boundaries : Optional[str] = None\n",
      "      Project boundarylayer to these boundaries if they meet them. Set\n",
      "      to boundaries that meet boundarylayer at a non-orthogonal edge and\n",
      "      layer-ending should be projected to that boundary.\n",
      "\n"
     ]
    }
   ],
   "source": [
    "help(nmesh.BoundaryLayer)"
   ]
  },
  {
   "cell_type": "markdown",
   "id": "d7553740",
   "metadata": {},
   "source": [
    "We want to introduce a single thin layer of prisms to the interior of the cube so we need to set $\\texttt{thickness=[0.5]}$, and $\\texttt{domain='cube'}$.\n",
    "We also want a homogeneous cube, so we also need to specify that the material of the prisms is the same as the material for the cube.\n",
    "\n",
    "The final syntax we need is therefore"
   ]
  },
  {
   "cell_type": "code",
   "execution_count": 3,
   "id": "d6c31bd6",
   "metadata": {},
   "outputs": [],
   "source": [
    "# Setting Boundary layer Options:\n",
    "max_target_frequency = 1e8\n",
    "boundary_layer_material = material_name[0]\n",
    "number_of_layers = 2\n",
    "\n",
    "# Applying Boundary Layers:\n",
    "mu0 = 4 * 3.14159 * 1e-7\n",
    "tau = (2/(max_target_frequency * sigma[0] * mu0 * mur[0]))**0.5 / alpha\n",
    "layer_thicknesses = [(2**n)*tau for n in range(number_of_layers)]\n",
    "\n",
    "nmesh.BoundaryLayer(boundary=\".*\", thickness=layer_thicknesses, material=boundary_layer_material,\n",
    "                           domains=boundary_layer_material, outside=False)"
   ]
  },
  {
   "cell_type": "code",
   "execution_count": 4,
   "id": "32ca40e6",
   "metadata": {},
   "outputs": [],
   "source": [
    "nmesh.Save('../VolFiles/OCC_cube_prism.vol')"
   ]
  },
  {
   "cell_type": "markdown",
   "id": "fa8f13c2",
   "metadata": {},
   "source": [
    "If we wanted multiple layers of prismatic elements, we would specify a list of thicknesses. E.g. $\\texttt{thickness=[0.5,0.3,0.2]}$. The thicknesses are assigned with the first entry corresponding to the outermost layer. Similarly, if we wanted each layer to be of a different material, we can specify $\\texttt{material=[mat_1, mat_2, mat_3]}$ etc."
   ]
  },
  {
   "cell_type": "markdown",
   "id": "af334f11",
   "metadata": {},
   "source": [
    " In Netgen, we can view the additional prismatic boundary layer via $\\texttt{view} \\rightarrow \\texttt{Viewing Options} \\rightarrow \\texttt{Mesh} \\rightarrow \\texttt{Show Prisms}$ \n",
    " \n",
    " <img src=\"Figures/cube_prism_example.jpg\" alt=\"isolated\" width=\"400\"/>\n",
    " \n",
    "This figure shows a cut though of the resultant mesh, $\\texttt{OCC_cube_prism.vol}$, showing the tetrahedral mesh inside the cube in green, the non-conducting region in red, and the thin layer of prisms in cyan."
   ]
  },
  {
   "cell_type": "markdown",
   "id": "f82345b1",
   "metadata": {},
   "source": [
    "## Sphere Example\n",
    "The $\\texttt{BoundaryLayer}$ method requires a defined edge that it can use to correctly introduce the layer of prisms, such as the edge of a cube.\n",
    "\n",
    "In the case of a sphere, no such edge exists, thus we need to introduce one.\n",
    "\n",
    "We begin by defining a unit radius sphere, scaled by $\\alpha=0.001$ m with a conductivity $\\sigma=10^6$ S/m and relative permeability $\\mu_r = 80$"
   ]
  },
  {
   "cell_type": "code",
   "execution_count": 5,
   "id": "e2649510",
   "metadata": {},
   "outputs": [],
   "source": [
    "material_name = ['sphere']\n",
    "sigma = [1e6]\n",
    "mur = [80]\n",
    "alpha = 0.001\n",
    "\n",
    "sphere = Sphere(Pnt(0,0,0), r=1)"
   ]
  },
  {
   "cell_type": "markdown",
   "id": "e96f11cb",
   "metadata": {},
   "source": [
    "Now we want to split the sphere into two hemispheres and rejoin them."
   ]
  },
  {
   "cell_type": "code",
   "execution_count": 6,
   "id": "fb192293",
   "metadata": {},
   "outputs": [],
   "source": [
    "pos_sphere = sphere - Box(Pnt(0,100,100), Pnt(-100,-100,-100))\n",
    "neg_sphere = sphere - Box(Pnt(0,100,100), Pnt(100,-100,-100))\n",
    "sphere = pos_sphere + neg_sphere"
   ]
  },
  {
   "cell_type": "markdown",
   "id": "60eceb35",
   "metadata": {},
   "source": [
    "If we now draw the sphere geometry, we see that we have introduced a bisecting plane"
   ]
  },
  {
   "cell_type": "code",
   "execution_count": 7,
   "id": "bb6466d2",
   "metadata": {},
   "outputs": [
    {
     "data": {
      "application/vnd.jupyter.widget-view+json": {
       "model_id": "2a00320fa2d94dc98e635cff20b99f01",
       "version_major": 2,
       "version_minor": 0
      },
      "text/plain": [
       "WebGuiWidget(layout=Layout(height='50vh', width='100%'), value={'ngsolve_version': 'Netgen x.x', 'mesh_dim': 3…"
      ]
     },
     "metadata": {},
     "output_type": "display_data"
    },
    {
     "data": {
      "text/plain": [
       "BaseWebGuiScene"
      ]
     },
     "execution_count": 7,
     "metadata": {},
     "output_type": "execute_result"
    }
   ],
   "source": [
    "from netgen.webgui import Draw as DrawGeo\n",
    "DrawGeo(sphere)"
   ]
  },
  {
   "cell_type": "markdown",
   "id": "9f1c1e73",
   "metadata": {},
   "source": [
    "and now we can proceed as before by defining a outer region, and assigning material names etc"
   ]
  },
  {
   "cell_type": "code",
   "execution_count": 8,
   "id": "9f5b0b3d",
   "metadata": {},
   "outputs": [],
   "source": [
    "box = Box(Pnt(-1000,-1000,-1000), Pnt(1000,1000,1000))\n",
    "box.bc('outer')\n",
    "box.mat('air')\n",
    "\n",
    "sphere.mat(material_name[0])\n",
    "sphere.bc('default')\n",
    "sphere.maxh = 0.2"
   ]
  },
  {
   "cell_type": "markdown",
   "id": "c9c7e3df",
   "metadata": {},
   "source": [
    "and generate a coarse mesh"
   ]
  },
  {
   "cell_type": "code",
   "execution_count": 9,
   "id": "bc387ea2",
   "metadata": {},
   "outputs": [],
   "source": [
    "joined_object = Glue([box, sphere])\n",
    "nmesh = OCCGeometry(joined_object).GenerateMesh(meshsize.coarse)"
   ]
  },
  {
   "cell_type": "markdown",
   "id": "bcc3717e",
   "metadata": {},
   "source": [
    "before finally including the boundary layer elements"
   ]
  },
  {
   "cell_type": "code",
   "execution_count": 10,
   "id": "1d146d41",
   "metadata": {},
   "outputs": [],
   "source": [
    "# Setting Boundary layer Options:\n",
    "max_target_frequency = 1e8\n",
    "boundary_layer_material = material_name[0]\n",
    "number_of_layers = 2\n",
    "\n",
    "# Applying Boundary Layers:\n",
    "mu0 = 4 * 3.14159 * 1e-7\n",
    "tau = (2/(max_target_frequency * sigma[0] * mu0 * mur[0]))**0.5 / alpha\n",
    "layer_thicknesses = [(2**n)*tau for n in range(number_of_layers)]\n",
    "\n",
    "nmesh.BoundaryLayer(boundary=\".*\", thickness=layer_thicknesses, material=boundary_layer_material,\n",
    "                           domains=boundary_layer_material, outside=False)"
   ]
  },
  {
   "cell_type": "markdown",
   "id": "61460cdf",
   "metadata": {},
   "source": [
    "The equivalent $\\texttt{.py}$ file for this example can be found in [$\\texttt{OCC_Geometry/OCC_sphere_prism.py}$](../OCC_Geometry/OCC_sphere_prism.py)."
   ]
  },
  {
   "cell_type": "markdown",
   "id": "c7dc99ed",
   "metadata": {},
   "source": [
    "## $p$ Refinement Convergence \n",
    "\n",
    "With the introduction of the prismatic layer, we see that MPT-Calculator is able to acheive converged results over a much wider frequency range than the equivalent tetrahedral mesh. \n",
    "\n",
    "Considering the sphere defined above with $\\mu_r=80$, $\\sigma=10^6$, and $\\alpha=0.01$ m, we go from\n",
    "<table><tr>\n",
    "    <td><img src=\"Figures/Real_sphere_mur=80.png\" alt=\"isolated\" width=\"400\"/></td>  \n",
    "    <td><img src=\"Figures/Imag_sphere_mur=80.png\" alt=\"isolated\" width=\"400\"/></td>\n",
    "</tr></table>\n",
    " \n",
    "where there are no prismatic elements to\n",
    " \n",
    "<table><tr>\n",
    "    <td><img src=\"Figures/Real_prism_sphere_mur=80.png\" alt=\"isolated\" width=\"400\"/></td>  \n",
    "    <td><img src=\"Figures/Imag_prism_sphere_mur=80.png\" alt=\"isolated\" width=\"400\"/></td>\n",
    "</tr></table>\n",
    " where the three layers of prismatic elements have been included of thicknesses 0.001 0.005, and 0.05 units respectivly, and see that the solutions converge across the entire frequency range using $p=2$ order elements.\n",
    " \n",
    " [1] J. Elgy, P. D. Ledger, J. L. Davidson, T. Özdeğer, A.J. Peyton, \"Computation and measurement of magnetic polarizability tensor object characterisation of highly conducting and permeable objects, $\\textit{Submitted}$"
   ]
  },
  {
   "cell_type": "markdown",
   "id": "4d67fc49",
   "metadata": {},
   "source": [
    "\n",
    "\n"
   ]
  },
  {
   "cell_type": "code",
   "execution_count": null,
   "id": "2951612e",
   "metadata": {},
   "outputs": [],
   "source": []
  }
 ],
 "metadata": {
  "kernelspec": {
   "display_name": "Python 3 (ipykernel)",
   "language": "python",
   "name": "python3"
  },
  "language_info": {
   "codemirror_mode": {
    "name": "ipython",
    "version": 3
   },
   "file_extension": ".py",
   "mimetype": "text/x-python",
   "name": "python",
   "nbconvert_exporter": "python",
   "pygments_lexer": "ipython3",
   "version": "3.10.6"
  },
  "toc": {
   "base_numbering": 1,
   "nav_menu": {},
   "number_sections": true,
   "sideBar": true,
   "skip_h1_title": false,
   "title_cell": "Table of Contents",
   "title_sidebar": "Contents",
   "toc_cell": false,
   "toc_position": {},
   "toc_section_display": true,
   "toc_window_display": false
  },
  "varInspector": {
   "cols": {
    "lenName": 16,
    "lenType": 16,
    "lenVar": 40
   },
   "kernels_config": {
    "python": {
     "delete_cmd_postfix": "",
     "delete_cmd_prefix": "del ",
     "library": "var_list.py",
     "varRefreshCmd": "print(var_dic_list())"
    },
    "r": {
     "delete_cmd_postfix": ") ",
     "delete_cmd_prefix": "rm(",
     "library": "var_list.r",
     "varRefreshCmd": "cat(var_dic_list()) "
    }
   },
   "types_to_exclude": [
    "module",
    "function",
    "builtin_function_or_method",
    "instance",
    "_Feature"
   ],
   "window_display": false
  }
 },
 "nbformat": 4,
 "nbformat_minor": 5
}
