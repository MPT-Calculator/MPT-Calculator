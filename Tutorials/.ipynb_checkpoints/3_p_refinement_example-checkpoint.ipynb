{
 "cells": [
  {
   "cell_type": "markdown",
   "id": "dbd0e468-0aeb-485b-b57b-421dc06ada69",
   "metadata": {},
   "source": [
    "# 3  hp refinement example using MPT-Calculator\n",
    "\n",
    "The accuracy of the computed MPT coefficients depend on the discretisation used to discretise the transmission problem for ${\\boldsymbol \\theta}_i^{(0)}$ and ${\\boldsymbol \\theta}_i^{(1)}$, which in turn are used to compute the MPT coefficients. The accuracy of the solution depends on the order of the elements and the size and distribution of the tetrahedra in the mesh. To ensure that the solution is accurate, we refine the discretisation until convergence of the solution is achieved.\n",
    "\n",
    "There are two alternative types of refinement $p$ refinement, which involves enrichment of the element order, and $h$ refinement, which involves using a finer mesh of tetrahedral elements (either locally or globally). Note that we only consider global enrichment of the element order."
   ]
  },
  {
   "cell_type": "code",
   "execution_count": 1,
   "id": "915ba1d9-2b83-48cd-b2de-78091856f984",
   "metadata": {},
   "outputs": [
    {
     "data": {
      "text/plain": [
       "'/home/james/Desktop/MPT-Calculator_June'"
      ]
     },
     "execution_count": 1,
     "metadata": {},
     "output_type": "execute_result"
    }
   ],
   "source": [
    "# This bit code allows a python file to be changed and then for the updates to be available without restarting\n",
    "# the jupyter kernal\n",
    "%load_ext autoreload\n",
    "%autoreload 2\n",
    "\n",
    "from time import time\n",
    "import numpy as np\n",
    "from matplotlib import pyplot as plt\n",
    "import os\n",
    "# Please edit this line to provide the to the root directory of your copy of MPT-Calculator\n",
    "Your_Path = r'C:\\Users\\James\\Desktop\\Release_Ready_MPT_Calculator\\Restructured_MPT_Calculator'\n",
    "Your_Path = r'/home/james/Desktop/MPT-Calculator_June/'\n",
    "\n",
    "os.chdir(Your_Path)\n",
    "os.getcwd()\n"
   ]
  },
  {
   "cell_type": "code",
   "execution_count": 2,
   "id": "66f1e1af-c76c-43ce-8cf0-2cf5c5194aa7",
   "metadata": {},
   "outputs": [
    {
     "name": "stdout",
     "output_type": "stream",
     "text": [
      "importing NGSolve-6.2.2204\n"
     ]
    }
   ],
   "source": [
    "from main import main"
   ]
  },
  {
   "cell_type": "markdown",
   "id": "64bb7402-6a83-4d4f-bb55-578185b7ef5c",
   "metadata": {},
   "source": [
    "## $p$ - Refinement\n",
    "\n",
    "In this example, we wish to explore the effect of changing the polynomial order of the $\\boldsymbol{H}(curl)$ discretisation. We expect that increasing the order $p$ from $p=0\\rightarrow p=1\\rightarrow p=2\\rightarrow p=3$ will result in a more accurate simulation at the cost of an increased computational time.\n",
    "\n",
    "An important consideration when doing $p$-refinement is to ensure that geometry of the sphere is sufficiently resolved. In $p$ refinement, we use curved elements (which are on by default, but don't provide exact geometry), and since we don't change the mesh as we increase the order, we need to make sure that the mesh around the sphere is sufficiently fine. We have this using not only curved elements (this is achieved by controlling maxh for the spacing around the sphere in the $\\texttt{sphere.geo}$ file, here the file sets maxh=0.2 for the inner sphere). We will go in to geometry files in more detail in later tutorials. "
   ]
  },
  {
   "cell_type": "markdown",
   "id": "6c6fcee6-a2be-4ff4-a3b0-4cf73e426592",
   "metadata": {},
   "source": [
    "For control over the order we want to specify $p$ as an input argument\n",
    "```python\n",
    "main(order=p)\n",
    "```\n",
    "which can be done iteratively\n"
   ]
  },
  {
   "cell_type": "code",
   "execution_count": null,
   "id": "bddbc68b-31b4-497c-a0f5-04b13ac75009",
   "metadata": {
    "scrolled": false,
    "tags": []
   },
   "outputs": [
    {
     "name": "stdout",
     "output_type": "stream",
     "text": [
      "Solving for order = 0\n",
      "sphere.geo\n",
      "[0, 1] 2 ['air', 'sphere']\n",
      "Mesh Contains Prisms? False\n",
      "N Prisms: 0, N Tets: 7592\n",
      "[0, 1] 2 ['air', 'sphere']\n"
     ]
    },
    {
     "name": "stderr",
     "output_type": "stream",
     "text": [
      "/home/james/Desktop/MPT-Calculator_June/main.py:275: UserWarning: It looks like the main function was invoked from a jupyter notebook. \n",
      "Currently saving a .ipynb file is done by copying the most recent file in the .ipynb_checkpoints folder. \n",
      "Unless you saved the file before running the code, this may not be the correct file.\n",
      "  warn('It looks like the main function was invoked from a jupyter notebook. \\nCurrently saving a .ipynb file is done by copying the most recent file in the .ipynb_checkpoints folder. \\nUnless you saved the file before running the code, this may not be the correct file.', stacklevel=1)\n"
     ]
    },
    {
     "name": "stdout",
     "output_type": "stream",
     "text": [
      "Running as parallel POD\n",
      " mesh contains 7592 elements\n",
      "Running Bilinear Forms Check\n",
      "Mesh curve order set to:  5\n",
      "K: Iteration 1: bonus_intord = 2\n",
      "K: Iteration 2: bonus_intord = 4\n",
      "K: Iteration 3: bonus_intord = 6\n",
      "K: Iteration 4: bonus_intord = 8\n"
     ]
    },
    {
     "name": "stderr",
     "output_type": "stream",
     "text": [
      "/home/james/Desktop/MPT-Calculator_June/Functions/PrerunChecks/BilinearForms_Check.py:77: ComplexWarning: Casting complex values to real discards the imaginary part\n",
      "  rows[:], cols[:], vals[:] = K.mat.COO()\n"
     ]
    },
    {
     "name": "stdout",
     "output_type": "stream",
     "text": [
      "K: Iteration 5: bonus_intord = 10\n",
      "C: Iteration 1: bonus_intord = 2\n",
      "C: Iteration 2: bonus_intord = 4\n",
      "C: Iteration 3: bonus_intord = 6\n",
      "C: Iteration 4: bonus_intord = 8\n"
     ]
    },
    {
     "name": "stderr",
     "output_type": "stream",
     "text": [
      "/home/james/Desktop/MPT-Calculator_June/Functions/PrerunChecks/BilinearForms_Check.py:145: ComplexWarning: Casting complex values to real discards the imaginary part\n",
      "  rows[:], cols[:], vals[:] = A.mat.COO()\n",
      "Solving Theta0: 100%|█████████████████████████████| 3/3 [00:00<00:00,  3.23it/s]\n"
     ]
    },
    {
     "name": "stdout",
     "output_type": "stream",
     "text": [
      " solved theta0 problems   \n",
      " solving theta1 snapshots\n"
     ]
    },
    {
     "name": "stderr",
     "output_type": "stream",
     "text": [
      "Solving Theta1 Snapshots: 100%|█████████████████| 13/13 [00:50<00:00,  3.92s/it]\n"
     ]
    },
    {
     "name": "stdout",
     "output_type": "stream",
     "text": [
      "manually closed pool\n",
      " SVD complete                \n",
      " Number of retained modes = 9\n",
      " Built K, Q, E, and Ger model\n",
      "manually closed pool\n",
      " reduced order systems solved\n",
      " frequency sweep complete\n",
      "Solving for order = 1\n",
      "sphere.geo\n",
      "[0, 1] 2 ['air', 'sphere']\n",
      "Mesh Contains Prisms? False\n",
      "N Prisms: 0, N Tets: 7592\n",
      "[0, 1] 2 ['air', 'sphere']\n",
      "Running as parallel POD\n",
      " mesh contains 7592 elements\n",
      "Running Bilinear Forms Check\n",
      "Mesh curve order set to:  5\n",
      "K: Iteration 1: bonus_intord = 2\n"
     ]
    },
    {
     "name": "stderr",
     "output_type": "stream",
     "text": [
      "/home/james/Desktop/MPT-Calculator_June/main.py:275: UserWarning: It looks like the main function was invoked from a jupyter notebook. \n",
      "Currently saving a .ipynb file is done by copying the most recent file in the .ipynb_checkpoints folder. \n",
      "Unless you saved the file before running the code, this may not be the correct file.\n",
      "  warn('It looks like the main function was invoked from a jupyter notebook. \\nCurrently saving a .ipynb file is done by copying the most recent file in the .ipynb_checkpoints folder. \\nUnless you saved the file before running the code, this may not be the correct file.', stacklevel=1)\n",
      "/home/james/Desktop/MPT-Calculator_June/Functions/PrerunChecks/BilinearForms_Check.py:77: ComplexWarning: Casting complex values to real discards the imaginary part\n",
      "  rows[:], cols[:], vals[:] = K.mat.COO()\n"
     ]
    },
    {
     "name": "stdout",
     "output_type": "stream",
     "text": [
      "K: Iteration 2: bonus_intord = 4\n",
      "K: Iteration 3: bonus_intord = 6\n",
      "K: Iteration 4: bonus_intord = 8\n",
      "K: Iteration 5: bonus_intord = 10\n",
      "C: Iteration 1: bonus_intord = 2\n",
      "C: Iteration 2: bonus_intord = 4\n",
      "C: Iteration 3: bonus_intord = 6\n"
     ]
    },
    {
     "name": "stderr",
     "output_type": "stream",
     "text": [
      "/home/james/Desktop/MPT-Calculator_June/Functions/PrerunChecks/BilinearForms_Check.py:145: ComplexWarning: Casting complex values to real discards the imaginary part\n",
      "  rows[:], cols[:], vals[:] = A.mat.COO()\n"
     ]
    },
    {
     "name": "stdout",
     "output_type": "stream",
     "text": [
      "C: Iteration 4: bonus_intord = 8\n"
     ]
    },
    {
     "name": "stderr",
     "output_type": "stream",
     "text": [
      "Solving Theta0: 100%|█████████████████████████████| 3/3 [00:00<00:00,  3.21it/s]\n"
     ]
    },
    {
     "name": "stdout",
     "output_type": "stream",
     "text": [
      " solved theta0 problems   \n",
      " solving theta1 snapshots\n"
     ]
    },
    {
     "name": "stderr",
     "output_type": "stream",
     "text": [
      "Solving Theta1 Snapshots:  31%|█████▌            | 4/13 [00:19<00:41,  4.65s/it]"
     ]
    }
   ],
   "source": [
    "comparison_eig_p = np.zeros((40,4), dtype=complex)\n",
    "comparison_ndofs_p = np.zeros(4)\n",
    "start_time = time()\n",
    "for p in [0,1,2,3]:\n",
    "    print('Solving for order =',p)\n",
    "    Return_Dict = main(use_POD=True, order=p)\n",
    "    comparison_eig_p[:,p] = Return_Dict['EigenValues'][:,0]\n",
    "    comparison_ndofs_p[p] = Return_Dict['NDOF'][1]\n",
    "stop_time = time()"
   ]
  },
  {
   "cell_type": "code",
   "execution_count": null,
   "id": "e8c0e5d0",
   "metadata": {},
   "outputs": [],
   "source": [
    "print(f'Total computation time (p refinement) = {(stop_time - start_time)/60} minutes')"
   ]
  },
  {
   "cell_type": "markdown",
   "id": "395ff44d-2c4c-46ff-aef9-097ab8f5712b",
   "metadata": {},
   "source": [
    "Plotting the first eigenvalue for the different $p$, shows that the solutions are in agreement upto $\\sim 10^7$ rad/s, after which the solutions begin to diverge."
   ]
  },
  {
   "cell_type": "code",
   "execution_count": null,
   "id": "623bd26d-6416-43c7-b528-38d01c161462",
   "metadata": {
    "scrolled": false
   },
   "outputs": [],
   "source": [
    "plt.figure()\n",
    "for p in [0,1,2,3]:\n",
    "    plt.semilogx(Return_Dict['FrequencyArray'], comparison_eig_p[:,p].real, label=f'order {p}')\n",
    "plt.legend();\n",
    "plt.xlabel('$\\omega$, [rad/s]');\n",
    "plt.ylabel('$\\lambda_1(\\mathcal{R} + \\mathcal{N}^0)$');\n",
    "\n",
    "plt.figure()\n",
    "for p in [0,1,2,3]:\n",
    "    plt.semilogx(Return_Dict['FrequencyArray'], comparison_eig_p[:,p].imag, label=f'order {p}')\n",
    "plt.legend();\n",
    "plt.xlabel('$\\omega$, [rad/s]');\n",
    "plt.ylabel('$\\lambda_1(\\mathcal{I})$');"
   ]
  },
  {
   "cell_type": "markdown",
   "id": "a806fd6c-f16a-451d-97ce-0c5ead3e1d72",
   "metadata": {},
   "source": [
    "We can see that increasing the order leads to a rapid convergence of the solution. Already using order 3 give a solution that is converged upto $10^7$ rad/s and this can be improved for high frequencies by further increasing the order. The problem solved is a magnetic sphere, if instead $\\mu_r=1$ was chosen then a more accurate solution can be achieved for the same discretisation. This is because the skin depth is larger, which makes the problem less challenging to capture in this case. Later tutorials will address how to change the materials and object geometry as well how to deal with very thin skin depths in the case of highly magnetic materials."
   ]
  },
  {
   "cell_type": "markdown",
   "id": "e4c30ee3-d62b-49eb-b6bd-b2a24c62647c",
   "metadata": {},
   "source": [
    "## $h$ - Refinement"
   ]
  },
  {
   "cell_type": "markdown",
   "id": "0b97a304-db9d-4b18-848a-3ed145717f25",
   "metadata": {},
   "source": [
    "Similarly to refining $p$, we can also increase the density of the mesh, to provide finer spatial resolution. In this example, we reduce the maximum element size in the mesh and observe that this provides a more accurate solution. Note that we now choose to keep the order of elements fixed to be the lowest order (0).\n",
    "\n",
    "There are several ways to control the mesh spacing.\n",
    "\n",
    "1. To set a maximum element size for a quasi-uniform mesh, we use the $\\texttt{h}$ argument in $\\texttt{main}$. For example, to set the max element size to 1 over the entire mesh we would use\n",
    "```python\n",
    "main(h=1)\n",
    "```\n",
    "which can also be done iteratively to generate a quasi-uniform mesh over the entire domain. Note that setting h=1 controls the maximum size in the mesh (not the size of all elements).\n",
    "\n",
    "2. Another option is use the Netgen mesh sizing tags, $\\texttt{'verycoarse'}$, $\\texttt{'coarse'}$, $\\texttt{'moderate'}$, $\\texttt{'fine'}$, and $\\texttt{'veryfine'}$ to specify a object size dependent discretisation.\n",
    "\n",
    "e.g.\n",
    "```python\n",
    "main(h='coarse')\n",
    "```\n",
    "\n",
    "The mesh resulting from using $\\texttt{coarse}$ is non-uniform.\n",
    "\n",
    "3. The third option, which we use in the example below, is to change the maxh for the spacing in the inner sphere. We know that for this example controlling the spacing in the sphere is more important than say in the far field. So we loop through a sequence of .geo files each containing a different maxh value. \n"
   ]
  },
  {
   "cell_type": "code",
   "execution_count": null,
   "id": "847ca0d4-89f7-4ed8-8d75-9c0cadbad1ba",
   "metadata": {
    "scrolled": false,
    "tags": []
   },
   "outputs": [],
   "source": [
    "comparison_eig_h = np.zeros((40,4), dtype=complex)\n",
    "comparison_ndofs_h = np.zeros(4)\n",
    "# use this option if you don't have a machine with 32 Gb Ram or more and/or want a quicker run time.\n",
    "geo_array = ['spherehref0.geo','spherehref1.geo', 'spherehref2.geo', 'spherehref3.geo']#\n",
    "# use this option if you have a machine with 64 Gb Ram or more and are happy to wait a long time!\n",
    "#geo_array = ['spherehref1.geo', 'spherehref2.geo', 'spherehref3.geo','spherehref4.geo']\n",
    "\n",
    "start_time = time()\n",
    "for n, h in enumerate(geo_array):\n",
    "    print(f'Solving for geofile={h}')\n",
    "    Return_Dict = main(use_POD=True, order=0, geometry=h)\n",
    "    comparison_eig_h[:,n] = Return_Dict['EigenValues'][:,0]\n",
    "    comparison_ndofs_h[n] = Return_Dict['NDOF'][1]\n",
    "stop_time = time()\n",
    "\n"
   ]
  },
  {
   "cell_type": "code",
   "execution_count": null,
   "id": "207dbf18",
   "metadata": {},
   "outputs": [],
   "source": [
    "print(f'Total computation time (h refinement) = {(stop_time - start_time)/60} minutes')"
   ]
  },
  {
   "cell_type": "markdown",
   "id": "8c2aa6bd",
   "metadata": {},
   "source": [
    "Performing $h$--refinement is generally much more expensive than $p$--refinement for the same accuracy. After discretising the finite element problem a large complex linear system of equation needs to be solved. The preconditioner employed solves the lowest order block in this system directly and, as we are only using lowest order elements in $h$-refinement, this means that the complete system is solved directly and the iterative solver converges in a single iteration. However, direct solves are expensive and there is a large memory growth as the mesh is refined. Not only is there a large growth in memory and also increased run times. As before, plotting the first eigenvalue shows the effect of refining the mesh. "
   ]
  },
  {
   "cell_type": "code",
   "execution_count": null,
   "id": "63634057-879b-434e-bd76-36730ada286e",
   "metadata": {},
   "outputs": [],
   "source": [
    "plt.figure()\n",
    "for h in [0,1,2,3]:\n",
    "    plt.semilogx(Return_Dict['FrequencyArray'], comparison_eig_h[:,h].real, label=f'h={geo_array[h]}')\n",
    "plt.legend();\n",
    "plt.xlabel('$\\omega$, [rad/s]');\n",
    "plt.ylabel('$\\lambda_1(\\mathcal{R} + \\mathcal{N}^0)$');\n",
    "\n",
    "plt.figure()\n",
    "for h in [0,1,2,3]:\n",
    "    plt.semilogx(Return_Dict['FrequencyArray'], comparison_eig_h[:,h].imag, label=f'h={geo_array[h]}')\n",
    "plt.legend();\n",
    "plt.xlabel('$\\omega$, [rad/s]');\n",
    "plt.ylabel('$\\lambda_1(\\mathcal{I})$');\n"
   ]
  },
  {
   "cell_type": "markdown",
   "id": "d5c54d33",
   "metadata": {},
   "source": [
    "We see that the resulting curves are also converging, but only up to frequencies around $10^6$ S/m. We will see shortly that the relative error is much larger than it is for $p$-refinement. Indeed, to capture an accurate solution for this sphere would require a very dense mesh.\n",
    "\n",
    "Given this, and comparing the computation times for $p$ and $h$ refinements, we see that in this case $p$ refinement is significantly more effective for the sphere problem as the fields are smooth in this case. In general, setting up an appropriate initial mesh (including prismatic layers in the case of very thin skin depths) and using $p$ refinement is the preferred the method to get rapid convergence of the solution.\n",
    "\n",
    "To further understand the difference we consider the relative error in the approximated eigenvalues for $h$ and $p$ refinement. We can compute the error in this case as we have an exact solution for a conducting permeable sphere.\n",
    "\n",
    "<b>Note: In general, we do not have an exact solution to the rank 2 MPT for all objects, so this comparison with an exact solution is only possible with a sphere.</b>"
   ]
  },
  {
   "cell_type": "markdown",
   "id": "d087b3fc",
   "metadata": {},
   "source": [
    "In MPT-Calculator, a function to calculate the exact solution for a sphere is included:"
   ]
  },
  {
   "cell_type": "code",
   "execution_count": null,
   "id": "c733ba1b",
   "metadata": {},
   "outputs": [],
   "source": [
    "from Functions.Helper_Functions.exact_sphere import exact_sphere"
   ]
  },
  {
   "cell_type": "code",
   "execution_count": null,
   "id": "44b1d017",
   "metadata": {},
   "outputs": [],
   "source": [
    "frequency_index = 20\n",
    "alpha =1e-3\n",
    "sigma = 1e6\n",
    "mur = 10\n",
    "epsilon = 0\n",
    "omega = Return_Dict['FrequencyArray'][frequency_index]\n",
    "\n",
    "exact_solution = exact_sphere(alpha, epsilon, mur, sigma, omega)"
   ]
  },
  {
   "cell_type": "code",
   "execution_count": null,
   "id": "4691782e",
   "metadata": {},
   "outputs": [],
   "source": [
    "relative_error_real_p = np.zeros(4)\n",
    "relative_error_imag_p = np.zeros(4)\n",
    "relative_error_real_h = np.zeros(4)\n",
    "relative_error_imag_h = np.zeros(4)\n",
    "\n",
    "for p in [0,1,2,3]:\n",
    "    relative_error_real_p[p] = np.abs((comparison_eig_p[frequency_index,p].real - exact_solution.real)) / np.abs(exact_solution.real)\n",
    "    relative_error_imag_p[p] = np.abs((comparison_eig_p[frequency_index,p].imag - exact_solution.imag)) / np.abs(exact_solution.imag)\n",
    "\n",
    "for h in [0,1,2,3]:\n",
    "    relative_error_real_h[h] = np.abs((comparison_eig_h[frequency_index,h].real - exact_solution.real)) / np.abs(exact_solution.real)\n",
    "    relative_error_imag_h[h] = np.abs((comparison_eig_h[frequency_index,h].imag - exact_solution.imag)) / np.abs(exact_solution.imag)\n",
    "\n",
    "    \n",
    "plt.figure()    \n",
    "plt.plot(comparison_ndofs_p, relative_error_real_p, 'b*-', label='$p$ refinement')\n",
    "plt.plot(comparison_ndofs_h, relative_error_real_h, 'r*-', label='$h$ refinement')\n",
    "\n",
    "plt.gca().set_xscale('log')\n",
    "plt.gca().set_yscale('log')\n",
    "plt.legend(loc='lower left')\n",
    "plt.ylabel('Relative Error $\\lambda_1(\\mathcal{R} + \\mathcal{N}^0)$')\n",
    "plt.xlabel('NDOF')\n",
    "\n",
    "plt.figure()    \n",
    "plt.plot(comparison_ndofs_p, relative_error_imag_p, 'b*-', label='$p$ refinement')\n",
    "plt.plot(comparison_ndofs_h, relative_error_imag_h, 'r*-', label='$h$ refinement')\n",
    "\n",
    "plt.gca().set_xscale('log')\n",
    "plt.gca().set_yscale('log')\n",
    "plt.legend(loc='lower left')\n",
    "plt.ylabel('Relative Error $\\lambda_1(\\mathcal{I})$')\n",
    "plt.xlabel('NDOF');"
   ]
  },
  {
   "cell_type": "markdown",
   "id": "d1cc77ac",
   "metadata": {},
   "source": [
    "We observe that the $p$ refinement leads to an exponential convergence of the MPT coefficients to the exact solution, while $h$ refinement leads to only an algebraic rate of convergence. Furthermore, for very coarse meshes, $h$-refinement may show a pre-asymptotic behavior where the convergence may at first be quick before slowing down to a constant rate. On the other hand, provided that the geometry is sufficiently well resolved, then the rate of converges improves as $p$ is increased (in practice this will always be limited by the geometry resolution). This means that for a given fixed number of degrees of freedom (NDOF), using $p$ refinement gives a more accurate solution compared to the corresponding solution with $h$ refinement.\n",
    "\n",
    "In general, given the improved accuracy with $p$ refinement, we recommend using this over $h$ refinement. For objects with sharp edges and/or strong material discontinuities or high $\\mu_r$, it may also beneficial to use local $h$ refinement (or boundary layer elements in the case of high $\\mu_r$) to supplement using $p$ refinement. Further details of this are provided in subsequent tutorials."
   ]
  },
  {
   "cell_type": "code",
   "execution_count": null,
   "id": "6aee7575",
   "metadata": {},
   "outputs": [],
   "source": []
  }
 ],
 "metadata": {
  "kernelspec": {
   "display_name": "Python 3 (ipykernel)",
   "language": "python",
   "name": "python3"
  },
  "language_info": {
   "codemirror_mode": {
    "name": "ipython",
    "version": 3
   },
   "file_extension": ".py",
   "mimetype": "text/x-python",
   "name": "python",
   "nbconvert_exporter": "python",
   "pygments_lexer": "ipython3",
   "version": "3.10.6"
  },
  "toc": {
   "base_numbering": 1,
   "nav_menu": {},
   "number_sections": true,
   "sideBar": true,
   "skip_h1_title": false,
   "title_cell": "Table of Contents",
   "title_sidebar": "Contents",
   "toc_cell": false,
   "toc_position": {},
   "toc_section_display": true,
   "toc_window_display": false
  },
  "varInspector": {
   "cols": {
    "lenName": 16,
    "lenType": 16,
    "lenVar": 40
   },
   "kernels_config": {
    "python": {
     "delete_cmd_postfix": "",
     "delete_cmd_prefix": "del ",
     "library": "var_list.py",
     "varRefreshCmd": "print(var_dic_list())"
    },
    "r": {
     "delete_cmd_postfix": ") ",
     "delete_cmd_prefix": "rm(",
     "library": "var_list.r",
     "varRefreshCmd": "cat(var_dic_list()) "
    }
   },
   "types_to_exclude": [
    "module",
    "function",
    "builtin_function_or_method",
    "instance",
    "_Feature"
   ],
   "window_display": false
  }
 },
 "nbformat": 4,
 "nbformat_minor": 5
}
