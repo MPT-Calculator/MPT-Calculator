{
 "cells": [
  {
   "cell_type": "markdown",
   "id": "ca79382a-af96-4017-b92b-42dd30f4b5ef",
   "metadata": {
    "tags": []
   },
   "source": [
    "# MPT-Calculator Installation"
   ]
  },
  {
   "cell_type": "markdown",
   "id": "b48c789c-1601-4b75-a006-b7a5020b3457",
   "metadata": {},
   "source": [
    "## Software Overview:\n",
    "The MPT-Calculator is an open source Python library to calculate the coefficents of the Magnetic Polarizability Tensor (MPT) characterterisation of a conducting magnetic object using high order finite elements and the [NGSolve](https://ngsolve.org/) finite element package. Currently, the software supports:\n",
    "- Finite element mesh generation using the $\\texttt{Netgen}$ mesher in $\\texttt{NGSolve}$ via either a Constructive Solid Geometry description, or via an Open Cascade Technology (OCC) description stored as .geo and .py files respectively. Geometry can also be loaded from a CAD description.\n",
    "- Accurate MPT characterisations of conducting objects which are either magnetic or non-magnetic for a range of frequencies (upto the limit of the eddy current model). In the case of highly magnetic objects at higher frequencies this involves the additional introduction of thin layers of prismatic boundary layer elements close to the surface of the conducting object.\n",
    "- Direct computation of the full order solutions snapshots for the MPT coefficients at arbitrary and logarithmically spaced frequencies.\n",
    "- Acceleration when considering the MPT spectral signature (MPT coefficients as a function of frequency) and output at multiple frequencies via an effective Proper Orthogonal Decomposition (POD) and the calculation of error certificates to ensure accuracy.\n",
    "- Comprehensive saving of all generated results.\n",
    "- An extension to two dimensional ($\\mu_r, \\omega$) MPT characterisations using POD.\n",
    "\n",
    "**The MPT-Calulator has been updated and is available on a dedicated github page [https://github.com/MPT-Calculator/MPT-Calculator](https://github.com/MPT-Calculator/MPT-Calculator) under a GNU General Public License.**"
   ]
  },
  {
   "cell_type": "markdown",
   "id": "038f2dc2-28dc-4e9a-9064-accd972ba367",
   "metadata": {
    "tags": []
   },
   "source": [
    "## Requirements:"
   ]
  },
  {
   "cell_type": "markdown",
   "id": "b5b8859f-e120-4a50-9d24-15205798e159",
   "metadata": {},
   "source": [
    "**For these examples, we are using Python 3.8 and NGSolve 6.2.2204**\n",
    "\n",
    "MPT-Calculator utilises $\\texttt{NGSolve}$, and its associated meshing library $\\texttt{Netgen}$ (included in $\\texttt{NGSolve}$) to perform the underlying FEM computations. The $\\texttt{NGSolve}$ library (including $\\texttt{Netgen}$) is available under  github ([https://github.com/NGSolve/](https://github.com/NGSolve/)) and their dedicated website [https://ngsolve.org/](https://ngsolve.org/) under an LPLG license. But they can be more easily installed using $\\texttt{pip3}$ as described below.\n",
    "\n",
    "The list of requirements for MPT-Calculator (in addition to the standard Python library) is:\n",
    "<ul>\n",
    "  <li>ngsolve (version 6.2.2204)</li>\n",
    "  <li>numpy (version 1.23.3)</li>\n",
    "  <li>scipy (version 1.9.2)</li>\n",
    "  <li>matplotlib (version 3.6.1)</li>\n",
    "  <li>multiprocessing_on_dill (version 3.5.0a4)</li>\n",
    "  <li>sympy (version 1.11.1)</li>\n",
    "  <li>tqdm (version 4.64.1)\n",
    "</ul>\n",
    "which are all available via $\\texttt{pip3}$ using an appropriate command prompt (either through a terminal on a MAC or Linux system or a command prompt in Windows). Also, if desired, a dedicated virtual environment can be setup first. To install numpy enter\n",
    "\n",
    "```python\n",
    ">> pip3 install numpy\n",
    "```\n",
    "at the command line. In a similar way the other libraries can be installed if not already available. Note that lower case letters should be used in each case.\n",
    "\n",
    "For Netgen and NGSolve, we can test that our installation has worked by entering\n",
    "```python\n",
    ">> netgen\n",
    "```\n",
    "into the command line. If Netgen has installed correctly, then this command will open a GUI interface for Netgen and we will get an import message from NGSolve printed to the command line.\n"
   ]
  },
  {
   "cell_type": "markdown",
   "id": "bfeb0003-f372-4254-9530-c10e2d0520f0",
   "metadata": {},
   "source": [
    "Finally, for parallel execution in Linux, we also need to set the following environment variables:\n",
    "```bash\n",
    "export OMPNUMTHREADS=1\n",
    "export MKLNUMTHREADS=1\n",
    "export MKLTHREADINGLAYER=sequential\n",
    "```\n",
    "in the $\\texttt{.bashrc}$ file.\n"
   ]
  },
  {
   "cell_type": "markdown",
   "id": "2a1dbb48-b275-4a9b-b113-f5e099220fd9",
   "metadata": {},
   "source": [
    "### Jupyter Support:\n",
    "NGsolve and Netgen are compatible with Jupyter notebooks and offer web based visualisation. \n",
    "\n",
    "Currently, to install Jupyter enter\n",
    "```python\n",
    ">> pip3 install jupyter\n",
    "```\n",
    "into the command line when using MAC or Linux systems. When using Windows machines, use \n",
    "```python\n",
    ">> pip install jupyter\n",
    "```\n",
    "To enable the NGSolve visualisation tools:\n",
    "```python\n",
    ">> pip3 install webgui_jupyter_widgets\n",
    ">> jupyter nbextension install --user --py widgetsnbextension\n",
    ">> jupyter nbextension enable --user --py widgetsnbextension\n",
    ">> jupyter nbextension install --user --py webgui_jupyter_widgets\n",
    ">> jupyter nbextension enable --user --py webgui_jupyter_widgets\n",
    "```\n",
    "in the command line.\n",
    "\n",
    "For further installation instructions see [https://docu.ngsolve.org/latest/install/usejupyter.html](https://docu.ngsolve.org/latest/install/usejupyter.html)"
   ]
  },
  {
   "cell_type": "markdown",
   "id": "f29d08e8",
   "metadata": {},
   "source": [
    "## Obtaining MPT-Calculator from Github\n",
    "\n",
    "The easiest way to obtain MPT-Calculator from its Github repository, follow the link [https://github.com/MPT-Calculator/MPT-Calculator](https://github.com/MPT-Calculator/MPT-Calculator).\n",
    "\n",
    "You will be greeted with the Github homepage for MPT-Calculator. To download the software, select \"Code\" and \"Download ZIP\". Doing so will automatically download the MPT-Calculator software in a compressed zip file.\n",
    "\n",
    " <img src=\"Figures/code_download_1.png\" alt=\"isolated\" width=\"500\"/>  <img src=\"Figures/code_download_2.png\" alt=\"isolated\" width=\"500\"/>\n",
    "\n"
   ]
  },
  {
   "cell_type": "markdown",
   "id": "15b25a17-99c7-4d60-aede-8afc63872527",
   "metadata": {
    "tags": []
   },
   "source": [
    "## Structure:\n",
    "Regarding the structure of the MPT-Calculator library, the user is expected to interact with $\\texttt{main.py}$, $\\texttt{Settings.py}$, and $\\texttt{PlotterSettings.py}$ with $\\texttt{PlotterSettings.py}$ rarely being needed. These files along with a geometry file allow the user to produce an array of MPT spectral signatures for many different objects.\n",
    "\n",
    "Additionally, MPT-Calculator requires that any $\\texttt{.geo}$ files are placed in the $\\texttt{GeoFiles/}$ folder and any $\\texttt{.py}$ OCC descriptions are placed in the $\\texttt{OCC_Geometry/}$ folder.\n",
    "\n",
    "\n",
    "The overall structure of the code is as follows, with each function being given its own file:\n",
    "\n",
    "```bash\n",
    ".\n",
    "├── Functions\n",
    "│   ├── Core_MPT\n",
    "│   │   ├── imap_execution.py\n",
    "│   │   ├── MPTCalculator.py\n",
    "│   │   ├── Theta0.py\n",
    "│   │   ├── Theta1_Lower_Sweep_Mat_Method.py\n",
    "│   │   ├── Theta1_Lower_Sweep.py\n",
    "│   │   ├── Theta1.py\n",
    "│   │   └── Theta1_Sweep.py\n",
    "│   ├── FullSweep\n",
    "│   │   ├── FullSweepMulti.py\n",
    "│   │   ├── FullSweep.py\n",
    "│   │   └── SingleFrequency.py\n",
    "│   ├── Helper_Functions\n",
    "│   │   ├── count_prismatic_elements.py\n",
    "│   │   ├── exact_sphere.py\n",
    "│   │   └── step_to_vol_mesher.py\n",
    "│   ├── MeshMaking\n",
    "│   │   ├── Generate_From_Python.py\n",
    "│   │   ├── Meshmaker.py\n",
    "│   │   └── VolMatUpdater.py\n",
    "│   ├── Old_versions\n",
    "│   │   ├── FullSolvers.py\n",
    "│   │   ├── MeshCreation.py\n",
    "│   │   ├── MPTFunctions.py\n",
    "│   │   ├── Plotters.py\n",
    "│   │   ├── PODFunctions.py\n",
    "│   │   ├── PODSolvers.py\n",
    "│   │   ├── ResultsFunctions.py\n",
    "│   │   └── SingleSolve.py\n",
    "│   ├── Prerun_Checks\n",
    "│   │   └── BilinearForms_Check.py\n",
    "│   ├── POD\n",
    "│   │   ├── calc_error_certificates.py\n",
    "│   │   ├── PODP.py\n",
    "│   │   ├── PODSweepIterative.py\n",
    "│   │   ├── PODSweepMulti.py\n",
    "│   │   └── PODSweep.py\n",
    "│   ├── Saving\n",
    "│   │   ├── DictionaryList.py\n",
    "│   │   ├── EigPlotter.py\n",
    "│   │   ├── ErrorPlotter.py\n",
    "│   │   ├── FolderMaker.py\n",
    "│   │   ├── FtoS.py\n",
    "│   │   ├── FullSave.py\n",
    "│   │   ├── PODEigPlotter.py\n",
    "│   │   ├── PODErrorPlotter.py\n",
    "│   │   ├── PODSave.py\n",
    "│   │   ├── PODTensorPlotter.py\n",
    "│   │   ├── SingleSave.py\n",
    "│   │   ├── TensorPlotter.py|\n",
    "│   │   └── TickFormatter.py\n",
    "│   ├── CheckValid.py\n",
    "│   ├── ML_MPT_Predictor.py\n",
    "│   ├── MultiPermeability.py\n",
    "│   ├── PlotEditor.py\n",
    "│   ├── PlotEditorWithErrorBars.py\n",
    "│   ├── PODPlotEditor.py\n",
    "│   └── PODPlotEditorWithErrorBars.py\n",
    "├── GeoFiles\n",
    "│   ├── Claw_wodden_handle.geo\n",
    "│   ├── Coin.geo\n",
    "│   ├── Cylinder.geo\n",
    "│   ├── DualBar.geo\n",
    "│   ├── dualBox.geo\n",
    "│   └── ...\n",
    "├── OCC_Geometry\n",
    "│   ├── OCC_bottle.py\n",
    "│   ├── OCC_cylinder.py\n",
    "│   └── ...\n",
    "├── Results\n",
    "│   ├── box\n",
    "│   │   └── ...\n",
    "│   └── sphere\n",
    "│       └── al_0.001_mu_1_sig_1e6\n",
    "│           └── 1e1-1e10_40_el_57698_ord_2\n",
    "│               ├── Data\n",
    "│               │   ├── Eigenvalues.csv\n",
    "│               │   ├── Frequencies.csv\n",
    "│               │   ├── N0.csv\n",
    "│               │   └── Tensors.csv\n",
    "│               ├── Functions\n",
    "│               │   └── Plotters.py\n",
    "│               ├── Graphs\n",
    "│               │   ├── ImaginaryEigenvalues.pdf\n",
    "│               │   ├── ImaginaryTensorCoeficients.pdf\n",
    "│               │   ├── RealEigenvalues.pdf\n",
    "│               │   └── RealTensorCoeficients.pdf\n",
    "│               ├── Input_files\n",
    "│               │   ├── main.py\n",
    "│               │   ├── Settings.py\n",
    "│               │   ├── sphere.geo\n",
    "│               │   └── sphere.zip\n",
    "│               ├── PlotEditor.py\n",
    "│               └── PlotterSettings.py\n",
    "├── Settings\n",
    "│   ├── PlotterSettings.py\n",
    "│   └── Settings.py\n",
    "├── VolFiles\n",
    "│   ├── Claw_wodden_handle.vol\n",
    "│   ├── Knife_Cheap_Chef.vol\n",
    "│   ├── OCC_cylinder.vol\n",
    "│   └── ...\n",
    "├── Results_2d\n",
    "├── Changelog_for_MPT-Calculator\n",
    "├── LICENSE\n",
    "├── main_2d.py\n",
    "├── README.md\n",
    "└── main.py\n",
    "```\n"
   ]
  },
  {
   "cell_type": "markdown",
   "id": "d2b14a7e",
   "metadata": {},
   "source": [
    "## Helper Functions\n",
    "In addition to the core MPT-Calculator functions, we have provided several useful functions under the $\\texttt{Functions/Helper_Functions}$ directory. \n",
    "\n",
    "These functions are not part of MPT-Calculator but provide useful additional functionality for interacting with $\\texttt{.vol}$ files and analysing the performance of MPT-Calculator.\n",
    "\n",
    "Currently these include:\n",
    "- $\\texttt{count_prismatic_elements.py}$ which calculates the number of tetrahedral and prismatic elements in a given $\\texttt{.vol}$ file.\n",
    "- $\\texttt{step_to_vol_mesher.py}$ which takes a $\\texttt{.step}$ format CAD description and generates a Netgen mesh. This will be covered in more detail in Tutorial [9](./9_Generating_mesh_from_step_file.ipynb)\n",
    "- $\\texttt{exact_sphere.py}$ which calculates the exact eigenvalues for a magnetic sphere of radius $\\alpha$ with a given $\\sigma_*$, $\\mu_r$, and $\\omega$ "
   ]
  },
  {
   "cell_type": "markdown",
   "id": "9da88ec4-5c11-46af-a355-412a7180ffde",
   "metadata": {
    "tags": []
   },
   "source": [
    "## MPT-Calculator Pipeline"
   ]
  },
  {
   "cell_type": "markdown",
   "id": "c893b95c-1436-448a-884f-fc08311567c4",
   "metadata": {},
   "source": [
    "The general pipeline for MPT-Calculator is as follows:\n",
    "\n",
    " <img src=\"Figures/flowchart.png\" alt=\"isolated\"/>"
   ]
  },
  {
   "cell_type": "markdown",
   "id": "fb1001e6-3a3c-4af0-afca-9dbec54f3563",
   "metadata": {
    "tags": []
   },
   "source": [
    "More detail on the structure of the original code can be found in\n",
    "\n",
    "[1] B. A. Wilson. Characterisation and classification of hidden conducting security threats using magnetic polarizability tensors,  Swansea, 2022, http://dx.doi.org/10.23889/SUthesis.60297\n"
   ]
  },
  {
   "cell_type": "code",
   "execution_count": null,
   "id": "a90dcb03",
   "metadata": {},
   "outputs": [],
   "source": []
  }
 ],
 "metadata": {
  "kernelspec": {
   "display_name": "Python 3 (ipykernel)",
   "language": "python",
   "name": "python3"
  },
  "language_info": {
   "codemirror_mode": {
    "name": "ipython",
    "version": 3
   },
   "file_extension": ".py",
   "mimetype": "text/x-python",
   "name": "python",
   "nbconvert_exporter": "python",
   "pygments_lexer": "ipython3",
   "version": "3.10.10"
  },
  "varInspector": {
   "cols": {
    "lenName": 16,
    "lenType": 16,
    "lenVar": 40
   },
   "kernels_config": {
    "python": {
     "delete_cmd_postfix": "",
     "delete_cmd_prefix": "del ",
     "library": "var_list.py",
     "varRefreshCmd": "print(var_dic_list())"
    },
    "r": {
     "delete_cmd_postfix": ") ",
     "delete_cmd_prefix": "rm(",
     "library": "var_list.r",
     "varRefreshCmd": "cat(var_dic_list()) "
    }
   },
   "types_to_exclude": [
    "module",
    "function",
    "builtin_function_or_method",
    "instance",
    "_Feature"
   ],
   "window_display": false
  }
 },
 "nbformat": 4,
 "nbformat_minor": 5
}
