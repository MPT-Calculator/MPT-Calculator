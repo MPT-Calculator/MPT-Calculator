{
 "cells": [
  {
   "cell_type": "code",
   "execution_count": null,
   "id": "36447b5f",
   "metadata": {},
   "outputs": [],
   "source": [
    "from netgen.occ import *\n",
    "\n",
    "\"\"\"\n",
    "James Elgy - 2023:\n",
    "Example for loading in a step geometry for Netgen OCC geometry mesh generation.\n",
    "\"\"\"\n",
    "\n",
    "\n",
    "# Setting mur, sigma, and defining the top level object name:\n",
    "material_name = ['cube']\n",
    "sigma = [1e6]\n",
    "mur = [1]\n",
    "alpha = 0.001\n",
    "\n",
    "# Loading in geometry from a step file geometry description and centering the object.\n",
    "geo = OCCGeometry(r'Tutorials/Examples/Example_10mm_cube.step')\n",
    "cube = geo.shape.Move((-geo.shape.center.x, -geo.shape.center.y, -geo.shape.center.z))\n",
    "\n",
    "# Setting boundary conditions and material names.\n",
    "cube.bc('default')\n",
    "cube.mat(material_name[0])\n",
    "cube.maxh = 1\n",
    "\n",
    "# Generating a large non-conducting region. For compatability with MPT-Calculator, we set the boundary condition to 'outer'\n",
    "# and the material name to 'air'.\n",
    "box = Box(Pnt(-1000, -1000, -1000), Pnt(1000,1000,1000))\n",
    "box.mat('air')\n",
    "box.bc('outer')\n",
    "box.maxh=1000\n",
    "\n",
    "# Here we are joining the two geometries and generating the mesh.\n",
    "joined_object = Glue([box, cube])\n",
    "nmesh = OCCGeometry(joined_object).GenerateMesh()\n",
    "nmesh.Save(r'VolFiles/OCC_Template_step_files.vol')"
   ]
  }
 ],
 "metadata": {
  "kernelspec": {
   "display_name": "Python 3 (ipykernel)",
   "language": "python",
   "name": "python3"
  },
  "language_info": {
   "codemirror_mode": {
    "name": "ipython",
    "version": 3
   },
   "file_extension": ".py",
   "mimetype": "text/x-python",
   "name": "python",
   "nbconvert_exporter": "python",
   "pygments_lexer": "ipython3",
   "version": "3.10.6"
  },
  "varInspector": {
   "cols": {
    "lenName": 16,
    "lenType": 16,
    "lenVar": 40
   },
   "kernels_config": {
    "python": {
     "delete_cmd_postfix": "",
     "delete_cmd_prefix": "del ",
     "library": "var_list.py",
     "varRefreshCmd": "print(var_dic_list())"
    },
    "r": {
     "delete_cmd_postfix": ") ",
     "delete_cmd_prefix": "rm(",
     "library": "var_list.r",
     "varRefreshCmd": "cat(var_dic_list()) "
    }
   },
   "types_to_exclude": [
    "module",
    "function",
    "builtin_function_or_method",
    "instance",
    "_Feature"
   ],
   "window_display": false
  }
 },
 "nbformat": 4,
 "nbformat_minor": 5
}
