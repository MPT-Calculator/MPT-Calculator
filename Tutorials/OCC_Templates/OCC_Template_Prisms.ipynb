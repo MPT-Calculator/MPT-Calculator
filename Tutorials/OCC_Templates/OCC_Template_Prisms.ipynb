{
 "cells": [
  {
   "cell_type": "code",
   "execution_count": null,
   "id": "e220b0f3",
   "metadata": {},
   "outputs": [],
   "source": [
    "from netgen.occ import *\n",
    "from ngsolve import *\n",
    "\n",
    "\"\"\"\n",
    "James Elgy - 2022:\n",
    "sphere (with prismatic boundary layers) example for Netgen OCC geometry mesh generation.\n",
    "\"\"\"\n",
    "\n",
    "\n",
    "\n",
    "# Setting mur, sigma, and defining the top level object name:\n",
    "material_name = ['mat1']\n",
    "mur = [32]\n",
    "sigma = [1e6]\n",
    "# We can also set the object size alpha here.\n",
    "alpha = 0.01\n",
    "\n",
    "# Setting Boundary layer Options:\n",
    "max_target_frequency = 1e8\n",
    "boundary_layer_material = material_name[0]\n",
    "number_of_layers = 2\n",
    "\n",
    "# setting radius\n",
    "r = 1\n",
    "\n",
    "# Generating OCC primative sphere centered at [0,0,0] with radius r:\n",
    "sphere = Sphere(Pnt(0,0,0), r=r)\n",
    "\n",
    "# Here, we split the sphere into positive and negative hemispheres. This is to provide a surface for the prismatic layers.\n",
    "pos_sphere = sphere - Box(Pnt(0,100,100), Pnt(-100,-100,-100))\n",
    "neg_sphere = sphere - Box(Pnt(0,100,100), Pnt(100,-100,-100))\n",
    "sphere = pos_sphere + neg_sphere\n",
    "\n",
    "# Generating surrounding non-conducting region as [-1000,1000]^3 box:\n",
    "box = Box(Pnt(-1000, -1000, -1000), Pnt(1000,1000,1000))\n",
    "\n",
    "# setting material and bc names:\n",
    "# For compatability, we want the non-conducting region to have the 'outer' boundary condition and be labeled as 'air'\n",
    "sphere.mat(material_name[0])\n",
    "sphere.bc('default')\n",
    "box.mat('air')\n",
    "box.bc('outer')\n",
    "\n",
    "# Setting maxh:\n",
    "sphere.maxh = 0.4\n",
    "box.maxh = 1000\n",
    "\n",
    "# Joining the two meshes:\n",
    "# Glue joins two OCC objects together without interior elemements\n",
    "joined_object = Glue([sphere, box])\n",
    "\n",
    "# Generating Mesh:\n",
    "geo = OCCGeometry(joined_object)\n",
    "nmesh = geo.GenerateMesh()\n",
    "\n",
    "# Applying Boundary Layers:\n",
    "mu0 = 4*3.14159 * 1e-7\n",
    "tau = (2/(max_target_frequency * sigma[0] * mu0 * mur[0]))**0.5 / alpha\n",
    "layer_thicknesses = [(2**n)*tau for n in range(number_of_layers)]\n",
    "\n",
    "nmesh.BoundaryLayer(boundary=\".*\", thickness=layer_thicknesses, material=boundary_layer_material,\n",
    "                           domains=boundary_layer_material, outside=False)\n",
    "\n",
    "\n",
    "nmesh.Save(r'VolFiles/OCC_Template_Prisms.vol')\n",
    "\n",
    "\n",
    "\n"
   ]
  }
 ],
 "metadata": {
  "kernelspec": {
   "display_name": "Python 3",
   "language": "python",
   "name": "python3"
  },
  "language_info": {
   "codemirror_mode": {
    "name": "ipython",
    "version": 3
   },
   "file_extension": ".py",
   "mimetype": "text/x-python",
   "name": "python",
   "nbconvert_exporter": "python",
   "pygments_lexer": "ipython3",
   "version": "3.8.8"
  },
  "varInspector": {
   "cols": {
    "lenName": 16,
    "lenType": 16,
    "lenVar": 40
   },
   "kernels_config": {
    "python": {
     "delete_cmd_postfix": "",
     "delete_cmd_prefix": "del ",
     "library": "var_list.py",
     "varRefreshCmd": "print(var_dic_list())"
    },
    "r": {
     "delete_cmd_postfix": ") ",
     "delete_cmd_prefix": "rm(",
     "library": "var_list.r",
     "varRefreshCmd": "cat(var_dic_list()) "
    }
   },
   "types_to_exclude": [
    "module",
    "function",
    "builtin_function_or_method",
    "instance",
    "_Feature"
   ],
   "window_display": false
  }
 },
 "nbformat": 4,
 "nbformat_minor": 5
}
