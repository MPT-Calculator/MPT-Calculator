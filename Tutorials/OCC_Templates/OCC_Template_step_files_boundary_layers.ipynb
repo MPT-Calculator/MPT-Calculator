{
 "cells": [
  {
   "cell_type": "code",
   "execution_count": null,
   "id": "fbcb1a13",
   "metadata": {},
   "outputs": [],
   "source": [
    "from netgen.occ import *\n",
    "\n",
    "# Setting mur, sigma, and defining the top level object name:\n",
    "material_name = ['cube']\n",
    "sigma = [1e6]\n",
    "mur = [32]\n",
    "alpha = 0.01\n",
    "\n",
    "# Setting Boundary layer Options:\n",
    "max_target_frequency = 1e8\n",
    "boundary_layer_material = material_name[0]\n",
    "number_of_layers = 2\n",
    "\n",
    "# Loading in geometry from a step file geometry description and centering the object.\n",
    "geo = OCCGeometry(r'Tutorials/Examples/Example_10mm_cube.step')\n",
    "cube = geo.shape.Move((-geo.shape.center.x, -geo.shape.center.y, -geo.shape.center.z))\n",
    "\n",
    "# Setting boundary conditions and material names.\n",
    "cube.bc('default')\n",
    "cube.mat(material_name[0])\n",
    "cube.maxh = 1\n",
    "\n",
    "# Generating a large non-conducting region. For compatability with MPT-Calculator, we set the boundary condition to 'outer'\n",
    "# and the material name to 'air'.\n",
    "box = Box(Pnt(-1000, -1000, -1000), Pnt(1000,1000,1000))\n",
    "box.mat('air')\n",
    "box.bc('outer')\n",
    "box.maxh=1000\n",
    "\n",
    "# Here we are joining the two geometries and generating the mesh.\n",
    "joined_object = Glue([box, cube])\n",
    "nmesh = OCCGeometry(joined_object).GenerateMesh()\n",
    "\n",
    "# Applying Boundary Layers:\n",
    "mu0 = 4 * 3.14159 * 1e-7\n",
    "tau = (2/(max_target_frequency * sigma[0] * mu0 * mur[0]))**0.5 / alpha\n",
    "layer_thicknesses = [(2**n)*tau for n in range(number_of_layers)]\n",
    "\n",
    "nmesh.BoundaryLayer(boundary=\".*\", thickness=layer_thicknesses, material=boundary_layer_material,\n",
    "                           domains=boundary_layer_material, outside=False)\n",
    "\n",
    "nmesh.Save(r'VolFiles/OCC_Template_step_files_boundary_layers.vol')"
   ]
  }
 ],
 "metadata": {
  "kernelspec": {
   "display_name": "Python 3",
   "language": "python",
   "name": "python3"
  },
  "language_info": {
   "codemirror_mode": {
    "name": "ipython",
    "version": 3
   },
   "file_extension": ".py",
   "mimetype": "text/x-python",
   "name": "python",
   "nbconvert_exporter": "python",
   "pygments_lexer": "ipython3",
   "version": "3.8.8"
  }
 },
 "nbformat": 4,
 "nbformat_minor": 5
}
