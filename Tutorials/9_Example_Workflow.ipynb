{
 "cells": [
  {
   "cell_type": "markdown",
   "id": "ad5270a1-ea96-469d-8aa0-9dad3d6004ec",
   "metadata": {},
   "source": [
    "# Example workflow\n",
    "\n",
    "In this workbook, we demonstrate several different MPT-Calculator workflows. We will cover constructing a new object and assigning material properties, running MPT-Calculator over wide specific frequency sweeps, and checking convergence for the eigenvalues we obtain."
   ]
  },
  {
   "cell_type": "markdown",
   "id": "024244b7-2e4d-430e-b578-5a6139a3a60e",
   "metadata": {},
   "source": [
    "## Generating a geometry:\n",
    "\n",
    "$\\texttt{.geo}$ files follow a standard format and objects are defined via object primatives. See [this tutorial](geometry_example.ipynb) for more detail.\n",
    "\n",
    "For this example, we wish to simulate a simple steel wrench inside a large non-conducting sphere. \n",
    "We begin by first defining the desired geometry and saving it as $\\texttt{Wrench.geo}$.\n",
    "<!--\n",
    "```\n",
    "algebraic3d\n",
    "\n",
    "solid sphout = sphere (0, 0, 0; 1000);\n",
    "\n",
    "solid shaft = orthobrick(-10, -1, -0.5; 10, 1, 0.5) -maxh=0.5;\n",
    "\n",
    "solid claw = cylinder(11, 0, -0.5; 11, 0, 0.5; 2)\n",
    "\tand plane(0, 0, 0.5; 0, 0, 1)\n",
    "\tand plane(0, -0, -0.5; 0, 0, -1);\n",
    "\n",
    "solid cutout_claw = orthobrick (10.3, -0.75, -0.51; 13, 0.75, 0.51);\n",
    "\n",
    "solid socket = cylinder(-11, 0, -1; -11, 0, 1; 2)\n",
    "\tand plane(0, 0, 0.5; 0, 0, 1)\n",
    "\tand plane(0, -0, -0.5; 0, 0, -1);\n",
    "\n",
    "solid cutout_socket = cylinder(-11.2, 0, -1.1; -11.2, 0, 1.1; 1.3)\n",
    "\tand plane(0, 0, 0.51; 0, 0, 1)\n",
    "\tand plane(0, -0, -0.51; 0, 0, -1);\n",
    "\n",
    "solid wrench = shaft or claw and not cutout_claw or socket and not cutout_socket;\n",
    "\n",
    "\n",
    "solid rest = sphout and not wrench;\n",
    "\n",
    "tlo rest -transparent -col=[0,0,1];#air\n",
    "tlo wrench -col=[1,0,0];#wrench -mur=1  -sig=3.5E7\n",
    "```\n",
    "-->\n",
    "<b>By convention, we have chosen a millimeter scale when defining the object, thus we also want to choose $\\alpha=1\\times 10^{-3}$</b>\n",
    "\n",
    "This geometry has been saved in [$\\texttt{GeoFiles/Wrench.geo}$](../GeoFiles/Wrench.geo). Note that we have also defined a relative permeability $\\mu_r = 1$ and conductivity $\\sigma_*=3.5 \\times 10^7$ S/m inside the wrench to match our desired material output."
   ]
  },
  {
   "cell_type": "markdown",
   "id": "fad09a58-66f6-4bfe-8d17-7a1d2f5d9875",
   "metadata": {},
   "source": [
    "We can check the geometry of the object by either loading it into $\\texttt{Netgen}$ directly, or via the supported web gui."
   ]
  },
  {
   "cell_type": "markdown",
   "id": "be8b92e3-1dce-43e7-8426-1a3672eeba8e",
   "metadata": {},
   "source": [
    "## Running a sweep and checking for convergence\n",
    "For this example, we want to run MPT-Calculator over the frequency range $10^3$ rad/s to $10^6$ rad/s in 80 logarithmically spaced steps.\n",
    "\n",
    "We need to run the simulation with these settings, and check that the solution we obtain is converged for the entire frequency range of interest. To do this, we will iterate MPT-Calculator for $p=2,3,4$."
   ]
  },
  {
   "cell_type": "code",
   "execution_count": 1,
   "id": "d1daef2a-21d9-4125-b65f-cddbf82f7318",
   "metadata": {},
   "outputs": [],
   "source": [
    "start = 3\n",
    "stop = 6\n",
    "points = 80\n",
    "geometry = 'Wrench.geo'"
   ]
  },
  {
   "cell_type": "markdown",
   "id": "91c7cf83-9907-4069-bc47-f3f6f61296bc",
   "metadata": {},
   "source": [
    "To run the code, we need to navigate to the root directory"
   ]
  },
  {
   "cell_type": "code",
   "execution_count": 2,
   "id": "c37d6c19-e751-4bff-b409-85e8b22abec7",
   "metadata": {},
   "outputs": [
    {
     "data": {
      "text/plain": [
       "'/home/james/Desktop/Updated_MPT_Calculator/MPT-Calculator'"
      ]
     },
     "execution_count": 2,
     "metadata": {},
     "output_type": "execute_result"
    }
   ],
   "source": [
    "import os\n",
    "# Please edit this line to provide the to the root directory of your copy of MPT-Calculator\n",
    "Your_Path='/home/james/Desktop/Updated_MPT_Calculator/MPT-Calculator'\n",
    "os.chdir(Your_Path)\n",
    "os.getcwd()"
   ]
  },
  {
   "cell_type": "markdown",
   "id": "5e7b8e49-2b77-4d67-a744-d31aab23dd5d",
   "metadata": {},
   "source": [
    "We now import the main function, along with numpy and matplotlib for plotting the results"
   ]
  },
  {
   "cell_type": "code",
   "execution_count": 3,
   "id": "bc0bc79e-49d9-48fa-b43f-8cc53d13da2a",
   "metadata": {},
   "outputs": [
    {
     "name": "stdout",
     "output_type": "stream",
     "text": [
      "importing NGSolve-6.2.2204\n"
     ]
    }
   ],
   "source": [
    "import numpy as np\n",
    "from matplotlib import pyplot as plt\n",
    "from main import main"
   ]
  },
  {
   "cell_type": "markdown",
   "id": "5373191d-4bc4-43f9-a68c-59780deecb56",
   "metadata": {},
   "source": [
    "And run the simulation (note the case of higher order elements will take longer to run for this example given the number of elements in the mesh)"
   ]
  },
  {
   "cell_type": "code",
   "execution_count": 4,
   "id": "b4345b94-f915-4034-a3aa-3feb5ac27723",
   "metadata": {},
   "outputs": [
    {
     "name": "stdout",
     "output_type": "stream",
     "text": [
      "Wrench.geo\n",
      "generating mesh\n",
      " problems solved        \n",
      " matrices computed       \n",
      " eigenvalue problem solved    \n",
      " maximum recomeneded frequency is  77449965\n",
      " mesh contains 21946 elements\n",
      "importing NGSolve-6.2.2204\n",
      "importing NGSolve-6.2.2204\n",
      "importing NGSolve-6.2.2204\n",
      " solved theta0 problems    \n",
      " solving theta1 snapshots\n",
      "importing NGSolve-6.2.2204\n",
      "importing NGSolve-6.2.2204\n",
      "importing NGSolve-6.2.2204\n",
      "importing NGSolve-6.2.2204\n"
     ]
    },
    {
     "ename": "KeyboardInterrupt",
     "evalue": "",
     "output_type": "error",
     "traceback": [
      "\u001b[0;31m---------------------------------------------------------------------------\u001b[0m",
      "\u001b[0;31mKeyboardInterrupt\u001b[0m                         Traceback (most recent call last)",
      "Cell \u001b[0;32mIn [4], line 3\u001b[0m\n\u001b[1;32m      1\u001b[0m comparison_eigs \u001b[38;5;241m=\u001b[39m np\u001b[38;5;241m.\u001b[39mzeros((\u001b[38;5;241m80\u001b[39m,\u001b[38;5;241m3\u001b[39m,\u001b[38;5;241m3\u001b[39m), dtype\u001b[38;5;241m=\u001b[39m\u001b[38;5;28mcomplex\u001b[39m)\n\u001b[1;32m      2\u001b[0m \u001b[38;5;28;01mfor\u001b[39;00m p \u001b[38;5;129;01min\u001b[39;00m [\u001b[38;5;241m2\u001b[39m,\u001b[38;5;241m3\u001b[39m,\u001b[38;5;241m4\u001b[39m]:\n\u001b[0;32m----> 3\u001b[0m     ReturnDict \u001b[38;5;241m=\u001b[39m \u001b[43mmain\u001b[49m\u001b[43m(\u001b[49m\u001b[43mstart_stop\u001b[49m\u001b[38;5;241;43m=\u001b[39;49m\u001b[43m(\u001b[49m\u001b[43mstart\u001b[49m\u001b[43m,\u001b[49m\u001b[43m \u001b[49m\u001b[43mstop\u001b[49m\u001b[43m,\u001b[49m\u001b[43m \u001b[49m\u001b[43mpoints\u001b[49m\u001b[43m)\u001b[49m\u001b[43m,\u001b[49m\u001b[43m \u001b[49m\u001b[43mgeometry\u001b[49m\u001b[38;5;241;43m=\u001b[39;49m\u001b[43mgeometry\u001b[49m\u001b[43m,\u001b[49m\u001b[43m \u001b[49m\u001b[43morder\u001b[49m\u001b[38;5;241;43m=\u001b[39;49m\u001b[43mp\u001b[49m\u001b[43m,\u001b[49m\u001b[43m \u001b[49m\u001b[43muse_POD\u001b[49m\u001b[38;5;241;43m=\u001b[39;49m\u001b[38;5;28;43;01mTrue\u001b[39;49;00m\u001b[43m)\u001b[49m\n\u001b[1;32m      4\u001b[0m     comparison_eigs[:,:,p\u001b[38;5;241m-\u001b[39m\u001b[38;5;241m2\u001b[39m] \u001b[38;5;241m=\u001b[39m ReturnDict[\u001b[38;5;124m'\u001b[39m\u001b[38;5;124mEigenValues\u001b[39m\u001b[38;5;124m'\u001b[39m]\n",
      "File \u001b[0;32m~/Desktop/Updated_MPT_Calculator/MPT-Calculator/main.py:222\u001b[0m, in \u001b[0;36mmain\u001b[0;34m(h, order, curve_degree, start_stop, alpha, geometry, frequency_array, use_OCC, use_POD, use_parallel)\u001b[0m\n\u001b[1;32m    220\u001b[0m \u001b[38;5;28;01mif\u001b[39;00m PlotPod\u001b[38;5;241m==\u001b[39m\u001b[38;5;28;01mTrue\u001b[39;00m:\n\u001b[1;32m    221\u001b[0m     \u001b[38;5;28;01mif\u001b[39;00m PODErrorBars\u001b[38;5;241m==\u001b[39m\u001b[38;5;28;01mTrue\u001b[39;00m:\n\u001b[0;32m--> 222\u001b[0m         TensorArray, EigenValues, N0, PODTensors, PODEigenValues, elements, ErrorTensors, ndofs \u001b[38;5;241m=\u001b[39m \u001b[43mPODSweepMulti\u001b[49m\u001b[43m(\u001b[49m\u001b[43mGeometry\u001b[49m\u001b[43m,\u001b[49m\u001b[43mOrder\u001b[49m\u001b[43m,\u001b[49m\u001b[43malpha\u001b[49m\u001b[43m,\u001b[49m\u001b[43minorout\u001b[49m\u001b[43m,\u001b[49m\u001b[43mmur\u001b[49m\u001b[43m,\u001b[49m\u001b[43msig\u001b[49m\u001b[43m,\u001b[49m\u001b[43mArray\u001b[49m\u001b[43m,\u001b[49m\u001b[43mPODArray\u001b[49m\u001b[43m,\u001b[49m\u001b[43mPODTol\u001b[49m\u001b[43m,\u001b[49m\u001b[43mPlotPod\u001b[49m\u001b[43m,\u001b[49m\u001b[43mCPUs\u001b[49m\u001b[43m,\u001b[49m\u001b[43msweepname\u001b[49m\u001b[43m,\u001b[49m\u001b[43mSavePOD\u001b[49m\u001b[43m,\u001b[49m\u001b[43mPODErrorBars\u001b[49m\u001b[43m,\u001b[49m\u001b[43mBigProblem\u001b[49m\u001b[43m)\u001b[49m\n\u001b[1;32m    223\u001b[0m     \u001b[38;5;28;01melse\u001b[39;00m:\n\u001b[1;32m    224\u001b[0m         TensorArray, EigenValues, N0, PODTensors, PODEigenValues, elements, ndofs \u001b[38;5;241m=\u001b[39m PODSweepMulti(Geometry,Order,alpha,inorout,mur,sig,Array,PODArray,PODTol,PlotPod,CPUs,sweepname,SavePOD,PODErrorBars,BigProblem)\n",
      "File \u001b[0;32m~/Desktop/Updated_MPT_Calculator/MPT-Calculator/Functions/PODSolvers.py:662\u001b[0m, in \u001b[0;36mPODSweepMulti\u001b[0;34m(Object, Order, alpha, inorout, mur, sig, Array, PODArray, PODTol, PlotPod, CPUs, sweepname, SavePOD, PODErrorBars, BigProblem)\u001b[0m\n\u001b[1;32m    660\u001b[0m \u001b[38;5;66;03m#Run on the multiple cores\u001b[39;00m\n\u001b[1;32m    661\u001b[0m \u001b[38;5;28;01mwith\u001b[39;00m multiprocessing\u001b[38;5;241m.\u001b[39mget_context(\u001b[38;5;124m\"\u001b[39m\u001b[38;5;124mspawn\u001b[39m\u001b[38;5;124m\"\u001b[39m)\u001b[38;5;241m.\u001b[39mPool(Theta1_CPUs) \u001b[38;5;28;01mas\u001b[39;00m pool:\n\u001b[0;32m--> 662\u001b[0m     Outputs \u001b[38;5;241m=\u001b[39m \u001b[43mpool\u001b[49m\u001b[38;5;241;43m.\u001b[39;49m\u001b[43mstarmap\u001b[49m\u001b[43m(\u001b[49m\u001b[43mTheta1_Sweep\u001b[49m\u001b[43m,\u001b[49m\u001b[43m \u001b[49m\u001b[43mRunlist\u001b[49m\u001b[43m)\u001b[49m\n\u001b[1;32m    664\u001b[0m \u001b[38;5;28;01mtry\u001b[39;00m:\n\u001b[1;32m    665\u001b[0m     pool\u001b[38;5;241m.\u001b[39mterminate()\n",
      "File \u001b[0;32m/usr/lib/python3.10/multiprocessing/pool.py:372\u001b[0m, in \u001b[0;36mPool.starmap\u001b[0;34m(self, func, iterable, chunksize)\u001b[0m\n\u001b[1;32m    366\u001b[0m \u001b[38;5;28;01mdef\u001b[39;00m \u001b[38;5;21mstarmap\u001b[39m(\u001b[38;5;28mself\u001b[39m, func, iterable, chunksize\u001b[38;5;241m=\u001b[39m\u001b[38;5;28;01mNone\u001b[39;00m):\n\u001b[1;32m    367\u001b[0m     \u001b[38;5;124;03m'''\u001b[39;00m\n\u001b[1;32m    368\u001b[0m \u001b[38;5;124;03m    Like `map()` method but the elements of the `iterable` are expected to\u001b[39;00m\n\u001b[1;32m    369\u001b[0m \u001b[38;5;124;03m    be iterables as well and will be unpacked as arguments. Hence\u001b[39;00m\n\u001b[1;32m    370\u001b[0m \u001b[38;5;124;03m    `func` and (a, b) becomes func(a, b).\u001b[39;00m\n\u001b[1;32m    371\u001b[0m \u001b[38;5;124;03m    '''\u001b[39;00m\n\u001b[0;32m--> 372\u001b[0m     \u001b[38;5;28;01mreturn\u001b[39;00m \u001b[38;5;28;43mself\u001b[39;49m\u001b[38;5;241;43m.\u001b[39;49m\u001b[43m_map_async\u001b[49m\u001b[43m(\u001b[49m\u001b[43mfunc\u001b[49m\u001b[43m,\u001b[49m\u001b[43m \u001b[49m\u001b[43miterable\u001b[49m\u001b[43m,\u001b[49m\u001b[43m \u001b[49m\u001b[43mstarmapstar\u001b[49m\u001b[43m,\u001b[49m\u001b[43m \u001b[49m\u001b[43mchunksize\u001b[49m\u001b[43m)\u001b[49m\u001b[38;5;241;43m.\u001b[39;49m\u001b[43mget\u001b[49m\u001b[43m(\u001b[49m\u001b[43m)\u001b[49m\n",
      "File \u001b[0;32m/usr/lib/python3.10/multiprocessing/pool.py:765\u001b[0m, in \u001b[0;36mApplyResult.get\u001b[0;34m(self, timeout)\u001b[0m\n\u001b[1;32m    764\u001b[0m \u001b[38;5;28;01mdef\u001b[39;00m \u001b[38;5;21mget\u001b[39m(\u001b[38;5;28mself\u001b[39m, timeout\u001b[38;5;241m=\u001b[39m\u001b[38;5;28;01mNone\u001b[39;00m):\n\u001b[0;32m--> 765\u001b[0m     \u001b[38;5;28;43mself\u001b[39;49m\u001b[38;5;241;43m.\u001b[39;49m\u001b[43mwait\u001b[49m\u001b[43m(\u001b[49m\u001b[43mtimeout\u001b[49m\u001b[43m)\u001b[49m\n\u001b[1;32m    766\u001b[0m     \u001b[38;5;28;01mif\u001b[39;00m \u001b[38;5;129;01mnot\u001b[39;00m \u001b[38;5;28mself\u001b[39m\u001b[38;5;241m.\u001b[39mready():\n\u001b[1;32m    767\u001b[0m         \u001b[38;5;28;01mraise\u001b[39;00m \u001b[38;5;167;01mTimeoutError\u001b[39;00m\n",
      "File \u001b[0;32m/usr/lib/python3.10/multiprocessing/pool.py:762\u001b[0m, in \u001b[0;36mApplyResult.wait\u001b[0;34m(self, timeout)\u001b[0m\n\u001b[1;32m    761\u001b[0m \u001b[38;5;28;01mdef\u001b[39;00m \u001b[38;5;21mwait\u001b[39m(\u001b[38;5;28mself\u001b[39m, timeout\u001b[38;5;241m=\u001b[39m\u001b[38;5;28;01mNone\u001b[39;00m):\n\u001b[0;32m--> 762\u001b[0m     \u001b[38;5;28;43mself\u001b[39;49m\u001b[38;5;241;43m.\u001b[39;49m\u001b[43m_event\u001b[49m\u001b[38;5;241;43m.\u001b[39;49m\u001b[43mwait\u001b[49m\u001b[43m(\u001b[49m\u001b[43mtimeout\u001b[49m\u001b[43m)\u001b[49m\n",
      "File \u001b[0;32m/usr/lib/python3.10/threading.py:600\u001b[0m, in \u001b[0;36mEvent.wait\u001b[0;34m(self, timeout)\u001b[0m\n\u001b[1;32m    598\u001b[0m signaled \u001b[38;5;241m=\u001b[39m \u001b[38;5;28mself\u001b[39m\u001b[38;5;241m.\u001b[39m_flag\n\u001b[1;32m    599\u001b[0m \u001b[38;5;28;01mif\u001b[39;00m \u001b[38;5;129;01mnot\u001b[39;00m signaled:\n\u001b[0;32m--> 600\u001b[0m     signaled \u001b[38;5;241m=\u001b[39m \u001b[38;5;28;43mself\u001b[39;49m\u001b[38;5;241;43m.\u001b[39;49m\u001b[43m_cond\u001b[49m\u001b[38;5;241;43m.\u001b[39;49m\u001b[43mwait\u001b[49m\u001b[43m(\u001b[49m\u001b[43mtimeout\u001b[49m\u001b[43m)\u001b[49m\n\u001b[1;32m    601\u001b[0m \u001b[38;5;28;01mreturn\u001b[39;00m signaled\n",
      "File \u001b[0;32m/usr/lib/python3.10/threading.py:320\u001b[0m, in \u001b[0;36mCondition.wait\u001b[0;34m(self, timeout)\u001b[0m\n\u001b[1;32m    318\u001b[0m \u001b[38;5;28;01mtry\u001b[39;00m:    \u001b[38;5;66;03m# restore state no matter what (e.g., KeyboardInterrupt)\u001b[39;00m\n\u001b[1;32m    319\u001b[0m     \u001b[38;5;28;01mif\u001b[39;00m timeout \u001b[38;5;129;01mis\u001b[39;00m \u001b[38;5;28;01mNone\u001b[39;00m:\n\u001b[0;32m--> 320\u001b[0m         \u001b[43mwaiter\u001b[49m\u001b[38;5;241;43m.\u001b[39;49m\u001b[43macquire\u001b[49m\u001b[43m(\u001b[49m\u001b[43m)\u001b[49m\n\u001b[1;32m    321\u001b[0m         gotit \u001b[38;5;241m=\u001b[39m \u001b[38;5;28;01mTrue\u001b[39;00m\n\u001b[1;32m    322\u001b[0m     \u001b[38;5;28;01melse\u001b[39;00m:\n",
      "\u001b[0;31mKeyboardInterrupt\u001b[0m: "
     ]
    }
   ],
   "source": [
    "comparison_eigs = np.zeros((80,3,3), dtype=complex)\n",
    "for p in [2,3,4]:\n",
    "    ReturnDict = main(start_stop=(start, stop, points), geometry=geometry, order=p, use_POD=True)\n",
    "    comparison_eigs[:,:,p-2] = ReturnDict['EigenValues']"
   ]
  },
  {
   "cell_type": "code",
   "execution_count": null,
   "id": "1c5947a8-2e89-47de-a971-db7da47585c7",
   "metadata": {
    "scrolled": false
   },
   "outputs": [],
   "source": [
    "for eignum in [0,1,2]:\n",
    "    plt.figure()\n",
    "    for order in [0,1,2]:\n",
    "        plt.semilogx(ReturnDict['FrequencyArray'], comparison_eigs[:,eignum, order].real, label=f'p={order + 2}')\n",
    "    plt.legend();\n",
    "    plt.xlabel('$\\omega$, [rad/s]');\n",
    "    plt.ylabel(f'$\\lambda_{eignum+1}'+'(\\mathcal{R}+\\mathcal{N}^0)$');\n",
    "\n",
    "    plt.figure()\n",
    "    for order in [0,1,2]:\n",
    "        plt.semilogx(ReturnDict['FrequencyArray'], comparison_eigs[:,eignum, order].imag, label=f'p={order + 2}')\n",
    "    plt.legend();\n",
    "    plt.xlabel('$\\omega$, [rad/s]');\n",
    "    plt.ylabel(f'$\\lambda_{eignum+1}'+'(\\mathcal{I})$');\n"
   ]
  },
  {
   "cell_type": "markdown",
   "id": "f2919a6e",
   "metadata": {},
   "source": [
    "The results show that the solution is converged using order $p=3$ elements for the frequency range specified."
   ]
  },
  {
   "cell_type": "markdown",
   "id": "9e6d8deb",
   "metadata": {},
   "source": [
    "## Running MPT-Calculator using OCC\n",
    "In this example, we run MPT-Calculator using the OCC geometry defined in $\\texttt{OCC_dualbar.py}$. This is an example of an two blocks placed next to each other with different materials, resulting in an inhomogeneous object. "
   ]
  },
  {
   "cell_type": "code",
   "execution_count": null,
   "id": "c773af40",
   "metadata": {
    "scrolled": false
   },
   "outputs": [
    {
     "name": "stdout",
     "output_type": "stream",
     "text": [
      "OCC_dualbar.geo\n",
      " problems solved        \n",
      " matrices computed       \n",
      " eigenvalue problem solved    \n",
      " maximum recomeneded frequency is  457600067\n",
      " mesh contains 78714 elements\n",
      "importing NGSolve-6.2.2204\n",
      "importing NGSolve-6.2.2204\n",
      "importing NGSolve-6.2.2204\n",
      " solved theta0 problems    \n",
      " solving theta1\n",
      "importing NGSolve-6.2.2204\n",
      "importing NGSolve-6.2.2204\n",
      "importing NGSolve-6.2.2204\n",
      "importing NGSolve-6.2.2204\n"
     ]
    }
   ],
   "source": [
    "from main import main\n",
    "ReturnDict = main(geometry='OCC_dualbar.py', use_OCC=True, start_stop=(2,8,81))"
   ]
  },
  {
   "cell_type": "markdown",
   "id": "6fd58ec8",
   "metadata": {},
   "source": [
    "## Running MPT-Calculator using a single core sequentially\n",
    "In this example, we run MPT-Calculator in a non-parallel computation. This is useful for large problems where RAM usage is a concern. Note that the number of parallel threads can be controlled via the $\\texttt{CPUs}$ variable in $\\texttt{Settings.py}$."
   ]
  },
  {
   "cell_type": "code",
   "execution_count": null,
   "id": "afdfdc0a",
   "metadata": {
    "scrolled": false
   },
   "outputs": [],
   "source": [
    "from main import main\n",
    "ReturnDict = main(geometry='OCC_dualbar.py', use_OCC=True, use_parallel=False)"
   ]
  },
  {
   "cell_type": "code",
   "execution_count": null,
   "id": "b772fa08",
   "metadata": {},
   "outputs": [],
   "source": []
  }
 ],
 "metadata": {
  "kernelspec": {
   "display_name": "Python 3 (ipykernel)",
   "language": "python",
   "name": "python3"
  },
  "language_info": {
   "codemirror_mode": {
    "name": "ipython",
    "version": 3
   },
   "file_extension": ".py",
   "mimetype": "text/x-python",
   "name": "python",
   "nbconvert_exporter": "python",
   "pygments_lexer": "ipython3",
   "version": "3.10.4"
  },
  "varInspector": {
   "cols": {
    "lenName": 16,
    "lenType": 16,
    "lenVar": 40
   },
   "kernels_config": {
    "python": {
     "delete_cmd_postfix": "",
     "delete_cmd_prefix": "del ",
     "library": "var_list.py",
     "varRefreshCmd": "print(var_dic_list())"
    },
    "r": {
     "delete_cmd_postfix": ") ",
     "delete_cmd_prefix": "rm(",
     "library": "var_list.r",
     "varRefreshCmd": "cat(var_dic_list()) "
    }
   },
   "types_to_exclude": [
    "module",
    "function",
    "builtin_function_or_method",
    "instance",
    "_Feature"
   ],
   "window_display": false
  }
 },
 "nbformat": 4,
 "nbformat_minor": 5
}
