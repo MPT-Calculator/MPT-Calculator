{
 "cells": [
  {
   "cell_type": "markdown",
   "id": "ca79382a-af96-4017-b92b-42dd30f4b5ef",
   "metadata": {
    "tags": []
   },
   "source": [
    "# MPT-Calculator Installation"
   ]
  },
  {
   "cell_type": "markdown",
   "id": "b48c789c-1601-4b75-a006-b7a5020b3457",
   "metadata": {},
   "source": [
    "## Software Overview:\n",
    "The $\\texttt{MPT-Calculator}$ is an open source Python library to calculate the coefficents of the Magnetic Polarizability Tensor (MPT) characterterisation of a conducting magnetic object using high order finite elements and the [NGSolve](https://ngsolve.org/) finite element package. Currently, the software supports:\n",
    "- Finite element mesh generation via either a Constructive Solid Geometry description, or via an Open Cascade Technology (OCC) description stored as .geo and .py files respectivly. Geometry can also be loaded from a CAD description.\n",
    "- Accurate MPT characterisations of conducting objects which are either magnetic or non-magnetics for a range of frequencies (upto the limit of the eddy current model). In the case of highly magnetic objects at high frequencies this involves the additional introduction of thin layers of prismatic boundary layer elements close to the surface of the conducting object.\n",
    "- Direct computation of the full order solutions snapshots for the MPT coefficients at arbitary and logarithmically spaced frequencies.\n",
    "- Acceleration when considering the MPT spectral signature (MPT coefficents as a function of frequency) and output at multiple frequencies via an effective Proper Orthogonal Decomposition (POD) and the calculation of error certificates to ensure accuracy.\n",
    "- Comprehensive saving of all generated results.\n",
    "- An extension to two dimensional ($\\mu_r, \\omega$) MPT characterisations using POD.\n",
    "\n",
    "**The MPT-Calulator has been updated and is now avaliable on a dedicated github page [https://github.com/MPT-Calculator/MPT-Calculator](https://github.com/MPT-Calculator/MPT-Calculator) under a GNU General Public License.**"
   ]
  },
  {
   "cell_type": "markdown",
   "id": "038f2dc2-28dc-4e9a-9064-accd972ba367",
   "metadata": {
    "tags": []
   },
   "source": [
    "## Requirements:"
   ]
  },
  {
   "cell_type": "markdown",
   "id": "b5b8859f-e120-4a50-9d24-15205798e159",
   "metadata": {},
   "source": [
    "**For these examples, we are using Python 3.8 and NGSolve 6.2.2204**\n",
    "\n",
    "$\\texttt{MPT-Calculator}$ utilises $\\texttt{NGSolve}$, and its associated meshing library $\\texttt{Netgen}$ to perform the underlying FEM computations. Both libraries are avaliable via github ([https://github.com/NGSolve/](https://github.com/NGSolve/)) and their dedicated website [https://ngsolve.org/](https://ngsolve.org/) under an LPLG license.\n",
    "\n",
    "In addition to the standard python libraries, $\\texttt{MPT-Calculator}$ requires:\n",
    "<ul>\n",
    "  <li>Netgen</li>\n",
    "  <li>NGSolve</li>\n",
    "  <li>Numpy</li>\n",
    "  <li>SciPy</li>\n",
    "  <li>Matplotlib</li>\n",
    "  <li>Mutltiprocessing_on_dill</li>\n",
    "</ul>\n",
    "which are all avaliable via $\\texttt{pip3}$ and using an appropriate command prompt (either through a terminal on a a MAC or Linux or a command prompt in your python installation under windows). Also, if desired, a dedicated conda environment can be setup first. To install Numpy enter\n",
    "\n",
    "```python\n",
    ">> pip3 install numpy\n",
    "```\n",
    "at the command line. In a similar way the other libraries can be installed if not already available. Note that lower case letters should be used in each case.\n",
    "\n",
    "For Netgen and NGSolve, we can test that our installation has worked by entering\n",
    "```python\n",
    ">> netgen\n",
    "```\n",
    "into the command line. If Netgen has installed correctly, then this command will open a GUI interface for Netgen and we will get an import message from NGSolve printed to the command line.\n"
   ]
  },
  {
   "cell_type": "markdown",
   "id": "bfeb0003-f372-4254-9530-c10e2d0520f0",
   "metadata": {},
   "source": [
    "Finally, for parallel execution in Linux, we also need to set the following environment variables:\n",
    "```bash\n",
    "export OMPNUMTHREADS=1\n",
    "export MKLNUMTHREADS=1\n",
    "export MKLTHREADINGLAYER=sequential\n",
    "```\n",
    "in the ```.bashrc``` file.\n"
   ]
  },
  {
   "cell_type": "markdown",
   "id": "2a1dbb48-b275-4a9b-b113-f5e099220fd9",
   "metadata": {},
   "source": [
    "### Jupyter Support:\n",
    "NGsolve and Netgen are compatible with Jupyter notebooks and offer web based visualisation. \n",
    "\n",
    "Currently, to install Jupyter enter\n",
    "```python\n",
    ">> pip3 install jupyter\n",
    "```\n",
    "into the command line when using MAC or Linux systems. When using Windows machines, use \n",
    "```python\n",
    ">> pip install jupyter\n",
    "```\n",
    "To enable the NGSolve visualisation tools:\n",
    "```python\n",
    ">> pip3 install webgui_jupyter_widgets\n",
    ">> jupyter nbextension install --user --py widgetsnbextension\n",
    ">> jupyter nbextension enable --user --py widgetsnbextension\n",
    ">> jupyter nbextension install --user --py webgui_jupyter_widgets\n",
    ">> jupyter nbextension enable --user --py webgui_jupyter_widgets\n",
    "```\n",
    "in the command line.\n",
    "\n",
    "For further installation instructions see [https://docu.ngsolve.org/latest/install/usejupyter.html](https://docu.ngsolve.org/latest/install/usejupyter.html)"
   ]
  },
  {
   "cell_type": "markdown",
   "id": "15b25a17-99c7-4d60-aede-8afc63872527",
   "metadata": {
    "tags": []
   },
   "source": [
    "## Structure:\n",
    "Regarding the structure of the $\\texttt{MPT-Calculator}$ library, the user is expected to interact with $\\texttt{main.py}$, $\\texttt{Settings.py}$, and $\\texttt{PlotterSettings.py}$ with $\\texttt{PlotterSettings.py}$ rarely being needed. These files along with a geometry file allow the user to produce an array of MPT spectral signatures for many different objects.\n",
    "\n",
    "Additionally, $\\texttt{MPT-Calculator}$ requires that any $\\texttt{.geo}$ files are placed in the $\\texttt{GeoFiles/}$ folder and any $\\texttt{.py}$ OCC descriptions are placed in the $\\texttt{OCC_Geometry/}$ folder.\n",
    "\n",
    "\n",
    "The overall structure of the code is as follows:\n",
    "\n",
    "```bash\n",
    ".\n",
    "├── Documentation\n",
    "│   └── PythonCodeDocumentation.pdf\n",
    "├── Functions\n",
    "│   ├── Helper_Functions\n",
    "│   │   ├── count_prismatic_elements.py\n",
    "│   │   ├── exact_sphere.py\n",
    "│   │   └──  step_to_vol_mesher.py\n",
    "│   ├── Checkvalid.py\n",
    "│   ├── FullSolvers.py\n",
    "│   ├── MeshCreation.py\n",
    "│   ├── ML_MPT_Predictor.py\n",
    "│   ├── MPTFunctions.py\n",
    "│   ├── MultiPermeability.py\n",
    "│   ├── PlotEditor.py\n",
    "│   ├── PlotEditorWithErrorBars.py\n",
    "│   ├── Plotters.py\n",
    "│   ├── PODFunctions.py\n",
    "│   ├── PODPlotEditor.py\n",
    "│   ├── PODPlotEditorWithErrorBars.py\n",
    "│   ├── PODSolvers.py\n",
    "│   ├── ResultsFunctions.py\n",
    "│   ├── SingleSolve.py \n",
    "├── GeoFiles\n",
    "│   ├── Claw_wodden_handle.geo\n",
    "│   ├── Coin.geo\n",
    "│   ├── Cylinder.geo\n",
    "│   ├── DualBar.geo\n",
    "│   ├── dualBox.geo\n",
    "│   └── ...\n",
    "├── OCC_Geometry\n",
    "│   ├── OCC_bottle.py\n",
    "│   ├── OCC_cylinder.py\n",
    "│   └── ...\n",
    "├── Results\n",
    "│   ├── box\n",
    "│   │   └── ...\n",
    "│   └── sphere\n",
    "│       └── al_0.001_mu_1_sig_1e6\n",
    "│           └── 1e1-1e10_40_el_57698_ord_2\n",
    "│               ├── Data\n",
    "│               │   ├── Eigenvalues.csv\n",
    "│               │   ├── Frequencies.csv\n",
    "│               │   ├── N0.csv\n",
    "│               │   └── Tensors.csv\n",
    "│               ├── Functions\n",
    "│               │   └── Plotters.py\n",
    "│               ├── Graphs\n",
    "│               │   ├── ImaginaryEigenvalues.pdf\n",
    "│               │   ├── ImaginaryTensorCoeficients.pdf\n",
    "│               │   ├── RealEigenvalues.pdf\n",
    "│               │   └── RealTensorCoeficients.pdf\n",
    "│               ├── Input_files\n",
    "│               │   ├── runner.py\n",
    "│               │   ├── Settings.py\n",
    "│               │   ├── sphere.geo\n",
    "│               │   └── sphere.zip\n",
    "│               ├── PlotEditor.py\n",
    "│               └── PlotterSettings.py\n",
    "├── Settings\n",
    "│   ├── PlotterSettings.py\n",
    "│   └── Settings.py\n",
    "├── VolFiles\n",
    "│   ├── Claw_wodden_handle.vol\n",
    "│   ├── Knife_Cheap_Chef.vol\n",
    "│   ├── OCC_cylinder.vol\n",
    "│   └── ...\n",
    "├── Results_2d\n",
    "├── Changelog_for_MPT-Calculator\n",
    "├── LICENSE\n",
    "├── main_2d.py\n",
    "├── README.md\n",
    "└── main.py\n",
    "```\n"
   ]
  },
  {
   "cell_type": "markdown",
   "id": "d2b14a7e",
   "metadata": {},
   "source": [
    "## Helper Functions\n",
    "In addition to the core MPT-Calculator functions, we have provided several useful functions under the $\\texttt{Functions/Helper_Functions}$ directory. \n",
    "\n",
    "These functions are not part of MPT-Calculator but provide useful additional functionality for interacting with $\\texttt{.vol}$ files and analysing the performance of MPT-Calculator.\n",
    "\n",
    "Currently these include:\n",
    "- $\\texttt{count_prismatic_elements.py}$ which calculates the number of tetrahedral and prismatic elements in a given $\\texttt{.vol}$ file.\n",
    "- $\\texttt{step_to_vol_mesher.py}$ which takes a $\\texttt{.step}$ format CAD description and generates a Netgen mesh. This will be covered in more detail in Tutorial [9](./9_Generating_mesh_from_step_file.ipynb)\n",
    "- $\\texttt{exact_sphere.py}$ which calculates the exact eigenvalues for a permeable sphere of radius $\\alpha$ with a given $\\sigma$, $\\mu_r$, and $\\omega$ "
   ]
  },
  {
   "cell_type": "markdown",
   "id": "9da88ec4-5c11-46af-a355-412a7180ffde",
   "metadata": {
    "tags": []
   },
   "source": [
    "## $\\texttt{MPT-Calculator}$ Pipeline"
   ]
  },
  {
   "cell_type": "markdown",
   "id": "c893b95c-1436-448a-884f-fc08311567c4",
   "metadata": {},
   "source": [
    "The general pipeline for $\\texttt{MPT-Calculator}$ is as follows:\n",
    "\n",
    " <img src=\"Figures/flowchart.png\" alt=\"isolated\"/>"
   ]
  },
  {
   "cell_type": "markdown",
   "id": "fb1001e6-3a3c-4af0-afca-9dbec54f3563",
   "metadata": {
    "tags": []
   },
   "source": [
    "More detail on the structure of the original code can be found in\n",
    "\n",
    "[1] B. A. Wilson. Characterisation and classification of hidden conducting security threats using magnetic polarizability tensors,  Swansea, 2022, http://dx.doi.org/10.23889/SUthesis.60297\n"
   ]
  },
  {
   "cell_type": "code",
   "execution_count": null,
   "id": "a90dcb03",
   "metadata": {},
   "outputs": [],
   "source": []
  }
 ],
 "metadata": {
  "kernelspec": {
   "display_name": "Python 3",
   "language": "python",
   "name": "python3"
  },
  "language_info": {
   "codemirror_mode": {
    "name": "ipython",
    "version": 3
   },
   "file_extension": ".py",
   "mimetype": "text/x-python",
   "name": "python",
   "nbconvert_exporter": "python",
   "pygments_lexer": "ipython3",
   "version": "3.8.6rc1"
  }
 },
 "nbformat": 4,
 "nbformat_minor": 5
}
