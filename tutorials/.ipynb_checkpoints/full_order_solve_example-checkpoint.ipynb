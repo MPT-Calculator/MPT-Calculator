{
 "cells": [
  {
   "cell_type": "markdown",
   "id": "d2627602-280b-43bb-9216-b0ba95dee20e",
   "metadata": {},
   "source": [
    "# MPT-Calculator"
   ]
  },
  {
   "cell_type": "markdown",
   "id": "fdcaf985-f6c0-454e-8c8f-0b2384d5c508",
   "metadata": {},
   "source": [
    "## Software Overview:"
   ]
  },
  {
   "cell_type": "markdown",
   "id": "90d50b63-1b65-460e-a7f5-52e66bf065c7",
   "metadata": {},
   "source": [
    "The $\\texttt{MPT-Calculator}$ is an open source python library to calculate the Magnetic Polarizability Tensor (MPT) using high order finite elements and the [NGSolve](https://ngsolve.org/) finite element package.  "
   ]
  },
  {
   "cell_type": "markdown",
   "id": "6c245db1-34ea-4538-a070-aead26cc34d3",
   "metadata": {},
   "source": [
    "**The MPT-Calulator has been updated and is now avaliable on a dedicated github page [https://github.com/MPT-Calculator/MPT-Calculator](https://github.com/MPT-Calculator/MPT-Calculator) under a GNU General Public License.**"
   ]
  },
  {
   "cell_type": "markdown",
   "id": "ef45afaa-bcba-4df2-9eb9-8934b61b0c69",
   "metadata": {},
   "source": [
    "## Requirements:"
   ]
  },
  {
   "cell_type": "markdown",
   "id": "2f331dd1-273b-4728-bad6-a80d9b1c7130",
   "metadata": {},
   "source": [
    "**For these examples, we are using Python 3.8**\n",
    "\n",
    "$\\texttt{MPT-Calculator}$ utilises $\\texttt{NGSolve}$, and its associated meshing library $\\texttt{Netgen}$ to perform the underlying FEM computations. Both libraries are avaliable via github ([https://github.com/NGSolve/](https://github.com/NGSolve/)) and their dedicated website [https://ngsolve.org/](https://ngsolve.org/) under an LPLG license.\n",
    "\n",
    "In addition to the standard python libraries, $\\texttt{MPT-Calculator}$ requires:\n",
    "<ul>\n",
    "  <li>Netgen</li>\n",
    "  <li>NGSolve</li>\n",
    "  <li>Numpy</li>\n",
    "  <li>SciPy</li>\n",
    "  <li>Matplotlib</li>\n",
    "  <li>Mutltiprocessing_on_dill</li>\n",
    "</ul>\n",
    "which are all avaliable via <code>pip3</code>. For example entering\n",
    "\n",
    "```python\n",
    ">> pip3 install numpy\n",
    "```\n",
    "in the command line will install Numpy on MAC, Linux, and Windows machines\n"
   ]
  },
  {
   "cell_type": "markdown",
   "id": "0e765241-26ff-4b02-8bd8-89538b3586e8",
   "metadata": {},
   "source": [
    "Finally, for parallel execution in Linux, we also need to set the following environment variables:\n",
    "```bash\n",
    "export OMPNUMTHREADS=1\n",
    "export MKLNUMTHREADS=1\n",
    "export MKLTHREADINGLAYER=sequential\n",
    "```\n",
    "in the bash.rc file."
   ]
  },
  {
   "cell_type": "markdown",
   "id": "3739003b-8f80-4e3a-b12e-9dfe3bb9adc4",
   "metadata": {},
   "source": [
    "## Structure:\n",
    "Regarding the structure of the $\\texttt{MPT-Calculator}$ library, the user is expected to interact with $\\texttt{runner.py}$, $\\texttt{Settings.py}$, and $\\texttt{PlotterSettings.py}$ with $\\texttt{PlotterSettings.py}$ rarely being needed.\n",
    "\n",
    "The overall structure of the code is as follows:"
   ]
  },
  {
   "cell_type": "markdown",
   "id": "2ce218f6-b8fb-4a40-8001-64b1e22c1cc8",
   "metadata": {},
   "source": [
    "```bash\n",
    ".\n",
    "├── Documentation\n",
    "│   └── PythonCodeDocumentation.pdf\n",
    "├── Functions\n",
    "│   ├── add_truncated_region_to_mesh.py\n",
    "│   ├── Checkvalid.py\n",
    "│   ├── count_prismatic_elements.py\n",
    "│   ├── FullSolvers.py\n",
    "│   ├── MeshCreation.py\n",
    "│   ├── ML_MPT_Predictor.py\n",
    "│   ├── MPTFunctions.py\n",
    "│   ├── MultiPermeability.py\n",
    "│   ├── PlotEditor.py\n",
    "│   ├── PlotEditorWithErrorBars.py\n",
    "│   ├── Plotters.py\n",
    "│   ├── PODFunctions.py\n",
    "│   ├── PODPlotEditor.py\n",
    "│   ├── PODPlotEditorWithErrorBars.py\n",
    "│   ├── PODSolvers.py\n",
    "│   ├── ResultsFunctions.py\n",
    "│   ├── SingleSolve.py\n",
    "│   └── step_to_vol_mesher.py\n",
    "├── GeoFiles\n",
    "│   ├── Claw_wodden_handle.geo\n",
    "│   ├── Coin.geo\n",
    "│   ├── Cylinder.geo\n",
    "│   ├── DualBar.geo\n",
    "│   ├── dualBox.geo\n",
    "│   └── ...\n",
    "├── OCC_Geometry\n",
    "│   ├── OCC_bottle.py\n",
    "│   ├── OCC_cylinder.py\n",
    "│   ├── OCC_dualbar.py\n",
    "│   ├── OCC_sphere.py\n",
    "│   └── ...\n",
    "├── Results\n",
    "│   └── sphere\n",
    "|       └── al_0.01_mu_1_sig_1e6\n",
    "|           └── 1e1-1e5_40_el_57698_ord_2\n",
    "|               ├── Data\n",
    "|               |   └── ...\n",
    "|               ├── Functions\n",
    "|               |   └── ...\n",
    "|               ├── Graphs\n",
    "|               |   └── ...\n",
    "|               ├── Input_files\n",
    "|               |   └── ...\n",
    "|               ├── PlotEditor.py\n",
    "|               └── PlotterSettings.py\n",
    "├── Results_2d\n",
    "│   ├── PlotterSettings.py\n",
    "├── Settings\n",
    "│   ├── PlotterSettings.py\n",
    "│   └── Settings.py\n",
    "├── VolFiles\n",
    "│   ├── Claw_wodden_handle.vol\n",
    "│   ├── Knife_Cheap_Chef.vol\n",
    "│   ├── OCC_cylinder.vol\n",
    "│   ├── OCC_dualbar.vol\n",
    "│   ├── OCC_sphere.vol\n",
    "│   └── ...\n",
    "├── Changelog for MPT-Calculator\n",
    "├── __init__.py\n",
    "├── LICENSE\n",
    "├── main_2d.py\n",
    "├── runner.py\n",
    "├── README.md\n",
    "\n",
    "```\n"
   ]
  },
  {
   "cell_type": "markdown",
   "id": "b30e1422-546c-4cd5-af8e-debdc5092cc8",
   "metadata": {},
   "source": [
    "## $\\texttt{MPT-Calculator}$ Pipeline"
   ]
  },
  {
   "cell_type": "markdown",
   "id": "c2a2436b-5b7d-41be-9673-fe1cba2a2554",
   "metadata": {},
   "source": [
    "The general pipeline for $\\texttt{MPT-Calculator}$ is as follows:"
   ]
  },
  {
   "cell_type": "markdown",
   "id": "7c560602-1d51-467e-aab5-5223a4b7165a",
   "metadata": {},
   "source": [
    " <img src=\"Figures/flowchart.png\" alt=\"isolated\"/>"
   ]
  },
  {
   "cell_type": "markdown",
   "id": "0113c38e-e2c7-4a83-94e3-7ab982c221b4",
   "metadata": {},
   "source": [
    "## First Example:"
   ]
  },
  {
   "cell_type": "markdown",
   "id": "89e4b402-d124-4c10-b9c1-57c2941c7743",
   "metadata": {},
   "source": [
    "First, we need to navigate to the project root directory. To check use:"
   ]
  },
  {
   "cell_type": "code",
   "execution_count": null,
   "id": "1493217c-830a-4157-8f06-b29335b5cb72",
   "metadata": {},
   "outputs": [],
   "source": [
    "import os\n",
    "os.getcwd()"
   ]
  },
  {
   "cell_type": "markdown",
   "id": "b43e16f2-f8fb-4cef-8ad9-b1990fb22abe",
   "metadata": {},
   "source": [
    "and to set:"
   ]
  },
  {
   "cell_type": "code",
   "execution_count": null,
   "id": "694282c6-040d-4d76-8189-c13fb430e79a",
   "metadata": {},
   "outputs": [],
   "source": [
    "root_dir = os.path.dirname(os.getcwd())\n",
    "os.chdir(root_dir)\n",
    "os.getcwd()"
   ]
  },
  {
   "cell_type": "markdown",
   "id": "a14eb599-b930-4411-b140-425ecb872adc",
   "metadata": {},
   "source": [
    "We now need to import the main function. $\\texttt{runner.py}$ contains the starting point for MPT-Calculator. "
   ]
  },
  {
   "cell_type": "code",
   "execution_count": null,
   "id": "12bc8618-11b9-48c3-91ac-e60ac58c3ad9",
   "metadata": {},
   "outputs": [],
   "source": [
    "from runner import main\n",
    "from time import time"
   ]
  },
  {
   "cell_type": "markdown",
   "id": "3af1e6b3-f631-48dd-9050-608afc1afdf7",
   "metadata": {},
   "source": [
    "$\\texttt{main}$ is a function taking variable input arguments for controlling the mesh size, order, geometry model, exciting frequencies, and alpha:\n",
    "```python\n",
    "main(h=2, order=2, curve_degree=5, start_stop=(), alpha='', geometry='default', frequency_array='default', use_OCC=False,\n",
    "         use_POD=False, use_parallel=True)\n",
    "```\n",
    "These will be explained in detail later. For now, lets run the default settings."
   ]
  },
  {
   "cell_type": "code",
   "execution_count": null,
   "id": "c347517d-4ed3-432a-9ce9-e4404d57ff17",
   "metadata": {
    "scrolled": true,
    "tags": []
   },
   "outputs": [],
   "source": [
    "start_time = time();\n",
    "main();\n",
    "stop_time = time();"
   ]
  },
  {
   "cell_type": "code",
   "execution_count": null,
   "id": "44a9c727-7e3c-40f2-a1fc-92e6ae991d8c",
   "metadata": {},
   "outputs": [],
   "source": [
    "print(f'Total time = {(stop_time - start_time)/60} minutes')"
   ]
  },
  {
   "cell_type": "markdown",
   "id": "17d859e9-7f13-4746-8e47-14995b57eda5",
   "metadata": {},
   "source": [
    "We have ran a simulation using the default values of MPT-Calculator. This uses a unit sphere, scaled by $\\alpha=10^{-3}$, as the object, discretised using a coarse mesh and order $p=2$ elements.\n",
    "\n",
    "This is repeated for each frequency over the range of 10 to $10^8$ rad/s in 40 logarithmically spaced samples."
   ]
  },
  {
   "cell_type": "markdown",
   "id": "35d11d36-9686-4c82-90e0-03a0c05911f7",
   "metadata": {},
   "source": [
    "### Saving Results\n",
    "\n",
    "The output of the simulation, including any figures are saved in the 'Results' folder.\n",
    "\n",
    "For example: \n",
    "```bash\n",
    "MPT-Calculator/Results/sphere/al_0.001_mu_1_sig_1e6/1e1-1e8_40_el_9814_ord_2/\n",
    "```\n",
    "\n",
    "The results folder will contain a copy of the input files used for the simulation, including the mesh, .geo file, and a copy of the main function. This is so that the results can be recreated."
   ]
  },
  {
   "cell_type": "markdown",
   "id": "7f861b6f-281e-4e36-8e70-4855475d5958",
   "metadata": {},
   "source": [
    "### Returning Values\n",
    "\n",
    "Unlike the original MPT-Calculator, the new version allows the user to return variables from main.\n",
    "\n",
    "```python\n",
    "TensorArray, EigenValues, N0, Elements, Array, Ndofs, EddyCurrentTest = main()\n",
    "```\n",
    " - $\\texttt{TensorArray}$ is a complex Nx9 array containing each of the tensor coefficients for the 3x3 rank 2 MPT for each frequency of interest.\n",
    " - $\\texttt{EigenValues}$ is a Nx3 array containing the eigenvalues for each frequency.\n",
    " - $\\texttt{N0}$ is the 3x3 $\\mathcal{N}^0$ coefficients.\n",
    " - $\\texttt{Elements}$ is the integer number of elements in the mesh.\n",
    " - $\\texttt{Array}$ is the Nx1 array containing the frequencies used for the sweep.\n",
    " - $\\texttt{Ndofs}$ is a tuple containing the number of degrees of freedom used for the $\\boldsymbol{\\theta}^{(0)}$ and $\\boldsymbol{\\theta}^{(1)}$ finite element spaces.\n",
    " - $\\texttt{EddyCurrentTest}$ will contain an estimated max frequency where the eddy current model holds if ```EddyCurentTest``` is set to True in ```Settings.py```. Otherwise it will return False."
   ]
  },
  {
   "cell_type": "markdown",
   "id": "1cfb6fcb-3bd6-4f9d-8c5d-a3eae2b2c9c5",
   "metadata": {},
   "source": [
    "This is to make it easier to integrate the $\\texttt{MPT-Calculator}$ into other codebases."
   ]
  },
  {
   "cell_type": "code",
   "execution_count": null,
   "id": "af31870d-86fc-4a19-9b7f-1dabc886ae9b",
   "metadata": {
    "scrolled": true,
    "tags": []
   },
   "outputs": [],
   "source": [
    "TensorArray, EigenValues, N0, Elements, Array, Ndofs, EddyCurrentTest = main()"
   ]
  },
  {
   "cell_type": "markdown",
   "id": "0354f383-579f-42cc-8f0c-be8efccf53cc",
   "metadata": {},
   "source": [
    "```mermaid\n",
    "graph TD here[this page] --> bookmarklet(use bookmarklet) bookmarklet --> make here --> pip(pip) here --> clone pip --> installed clone(clone) --> installed clone --> fork(fork) fork --> profit((profit)) make(make diagrams) --> profit installed --> make\n",
    "```"
   ]
  },
  {
   "cell_type": "code",
   "execution_count": null,
   "id": "5e24f4d2-a22c-4e84-9a19-f3ae223d8a90",
   "metadata": {},
   "outputs": [],
   "source": []
  },
  {
   "cell_type": "code",
   "execution_count": null,
   "id": "65d2cfe9-63d5-4720-beb0-68e02e195f55",
   "metadata": {},
   "outputs": [],
   "source": []
  }
 ],
 "metadata": {
  "kernelspec": {
   "display_name": "Python 3 (ipykernel)",
   "language": "python",
   "name": "python3"
  },
  "language_info": {
   "codemirror_mode": {
    "name": "ipython",
    "version": 3
   },
   "file_extension": ".py",
   "mimetype": "text/x-python",
   "name": "python",
   "nbconvert_exporter": "python",
   "pygments_lexer": "ipython3",
   "version": "3.8.13"
  }
 },
 "nbformat": 4,
 "nbformat_minor": 5
}
