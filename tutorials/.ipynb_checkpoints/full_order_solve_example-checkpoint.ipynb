{
 "cells": [
  {
   "cell_type": "markdown",
   "id": "2ce218f6-b8fb-4a40-8001-64b1e22c1cc8",
   "metadata": {},
   "source": [
    "```bash\n",
    ".\n",
    "├── Documentation\n",
    "│   └── PythonCodeDocumentation.pdf\n",
    "├── Functions\n",
    "│   ├── add_truncated_region_to_mesh.py\n",
    "│   ├── Checkvalid.py\n",
    "│   ├── count_prismatic_elements.py\n",
    "│   ├── FullSolvers.py\n",
    "│   ├── MeshCreation.py\n",
    "│   ├── ML_MPT_Predictor.py\n",
    "│   ├── MPTFunctions.py\n",
    "│   ├── MultiPermeability.py\n",
    "│   ├── PlotEditor.py\n",
    "│   ├── PlotEditorWithErrorBars.py\n",
    "│   ├── Plotters.py\n",
    "│   ├── PODFunctions.py\n",
    "│   ├── PODPlotEditor.py\n",
    "│   ├── PODPlotEditorWithErrorBars.py\n",
    "│   ├── PODSolvers.py\n",
    "│   ├── ResultsFunctions.py\n",
    "│   ├── SingleSolve.py\n",
    "│   └── step_to_vol_mesher.py\n",
    "├── GeoFiles\n",
    "│   ├── Claw_wodden_handle.geo\n",
    "│   ├── Coin.geo\n",
    "│   ├── Cylinder.geo\n",
    "│   ├── DualBar.geo\n",
    "│   ├── dualBox.geo\n",
    "│   └── ...\n",
    "├── OCC_Geometry\n",
    "│   ├── OCC_bottle.py\n",
    "│   ├── OCC_cylinder.py\n",
    "│   ├── OCC_dualbar.py\n",
    "│   ├── OCC_sphere.py\n",
    "│   └── ...\n",
    "├── Results\n",
    "│   └── sphere\n",
    "|       └── al_0.01_mu_1_sig_1e6\n",
    "|           └── 1e1-1e5_40_el_57698_ord_2\n",
    "|               ├── Data\n",
    "|               |   └── ...\n",
    "|               ├── Functions\n",
    "|               |   └── ...\n",
    "|               ├── Graphs\n",
    "|               |   └── ...\n",
    "|               ├── Input_files\n",
    "|               |   └── ...\n",
    "|               ├── PlotEditor.py\n",
    "|               └── PlotterSettings.py\n",
    "├── Results_2d\n",
    "│   ├── PlotterSettings.py\n",
    "├── Settings\n",
    "│   ├── PlotterSettings.py\n",
    "│   └── Settings.py\n",
    "├── VolFiles\n",
    "│   ├── Claw_wodden_handle.vol\n",
    "│   ├── Knife_Cheap_Chef.vol\n",
    "│   ├── OCC_cylinder.vol\n",
    "│   ├── OCC_dualbar.vol\n",
    "│   ├── OCC_sphere.vol\n",
    "│   └── ...\n",
    "├── Changelog_for_MPT-Calculator\n",
    "├── __init__.py\n",
    "├── LICENSE\n",
    "├── main_2d.py\n",
    "├── runner.py\n",
    "├── README.md\n",
    "\n",
    "```\n"
   ]
  },
  {
   "cell_type": "markdown",
   "id": "7c560602-1d51-467e-aab5-5223a4b7165a",
   "metadata": {},
   "source": []
  },
  {
   "cell_type": "markdown",
   "id": "0113c38e-e2c7-4a83-94e3-7ab982c221b4",
   "metadata": {
    "tags": []
   },
   "source": [
    "## First Example:"
   ]
  },
  {
   "cell_type": "markdown",
   "id": "89e4b402-d124-4c10-b9c1-57c2941c7743",
   "metadata": {},
   "source": [
    "First, we need to navigate to the project root directory. To check use:"
   ]
  },
  {
   "cell_type": "code",
   "execution_count": 1,
   "id": "1493217c-830a-4157-8f06-b29335b5cb72",
   "metadata": {},
   "outputs": [
    {
     "data": {
      "text/plain": [
       "'/home/james/Desktop/Updated_MPT_Calculator/MPT-Calculator/tutorials'"
      ]
     },
     "execution_count": 1,
     "metadata": {},
     "output_type": "execute_result"
    }
   ],
   "source": [
    "import os\n",
    "os.getcwd()"
   ]
  },
  {
   "cell_type": "markdown",
   "id": "b43e16f2-f8fb-4cef-8ad9-b1990fb22abe",
   "metadata": {},
   "source": [
    "and to set:"
   ]
  },
  {
   "cell_type": "code",
   "execution_count": 2,
   "id": "694282c6-040d-4d76-8189-c13fb430e79a",
   "metadata": {},
   "outputs": [
    {
     "data": {
      "text/plain": [
       "'/home/james/Desktop/Updated_MPT_Calculator/MPT-Calculator'"
      ]
     },
     "execution_count": 2,
     "metadata": {},
     "output_type": "execute_result"
    }
   ],
   "source": [
    "root_dir = os.path.dirname(os.getcwd())\n",
    "os.chdir(root_dir)\n",
    "os.getcwd()"
   ]
  },
  {
   "cell_type": "markdown",
   "id": "a14eb599-b930-4411-b140-425ecb872adc",
   "metadata": {},
   "source": [
    "We now need to import the main function. $\\texttt{runner.py}$ contains the starting point for MPT-Calculator. "
   ]
  },
  {
   "cell_type": "code",
   "execution_count": 3,
   "id": "12bc8618-11b9-48c3-91ac-e60ac58c3ad9",
   "metadata": {},
   "outputs": [
    {
     "name": "stdout",
     "output_type": "stream",
     "text": [
      "importing NGSolve-6.2.2204\n"
     ]
    }
   ],
   "source": [
    "from runner import main\n",
    "from time import time"
   ]
  },
  {
   "cell_type": "markdown",
   "id": "3af1e6b3-f631-48dd-9050-608afc1afdf7",
   "metadata": {},
   "source": [
    "$\\texttt{main}$ is a function taking variable input arguments for controlling the mesh size, order, geometry model, exciting frequencies, and alpha:\n",
    "```python\n",
    "main(h=2, order=2, curve_degree=5, start_stop=(), alpha='', geometry='default', frequency_array='default', use_OCC=False,\n",
    "         use_POD=False, use_parallel=True)\n",
    "```\n",
    "These will be explained in detail later. For now, lets run the default settings."
   ]
  },
  {
   "cell_type": "markdown",
   "id": "f255131a-2a6e-44b5-8eb3-bd1772e2c276",
   "metadata": {},
   "source": [
    "|  |   |   |   |   |\n",
    "|---------------------------------------------|---|---|---|---|\n",
    "|$\\texttt{Geometry} = \\texttt{'sphere.geo'}$  |$\\texttt{Start = 1}$       |\n",
    "|$\\texttt{alpha = 1e-3}$                      |$\\texttt{Finish = 8}$      |   \n",
    "|$\\texttt{h = 2}$                             |$\\texttt{Points = 40}$     |\n",
    "|$\\texttt{Order = 2}$                         |$\\texttt{Single = False}$  |\n",
    "|$\\texttt{Pod = False}$   |$\\texttt{MultiProcessing = True}$    |"
   ]
  },
  {
   "cell_type": "code",
   "execution_count": null,
   "id": "c347517d-4ed3-432a-9ce9-e4404d57ff17",
   "metadata": {
    "tags": []
   },
   "outputs": [
    {
     "name": "stdout",
     "output_type": "stream",
     "text": [
      "sphere.geo\n",
      "importing NGSolve-6.2.2204\n",
      "optfile ./ng.opt does not exist - using default values\n",
      "togl-version : 2\n",
      "OCC module loaded\n",
      "loading ngsolve library\n",
      "NGSolve-6.2.2204\n",
      "Using Lapack\n",
      "Including sparse direct solver Pardiso\n",
      "Running parallel using 12 thread(s)\n",
      " Calc Triangle Approximation\n",
      "Thank you for using NGSolve\n",
      "load -geofile=GeoFiles/sphere.geo\n",
      " mesh contains 9814 elements\n",
      "importing NGSolve-6.2.2204\n",
      "importing NGSolve-6.2.2204\n",
      "importing NGSolve-6.2.2204\n",
      " solved theta0 problems    \n",
      "importing NGSolve-6.2.2204\n",
      "importing NGSolve-6.2.2204\n",
      "importing NGSolve-6.2.2204\n",
      "importing NGSolve-6.2.2204\n"
     ]
    }
   ],
   "source": [
    "start_time = time();\n",
    "main(use_OCC=True);\n",
    "stop_time = time();"
   ]
  },
  {
   "cell_type": "code",
   "execution_count": null,
   "id": "44a9c727-7e3c-40f2-a1fc-92e6ae991d8c",
   "metadata": {},
   "outputs": [],
   "source": [
    "print(f'Total time = {(stop_time - start_time)/60} minutes')"
   ]
  },
  {
   "cell_type": "markdown",
   "id": "17d859e9-7f13-4746-8e47-14995b57eda5",
   "metadata": {},
   "source": [
    "We have ran a simulation using the default values of MPT-Calculator. This uses a unit sphere, scaled by $\\alpha=10^{-3}$, as the object, discretised using a coarse mesh and order $p=2$ elements.\n",
    "\n",
    "This is repeated for each frequency over the range of 10 to $10^8$ rad/s in 40 logarithmically spaced samples."
   ]
  },
  {
   "cell_type": "markdown",
   "id": "35d11d36-9686-4c82-90e0-03a0c05911f7",
   "metadata": {},
   "source": [
    "### Saving Results\n",
    "\n",
    "The output of the simulation, including any figures are saved in the 'Results' folder.\n",
    "\n",
    "For example: \n",
    "```bash\n",
    "MPT-Calculator/Results/sphere/al_0.001_mu_1_sig_1e6/1e1-1e8_40_el_9814_ord_2/\n",
    "```\n",
    "\n",
    "The results folder will contain a copy of the input files used for the simulation, including the mesh, .geo file, and a copy of the main function. This is so that the results can be recreated."
   ]
  },
  {
   "cell_type": "markdown",
   "id": "7f861b6f-281e-4e36-8e70-4855475d5958",
   "metadata": {},
   "source": [
    "### Returning Values\n",
    "\n",
    "Unlike the original MPT-Calculator, the new version allows the user to return variables from main.\n",
    "\n",
    "```python\n",
    "TensorArray, EigenValues, N0, Elements, Array, Ndofs, EddyCurrentTest = main()\n",
    "```\n",
    " - $\\texttt{TensorArray}$ is a complex Nx9 array containing each of the tensor coefficients for the 3x3 rank 2 MPT for each frequency of interest.\n",
    " - $\\texttt{EigenValues}$ is a Nx3 array containing the eigenvalues for each frequency.\n",
    " - $\\texttt{N0}$ is the 3x3 $\\mathcal{N}^0$ coefficients.\n",
    " - $\\texttt{Elements}$ is the integer number of elements in the mesh.\n",
    " - $\\texttt{Array}$ is the Nx1 array containing the frequencies used for the sweep.\n",
    " - $\\texttt{Ndofs}$ is a tuple containing the number of degrees of freedom used for the $\\boldsymbol{\\theta}^{(0)}$ and $\\boldsymbol{\\theta}^{(1)}$ finite element spaces.\n",
    " - $\\texttt{EddyCurrentTest}$ will contain an estimated max frequency where the eddy current model holds if ```EddyCurentTest``` is set to True in ```Settings.py```. Otherwise it will return False."
   ]
  },
  {
   "cell_type": "markdown",
   "id": "1cfb6fcb-3bd6-4f9d-8c5d-a3eae2b2c9c5",
   "metadata": {},
   "source": [
    "This is to make it easier to integrate the $\\texttt{MPT-Calculator}$ into other codebases."
   ]
  },
  {
   "cell_type": "code",
   "execution_count": null,
   "id": "af31870d-86fc-4a19-9b7f-1dabc886ae9b",
   "metadata": {
    "scrolled": true,
    "tags": []
   },
   "outputs": [],
   "source": [
    "TensorArray, EigenValues, N0, Elements, Array, Ndofs, EddyCurrentTest = main()"
   ]
  }
 ],
 "metadata": {
  "kernelspec": {
   "display_name": "Python 3 (ipykernel)",
   "language": "python",
   "name": "python3"
  },
  "language_info": {
   "codemirror_mode": {
    "name": "ipython",
    "version": 3
   },
   "file_extension": ".py",
   "mimetype": "text/x-python",
   "name": "python",
   "nbconvert_exporter": "python",
   "pygments_lexer": "ipython3",
   "version": "3.8.13"
  }
 },
 "nbformat": 4,
 "nbformat_minor": 5
}
