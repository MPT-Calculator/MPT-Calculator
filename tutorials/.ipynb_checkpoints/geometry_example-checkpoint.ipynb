{
 "cells": [
  {
   "cell_type": "code",
   "execution_count": 1,
   "id": "2b5412db-1981-43be-b0c9-a28610c9ccae",
   "metadata": {},
   "outputs": [],
   "source": [
    "from time import time\n",
    "import numpy as np\n",
    "from matplotlib import pyplot as plt\n",
    "import os\n",
    "root_dir = os.path.dirname(os.getcwd())\n",
    "os.chdir(root_dir)"
   ]
  },
  {
   "cell_type": "markdown",
   "id": "479bf139-71a6-4bc8-9419-60186d4b7fc9",
   "metadata": {},
   "source": [
    "# Defining a .geo file and generating a mesh"
   ]
  },
  {
   "cell_type": "markdown",
   "id": "66afa982-c44d-4dfe-98ee-c4ca5e4b68f1",
   "metadata": {},
   "source": [
    "In this section we discuss how to create a geometry file (.geo), with the geometry file being interpreted by Netgen (the meshing tool in NGSolve) we first explain how to create shapes and geometries using a .geo file.\n",
    "\n",
    "Due to Netgen being the underlying interpreter of the .geo file we direct the user to the relevant Constructive Solid Geometry (CSG) documentation available at [http://netgen-mesher.sourceforge.net/docs/ng4.pdf](http://netgen-mesher.sourceforge.net/docs/ng4.pdf) and the large number of example geo files avaliable on the Netgen github page ([https://github.com/NGSolve/netgen/tree/master/tutorials](https://github.com/NGSolve/netgen/tree/master/tutorials)).\n",
    "\n",
    "\n",
    "## Sphere\n",
    "Thus far the object we have been considering has been a unit radius sphere of predetermined conductivity and permeability"
   ]
  },
  {
   "cell_type": "markdown",
   "id": "faf68587-eb10-4b55-9877-4a204eb3a8ef",
   "metadata": {},
   "source": [
    "```\n",
    "algebraic3d\n",
    "\n",
    "\n",
    "solid sphout = sphere (0, 0, 0; 200);\n",
    "solid sphin = sphere (0, 0, 0; 1) -maxh=0.5;\n",
    "\n",
    "solid rest = sphout and not sphin;\n",
    "\n",
    "tlo rest -transparent -col=[0,0,1];#air\n",
    "tlo sphin -col=[1,0,0];#sphere -mur=1 -sig=1e6\n",
    "\n",
    "```"
   ]
  },
  {
   "cell_type": "code",
   "execution_count": 2,
   "id": "90700591-1825-4801-9c20-499bc02932db",
   "metadata": {},
   "outputs": [
    {
     "name": "stdout",
     "output_type": "stream",
     "text": [
      "importing NGSolve-6.2.2202\n"
     ]
    },
    {
     "data": {
      "application/vnd.jupyter.widget-view+json": {
       "model_id": "b4a7cffe92664aa7a9e34b8ad14b9881",
       "version_major": 2,
       "version_minor": 0
      },
      "text/plain": [
       "WebGuiWidget(value={'ngsolve_version': '6.2.2202', 'mesh_dim': 3, 'order2d': 1, 'order3d': 1, 'draw_vol': None…"
      ]
     },
     "metadata": {},
     "output_type": "display_data"
    },
    {
     "data": {
      "text/plain": [
       "BaseWebGuiScene"
      ]
     },
     "execution_count": 2,
     "metadata": {},
     "output_type": "execute_result"
    }
   ],
   "source": [
    "from netgen.csg import *\n",
    "from ngsolve import *\n",
    "from ngsolve.webgui import Draw\n",
    "geo = CSGeometry(r'GeoFiles/sphere.geo')\n",
    "mesh = geo.GenerateMesh()\n",
    "ngmesh = Mesh(mesh)\n",
    "Draw(ngmesh)"
   ]
  },
  {
   "cell_type": "markdown",
   "id": "7f3915ea-604a-40fd-87e4-34117786a019",
   "metadata": {},
   "source": [
    "```\n",
    "algebraic3d\n",
    "```\n",
    "is the top level command that every .geo file requires before any non commented lines.\n",
    "\n",
    "```\n",
    "solid sphout = sphere (0, 0, 0; 200);\n",
    "```\n",
    "We can define solids using the $\\texttt{solid}$ and a primitive sphere using the $\\texttt{sphere}$ keyword\n",
    "```\n",
    "solid sphin = sphere (0, 0, 0; 1) -maxh=0.5;\n",
    "```\n",
    "the $\\texttt{maxh}$ tag can be used to directly specify the maximum element size inside the associated object. For example, here we set the maximum element size inside the inner sphere to be 0.5.\n",
    "\n",
    "The keywords $\\texttt{and}$ and $\\texttt{or}$ denote the intersection and union respectivlty of the two solids, so the line\n",
    "```\n",
    "solid rest = sphout and not sphin;\n",
    "```\n",
    "defines a solid that contains only the region that is occupied by the outer sphere and not the inner sphere.\n",
    "\n",
    "Finally, we wish to define which objects will be meshed. This is done using the $\\texttt{tlo}$ tag.\n",
    "```\n",
    "tlo rest -transparent -col=[0,0,1];#air\n",
    "tlo sphin -col=[1,0,0];#sphere -mur=1 -sig=1e6\n",
    "```\n",
    "The $\\texttt{#}$ represents a comment and is not used by Netgen. The object names, $\\texttt{-mur}$, and $\\texttt{-sig}$ are used by MPT-Calculator to assign material properites to each object.\n",
    "\n",
    "The $\\texttt{#air}$ is used to denote vacuum permeability and conductivity.;"
   ]
  },
  {
   "cell_type": "markdown",
   "id": "6ef7f629-c721-4a2f-9e9f-79117f8d88a5",
   "metadata": {},
   "source": [
    "## Earring\n",
    "\n",
    "For a more complex object, we work in a very similar way. i.e. defining object primatives and constructing other shapes via unions and intersections.\n",
    "In this example, we build a simple earring, consisting of spherical end, a cylindrical post, and a flat cylindric back.\n",
    "\n",
    "#### Sphere\n",
    "A sphere is defined by an origin (x,y,z) and a radius r\n",
    "```\n",
    "sphere(x, y, z; r)\n",
    "```\n",
    "\n",
    "A cylinder in the .geo format is assumed to be infinitly long. To construct a finite cylinder, we need to calculate the intersection with a plane.\n",
    "\n",
    "\n",
    "```\n",
    "algebraic3d\n",
    "\n",
    "#Outer domain\n",
    "solid outer_box = orthobrick (-1000, -1000, -1000; 1000, 1000, 1000);\n",
    "\n",
    "#Object parts\n",
    "solid ball = sphere(6,0,0;1);\n",
    "solid bar = cylinder(0,0,0;10,0,0;0.5)\n",
    "\tand plane(0,0,0;-1,0,0)\n",
    "\tand plane(6,0,0;1,0,0);\n",
    "solid end = cylinder(-1,0,0;1,0,0;1.2)\n",
    "\tand plane(0,0,0;1,0,0)\n",
    "\tand plane(-0.5,0,0;-1,0,0);\n",
    "\n",
    "#Combining parts\n",
    "solid earing = ball or bar or end -maxh=0.25;\n",
    "solid rest = outer_box and not earing;\n",
    "\n",
    "#Defining top level objects\n",
    "tlo rest -transparent -col=[0,0,1];#air\n",
    "tlo earing -col=[1,0,0];#earring -mur=1 -sig=4.1E+07\n",
    "```"
   ]
  },
  {
   "cell_type": "code",
   "execution_count": 3,
   "id": "496040c4-3026-4cd6-8cf0-1aea77a60eb1",
   "metadata": {
    "tags": []
   },
   "outputs": [
    {
     "data": {
      "application/vnd.jupyter.widget-view+json": {
       "model_id": "4f2a9202508d4351a4cf7b4a956a6e2b",
       "version_major": 2,
       "version_minor": 0
      },
      "text/plain": [
       "WebGuiWidget(value={'ngsolve_version': '6.2.2202', 'mesh_dim': 3, 'order2d': 1, 'order3d': 1, 'draw_vol': None…"
      ]
     },
     "metadata": {},
     "output_type": "display_data"
    },
    {
     "data": {
      "text/plain": [
       "BaseWebGuiScene"
      ]
     },
     "execution_count": 3,
     "metadata": {},
     "output_type": "execute_result"
    }
   ],
   "source": [
    "geo = CSGeometry(r'GeoFiles/Earring.geo')\n",
    "mesh = geo.GenerateMesh()\n",
    "ngmesh = Mesh(mesh)\n",
    "Draw(ngmesh)"
   ]
  }
 ],
 "metadata": {
  "kernelspec": {
   "display_name": "Python 3 (ipykernel)",
   "language": "python",
   "name": "python3"
  },
  "language_info": {
   "codemirror_mode": {
    "name": "ipython",
    "version": 3
   },
   "file_extension": ".py",
   "mimetype": "text/x-python",
   "name": "python",
   "nbconvert_exporter": "python",
   "pygments_lexer": "ipython3",
   "version": "3.8.13"
  }
 },
 "nbformat": 4,
 "nbformat_minor": 5
}
