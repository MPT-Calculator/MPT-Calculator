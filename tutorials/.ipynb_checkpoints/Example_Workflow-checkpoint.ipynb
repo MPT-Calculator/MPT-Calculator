{
 "cells": [
  {
   "cell_type": "markdown",
   "id": "ad5270a1-ea96-469d-8aa0-9dad3d6004ec",
   "metadata": {},
   "source": [
    "# Example workflow\n",
    "\n",
    "In this workbook, we demonstrate a complete $\\texttt{MPT-Calculator}$ workflow. We will cover constructing a new object and assigning material properties, running $\\texttt{MPT-Calculator}$ over wide frequency sweep, and checking convergence for the eigenvalues we obtain."
   ]
  },
  {
   "cell_type": "markdown",
   "id": "024244b7-2e4d-430e-b578-5a6139a3a60e",
   "metadata": {},
   "source": [
    "## Generating a geometry:\n",
    "\n",
    "$\\texttt{.geo}$ files follow a standard format and objects are defined via object primatives. See [this tutorial](geometry_example.ipynb) for more detail.\n",
    "\n",
    "For this example, we wish to simulate a simple steel wrench inside a large non-conducting sphere. \n",
    "We begin by first defining the desired geometry.\n",
    "```\n",
    "algebraic3d\n",
    "\n",
    "solid sphout = sphere (0, 0, 0; 1000);\n",
    "\n",
    "solid shaft = orthobrick(-10, -1, -0.5; 10, 1, 0.5) -maxh=0.5;\n",
    "\n",
    "solid claw = cylinder(11, 0, -0.5; 11, 0, 0.5; 2)\n",
    "\tand plane(0, 0, 0.5; 0, 0, 1)\n",
    "\tand plane(0, -0, -0.5; 0, 0, -1);\n",
    "\n",
    "solid cutout_claw = orthobrick (10.3, -0.75, -0.51; 13, 0.75, 0.51);\n",
    "\n",
    "solid socket = cylinder(-11, 0, -1; -11, 0, 1; 2)\n",
    "\tand plane(0, 0, 0.5; 0, 0, 1)\n",
    "\tand plane(0, -0, -0.5; 0, 0, -1);\n",
    "\n",
    "solid cutout_socket = cylinder(-11.2, 0, -1.1; -11.2, 0, 1.1; 1.3)\n",
    "\tand plane(0, 0, 0.51; 0, 0, 1)\n",
    "\tand plane(0, -0, -0.51; 0, 0, -1);\n",
    "\n",
    "solid wrench = shaft or claw and not cutout_claw or socket and not cutout_socket;\n",
    "\n",
    "\n",
    "solid rest = sphout and not wrench;\n",
    "\n",
    "tlo rest -transparent -col=[0,0,1];#air\n",
    "tlo wrench -col=[1,0,0];#wrench -mur=1  -sig=3.5E7\n",
    "```\n",
    "<b>By convention, we have chosen a millimeter scale when defining the object, thus we also want to choose $\\texttt{alpha=1E-3}$</b>\n",
    "\n",
    "This geometry has been saved in $\\texttt{GeoFiles/wrench.geo}$. Note that we have also defined a relative permeability $\\mu_r = 1$ and conductivity $\\sigma=3.5 \\times 10^7$ S/m inside the wrench to match our desired material output."
   ]
  },
  {
   "cell_type": "markdown",
   "id": "fad09a58-66f6-4bfe-8d17-7a1d2f5d9875",
   "metadata": {},
   "source": [
    "We can check the geometry of the object by either loading it into $\\texttt{Netgen}$ directly, or via the supported web gui."
   ]
  },
  {
   "cell_type": "markdown",
   "id": "be8b92e3-1dce-43e7-8426-1a3672eeba8e",
   "metadata": {},
   "source": [
    "## Running a sweep and checking for convergence\n",
    "For this example, we want to run $\\texttt{MPT-Calculator}$ over the frequency range $10^3$ rad/s to $10^6$ rad/s in 80 logarithmically spaced steps.\n",
    "\n",
    "We need to run the simulation with these settings, and check that the solution we obtain is converged for the entire frequency range of interest. To do this, we will iterate $\\texttt{MPT-Calculator}$ for $p=2,3,4$."
   ]
  },
  {
   "cell_type": "code",
   "execution_count": 1,
   "id": "d1daef2a-21d9-4125-b65f-cddbf82f7318",
   "metadata": {},
   "outputs": [],
   "source": [
    "start = 3\n",
    "stop = 6\n",
    "points = 80\n",
    "geometry = 'Wrench.geo'"
   ]
  },
  {
   "cell_type": "markdown",
   "id": "91c7cf83-9907-4069-bc47-f3f6f61296bc",
   "metadata": {},
   "source": [
    "To run the code, we need to navigate to the root directory"
   ]
  },
  {
   "cell_type": "code",
   "execution_count": 2,
   "id": "c37d6c19-e751-4bff-b409-85e8b22abec7",
   "metadata": {},
   "outputs": [],
   "source": [
    "import os\n",
    "root_dir = os.path.dirname(os.getcwd())\n",
    "os.chdir(root_dir)"
   ]
  },
  {
   "cell_type": "markdown",
   "id": "5e7b8e49-2b77-4d67-a744-d31aab23dd5d",
   "metadata": {},
   "source": [
    "We now import the main function, along with numpy and matplotlib for plotting the results"
   ]
  },
  {
   "cell_type": "code",
   "execution_count": 3,
   "id": "bc0bc79e-49d9-48fa-b43f-8cc53d13da2a",
   "metadata": {},
   "outputs": [
    {
     "name": "stdout",
     "output_type": "stream",
     "text": [
      "importing NGSolve-6.2.2203\n"
     ]
    }
   ],
   "source": [
    "import numpy as np\n",
    "from matplotlib import pyplot as plt\n",
    "from runner import main"
   ]
  },
  {
   "cell_type": "markdown",
   "id": "5373191d-4bc4-43f9-a68c-59780deecb56",
   "metadata": {},
   "source": [
    "And run the simulation"
   ]
  },
  {
   "cell_type": "code",
   "execution_count": null,
   "id": "b4345b94-f915-4034-a3aa-3feb5ac27723",
   "metadata": {},
   "outputs": [
    {
     "name": "stdout",
     "output_type": "stream",
     "text": [
      "Wrench.geo\n",
      "generating mesh\n",
      " mesh contains 34971 elements\n",
      "importing NGSolve-6.2.2203\n",
      "importing NGSolve-6.2.2203\n",
      "importing NGSolve-6.2.2203\n",
      " solved theta0 problems    \n",
      "importing NGSolve-6.2.2203\n",
      "importing NGSolve-6.2.2203\n",
      "importing NGSolve-6.2.2203\n",
      "importing NGSolve-6.2.2203\n"
     ]
    }
   ],
   "source": [
    "comparison_eigs = np.zeros((80,3,3), dtype=complex)\n",
    "for p in [2,3,4]:\n",
    "    TensorArray, EigenValues, N0, Elements, Array, Ndofs, EddyCurrentTest = main(start_stop=(start, stop, points), geometry=geometry, order=p, use_POD=True)\n",
    "    comparison_eigs[:,:,p-2] = EigenValues"
   ]
  },
  {
   "cell_type": "code",
   "execution_count": null,
   "id": "1c5947a8-2e89-47de-a971-db7da47585c7",
   "metadata": {},
   "outputs": [],
   "source": [
    "for eignum in [0,1,2]:\n",
    "    plt.figure()\n",
    "    for order in [0,1,2]:\n",
    "        plt.semilogx(Array, comparison_eigs[:,eignum, order].real, label=f'p={order + 2}')\n",
    "    plt.legend();\n",
    "    plt.xlabel('$\\omega$, [rad/s]');\n",
    "    plt.ylabel(f'$\\lambda_{eignum+1}(\\mathcal{I})$');\n",
    "\n",
    "    plt.figure()\n",
    "    for order in [0,1,2:\n",
    "        plt.semilogx(Array, comparison_eigs[:,eignum, order].imag, label=f'p={order + 2}')\n",
    "    plt.legend();\n",
    "    plt.xlabel('$\\omega$, [rad/s]');\n",
    "    plt.ylabel(f'$\\lambda_{eignum+1}(\\mathcal{I})$');\n"
   ]
  }
 ],
 "metadata": {
  "kernelspec": {
   "display_name": "Python 3 (ipykernel)",
   "language": "python",
   "name": "python3"
  },
  "language_info": {
   "codemirror_mode": {
    "name": "ipython",
    "version": 3
   },
   "file_extension": ".py",
   "mimetype": "text/x-python",
   "name": "python",
   "nbconvert_exporter": "python",
   "pygments_lexer": "ipython3",
   "version": "3.8.13"
  }
 },
 "nbformat": 4,
 "nbformat_minor": 5
}
