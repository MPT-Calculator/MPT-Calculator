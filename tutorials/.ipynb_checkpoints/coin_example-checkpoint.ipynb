{
 "cells": [
  {
   "cell_type": "code",
   "execution_count": 21,
   "id": "41e5b51f-332c-423d-bf4a-dd09646883d9",
   "metadata": {},
   "outputs": [],
   "source": [
    "from netgen.occ import *\n",
    "from ngsolve import *\n",
    "from netgen.webgui import Draw as DrawGeo\n",
    "from ngsolve.webgui import Draw\n",
    "import numpy as np"
   ]
  },
  {
   "cell_type": "markdown",
   "id": "c619fd0d-abb3-47ab-ad8b-d9eb2ab69157",
   "metadata": {},
   "source": [
    "## Computing £1 coin as a regular dodecagon of radius r mm:"
   ]
  },
  {
   "cell_type": "markdown",
   "id": "ad37e265-dec8-4a31-a648-c0c40031d0d4",
   "metadata": {},
   "source": [
    "picture of £1 coin?"
   ]
  },
  {
   "cell_type": "markdown",
   "id": "9c8e4c29-5e69-419b-96d3-fdcf0f0419b5",
   "metadata": {},
   "source": [
    "As with other objects, we define lists of material names, mur and sigma:"
   ]
  },
  {
   "cell_type": "code",
   "execution_count": 22,
   "id": "34699a49-8f36-4e85-8465-c26fcd26660e",
   "metadata": {},
   "outputs": [],
   "source": [
    "object_name = ['outer_frame', 'inner_cyln', 'plating']\n",
    "sigma = [5.26E+06, 1.63E+07, 1E6]\n",
    "mur = [1.15, 1, 100]"
   ]
  },
  {
   "cell_type": "code",
   "execution_count": 23,
   "id": "27c91dd4-d606-4af4-ac55-020e6c996a27",
   "metadata": {},
   "outputs": [],
   "source": [
    "r = 23.43/2\n",
    "t = 2.8"
   ]
  },
  {
   "cell_type": "markdown",
   "id": "e8d9d001-7142-4d31-a746-06a12322ca62",
   "metadata": {},
   "source": [
    "To define a dodegagon, we also need the side length. Since we know that there are 12 sides we know all the angles involved and can use the sine rule to obtain the chord length a."
   ]
  },
  {
   "cell_type": "code",
   "execution_count": 24,
   "id": "6e648501-dd54-43ea-b204-4ab55d3ae804",
   "metadata": {},
   "outputs": [],
   "source": [
    "a = r * np.sin(30 * np.pi/180) / np.sin(75 * np.pi/180)"
   ]
  },
  {
   "cell_type": "markdown",
   "id": "63dd3ec0-ce1d-4576-8aa4-db7854f6d6e9",
   "metadata": {},
   "source": [
    "Now that we have the radius and segment length, we can iterativly constuct a dodecagon of radius r and side length a:"
   ]
  },
  {
   "cell_type": "code",
   "execution_count": 25,
   "id": "f6e31ef8-ffdb-4698-b256-bf64095ec51a",
   "metadata": {},
   "outputs": [
    {
     "data": {
      "application/vnd.jupyter.widget-view+json": {
       "model_id": "91fa6628f73647d5b4471c53d46dd999",
       "version_major": 2,
       "version_minor": 0
      },
      "text/plain": [
       "WebGuiWidget(value={'ngsolve_version': 'Netgen x.x', 'mesh_dim': 3, 'mesh_center': [3.0320651133760297, 11.315…"
      ]
     },
     "metadata": {},
     "output_type": "display_data"
    },
    {
     "data": {
      "text/plain": [
       "BaseWebGuiScene"
      ]
     },
     "execution_count": 25,
     "metadata": {},
     "output_type": "execute_result"
    }
   ],
   "source": [
    "wp = WorkPlane()\n",
    "for i in range(12):\n",
    "    wp.Line(a).Rotate(30)\n",
    "face = wp.Face()\n",
    "DrawGeo(face)"
   ]
  },
  {
   "cell_type": "markdown",
   "id": "e0e04617-5fb8-4c25-af9d-82d27c34a6de",
   "metadata": {},
   "source": [
    "Now, we can turn this 2D shape into a 3D volume by extruding the face to the thickness of the coin: "
   ]
  },
  {
   "cell_type": "code",
   "execution_count": 26,
   "id": "9522bdd2-f362-4763-a7ef-2ebb05141488",
   "metadata": {},
   "outputs": [
    {
     "data": {
      "application/vnd.jupyter.widget-view+json": {
       "model_id": "df46895c0f1d4646af2c225dcbf0740a",
       "version_major": 2,
       "version_minor": 0
      },
      "text/plain": [
       "WebGuiWidget(value={'ngsolve_version': 'Netgen x.x', 'mesh_dim': 3, 'mesh_center': [3.0320651133760297, 11.315…"
      ]
     },
     "metadata": {},
     "output_type": "display_data"
    },
    {
     "data": {
      "text/plain": [
       "BaseWebGuiScene"
      ]
     },
     "execution_count": 26,
     "metadata": {},
     "output_type": "execute_result"
    }
   ],
   "source": [
    "frame = face.Extrude(t)\n",
    "DrawGeo(frame)"
   ]
  },
  {
   "cell_type": "markdown",
   "id": "c61701cb-d5d7-440f-9752-21b089430045",
   "metadata": {},
   "source": [
    "We now add the interior cylinder. To do this, we define a cylinder of radius r_inner and the same thickness as the rest of the coin:"
   ]
  },
  {
   "cell_type": "code",
   "execution_count": 27,
   "id": "2f2d1d6e-03be-4b15-adb8-c8c381e9e75e",
   "metadata": {},
   "outputs": [],
   "source": [
    "r_inner = 7.4"
   ]
  },
  {
   "cell_type": "code",
   "execution_count": 28,
   "id": "4804801f-4f01-4e35-98fc-ac8198f81d08",
   "metadata": {
    "tags": []
   },
   "outputs": [
    {
     "data": {
      "application/vnd.jupyter.widget-view+json": {
       "model_id": "d17e6f743bf84c6e8dd0a1bf45d1eb15",
       "version_major": 2,
       "version_minor": 0
      },
      "text/plain": [
       "WebGuiWidget(value={'ngsolve_version': 'Netgen x.x', 'mesh_dim': 3, 'mesh_center': [3.0320651133760297, 11.315…"
      ]
     },
     "metadata": {},
     "output_type": "display_data"
    },
    {
     "data": {
      "text/plain": [
       "BaseWebGuiScene"
      ]
     },
     "execution_count": 28,
     "metadata": {},
     "output_type": "execute_result"
    }
   ],
   "source": [
    "cx = frame.center[0]\n",
    "cy = frame.center[1]\n",
    "inner_cyln = Cylinder(Pnt(cx,cy,0),Z, r=r_inner, h=t)"
   ]
  },
  {
   "cell_type": "markdown",
   "id": "a165172c-c52a-4ca9-b0bf-6068e8ff72f6",
   "metadata": {},
   "source": [
    "We can now subtract the inner cylinder from the rest of the coin to obtain only the outer region:"
   ]
  },
  {
   "cell_type": "code",
   "execution_count": 29,
   "id": "b38dea5c-ce68-433f-b925-78845a6c4c2d",
   "metadata": {},
   "outputs": [
    {
     "data": {
      "application/vnd.jupyter.widget-view+json": {
       "model_id": "80b131166ef34e34b17d127a405d680a",
       "version_major": 2,
       "version_minor": 0
      },
      "text/plain": [
       "WebGuiWidget(value={'ngsolve_version': 'Netgen x.x', 'mesh_dim': 3, 'mesh_center': [3.0320651133760297, 11.315…"
      ]
     },
     "metadata": {},
     "output_type": "display_data"
    },
    {
     "data": {
      "text/plain": [
       "BaseWebGuiScene"
      ]
     },
     "execution_count": 29,
     "metadata": {},
     "output_type": "execute_result"
    }
   ],
   "source": [
    "frame_outer = frame - inner_cyln\n",
    "DrawGeo(frame_outer)"
   ]
  },
  {
   "cell_type": "markdown",
   "id": "fd8baa66-5c19-49a5-b9a2-9f982eb4d8a5",
   "metadata": {},
   "source": [
    "We now have everything we need to build the final coin, but before we join everything together we add object and material names, boundary condition names, and define the desired mesh density:"
   ]
  },
  {
   "cell_type": "code",
   "execution_count": null,
   "id": "b2f2566b-35b8-492a-a915-564a5009d852",
   "metadata": {},
   "outputs": [],
   "source": [
    "inner_cyln.mat(object_name[1])\n",
    "frame_outer.mat(object_name[0])\n",
    "inner_cyln.bc('inner')\n",
    "inner_cyln.name = 'inner_cyln'\n",
    "frame_outer.bc('frame_outer')\n",
    "frame_outer.name = 'frame_outer'\n",
    "inner_cyln.maxh = 1\n",
    "frame_outer.maxh = 1"
   ]
  },
  {
   "cell_type": "markdown",
   "id": "f6ee80c4-62ab-4e36-97b7-e20956c331d5",
   "metadata": {},
   "source": [
    "Finally, we can now build our final object:"
   ]
  },
  {
   "cell_type": "code",
   "execution_count": null,
   "id": "ad582b86-222f-43d1-8d6a-2e8ac021df33",
   "metadata": {},
   "outputs": [],
   "source": [
    "coin = Glue([inner_cyln, frame_outer])\n",
    "DrawGeo(coin)"
   ]
  },
  {
   "cell_type": "markdown",
   "id": "c7a7de43-e2fd-45d5-8572-914e872d67a6",
   "metadata": {},
   "source": [
    "and add a large outer non-conducting region:"
   ]
  },
  {
   "cell_type": "code",
   "execution_count": null,
   "id": "f5788965-131e-4e68-98bc-3c8f8584fcde",
   "metadata": {},
   "outputs": [],
   "source": [
    "box = Box(Pnt(-1000, -1000, -1000), Pnt(1000,1000,1000))\n",
    "box.mat('air')\n",
    "box.bc('outer')\n",
    "box.maxh = 1000"
   ]
  },
  {
   "cell_type": "markdown",
   "id": "e71a2d1c-57be-45d4-9c6a-ce39e0c1dd08",
   "metadata": {},
   "source": [
    "We have now defined the entire geometry of what we want to simulate and assigned the appropriate metadata. All that is left to do it to generate a mesh:"
   ]
  },
  {
   "cell_type": "code",
   "execution_count": null,
   "id": "3f16234b-a33f-478f-856b-ec82689d458f",
   "metadata": {},
   "outputs": [],
   "source": [
    "joined_object = Glue([coin, box])\n",
    "geo = OCCGeometry(joined_object)\n",
    "nmesh = geo.GenerateMesh()"
   ]
  },
  {
   "cell_type": "markdown",
   "id": "a346c452-2ceb-4186-9122-7f675a010b1b",
   "metadata": {},
   "source": [
    "Adding boundary layer to each interface:"
   ]
  },
  {
   "cell_type": "code",
   "execution_count": null,
   "id": "333cf713-6b45-421f-9e96-a56c89a97726",
   "metadata": {},
   "outputs": [],
   "source": [
    "nmesh.BoundaryLayer(boundary=\".*\", thickness=[5e-5], material=object_name[2],\n",
    "                           domains='inner_cyln', outside=False)"
   ]
  },
  {
   "cell_type": "code",
   "execution_count": null,
   "id": "7e455e41-ce17-4b33-93cf-17e87c839de0",
   "metadata": {},
   "outputs": [],
   "source": [
    "#nmesh.Save(r'../VolFiles/OCC_coin.vol')\n",
    "ngmesh = Mesh(nmesh)\n",
    "Draw(ngmesh, clipping=True)\n",
    "print('done')\n"
   ]
  },
  {
   "cell_type": "code",
   "execution_count": null,
   "id": "056fac39-f707-4d6f-bd0a-ee52c45c585f",
   "metadata": {},
   "outputs": [],
   "source": [
    " do you think this will finish in the next 1"
   ]
  }
 ],
 "metadata": {
  "kernelspec": {
   "display_name": "Python 3 (ipykernel)",
   "language": "python",
   "name": "python3"
  },
  "language_info": {
   "codemirror_mode": {
    "name": "ipython",
    "version": 3
   },
   "file_extension": ".py",
   "mimetype": "text/x-python",
   "name": "python",
   "nbconvert_exporter": "python",
   "pygments_lexer": "ipython3",
   "version": "3.8.13"
  }
 },
 "nbformat": 4,
 "nbformat_minor": 5
}
