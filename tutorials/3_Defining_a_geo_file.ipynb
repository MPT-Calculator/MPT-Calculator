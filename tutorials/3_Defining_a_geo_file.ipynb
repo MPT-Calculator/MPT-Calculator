{
 "cells": [
  {
   "cell_type": "markdown",
   "id": "479bf139-71a6-4bc8-9419-60186d4b7fc9",
   "metadata": {},
   "source": [
    "# Defining a .geo file"
   ]
  },
  {
   "cell_type": "markdown",
   "id": "66afa982-c44d-4dfe-98ee-c4ca5e4b68f1",
   "metadata": {},
   "source": [
    "In this section we discuss how to create a geometry file ($\\texttt{.geo}$), with the geometry file being interpreted by Netgen (the meshing tool in NGSolve) we first explain how to create shapes and geometries using a $\\texttt{.geo}$ file.\n",
    "\n",
    "Due to Netgen being the underlying interpreter of the $\\texttt{.geo}$ file we direct the user to the relevant Constructive Solid Geometry (CSG) documentation available at [http://netgen-mesher.sourceforge.net/docs/ng4.pdf](http://netgen-mesher.sourceforge.net/docs/ng4.pdf) and the large number of example geo files avaliable on the Netgen github page ([https://github.com/NGSolve/netgen/tree/master/tutorials](https://github.com/NGSolve/netgen/tree/master/tutorials)).\n",
    "\n",
    "## Controlling the material parameters f a conducting sphere using a .geo file\n",
    "\n",
    "So far we haved considered the MPT characterisation of a conducting sphere with $\\sigma=10^6$ S/m,  and radius $\\alpha=0.001$ m by constructing a coarse unstructured tetrahedral discretisation of a unit sphere set in truncated unbounded region in the form of a larger sphere of radius 100 units using order $p=2$ elements. Note the physical object is obtained by scaling the non-dimensional computational domain by $\\alpha$. Now wish to control the materials of the sphere in more detail.\n",
    "\n",
    "In the folder $\\texttt{Geofiles/}$ there are a series of pre-setup object descriptions including $\\texttt{sphere.geo}$ that contains the following"
   ]
  },
  {
   "cell_type": "markdown",
   "id": "faf68587-eb10-4b55-9877-4a204eb3a8ef",
   "metadata": {},
   "source": [
    "```\n",
    "algebraic3d\n",
    "\n",
    "solid sphout = sphere (0, 0, 0; 100);\n",
    "solid sphin = sphere (0, 0, 0; 1) -maxh=0.5;\n",
    "\n",
    "solid rest = sphout and not sphin;\n",
    "\n",
    "tlo rest -transparent -col=[0,0,1];#air\n",
    "tlo sphin -col=[1,0,0];#sphere -mur=10 -sig=1e6\n",
    "\n",
    "```"
   ]
  },
  {
   "cell_type": "markdown",
   "id": "7f3915ea-604a-40fd-87e4-34117786a019",
   "metadata": {},
   "source": [
    "All $\\texttt{.geo}$ files follow the same format and will not work otherwise.\n",
    "\n",
    "```\n",
    "algebraic3d\n",
    "```\n",
    "is the top level command that every .geo file requires before any non commented lines. Comments are denoted using $\\texttt{#}$ and continue to the end of the line.\n",
    "\n",
    "named components of the $\\texttt{.geo}$ file are identified using the keyword $\\texttt{solid}$, and constructed using object primatives. For example\n",
    "```\n",
    "solid sphout = sphere (0, 0, 0; 100);\n",
    "\n",
    "solid sphin = sphere (0, 0, 0; 1) -maxh=0.5;\n",
    "```\n",
    "defines two spheres, $\\texttt{sphout}$ and $\\texttt{sphin}$, centered at the origin and of radii 100 and 1 respectivly that we can reuse later. \n",
    "The $\\texttt{-maxh}$ tag can be used to directly specify the maximum element size inside the associated object. For example, here we set the maximum element size inside the inner sphere to be 0.5. <b> the $\\texttt{-maxh}$ tag overrides the mesh size option in $\\texttt{MPT-Calculator}$.</b>\n",
    "\n",
    "Complex objects are constructed by Eulerian operations applied to primatives. The keywords $\\texttt{and}$ and $\\texttt{or}$ denote the intersection and union respectivlty of the two solids, so the line\n",
    "```\n",
    "solid rest = sphout and not sphin;\n",
    "```\n",
    "defines a solid that contains only the region that is occupied by the outer sphere and not the inner sphere.\n",
    "\n",
    "Finally, we wish to define which objects will be meshed. This is done using the $\\texttt{tlo}$ tag.\n",
    "```\n",
    "tlo rest -transparent -col=[0,0,1];#air\n",
    "tlo sphin -col=[1,0,0];#sphere -mur=10 -sig=1e6\n",
    "```\n",
    "The object names, $\\texttt{-mur}$, and $\\texttt{-sig}$ are used by MPT-Calculator to assign material properites to each object and are not used by the mesher.\n",
    "\n",
    "The $\\texttt{#air}$ is used to denote vacuum permeability and conductivity, thus this example defines a small sphere of $\\mu_r = 1$ and $\\sigma=10^6$ S/m surrounded by a larger non-conductive non-magnetic sphere."
   ]
  },
  {
   "cell_type": "markdown",
   "id": "02a25ab0",
   "metadata": {},
   "source": [
    "## Examples of different material properties\n",
    "In this section, we explore the effects of altering the material properties in the .geo file.\n",
    "\n",
    "We begin by importing the required packages and naviagating to the project root directory"
   ]
  },
  {
   "cell_type": "code",
   "execution_count": 2,
   "id": "dfdf6616",
   "metadata": {},
   "outputs": [
    {
     "name": "stdout",
     "output_type": "stream",
     "text": [
      "C:\\Users\\James\\Desktop\\Updated_MPT_Calculator\n"
     ]
    }
   ],
   "source": [
    "from time import time\n",
    "import numpy as np\n",
    "from matplotlib import pyplot as plt\n",
    "import os\n",
    "root_dir = os.path.dirname(os.getcwd())\n",
    "os.chdir(root_dir)\n",
    "print(os.getcwd())"
   ]
  },
  {
   "cell_type": "markdown",
   "id": "0dee2dd9",
   "metadata": {},
   "source": [
    "The user is encouraged to make changes to the material properties of the $\\texttt{sphere.geo}$ file and run main()"
   ]
  },
  {
   "cell_type": "code",
   "execution_count": null,
   "id": "09af65a9",
   "metadata": {},
   "outputs": [],
   "source": [
    "from runner import main\n",
    "main()"
   ]
  },
  {
   "cell_type": "markdown",
   "id": "3add2170",
   "metadata": {},
   "source": [
    "We see that making changes to $\\sigma$ corresponds to a translation in the MPT spectral signatue, wheras changing $\\mu_r$ alters the shape and magnitude of the curves.\n",
    "\n",
    "Also note that each different version of $\\texttt{sphere.geo}$ is saved under a different subdirectory in the Results folder.\n"
   ]
  },
  {
   "cell_type": "markdown",
   "id": "6ef7f629-c721-4a2f-9e9f-79117f8d88a5",
   "metadata": {},
   "source": [
    "## Earring\n",
    "\n",
    "For a more complex object, we work in a very similar way. i.e. defining object primatives and constructing other shapes via unions and intersections.\n",
    "In this example, we build a simple earring, consisting of spherical end, a cylindrical post, and a flat cylindric back.\n",
    "\n",
    "A sphere is defined by an origin and a radius r\n",
    "```\n",
    "sphere(x, y, z; r)\n",
    "```\n",
    "\n",
    "A cylinder in the .geo format is assumed to be infinitly long. To construct a finite cylinder, we need to calculate the intersection with a plane. First to define a cylinder we can use the cylinder primative, which is defined by two points on the central axis and a radius r\n",
    "```\n",
    "cylinder(ax,ay,az; bx,by,bx; r)\n",
    "```\n",
    "\n",
    "and finally, to define a plane, we require a point on the plane, and a normal vector\n",
    "```\n",
    "plane(px,py,pz; nx, ny, nz)\n",
    "```\n",
    "A complete description of the other object primatives, as well as defining spline curves and surfaces is provided in the full documentation [http://netgen-mesher.sourceforge.net/docs/ng4.pdf](http://netgen-mesher.sourceforge.net/docs/ng4.pdf)\n",
    "\n",
    "Combining these primatives produces the $\\texttt{.geo} file description of the earring:\n",
    "```\n",
    "algebraic3d\n",
    "\n",
    "#Outer domain\n",
    "solid outer_box = orthobrick (-1000, -1000, -1000; 1000, 1000, 1000);\n",
    "\n",
    "#Object parts\n",
    "solid ball = sphere(6,0,0;1);\n",
    "solid bar = cylinder(0,0,0;10,0,0;0.5)\n",
    "\tand plane(0,0,0;-1,0,0)\n",
    "\tand plane(6,0,0;1,0,0);\n",
    "solid end = cylinder(-1,0,0;1,0,0;1.2)\n",
    "\tand plane(0,0,0;1,0,0)\n",
    "\tand plane(-0.5,0,0;-1,0,0);\n",
    "\n",
    "#Combining parts\n",
    "solid earing = ball or bar or end -maxh=0.25;\n",
    "solid rest = outer_box and not earing;\n",
    "\n",
    "#Defining top level objects\n",
    "tlo rest -transparent -col=[0,0,1];#air\n",
    "tlo earing -col=[1,0,0];#earring -mur=1 -sig=4.1E+07\n",
    "```"
   ]
  },
  {
   "cell_type": "markdown",
   "id": "fa8b2faf",
   "metadata": {},
   "source": [
    "## Specifying a .geo file to use with MPT-Calculator\n",
    "\n",
    "We can specify a .geo file to use when running $\\texttt{MPT-Calculator}$ via the $\\texttt{geometry}$ argument:\n",
    "```python\n",
    "main(geometry='sphere.geo')\n",
    "```\n",
    "runs the sphere example we have been working with thus far wheras calling\n",
    "```python\n",
    "main(geometry='earring.geo')\n",
    "```\n",
    "runs the same sweep settings, but for the object defined in $\\texttt{earring.geo}$"
   ]
  },
  {
   "cell_type": "code",
   "execution_count": null,
   "id": "b3e13042",
   "metadata": {},
   "outputs": [],
   "source": [
    "main(geometry='earring.geo')"
   ]
  },
  {
   "cell_type": "markdown",
   "id": "4c2beee1",
   "metadata": {},
   "source": [
    "## Example .geo files\n",
    "In the $\\texttt{Geofiles/}$ directory there are many simple examples including object primatives such as a cylinder or cuboids. More complex examples include a rifle shell ($\\texttt{rifle.geo}$), different types of large knifes ($\\texttt{Knife_Cheap_Chef.geo}$, $\\texttt{Knife_Cheap_Cutlet.geo}$), and an irregular tetrahedron ($\\texttt{Tetra.geo}$).\n",
    "\n",
    "Further examples can be found on the Netgen github page: [https://github.com/NGSolve/netgen/tree/master/tutorials](https://github.com/NGSolve/netgen/tree/master/tutorials)\n"
   ]
  },
  {
   "cell_type": "code",
   "execution_count": null,
   "id": "47b6df62",
   "metadata": {},
   "outputs": [],
   "source": []
  }
 ],
 "metadata": {
  "kernelspec": {
   "display_name": "Python 3 (ipykernel)",
   "language": "python",
   "name": "python3"
  },
  "language_info": {
   "codemirror_mode": {
    "name": "ipython",
    "version": 3
   },
   "file_extension": ".py",
   "mimetype": "text/x-python",
   "name": "python",
   "nbconvert_exporter": "python",
   "pygments_lexer": "ipython3",
   "version": "3.10.4"
  }
 },
 "nbformat": 4,
 "nbformat_minor": 5
}
