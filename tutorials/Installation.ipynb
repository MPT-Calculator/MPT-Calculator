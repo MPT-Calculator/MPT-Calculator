{
 "cells": [
  {
   "cell_type": "markdown",
   "id": "ca79382a-af96-4017-b92b-42dd30f4b5ef",
   "metadata": {},
   "source": [
    "# MPT-Calculator"
   ]
  },
  {
   "cell_type": "markdown",
   "id": "b48c789c-1601-4b75-a006-b7a5020b3457",
   "metadata": {},
   "source": [
    "## Software Overview:\n",
    "The $\\texttt{MPT-Calculator}$ is an open source python library to calculate the Magnetic Polarizability Tensor (MPT) using high order finite elements and the [NGSolve](https://ngsolve.org/) finite element package. \n",
    "\n",
    "**The MPT-Calulator has been updated and is now avaliable on a dedicated github page [https://github.com/MPT-Calculator/MPT-Calculator](https://github.com/MPT-Calculator/MPT-Calculator) under a GNU General Public License.**"
   ]
  },
  {
   "cell_type": "markdown",
   "id": "038f2dc2-28dc-4e9a-9064-accd972ba367",
   "metadata": {
    "tags": []
   },
   "source": [
    "## Requirements:"
   ]
  },
  {
   "cell_type": "markdown",
   "id": "b5b8859f-e120-4a50-9d24-15205798e159",
   "metadata": {},
   "source": [
    "**The MPT-Calulator has been updated and is now avaliable on a dedicated github page [https://github.com/MPT-Calculator/MPT-Calculator](https://github.com/MPT-Calculator/MPT-Calculator) under a GNU General Public License.****For these examples, we are using Python 3.8**\n",
    "\n",
    "$\\texttt{MPT-Calculator}$ utilises $\\texttt{NGSolve}$, and its associated meshing library $\\texttt{Netgen}$ to perform the underlying FEM computations. Both libraries are avaliable via github ([https://github.com/NGSolve/](https://github.com/NGSolve/)) and their dedicated website [https://ngsolve.org/](https://ngsolve.org/) under an LPLG license.\n",
    "\n",
    "In addition to the standard python libraries, $\\texttt{MPT-Calculator}$ requires:\n",
    "<ul>\n",
    "  <li>Netgen</li>\n",
    "  <li>NGSolve</li>\n",
    "  <li>Numpy</li>\n",
    "  <li>SciPy</li>\n",
    "  <li>Matplotlib</li>\n",
    "  <li>Mutltiprocessing_on_dill</li>\n",
    "</ul>\n",
    "which are all avaliable via <code>pip3</code>. For example entering\n",
    "\n",
    "```python\n",
    ">> pip3 install numpy\n",
    "```\n",
    "in the command line will install Numpy on MAC, Linux, and Windows machines\n"
   ]
  },
  {
   "cell_type": "markdown",
   "id": "1844c231-36eb-49ba-aa62-1928d02fbb9c",
   "metadata": {},
   "source": [
    "Finally, for parallel execution in Linux, we also need to set the following environment variables:\n",
    "```bash\n",
    "export OMPNUMTHREADS=1\n",
    "export MKLNUMTHREADS=1\n",
    "export MKLTHREADINGLAYER=sequential\n",
    "```\n",
    "in the bash.rc file."
   ]
  },
  {
   "cell_type": "markdown",
   "id": "15b25a17-99c7-4d60-aede-8afc63872527",
   "metadata": {
    "tags": []
   },
   "source": [
    "## Structure:\n",
    "Regarding the structure of the $\\texttt{MPT-Calculator}$ library, the user is expected to interact with $\\texttt{runner.py}$, $\\texttt{Settings.py}$, and $\\texttt{PlotterSettings.py}$ with $\\texttt{PlotterSettings.py}$ rarely being needed.\n",
    "\n",
    "The overall structure of the code is as follows:\n",
    "\n",
    "```bash\n",
    ".\n",
    "├── Documentation\n",
    "│   └── PythonCodeDocumentation.pdf\n",
    "├── Functions\n",
    "│   ├── add_truncated_region_to_mesh.py\n",
    "│   ├── Checkvalid.py\n",
    "│   ├── count_prismatic_elements.py\n",
    "│   ├── FullSolvers.py\n",
    "│   ├── MeshCreation.py\n",
    "│   ├── ML_MPT_Predictor.py\n",
    "│   ├── MPTFunctions.py\n",
    "│   ├── MultiPermeability.py\n",
    "│   ├── PlotEditor.py\n",
    "│   ├── PlotEditorWithErrorBars.py\n",
    "│   ├── Plotters.py\n",
    "│   ├── PODFunctions.py\n",
    "│   ├── PODPlotEditor.py\n",
    "│   ├── PODPlotEditorWithErrorBars.py\n",
    "│   ├── PODSolvers.py\n",
    "│   ├── ResultsFunctions.py\n",
    "│   ├── SingleSolve.py\n",
    "│   └── step_to_vol_mesher.py\n",
    "├── GeoFiles\n",
    "│   ├── Claw_wodden_handle.geo\n",
    "│   ├── Coin.geo\n",
    "│   ├── Cylinder.geo\n",
    "│   ├── DualBar.geo\n",
    "│   ├── dualBox.geo\n",
    "│   └── ...\n",
    "├── OCC_Geometry\n",
    "│   ├── OCC_bottle.py\n",
    "│   ├── OCC_cylinder.py\n",
    "│   └── ...\n",
    "├── Results\n",
    "│   ├── box\n",
    "|   |   └── ...\n",
    "│   └── sphere\n",
    "│       └── al_0.001_mu_1_sig_1e6\n",
    "│           └── 1e1-1e10_40_el_57698_ord_2\n",
    "│               ├── Data\n",
    "│               │   ├── Eigenvalues.csv\n",
    "│               │   ├── Frequencies.csv\n",
    "│               │   ├── N0.csv\n",
    "│               │   └── Tensors.csv\n",
    "│               ├── Functions\n",
    "│               │   └── Plotters.py\n",
    "│               ├── Graphs\n",
    "│               │   ├── ImaginaryEigenvalues.pdf\n",
    "│               │   ├── ImaginaryTensorCoeficients.pdf\n",
    "│               │   ├── RealEigenvalues.pdf\n",
    "│               │   └── RealTensorCoeficients.pdf\n",
    "│               ├── Input_files\n",
    "│               │   ├── runner.py\n",
    "│               │   ├── Settings.py\n",
    "│               │   ├── sphere.geo\n",
    "│               │   └── sphere.zip\n",
    "│               ├── PlotEditor.py\n",
    "│               └── PlotterSettings.py\n",
    "├── Settings\n",
    "│   ├── PlotterSettings.py\n",
    "│   └── Settings.py\n",
    "├── VolFiles\n",
    "|   ├── Claw_wodden_handle.vol\n",
    "|   ├── Knife_Cheap_Chef.vol\n",
    "|   ├── OCC_cylinder.vol\n",
    "|   └── ...\n",
    "├── Results_2d\n",
    "├── Changelog_for_MPT-Calculator\n",
    "├── LICENSE\n",
    "├── main_2d.py\n",
    "├── README.md\n",
    "└── runner.py\n",
    "\n",
    "```"
   ]
  },
  {
   "cell_type": "markdown",
   "id": "9da88ec4-5c11-46af-a355-412a7180ffde",
   "metadata": {
    "tags": []
   },
   "source": [
    "## $\\texttt{MPT-Calculator}$ Pipeline"
   ]
  },
  {
   "cell_type": "markdown",
   "id": "c893b95c-1436-448a-884f-fc08311567c4",
   "metadata": {},
   "source": [
    "The general pipeline for $\\texttt{MPT-Calculator}$ is as follows:\n",
    "\n",
    " <img src=\"Figures/flowchart.png\" alt=\"isolated\"/>"
   ]
  },
  {
   "cell_type": "markdown",
   "id": "fb1001e6-3a3c-4af0-afca-9dbec54f3563",
   "metadata": {
    "tags": []
   },
   "source": [
    "More detail on the structure of the code and the mathematical motivation can be found in\n",
    "\n",
    "\"B. A. Wilson. Characterisation and classification of hidden conducting security threats using magnetic polarizability tensors,  Swansea, 2022, http://dx.doi.org/10.23889/SUthesis.60297\""
   ]
  },
  {
   "cell_type": "code",
   "execution_count": null,
   "id": "8430eb7f-a696-4c19-9dce-eaad3377d669",
   "metadata": {},
   "outputs": [],
   "source": []
  },
  {
   "cell_type": "code",
   "execution_count": null,
   "id": "11c75e2c-f127-4840-9af3-4518bf972d27",
   "metadata": {},
   "outputs": [],
   "source": []
  }
 ],
 "metadata": {
  "kernelspec": {
   "display_name": "Python 3 (ipykernel)",
   "language": "python",
   "name": "python3"
  },
  "language_info": {
   "codemirror_mode": {
    "name": "ipython",
    "version": 3
   },
   "file_extension": ".py",
   "mimetype": "text/x-python",
   "name": "python",
   "nbconvert_exporter": "python",
   "pygments_lexer": "ipython3",
   "version": "3.8.13"
  }
 },
 "nbformat": 4,
 "nbformat_minor": 5
}
