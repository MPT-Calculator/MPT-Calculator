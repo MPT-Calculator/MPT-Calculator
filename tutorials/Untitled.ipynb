{
 "cells": [
  {
   "cell_type": "markdown",
   "id": "a22f8d02-bc89-4907-8f0d-6baff47ebeae",
   "metadata": {},
   "source": [
    "## 8 Generating meshes from a CAD description"
   ]
  },
  {
   "cell_type": "code",
   "execution_count": null,
   "id": "a4a4d497-515d-457f-9228-f200624dcced",
   "metadata": {},
   "outputs": [],
   "source": []
  }
 ],
 "metadata": {
  "kernelspec": {
   "display_name": "Python 3",
   "language": "python",
   "name": "python3"
  },
  "language_info": {
   "codemirror_mode": {
    "name": "ipython",
    "version": 3
   },
   "file_extension": ".py",
   "mimetype": "text/x-python",
   "name": "python",
   "nbconvert_exporter": "python",
   "pygments_lexer": "ipython3",
   "version": "3.8.8"
  }
 },
 "nbformat": 4,
 "nbformat_minor": 5
}
