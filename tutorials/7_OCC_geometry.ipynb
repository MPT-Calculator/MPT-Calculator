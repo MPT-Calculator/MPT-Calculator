{
 "cells": [
  {
   "cell_type": "code",
   "execution_count": 1,
   "id": "41e5b51f-332c-423d-bf4a-dd09646883d9",
   "metadata": {},
   "outputs": [],
   "source": [
    "from netgen.occ import *\n",
    "from ngsolve import *\n",
    "from netgen.webgui import Draw as DrawGeo\n",
    "from ngsolve.webgui import Draw\n",
    "import numpy as np"
   ]
  },
  {
   "cell_type": "markdown",
   "id": "c619fd0d-abb3-47ab-ad8b-d9eb2ab69157",
   "metadata": {},
   "source": [
    "## Computing £1 coin as a regular dodecagon of radius r mm:"
   ]
  },
  {
   "cell_type": "markdown",
   "id": "ad37e265-dec8-4a31-a648-c0c40031d0d4",
   "metadata": {},
   "source": [
    " <img src=\"Figures/large_new_pound.webp\" alt=\"isolated\" width=\"200\"/>"
   ]
  },
  {
   "cell_type": "markdown",
   "id": "9c8e4c29-5e69-419b-96d3-fdcf0f0419b5",
   "metadata": {},
   "source": [
    "As with other objects, we define lists of material names, mur and sigma:"
   ]
  },
  {
   "cell_type": "code",
   "execution_count": 2,
   "id": "34699a49-8f36-4e85-8465-c26fcd26660e",
   "metadata": {},
   "outputs": [],
   "source": [
    "object_name = ['outer_frame', 'inner_cyln', 'plating']\n",
    "sigma = [5.26E+06, 1.63E+07, 1E6]\n",
    "mur = [1.15, 1, 100]"
   ]
  },
  {
   "cell_type": "code",
   "execution_count": 3,
   "id": "27c91dd4-d606-4af4-ac55-020e6c996a27",
   "metadata": {},
   "outputs": [],
   "source": [
    "r = 23.43/2\n",
    "t = 2.8"
   ]
  },
  {
   "cell_type": "markdown",
   "id": "e8d9d001-7142-4d31-a746-06a12322ca62",
   "metadata": {},
   "source": [
    "To define a dodegagon, we also need the side length. Since we know that there are 12 sides we know all the angles involved and can use the sine rule to obtain the chord length a."
   ]
  },
  {
   "cell_type": "code",
   "execution_count": 4,
   "id": "6e648501-dd54-43ea-b204-4ab55d3ae804",
   "metadata": {},
   "outputs": [],
   "source": [
    "a = r * np.sin(30 * np.pi/180) / np.sin(75 * np.pi/180)"
   ]
  },
  {
   "cell_type": "markdown",
   "id": "63dd3ec0-ce1d-4576-8aa4-db7854f6d6e9",
   "metadata": {},
   "source": [
    "Now that we have the radius and segment length, we can iterativly constuct a dodecagon of radius r and side length a."
   ]
  },
  {
   "cell_type": "markdown",
   "id": "377dc17b-119a-48d5-aba3-a23cfc2136c1",
   "metadata": {},
   "source": [
    "### Building the dodecagon"
   ]
  },
  {
   "cell_type": "markdown",
   "id": "63d29020-b4bf-4184-9f43-0aa88f7b6db6",
   "metadata": {},
   "source": [
    "WorkPlanes allows us to construct 2D shapes, in a similar way to turtle graphics, by moving and updating a cursor. "
   ]
  },
  {
   "cell_type": "code",
   "execution_count": 5,
   "id": "f6e31ef8-ffdb-4698-b256-bf64095ec51a",
   "metadata": {},
   "outputs": [
    {
     "data": {
      "application/vnd.jupyter.widget-view+json": {
       "model_id": "f53d85da1671413887bcdd5675ef334f",
       "version_major": 2,
       "version_minor": 0
      },
      "text/plain": [
       "WebGuiWidget(value={'ngsolve_version': 'Netgen x.x', 'mesh_dim': 3, 'mesh_center': [3.0320651133760297, 11.315…"
      ]
     },
     "metadata": {},
     "output_type": "display_data"
    },
    {
     "data": {
      "text/plain": [
       "BaseWebGuiScene"
      ]
     },
     "execution_count": 5,
     "metadata": {},
     "output_type": "execute_result"
    }
   ],
   "source": [
    "wp = WorkPlane()\n",
    "for i in range(12):\n",
    "    wp.Line(a).Rotate(30)\n",
    "face = wp.Face()\n",
    "DrawGeo(face)"
   ]
  },
  {
   "cell_type": "markdown",
   "id": "e0e04617-5fb8-4c25-af9d-82d27c34a6de",
   "metadata": {},
   "source": [
    "Now, we can turn this 2D shape into a 3D volume by extruding the face to the thickness of the coin: "
   ]
  },
  {
   "cell_type": "code",
   "execution_count": 6,
   "id": "9522bdd2-f362-4763-a7ef-2ebb05141488",
   "metadata": {},
   "outputs": [
    {
     "data": {
      "application/vnd.jupyter.widget-view+json": {
       "model_id": "f8f146c1c19c4d859a8f8abb57095cf3",
       "version_major": 2,
       "version_minor": 0
      },
      "text/plain": [
       "WebGuiWidget(value={'ngsolve_version': 'Netgen x.x', 'mesh_dim': 3, 'mesh_center': [3.0320651133760297, 11.315…"
      ]
     },
     "metadata": {},
     "output_type": "display_data"
    },
    {
     "data": {
      "text/plain": [
       "BaseWebGuiScene"
      ]
     },
     "execution_count": 6,
     "metadata": {},
     "output_type": "execute_result"
    }
   ],
   "source": [
    "frame = face.Extrude(t)\n",
    "DrawGeo(frame)"
   ]
  },
  {
   "cell_type": "markdown",
   "id": "c61701cb-d5d7-440f-9752-21b089430045",
   "metadata": {},
   "source": [
    "### Adding the interior\n",
    "We now add the interior cylinder. To do this, we define a cylinder of radius r_inner and the same thickness as the rest of the coin:"
   ]
  },
  {
   "cell_type": "code",
   "execution_count": 7,
   "id": "2f2d1d6e-03be-4b15-adb8-c8c381e9e75e",
   "metadata": {},
   "outputs": [],
   "source": [
    "r_inner = 7.4"
   ]
  },
  {
   "cell_type": "code",
   "execution_count": 8,
   "id": "4804801f-4f01-4e35-98fc-ac8198f81d08",
   "metadata": {
    "tags": []
   },
   "outputs": [],
   "source": [
    "cx = frame.center[0]\n",
    "cy = frame.center[1]\n",
    "inner_cyln = Cylinder(Pnt(cx,cy,0),Z, r=r_inner, h=t)"
   ]
  },
  {
   "cell_type": "markdown",
   "id": "a165172c-c52a-4ca9-b0bf-6068e8ff72f6",
   "metadata": {},
   "source": [
    "We can now subtract the inner cylinder from the rest of the coin to obtain only the outer region:"
   ]
  },
  {
   "cell_type": "code",
   "execution_count": 9,
   "id": "b38dea5c-ce68-433f-b925-78845a6c4c2d",
   "metadata": {},
   "outputs": [
    {
     "data": {
      "application/vnd.jupyter.widget-view+json": {
       "model_id": "a6a6b3cb5ac64d578b89e64fcacf539d",
       "version_major": 2,
       "version_minor": 0
      },
      "text/plain": [
       "WebGuiWidget(value={'ngsolve_version': 'Netgen x.x', 'mesh_dim': 3, 'mesh_center': [3.0320651133760297, 11.315…"
      ]
     },
     "metadata": {},
     "output_type": "display_data"
    },
    {
     "data": {
      "text/plain": [
       "BaseWebGuiScene"
      ]
     },
     "execution_count": 9,
     "metadata": {},
     "output_type": "execute_result"
    }
   ],
   "source": [
    "frame_outer = frame - inner_cyln\n",
    "DrawGeo(frame_outer)"
   ]
  },
  {
   "cell_type": "markdown",
   "id": "fd8baa66-5c19-49a5-b9a2-9f982eb4d8a5",
   "metadata": {},
   "source": [
    "We now have everything we need to build the final coin, but before we join everything together we add object and material names, boundary condition names, and define the desired mesh density:"
   ]
  },
  {
   "cell_type": "code",
   "execution_count": 10,
   "id": "b2f2566b-35b8-492a-a915-564a5009d852",
   "metadata": {},
   "outputs": [],
   "source": [
    "inner_cyln.mat(object_name[1])\n",
    "frame_outer.mat(object_name[0])\n",
    "inner_cyln.bc('inner')\n",
    "inner_cyln.name = 'inner_cyln'\n",
    "frame_outer.bc('frame_outer')\n",
    "frame_outer.name = 'frame_outer'\n",
    "inner_cyln.maxh = 1\n",
    "frame_outer.maxh = 1"
   ]
  },
  {
   "cell_type": "markdown",
   "id": "f6ee80c4-62ab-4e36-97b7-e20956c331d5",
   "metadata": {},
   "source": [
    "Finally, we can now build our final object:"
   ]
  },
  {
   "cell_type": "code",
   "execution_count": 11,
   "id": "ad582b86-222f-43d1-8d6a-2e8ac021df33",
   "metadata": {},
   "outputs": [
    {
     "data": {
      "application/vnd.jupyter.widget-view+json": {
       "model_id": "7a676f6de8ba421f9a098a0889a64349",
       "version_major": 2,
       "version_minor": 0
      },
      "text/plain": [
       "WebGuiWidget(value={'ngsolve_version': 'Netgen x.x', 'mesh_dim': 3, 'mesh_center': [3.0320651133760297, 11.315…"
      ]
     },
     "metadata": {},
     "output_type": "display_data"
    },
    {
     "data": {
      "text/plain": [
       "BaseWebGuiScene"
      ]
     },
     "execution_count": 11,
     "metadata": {},
     "output_type": "execute_result"
    }
   ],
   "source": [
    "coin = Glue([inner_cyln, frame_outer])\n",
    "DrawGeo(coin)"
   ]
  },
  {
   "cell_type": "markdown",
   "id": "c7a7de43-e2fd-45d5-8572-914e872d67a6",
   "metadata": {},
   "source": [
    "and add a large outer non-conducting region:"
   ]
  },
  {
   "cell_type": "code",
   "execution_count": 12,
   "id": "f5788965-131e-4e68-98bc-3c8f8584fcde",
   "metadata": {},
   "outputs": [],
   "source": [
    "box = Box(Pnt(-1000, -1000, -1000), Pnt(1000,1000,1000))\n",
    "box.mat('air')\n",
    "box.bc('outer')\n",
    "box.maxh = 1000"
   ]
  },
  {
   "cell_type": "markdown",
   "id": "e71a2d1c-57be-45d4-9c6a-ce39e0c1dd08",
   "metadata": {},
   "source": [
    "### Generating Mesh\n",
    "We have now defined the entire geometry of what we want to simulate and assigned the appropriate metadata. All that is left to do it to generate a mesh:"
   ]
  },
  {
   "cell_type": "code",
   "execution_count": 13,
   "id": "3f16234b-a33f-478f-856b-ec82689d458f",
   "metadata": {},
   "outputs": [],
   "source": [
    "joined_object = Glue([coin, box])\n",
    "geo = OCCGeometry(joined_object)\n",
    "nmesh = geo.GenerateMesh()"
   ]
  },
  {
   "cell_type": "markdown",
   "id": "c47e1d07-2ca1-4b08-bb90-0ee1ed066201",
   "metadata": {},
   "source": [
    "The real £1 coin has a thin Nickel plating around the central cylinder. We can model this using a thin layer of prismatic elements by adding boundary layer elements of 50 $\\mu$m thickness and tagged as Nickel to the inner part of the coin."
   ]
  },
  {
   "cell_type": "code",
   "execution_count": 14,
   "id": "b687e7f6-77ec-44b7-add5-35c70593ce07",
   "metadata": {},
   "outputs": [],
   "source": [
    "nmesh.BoundaryLayer(boundary=\".*\", thickness=[5e-5], material=object_name[2],\n",
    "                           domains='inner_cyln', outside=False)"
   ]
  },
  {
   "cell_type": "markdown",
   "id": "8f3fe9bb-9669-460b-bd13-c1951a38205a",
   "metadata": {},
   "source": [
    "Finally, we save the mesh to disk."
   ]
  },
  {
   "cell_type": "code",
   "execution_count": 15,
   "id": "7e455e41-ce17-4b33-93cf-17e87c839de0",
   "metadata": {},
   "outputs": [],
   "source": [
    "nmesh.Save(r'../VolFiles/OCC_coin.vol')"
   ]
  },
  {
   "cell_type": "markdown",
   "id": "913ac622-99ad-4f30-8bf3-d5253e5eb8ff",
   "metadata": {},
   "source": [
    "We can also visualise the mesh using"
   ]
  },
  {
   "cell_type": "code",
   "execution_count": 16,
   "id": "c5573fec-0b92-4594-9e0f-19cd552789d0",
   "metadata": {},
   "outputs": [
    {
     "data": {
      "application/vnd.jupyter.widget-view+json": {
       "model_id": "f8dee526486646e9ba7bdb0190d7826d",
       "version_major": 2,
       "version_minor": 0
      },
      "text/plain": [
       "WebGuiWidget(value={'gui_settings': {}, 'ngsolve_version': '6.2.2203-78-gade5a17a4', 'mesh_dim': 3, 'order2d':…"
      ]
     },
     "metadata": {},
     "output_type": "display_data"
    },
    {
     "data": {
      "text/plain": [
       "BaseWebGuiScene"
      ]
     },
     "execution_count": 16,
     "metadata": {},
     "output_type": "execute_result"
    }
   ],
   "source": [
    "ngmesh = Mesh(nmesh)\n",
    "Draw(ngmesh, clipping=True)"
   ]
  },
  {
   "cell_type": "code",
   "execution_count": null,
   "id": "056fac39-f707-4d6f-bd0a-ee52c45c585f",
   "metadata": {},
   "outputs": [],
   "source": []
  }
 ],
 "metadata": {
  "kernelspec": {
   "display_name": "Python 3 (ipykernel)",
   "language": "python",
   "name": "python3"
  },
  "language_info": {
   "codemirror_mode": {
    "name": "ipython",
    "version": 3
   },
   "file_extension": ".py",
   "mimetype": "text/x-python",
   "name": "python",
   "nbconvert_exporter": "python",
   "pygments_lexer": "ipython3",
   "version": "3.8.13"
  }
 },
 "nbformat": 4,
 "nbformat_minor": 5
}
