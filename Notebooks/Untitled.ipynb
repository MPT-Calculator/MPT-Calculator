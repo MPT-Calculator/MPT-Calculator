{
 "cells": [
  {
   "cell_type": "markdown",
   "id": "cfab84bd",
   "metadata": {},
   "source": [
    "## Notebook for the simulation of a magnetic Tetrahedron - no boundary layer"
   ]
  },
  {
   "cell_type": "code",
   "execution_count": null,
   "id": "f3950fcd",
   "metadata": {},
   "outputs": [
    {
     "name": "stdout",
     "output_type": "stream",
     "text": [
      "OCC_step_tetra.geo\n",
      " mesh contains 20231 elements\n",
      " solved theta0 problems    \n",
      " solving theta1 snapshots\n"
     ]
    }
   ],
   "source": [
    "import os\n",
    "# Please edit this line to provide the to the root directory of your copy of MPT-Calculator\n",
    "Your_Path='/Users/cgledger/Coding/MPT-Calculator_v2/MPT-Calculator'\n",
    "#Your_Path='/home/james/Desktop/Updated_MPT_Calculator/MPT-Calculator'\n",
    "os.chdir(Your_Path)\n",
    "os.getcwd()\n",
    "\n",
    "from main import main\n",
    "step_tetra = main(geometry='OCC_step_tetra.py', use_OCC=True, use_POD=True, order=1);"
   ]
  },
  {
   "cell_type": "code",
   "execution_count": null,
   "id": "a6b371e9",
   "metadata": {},
   "outputs": [],
   "source": [
    "step_tetra.keys()\n",
    "Frequencies=Return_Dict['FrequencyArray']\n",
    "Tensor=Return_Dict['TensorArray']\n",
    "\n",
    "# determine number of frequences\n",
    "nfreq, dum = np.shape(Tensors)\n",
    "\n",
    "MPT = np.empty((3,3),dtype=complex)\n",
    "Rtil = np.empty((3,3),dtype=complex)\n",
    "I = np.empty((3,3),dtype=complex)\n",
    "\n",
    "Angles=np.zeros(nfreq)\n",
    "Directions=np.zeros((nfreq,3))\n",
    "#print(np.shape(MPT))\n",
    "for n in range(nfreq):\n",
    "    for i in range(3):\n",
    "        for j in range(3):\n",
    "            MPT[i,j] = Tensors[n,i*3+j]\n",
    "\n",
    "    # Set real and imaginary parts\n",
    "    Rtil = np.real(MPT)\n",
    "    I = np.imag(MPT)\n",
    "\n",
    "    # Compute eigen decomposition\n",
    "    Rtilw, Rtilv = LA.eig(Rtil)\n",
    "    Iw, Iv = LA.eig(I)\n",
    "\n",
    "    # We are intrested in the angle between the Rtilv and Iv\n",
    "#    Rot= Rtilv@Iv\n",
    "    Rot=Rtilv@np.transpose(Iv)\n",
    "    Com=Rtil@I -I@Rtil\n",
    "#    Comw, Comv = LA.eig(Rtil)\n",
    "#    Rot=Comv\n",
    "\n",
    "    # Rot = exp (angle * K)\n",
    "    # Find K and angle by using the matrix exponential. Note that ||K||_2 =1\n",
    "\n",
    "    # Determine the direction as implied by K\n",
    "    # Note K is stored as K = [ 0 -kz ky; kz 0 -kx ; -ky kx 0]\n",
    "    #Knonorm = logm(Rot)\n",
    "    Knonorm=Com\n",
    "    Knorm = LA.norm(Knonorm,ord=2)\n",
    "    K=Knonorm/Knorm\n",
    "    angle=LA.norm(Knonorm,ord=2)\n",
    "    kx=K[2,1]\n",
    "    ky=K[0,2]\n",
    "    kz=-K[0,1]\n",
    "\n",
    "    print(K,LA.norm(K,ord=2), np.sqrt(kx**2+ky**2+kz**2))\n",
    "\n",
    "    Angles[n]=angle\n",
    "    Directions[n,0]=kx\n",
    "    Directions[n,1]=ky\n",
    "    Directions[n,2]=kz\n",
    "\n",
    "# Show some plots\n",
    "plt.figure()\n",
    "plt.plot(Frequencies,Angles)\n",
    "plt.xscale('log')\n",
    "plt.xlabel(\"Frequencies (rad/s)\")\n",
    "plt.ylabel(\"Angle (rad)\")\n",
    "plt.show()\n",
    "\n",
    "plt.figure()\n",
    "plt.plot(Frequencies,Directions[:,0],label='k_x')\n",
    "plt.plot(Frequencies,Directions[:,1],label='k_y')\n",
    "plt.plot(Frequencies,Directions[:,2],label='k_z')\n",
    "plt.xscale('log')\n",
    "plt.xlabel(\"Frequencies (rad/s)\")\n",
    "plt.ylabel(\"Direction\")\n",
    "plt.legend()\n",
    "plt.show()\n"
   ]
  }
 ],
 "metadata": {
  "kernelspec": {
   "display_name": "Python 3",
   "language": "python",
   "name": "python3"
  },
  "language_info": {
   "codemirror_mode": {
    "name": "ipython",
    "version": 3
   },
   "file_extension": ".py",
   "mimetype": "text/x-python",
   "name": "python",
   "nbconvert_exporter": "python",
   "pygments_lexer": "ipython3",
   "version": "3.8.6rc1"
  }
 },
 "nbformat": 4,
 "nbformat_minor": 5
}
